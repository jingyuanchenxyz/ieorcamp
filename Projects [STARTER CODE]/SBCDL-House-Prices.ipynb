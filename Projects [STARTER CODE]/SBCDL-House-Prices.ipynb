{
 "cells": [
  {
   "cell_type": "code",
   "execution_count": null,
   "id": "f4363060",
   "metadata": {
    "id": "f4363060"
   },
   "outputs": [],
   "source": [
    "from tensorflow import keras\n",
    "from keras import layers\n",
    "from keras.datasets import imdb\n",
    "import numpy as np"
   ]
  },
  {
   "cell_type": "code",
   "execution_count": null,
   "id": "a9da999b",
   "metadata": {
    "colab": {
     "base_uri": "https://localhost:8080/"
    },
    "executionInfo": {
     "elapsed": 260,
     "status": "ok",
     "timestamp": 1645466845436,
     "user": {
      "displayName": "Beth White",
      "photoUrl": "https://lh3.googleusercontent.com/a-/AOh14Gi2PiOhbmXWHX0i-JndtQuNBFoEb4JTKG2OsdI6uA=s64",
      "userId": "06650684930091111574"
     },
     "user_tz": 300
    },
    "id": "a9da999b",
    "outputId": "ac33241b-261d-4eb7-cc3e-0cbcf0b2eddb"
   },
   "outputs": [],
   "source": [
    "from keras.datasets import boston_housing\n",
    "(train_data, train_targets), (test_data, test_targets) = boston_housing.load_data()"
   ]
  },
  {
   "cell_type": "markdown",
   "id": "3fbf7c9f-f3c1-47ae-b0eb-7bdced55934e",
   "metadata": {},
   "source": [
    "# Normalization: do not worry about this"
   ]
  },
  {
   "cell_type": "code",
   "execution_count": null,
   "id": "836f6728-d0a5-4238-bd9a-d70cbd9ed377",
   "metadata": {},
   "outputs": [],
   "source": [
    "mean = train_data.mean(axis=0)\n",
    "train_data -= mean\n",
    "std = train_data.std(axis=0)\n",
    "train_data /= std\n",
    "test_data -= mean\n",
    "test_data /= std"
   ]
  },
  {
   "cell_type": "markdown",
   "id": "4253bc59",
   "metadata": {},
   "source": [
    "# Shape of the data"
   ]
  },
  {
   "cell_type": "code",
   "execution_count": null,
   "id": "6fe28208",
   "metadata": {
    "colab": {
     "base_uri": "https://localhost:8080/"
    },
    "executionInfo": {
     "elapsed": 9,
     "status": "ok",
     "timestamp": 1645466845437,
     "user": {
      "displayName": "Beth White",
      "photoUrl": "https://lh3.googleusercontent.com/a-/AOh14Gi2PiOhbmXWHX0i-JndtQuNBFoEb4JTKG2OsdI6uA=s64",
      "userId": "06650684930091111574"
     },
     "user_tz": 300
    },
    "id": "6fe28208",
    "outputId": "01574917-36cf-4aa1-919f-26e4666d8578"
   },
   "outputs": [],
   "source": [
    "train_data.shape\n"
   ]
  },
  {
   "cell_type": "code",
   "execution_count": null,
   "id": "152c57e8",
   "metadata": {},
   "outputs": [],
   "source": [
    "train_targets.shape"
   ]
  },
  {
   "cell_type": "markdown",
   "id": "61e9c3b4",
   "metadata": {},
   "source": [
    "# Functions to Build the Models"
   ]
  },
  {
   "cell_type": "markdown",
   "id": "9fb1735f-bf29-4055-959e-a5f242621573",
   "metadata": {},
   "source": [
    "# Build a model with 1 hidden layers, 16 neurons, and relu activations."
   ]
  },
  {
   "cell_type": "code",
   "execution_count": null,
   "id": "c47363d4-894a-4762-8576-03f9dad5d810",
   "metadata": {},
   "outputs": [],
   "source": [
    "def build_model_1(shape):\n",
    "\n",
    "    return model"
   ]
  },
  {
   "cell_type": "markdown",
   "id": "7c4c4468",
   "metadata": {},
   "source": [
    "# Function to Train the Model"
   ]
  },
  {
   "cell_type": "code",
   "execution_count": null,
   "id": "417e2591",
   "metadata": {
    "colab": {
     "base_uri": "https://localhost:8080/"
    },
    "executionInfo": {
     "elapsed": 458,
     "status": "ok",
     "timestamp": 1645466845891,
     "user": {
      "displayName": "Beth White",
      "photoUrl": "https://lh3.googleusercontent.com/a-/AOh14Gi2PiOhbmXWHX0i-JndtQuNBFoEb4JTKG2OsdI6uA=s64",
      "userId": "06650684930091111574"
     },
     "user_tz": 300
    },
    "id": "417e2591",
    "outputId": "6a6af84e-d9be-4c86-eed1-418c0e360280"
   },
   "outputs": [],
   "source": [
    "def train_model(model,inputs,outputs):\n",
    "  model.compile(optimizer=\"rmsprop\",loss=\"mse\",metrics=[\"mae\"])\n",
    "  model.fit(inputs,outputs,epochs=100)"
   ]
  },
  {
   "cell_type": "markdown",
   "id": "c44b3919",
   "metadata": {},
   "source": [
    "# Function to Predict"
   ]
  },
  {
   "cell_type": "code",
   "execution_count": null,
   "id": "15543e4e",
   "metadata": {},
   "outputs": [],
   "source": [
    "def predict(model,data):\n",
    "    predictions = model.predict(data)\n",
    "    return predictions"
   ]
  },
  {
   "cell_type": "code",
   "execution_count": null,
   "id": "c904334c",
   "metadata": {},
   "outputs": [],
   "source": [
    "def show(prediction,label):\n",
    "    print(\"the prediction is \",prediction)\n",
    "    print(\"the correct value is \",label)"
   ]
  },
  {
   "cell_type": "markdown",
   "id": "bf57e0db",
   "metadata": {},
   "source": [
    "# Building a model"
   ]
  },
  {
   "cell_type": "code",
   "execution_count": null,
   "id": "82d57581",
   "metadata": {
    "colab": {
     "base_uri": "https://localhost:8080/"
    },
    "executionInfo": {
     "elapsed": 6238,
     "status": "ok",
     "timestamp": 1645466852125,
     "user": {
      "displayName": "Beth White",
      "photoUrl": "https://lh3.googleusercontent.com/a-/AOh14Gi2PiOhbmXWHX0i-JndtQuNBFoEb4JTKG2OsdI6uA=s64",
      "userId": "06650684930091111574"
     },
     "user_tz": 300
    },
    "id": "82d57581",
    "outputId": "975c990c-8e31-4101-b11f-8a061d069aa6"
   },
   "outputs": [],
   "source": [
    "model = build_model_1((train_data.shape[1],))\n",
    "model.summary()"
   ]
  },
  {
   "cell_type": "markdown",
   "id": "77245050",
   "metadata": {},
   "source": [
    "# Training the Model"
   ]
  },
  {
   "cell_type": "code",
   "execution_count": null,
   "id": "027e9965",
   "metadata": {},
   "outputs": [],
   "source": [
    "train_model(model,train_data,train_targets)"
   ]
  },
  {
   "cell_type": "markdown",
   "id": "bae3b3e2",
   "metadata": {},
   "source": [
    "# Shape of the Testing Data"
   ]
  },
  {
   "cell_type": "code",
   "execution_count": null,
   "id": "79105a4d",
   "metadata": {
    "id": "79105a4d"
   },
   "outputs": [],
   "source": [
    "test_data.shape"
   ]
  },
  {
   "cell_type": "markdown",
   "id": "7607f4b1",
   "metadata": {},
   "source": [
    "# Predict"
   ]
  },
  {
   "cell_type": "code",
   "execution_count": null,
   "id": "e902fd97",
   "metadata": {},
   "outputs": [],
   "source": [
    "predictions = predict(model,test_data)"
   ]
  },
  {
   "cell_type": "code",
   "execution_count": null,
   "id": "c9c188f4",
   "metadata": {},
   "outputs": [],
   "source": [
    "predictions"
   ]
  },
  {
   "cell_type": "markdown",
   "id": "85965c34",
   "metadata": {},
   "source": [
    "# Show the first 10 Predictions"
   ]
  },
  {
   "cell_type": "code",
   "execution_count": null,
   "id": "6b8ba768",
   "metadata": {},
   "outputs": [],
   "source": [
    "for i in range(10):\n",
    "    show(predictions[i],test_targets[i])\n",
    "    print(\" \")"
   ]
  },
  {
   "cell_type": "code",
   "execution_count": null,
   "id": "e3b18659",
   "metadata": {},
   "outputs": [],
   "source": [
    "model.evaluate(test_data,test_targets)"
   ]
  },
  {
   "cell_type": "markdown",
   "id": "5bea3a79-0f60-4705-8f50-1b70bd843c75",
   "metadata": {},
   "source": [
    "# Run the three models and compares the accuracy"
   ]
  },
  {
   "cell_type": "code",
   "execution_count": null,
   "id": "f87a925a-290e-4593-abf1-7099d2115db5",
   "metadata": {},
   "outputs": [],
   "source": []
  }
 ],
 "metadata": {
  "colab": {
   "name": "HousePrices.ipynb",
   "provenance": []
  },
  "kernelspec": {
   "display_name": "Python [conda env:SBCDL]",
   "language": "python",
   "name": "conda-env-SBCDL-py"
  },
  "language_info": {
   "codemirror_mode": {
    "name": "ipython",
    "version": 3
   },
   "file_extension": ".py",
   "mimetype": "text/x-python",
   "name": "python",
   "nbconvert_exporter": "python",
   "pygments_lexer": "ipython3",
   "version": "3.12.4"
  }
 },
 "nbformat": 4,
 "nbformat_minor": 5
}
