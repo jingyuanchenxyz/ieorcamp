{
 "cells": [
  {
   "cell_type": "code",
   "execution_count": 1,
   "metadata": {
    "colab": {
     "base_uri": "https://localhost:8080/"
    },
    "executionInfo": {
     "elapsed": 9,
     "status": "ok",
     "timestamp": 1681648406889,
     "user": {
      "displayName": "Beth White",
      "userId": "06650684930091111574"
     },
     "user_tz": 240
    },
    "id": "A3jomsc0DYiS",
    "outputId": "c30856df-bdb2-49f0-890a-8d2997046862"
   },
   "outputs": [
    {
     "data": {
      "text/plain": [
       "1"
      ]
     },
     "execution_count": 1,
     "metadata": {},
     "output_type": "execute_result"
    }
   ],
   "source": [
    "import numpy as np\n",
    "x = np.array([3,1,4,1])\n",
    "x.ndim"
   ]
  },
  {
   "cell_type": "markdown",
   "metadata": {
    "id": "lEDMFdrZ2jBY"
   },
   "source": [
    "## **Using Numpy** -- Understanding Shape and Dimension of Arrays"
   ]
  },
  {
   "cell_type": "markdown",
   "metadata": {
    "id": "RTUyxKbF2p41"
   },
   "source": [
    "Import numpy module as np"
   ]
  },
  {
   "cell_type": "code",
   "execution_count": 2,
   "metadata": {
    "id": "ofaiwlV72scs"
   },
   "outputs": [],
   "source": [
    "import numpy as np"
   ]
  },
  {
   "cell_type": "markdown",
   "metadata": {
    "id": "YlDpXE-TnsdX"
   },
   "source": [
    "Example 1a: Create a scalar array with a value of 255 using the numpy method array, and name it scale_by."
   ]
  },
  {
   "cell_type": "code",
   "execution_count": 3,
   "metadata": {
    "colab": {
     "base_uri": "https://localhost:8080/"
    },
    "executionInfo": {
     "elapsed": 5,
     "status": "ok",
     "timestamp": 1681907254108,
     "user": {
      "displayName": "Beth White",
      "userId": "06650684930091111574"
     },
     "user_tz": 240
    },
    "id": "wXslKh96n9h1",
    "outputId": "67da3cda-2f9b-430d-bca8-b6be9e5b9489"
   },
   "outputs": [
    {
     "data": {
      "text/plain": [
       "array(255)"
      ]
     },
     "execution_count": 3,
     "metadata": {},
     "output_type": "execute_result"
    }
   ],
   "source": [
    "scale_by = np.array(255)\n",
    "scale_by"
   ]
  },
  {
   "cell_type": "markdown",
   "metadata": {
    "id": "HPjKa9RrnwZX"
   },
   "source": [
    "Task 1a: Create a scalar array with a value of 50 using the numpy method array and name it scaling."
   ]
  },
  {
   "cell_type": "code",
   "execution_count": 4,
   "metadata": {
    "colab": {
     "base_uri": "https://localhost:8080/"
    },
    "executionInfo": {
     "elapsed": 103,
     "status": "ok",
     "timestamp": 1681907295120,
     "user": {
      "displayName": "Beth White",
      "userId": "06650684930091111574"
     },
     "user_tz": 240
    },
    "id": "wfGtsB_doR4Z",
    "outputId": "c74fde2c-b411-40e1-c9a9-e1d47ddb5cda"
   },
   "outputs": [
    {
     "data": {
      "text/plain": [
       "array(50)"
      ]
     },
     "execution_count": 4,
     "metadata": {},
     "output_type": "execute_result"
    }
   ],
   "source": [
    "scaling = np.array(50)\n",
    "scaling"
   ]
  },
  {
   "cell_type": "markdown",
   "metadata": {
    "id": "-6fqeZIoom7O"
   },
   "source": [
    "Example 1b:  Determine the dimensions of the array scale_by using the ndim method of numpy."
   ]
  },
  {
   "cell_type": "code",
   "execution_count": 5,
   "metadata": {
    "colab": {
     "base_uri": "https://localhost:8080/"
    },
    "executionInfo": {
     "elapsed": 70,
     "status": "ok",
     "timestamp": 1681907320088,
     "user": {
      "displayName": "Beth White",
      "userId": "06650684930091111574"
     },
     "user_tz": 240
    },
    "id": "618A1I8sotLe",
    "outputId": "e274fefe-255d-433e-f899-ba401de0b993"
   },
   "outputs": [
    {
     "data": {
      "text/plain": [
       "0"
      ]
     },
     "execution_count": 5,
     "metadata": {},
     "output_type": "execute_result"
    }
   ],
   "source": [
    "scale_by.ndim"
   ]
  },
  {
   "cell_type": "markdown",
   "metadata": {
    "id": "FjYL6H-9o1ye"
   },
   "source": [
    "Task 1b: Determine the dimensions of the array scaling using the ndim method of numpy."
   ]
  },
  {
   "cell_type": "code",
   "execution_count": 6,
   "metadata": {
    "id": "aeI1DrtYo7q2"
   },
   "outputs": [
    {
     "data": {
      "text/plain": [
       "0"
      ]
     },
     "execution_count": 6,
     "metadata": {},
     "output_type": "execute_result"
    }
   ],
   "source": []
  },
  {
   "cell_type": "markdown",
   "metadata": {
    "id": "g34M3e0J21jo"
   },
   "source": [
    "Eample 2a: Define the following arrays: a = [1, 1, 1, 1] the using the numpy array the  then use the numpy shape method to determine the shape of this array.\n"
   ]
  },
  {
   "cell_type": "code",
   "execution_count": null,
   "metadata": {
    "colab": {
     "base_uri": "https://localhost:8080/"
    },
    "executionInfo": {
     "elapsed": 91,
     "status": "ok",
     "timestamp": 1681907410447,
     "user": {
      "displayName": "Beth White",
      "userId": "06650684930091111574"
     },
     "user_tz": 240
    },
    "id": "XX1Yp3TE3IX0",
    "outputId": "b6699a21-c0b3-4a37-fc5a-aa8995b98843"
   },
   "outputs": [
    {
     "data": {
      "text/plain": [
       "(4,)"
      ]
     },
     "execution_count": 5,
     "metadata": {},
     "output_type": "execute_result"
    }
   ],
   "source": [
    "a=np.array([1,1,1,1])\n",
    "a.shape\n"
   ]
  },
  {
   "cell_type": "markdown",
   "metadata": {
    "id": "HiMulAZbq0L-"
   },
   "source": [
    "Example 2b: Use the ndim method of numpy to determine the dimensions of a."
   ]
  },
  {
   "cell_type": "code",
   "execution_count": null,
   "metadata": {
    "colab": {
     "base_uri": "https://localhost:8080/"
    },
    "executionInfo": {
     "elapsed": 439,
     "status": "ok",
     "timestamp": 1681907457570,
     "user": {
      "displayName": "Beth White",
      "userId": "06650684930091111574"
     },
     "user_tz": 240
    },
    "id": "EDqDTSVvfwMB",
    "outputId": "1660f01e-a873-4b35-e8bf-2f688ed2c194"
   },
   "outputs": [
    {
     "data": {
      "text/plain": [
       "1"
      ]
     },
     "execution_count": 6,
     "metadata": {},
     "output_type": "execute_result"
    }
   ],
   "source": [
    "a.ndim"
   ]
  },
  {
   "cell_type": "code",
   "execution_count": null,
   "metadata": {
    "colab": {
     "base_uri": "https://localhost:8080/"
    },
    "executionInfo": {
     "elapsed": 17,
     "status": "ok",
     "timestamp": 1647341514104,
     "user": {
      "displayName": "Beth White",
      "photoUrl": "https://lh3.googleusercontent.com/a-/AOh14Gi2PiOhbmXWHX0i-JndtQuNBFoEb4JTKG2OsdI6uA=s64",
      "userId": "06650684930091111574"
     },
     "user_tz": 240
    },
    "id": "XEjau6OR6H5s",
    "outputId": "6a04095a-33eb-4679-b2f8-3cb08caeb2ec"
   },
   "outputs": [
    {
     "data": {
      "text/plain": [
       "1"
      ]
     },
     "execution_count": 10,
     "metadata": {},
     "output_type": "execute_result"
    }
   ],
   "source": [
    "np.ndim(a)"
   ]
  },
  {
   "cell_type": "markdown",
   "metadata": {
    "id": "Fr4EExZ86Jrk"
   },
   "source": [
    "Task 2a: Define the following arrays: b = [4,2,5,3,6,5] the using the numpy array the then use the numpy shape method to determine the shape of this array."
   ]
  },
  {
   "cell_type": "code",
   "execution_count": null,
   "metadata": {
    "colab": {
     "base_uri": "https://localhost:8080/"
    },
    "executionInfo": {
     "elapsed": 242,
     "status": "ok",
     "timestamp": 1681907600396,
     "user": {
      "displayName": "Beth White",
      "userId": "06650684930091111574"
     },
     "user_tz": 240
    },
    "id": "XyO8oib8rMNW",
    "outputId": "ebb18420-77c8-4cde-cd30-832d5435c003"
   },
   "outputs": [
    {
     "data": {
      "text/plain": [
       "(6,)"
      ]
     },
     "execution_count": 7,
     "metadata": {},
     "output_type": "execute_result"
    }
   ],
   "source": []
  },
  {
   "cell_type": "markdown",
   "metadata": {
    "id": "W8n0RM8RrMp1"
   },
   "source": [
    "Task 2b: Use the ndim method of numpy to determine the dimensions of b."
   ]
  },
  {
   "cell_type": "code",
   "execution_count": null,
   "metadata": {
    "colab": {
     "base_uri": "https://localhost:8080/"
    },
    "executionInfo": {
     "elapsed": 367,
     "status": "ok",
     "timestamp": 1681907612091,
     "user": {
      "displayName": "Beth White",
      "userId": "06650684930091111574"
     },
     "user_tz": 240
    },
    "id": "n0AuXozfrPcu",
    "outputId": "b889db91-3a46-43bc-834e-e10406b59527"
   },
   "outputs": [
    {
     "data": {
      "text/plain": [
       "1"
      ]
     },
     "execution_count": 8,
     "metadata": {},
     "output_type": "execute_result"
    }
   ],
   "source": []
  },
  {
   "cell_type": "markdown",
   "metadata": {
    "id": "cUnnjgCBk4C1"
   },
   "source": [
    "# Slicing Review:"
   ]
  },
  {
   "cell_type": "markdown",
   "metadata": {
    "id": "dprIcS5BiAt5"
   },
   "source": [
    "Example: Define a list t, slice to get the last three numbers in the list and call them z. Print z."
   ]
  },
  {
   "cell_type": "markdown",
   "metadata": {
    "id": "98BZ3s6SiAjR"
   },
   "source": []
  },
  {
   "cell_type": "code",
   "execution_count": null,
   "metadata": {
    "colab": {
     "base_uri": "https://localhost:8080/"
    },
    "executionInfo": {
     "elapsed": 110,
     "status": "ok",
     "timestamp": 1647867974131,
     "user": {
      "displayName": "Beth White",
      "photoUrl": "https://lh3.googleusercontent.com/a-/AOh14Gi2PiOhbmXWHX0i-JndtQuNBFoEb4JTKG2OsdI6uA=s64",
      "userId": "06650684930091111574"
     },
     "user_tz": 240
    },
    "id": "P4MVxlphkkrV",
    "outputId": "ff1215ff-62cf-48c0-ca72-ecef135c177a"
   },
   "outputs": [
    {
     "data": {
      "text/plain": [
       "[7, 8, 9]"
      ]
     },
     "execution_count": 14,
     "metadata": {},
     "output_type": "execute_result"
    }
   ],
   "source": [
    "t = [1,2,3,4,5,6,7,8,9]\n",
    "z= t[6:9]\n",
    "z"
   ]
  },
  {
   "cell_type": "markdown",
   "metadata": {
    "id": "PZBMBdf28-vE"
   },
   "source": [
    "Task 2c: Use slicing to assign the last three values in b to c."
   ]
  },
  {
   "cell_type": "code",
   "execution_count": null,
   "metadata": {
    "colab": {
     "base_uri": "https://localhost:8080/"
    },
    "executionInfo": {
     "elapsed": 137,
     "status": "ok",
     "timestamp": 1681907670247,
     "user": {
      "displayName": "Beth White",
      "userId": "06650684930091111574"
     },
     "user_tz": 240
    },
    "id": "hyRsk2eH9Fss",
    "outputId": "8067d6bc-8252-439d-af93-330cb6f3d801"
   },
   "outputs": [
    {
     "data": {
      "text/plain": [
       "array([3, 6, 5])"
      ]
     },
     "execution_count": 10,
     "metadata": {},
     "output_type": "execute_result"
    }
   ],
   "source": []
  },
  {
   "cell_type": "markdown",
   "metadata": {
    "id": "7ddam0u_9GRx"
   },
   "source": [
    "Task 2d: Determine the dimensions of c."
   ]
  },
  {
   "cell_type": "code",
   "execution_count": null,
   "metadata": {
    "colab": {
     "base_uri": "https://localhost:8080/"
    },
    "executionInfo": {
     "elapsed": 125,
     "status": "ok",
     "timestamp": 1681907673718,
     "user": {
      "displayName": "Beth White",
      "userId": "06650684930091111574"
     },
     "user_tz": 240
    },
    "id": "VCDrHvqx9LyK",
    "outputId": "e28f61f1-1b58-456f-9104-81172b1e2800"
   },
   "outputs": [
    {
     "data": {
      "text/plain": [
       "1"
      ]
     },
     "execution_count": 11,
     "metadata": {},
     "output_type": "execute_result"
    }
   ],
   "source": []
  },
  {
   "cell_type": "markdown",
   "metadata": {
    "id": "iZ-OP3X49YrS"
   },
   "source": [
    "Task 2e: Determine the shape of c."
   ]
  },
  {
   "cell_type": "code",
   "execution_count": null,
   "metadata": {
    "colab": {
     "base_uri": "https://localhost:8080/"
    },
    "executionInfo": {
     "elapsed": 104,
     "status": "ok",
     "timestamp": 1681907746143,
     "user": {
      "displayName": "Beth White",
      "userId": "06650684930091111574"
     },
     "user_tz": 240
    },
    "id": "5rosOzf39Zt6",
    "outputId": "396a4f5d-2e6d-4f61-9514-5fdcdf201ba9"
   },
   "outputs": [
    {
     "data": {
      "text/plain": [
       "(3,)"
      ]
     },
     "execution_count": 12,
     "metadata": {},
     "output_type": "execute_result"
    }
   ],
   "source": []
  },
  {
   "cell_type": "markdown",
   "metadata": {
    "id": "1z7_tYFZ9qKl"
   },
   "source": [
    "Task 3a: Use a for loop to print all of the values in c."
   ]
  },
  {
   "cell_type": "code",
   "execution_count": null,
   "metadata": {
    "colab": {
     "base_uri": "https://localhost:8080/"
    },
    "executionInfo": {
     "elapsed": 107,
     "status": "ok",
     "timestamp": 1681907869593,
     "user": {
      "displayName": "Beth White",
      "userId": "06650684930091111574"
     },
     "user_tz": 240
    },
    "id": "Hin1t4pJ-Skj",
    "outputId": "8abc2a84-fc2b-4369-a66d-ba2e6d48ac0d"
   },
   "outputs": [
    {
     "name": "stdout",
     "output_type": "stream",
     "text": [
      "3\n",
      "6\n",
      "5\n"
     ]
    }
   ],
   "source": []
  },
  {
   "cell_type": "markdown",
   "metadata": {
    "id": "ISYvhXzc3Tlm"
   },
   "source": [
    "Example 4a: Define the following array: b = [[1,1,1,1],[1,1,1,1]] and use the numpy method to determine the shape of this array."
   ]
  },
  {
   "cell_type": "code",
   "execution_count": null,
   "metadata": {
    "colab": {
     "base_uri": "https://localhost:8080/"
    },
    "executionInfo": {
     "elapsed": 133,
     "status": "ok",
     "timestamp": 1681907889037,
     "user": {
      "displayName": "Beth White",
      "userId": "06650684930091111574"
     },
     "user_tz": 240
    },
    "id": "6xBxXEnU3sad",
    "outputId": "ad52a0d8-ff10-4c83-ca2b-031aa0d302d8"
   },
   "outputs": [
    {
     "data": {
      "text/plain": [
       "(2, 4)"
      ]
     },
     "execution_count": 15,
     "metadata": {},
     "output_type": "execute_result"
    }
   ],
   "source": [
    "b = np.array([[1,1,1,1],\n",
    "              [1,1,1,1]])\n",
    "np.shape(b)"
   ]
  },
  {
   "cell_type": "markdown",
   "metadata": {
    "id": "4I1Uvoyx6n4E"
   },
   "source": [
    "Task 4a: Use the numpy method ndim to determine the number of dimensions."
   ]
  },
  {
   "cell_type": "code",
   "execution_count": null,
   "metadata": {
    "colab": {
     "base_uri": "https://localhost:8080/"
    },
    "executionInfo": {
     "elapsed": 4,
     "status": "ok",
     "timestamp": 1681907911610,
     "user": {
      "displayName": "Beth White",
      "userId": "06650684930091111574"
     },
     "user_tz": 240
    },
    "id": "jlBRjHVX6pxE",
    "outputId": "ddfc8ed0-bff5-4a98-8bca-798ec71f0a70"
   },
   "outputs": [
    {
     "data": {
      "text/plain": [
       "2"
      ]
     },
     "execution_count": 16,
     "metadata": {},
     "output_type": "execute_result"
    }
   ],
   "source": []
  },
  {
   "cell_type": "markdown",
   "metadata": {
    "id": "NTq-2_0U32xd"
   },
   "source": [
    "Task 5a: Define the following array: c = [[1,1,1,1],[1,1,1,1],[1,1,1,1]] and use the numpy method to determine the shape of this array."
   ]
  },
  {
   "cell_type": "code",
   "execution_count": null,
   "metadata": {
    "id": "HXq4uyjn4Dzm"
   },
   "outputs": [],
   "source": []
  },
  {
   "cell_type": "markdown",
   "metadata": {
    "id": "cmVObmpk6wa0"
   },
   "source": [
    "Task 5b: Use the numpy method ndim to determine the number of dimensions."
   ]
  },
  {
   "cell_type": "code",
   "execution_count": null,
   "metadata": {
    "colab": {
     "base_uri": "https://localhost:8080/"
    },
    "executionInfo": {
     "elapsed": 148,
     "status": "ok",
     "timestamp": 1681907987657,
     "user": {
      "displayName": "Beth White",
      "userId": "06650684930091111574"
     },
     "user_tz": 240
    },
    "id": "mZ0A64_s6xLG",
    "outputId": "b99a3ca0-fd73-4230-fe87-d36462dcb212"
   },
   "outputs": [
    {
     "data": {
      "text/plain": [
       "2"
      ]
     },
     "execution_count": 18,
     "metadata": {},
     "output_type": "execute_result"
    }
   ],
   "source": []
  },
  {
   "cell_type": "markdown",
   "metadata": {
    "id": "gLPsxlxr4VOk"
   },
   "source": [
    "Example 6a: Create an array of shape (5, 3), and query its shape to confirm."
   ]
  },
  {
   "cell_type": "code",
   "execution_count": null,
   "metadata": {
    "colab": {
     "base_uri": "https://localhost:8080/"
    },
    "executionInfo": {
     "elapsed": 188,
     "status": "ok",
     "timestamp": 1647601299740,
     "user": {
      "displayName": "Beth White",
      "photoUrl": "https://lh3.googleusercontent.com/a-/AOh14Gi2PiOhbmXWHX0i-JndtQuNBFoEb4JTKG2OsdI6uA=s64",
      "userId": "06650684930091111574"
     },
     "user_tz": 240
    },
    "id": "OFlJIntJ4e6f",
    "outputId": "aa613681-e0c6-42c0-c28f-35e7375ca70b"
   },
   "outputs": [
    {
     "data": {
      "text/plain": [
       "array([[1, 1, 1],\n",
       "       [1, 1, 1],\n",
       "       [1, 1, 1],\n",
       "       [1, 1, 1],\n",
       "       [1, 1, 1]])"
      ]
     },
     "execution_count": 10,
     "metadata": {},
     "output_type": "execute_result"
    }
   ],
   "source": [
    "fivethree = np.array([[1,1,1],[1,1,1],[1,1,1],[1,1,1],[1,1,1]])\n",
    "fivethree"
   ]
  },
  {
   "cell_type": "code",
   "execution_count": null,
   "metadata": {
    "colab": {
     "base_uri": "https://localhost:8080/"
    },
    "executionInfo": {
     "elapsed": 147,
     "status": "ok",
     "timestamp": 1647601314330,
     "user": {
      "displayName": "Beth White",
      "photoUrl": "https://lh3.googleusercontent.com/a-/AOh14Gi2PiOhbmXWHX0i-JndtQuNBFoEb4JTKG2OsdI6uA=s64",
      "userId": "06650684930091111574"
     },
     "user_tz": 240
    },
    "id": "wqzlQhoDsOCO",
    "outputId": "b44c7b81-e177-47c3-8152-7cb782a5f051"
   },
   "outputs": [
    {
     "data": {
      "text/plain": [
       "(5, 3)"
      ]
     },
     "execution_count": 11,
     "metadata": {},
     "output_type": "execute_result"
    }
   ],
   "source": [
    "np.shape(fivethree)"
   ]
  },
  {
   "cell_type": "markdown",
   "metadata": {
    "id": "WhSJr8a6_gtJ"
   },
   "source": [
    "Task 6a: Create an array of shape (6, 4), name it f, and query its shape to confirm."
   ]
  },
  {
   "cell_type": "code",
   "execution_count": null,
   "metadata": {
    "colab": {
     "base_uri": "https://localhost:8080/"
    },
    "executionInfo": {
     "elapsed": 81,
     "status": "ok",
     "timestamp": 1681908099623,
     "user": {
      "displayName": "Beth White",
      "userId": "06650684930091111574"
     },
     "user_tz": 240
    },
    "id": "71hiX0oB_y-x",
    "outputId": "a220a285-9f63-4dcb-ff52-ad4e990e71c9"
   },
   "outputs": [
    {
     "data": {
      "text/plain": [
       "(6, 4)"
      ]
     },
     "execution_count": 19,
     "metadata": {},
     "output_type": "execute_result"
    }
   ],
   "source": []
  },
  {
   "cell_type": "markdown",
   "metadata": {
    "id": "5dOSSSFs66vD"
   },
   "source": [
    "Task 6b: Use the numpy method ndim to determine the number of dimensions."
   ]
  },
  {
   "cell_type": "code",
   "execution_count": null,
   "metadata": {
    "colab": {
     "base_uri": "https://localhost:8080/"
    },
    "executionInfo": {
     "elapsed": 88,
     "status": "ok",
     "timestamp": 1681908200972,
     "user": {
      "displayName": "Beth White",
      "userId": "06650684930091111574"
     },
     "user_tz": 240
    },
    "id": "A_WV-Go3681N",
    "outputId": "303d968f-9d42-4c3a-d2a9-fa67f83456ae"
   },
   "outputs": [
    {
     "data": {
      "text/plain": [
       "2"
      ]
     },
     "execution_count": 20,
     "metadata": {},
     "output_type": "execute_result"
    }
   ],
   "source": []
  },
  {
   "cell_type": "markdown",
   "metadata": {
    "id": "ndqhw8Sm4tus"
   },
   "source": [
    "Task 7a: Create an array of shape (1, 10) and query shape to confirm."
   ]
  },
  {
   "cell_type": "code",
   "execution_count": null,
   "metadata": {
    "colab": {
     "base_uri": "https://localhost:8080/"
    },
    "executionInfo": {
     "elapsed": 336,
     "status": "ok",
     "timestamp": 1681908343138,
     "user": {
      "displayName": "Beth White",
      "userId": "06650684930091111574"
     },
     "user_tz": 240
    },
    "id": "sOiq5n22i6Nr",
    "outputId": "50875a0f-4ef1-4f61-959b-9bfb104cd82b"
   },
   "outputs": [
    {
     "data": {
      "text/plain": [
       "(10,)"
      ]
     },
     "execution_count": 26,
     "metadata": {},
     "output_type": "execute_result"
    }
   ],
   "source": []
  },
  {
   "cell_type": "code",
   "execution_count": null,
   "metadata": {
    "id": "6RnyV31a4-ac"
   },
   "outputs": [],
   "source": []
  },
  {
   "cell_type": "markdown",
   "metadata": {
    "id": "95h5nzWR7C3j"
   },
   "source": [
    "Task 7b: Use the numpy method ndim to determine the number of dimensions."
   ]
  },
  {
   "cell_type": "code",
   "execution_count": null,
   "metadata": {
    "colab": {
     "base_uri": "https://localhost:8080/"
    },
    "executionInfo": {
     "elapsed": 79,
     "status": "ok",
     "timestamp": 1681908344197,
     "user": {
      "displayName": "Beth White",
      "userId": "06650684930091111574"
     },
     "user_tz": 240
    },
    "id": "6UjY5LMh7D67",
    "outputId": "80e33463-4b3a-451c-c8e2-58b53680d6c4"
   },
   "outputs": [
    {
     "data": {
      "text/plain": [
       "1"
      ]
     },
     "execution_count": 27,
     "metadata": {},
     "output_type": "execute_result"
    }
   ],
   "source": []
  },
  {
   "cell_type": "markdown",
   "metadata": {
    "id": "ecq1xtgV9Zul"
   },
   "source": [
    "Example 8a: Create an array with the shape(2,3,4) and query to confirm shape and dimension.\n",
    "\n"
   ]
  },
  {
   "cell_type": "code",
   "execution_count": null,
   "metadata": {
    "colab": {
     "base_uri": "https://localhost:8080/"
    },
    "executionInfo": {
     "elapsed": 14,
     "status": "ok",
     "timestamp": 1647341514259,
     "user": {
      "displayName": "Beth White",
      "photoUrl": "https://lh3.googleusercontent.com/a-/AOh14Gi2PiOhbmXWHX0i-JndtQuNBFoEb4JTKG2OsdI6uA=s64",
      "userId": "06650684930091111574"
     },
     "user_tz": 240
    },
    "id": "HnfowYzh9rXL",
    "outputId": "bfa10681-ff99-4f83-dc46-552a4d6e89c2"
   },
   "outputs": [
    {
     "data": {
      "text/plain": [
       "(2, 3, 4)"
      ]
     },
     "execution_count": 12,
     "metadata": {},
     "output_type": "execute_result"
    }
   ],
   "source": [
    "f = np.array([[[1,1,1,1],\n",
    "               [1,1,1,1],\n",
    "               [1,1,1,1]],\n",
    "\n",
    "              [[1,1,1,1],\n",
    "               [1,1,1,1],\n",
    "               [1,1,1,1]]])\n",
    "np.shape(f)"
   ]
  },
  {
   "cell_type": "code",
   "execution_count": null,
   "metadata": {
    "colab": {
     "base_uri": "https://localhost:8080/"
    },
    "executionInfo": {
     "elapsed": 15,
     "status": "ok",
     "timestamp": 1647341514262,
     "user": {
      "displayName": "Beth White",
      "photoUrl": "https://lh3.googleusercontent.com/a-/AOh14Gi2PiOhbmXWHX0i-JndtQuNBFoEb4JTKG2OsdI6uA=s64",
      "userId": "06650684930091111574"
     },
     "user_tz": 240
    },
    "id": "Xbhs1Kv0-1LS",
    "outputId": "5bc05bfd-1b30-4f03-c1ac-0401914a95a6"
   },
   "outputs": [
    {
     "data": {
      "text/plain": [
       "3"
      ]
     },
     "execution_count": 13,
     "metadata": {},
     "output_type": "execute_result"
    }
   ],
   "source": [
    "np.ndim(f)"
   ]
  },
  {
   "cell_type": "markdown",
   "metadata": {
    "id": "-DaI_FUwKKsJ"
   },
   "source": [
    "Task 8b: Create an array with the dimensions (3, 4, 5), name it three_four_five and query it to confirm its shape, and dimensions."
   ]
  },
  {
   "cell_type": "code",
   "execution_count": null,
   "metadata": {
    "id": "WqpqnsY0KhMW"
   },
   "outputs": [],
   "source": []
  },
  {
   "cell_type": "code",
   "execution_count": null,
   "metadata": {
    "colab": {
     "base_uri": "https://localhost:8080/"
    },
    "executionInfo": {
     "elapsed": 270,
     "status": "ok",
     "timestamp": 1681908606304,
     "user": {
      "displayName": "Beth White",
      "userId": "06650684930091111574"
     },
     "user_tz": 240
    },
    "id": "YirJFuPlKhkQ",
    "outputId": "44bfcc2d-7634-4d82-ca64-e719ca7a2d1e"
   },
   "outputs": [
    {
     "data": {
      "text/plain": [
       "(3, 4, 5)"
      ]
     },
     "execution_count": 29,
     "metadata": {},
     "output_type": "execute_result"
    }
   ],
   "source": []
  },
  {
   "cell_type": "markdown",
   "metadata": {
    "id": "78qsYuI3AHJx"
   },
   "source": [
    "## **Accessing array contents**"
   ]
  },
  {
   "cell_type": "markdown",
   "metadata": {
    "id": "51mG97moBiET"
   },
   "source": [
    "Review 1: Remember to access items in a list, you use indexing.  For example, to access \"this\" in the list: t = ['we', 'this', 'the', 'they', 'them']"
   ]
  },
  {
   "cell_type": "code",
   "execution_count": null,
   "metadata": {
    "colab": {
     "base_uri": "https://localhost:8080/",
     "height": 35
    },
    "executionInfo": {
     "elapsed": 424,
     "status": "ok",
     "timestamp": 1648559501087,
     "user": {
      "displayName": "Beth White",
      "userId": "06650684930091111574"
     },
     "user_tz": 240
    },
    "id": "SDtnbjPIBl_I",
    "outputId": "8835f491-9681-47a9-c1a2-fd3c6fbd84e2"
   },
   "outputs": [
    {
     "data": {
      "application/vnd.google.colaboratory.intrinsic+json": {
       "type": "string"
      },
      "text/plain": [
       "'this'"
      ]
     },
     "execution_count": 1,
     "metadata": {},
     "output_type": "execute_result"
    }
   ],
   "source": [
    "t = ['we', 'this', 'the', 'they', 'them']\n",
    "t[1]"
   ]
  },
  {
   "cell_type": "markdown",
   "metadata": {
    "id": "Uk7M1fySAUex"
   },
   "source": [
    "Example 2a: Define this array [[1,2,3,4,5],[6,7,8,9,10],[11,12,13,14,15],[16,17,18,19,20],[21,22,23,24,25],[26,27,28,29,30]] using numpy and name it test_array."
   ]
  },
  {
   "cell_type": "code",
   "execution_count": null,
   "metadata": {
    "colab": {
     "base_uri": "https://localhost:8080/"
    },
    "executionInfo": {
     "elapsed": 110,
     "status": "ok",
     "timestamp": 1681908847098,
     "user": {
      "displayName": "Beth White",
      "userId": "06650684930091111574"
     },
     "user_tz": 240
    },
    "id": "mBUtxg_YA0T2",
    "outputId": "3bec0c95-733b-4e0d-a4df-388370b9fb8e"
   },
   "outputs": [
    {
     "data": {
      "text/plain": [
       "array([[ 1,  2,  3,  4,  5],\n",
       "       [ 6,  7,  8,  9, 10],\n",
       "       [11, 12, 13, 14, 15],\n",
       "       [16, 17, 18, 19, 20],\n",
       "       [21, 22, 23, 24, 25],\n",
       "       [26, 27, 28, 29, 30]])"
      ]
     },
     "execution_count": 30,
     "metadata": {},
     "output_type": "execute_result"
    }
   ],
   "source": [
    "test_array = np.array([[1,2,3,4,5],[6,7,8,9,10],[11,12,13,14,15],[16,17,18,19,20],[21,22,23,24,25],[26,27,28,29,30]])\n",
    "test_array\n",
    "#np.shape(test_array)"
   ]
  },
  {
   "cell_type": "markdown",
   "metadata": {
    "id": "OHJMcAijA3W5"
   },
   "source": [
    "Task 2b: Determine the shape of test_array."
   ]
  },
  {
   "cell_type": "code",
   "execution_count": null,
   "metadata": {
    "colab": {
     "base_uri": "https://localhost:8080/"
    },
    "executionInfo": {
     "elapsed": 309,
     "status": "ok",
     "timestamp": 1648559612976,
     "user": {
      "displayName": "Beth White",
      "userId": "06650684930091111574"
     },
     "user_tz": 240
    },
    "id": "zFMFHYFVBJ9x",
    "outputId": "5af53aaa-a25a-453f-edfe-7e3f7990e7bd"
   },
   "outputs": [
    {
     "data": {
      "text/plain": [
       "(6, 5)"
      ]
     },
     "execution_count": 13,
     "metadata": {},
     "output_type": "execute_result"
    }
   ],
   "source": []
  },
  {
   "cell_type": "markdown",
   "metadata": {
    "id": "U5jVac3jBKVG"
   },
   "source": [
    "Task 2c: Determine the dimensions of test_array."
   ]
  },
  {
   "cell_type": "code",
   "execution_count": null,
   "metadata": {
    "colab": {
     "base_uri": "https://localhost:8080/"
    },
    "executionInfo": {
     "elapsed": 101,
     "status": "ok",
     "timestamp": 1681908867246,
     "user": {
      "displayName": "Beth White",
      "userId": "06650684930091111574"
     },
     "user_tz": 240
    },
    "id": "N7bl3t1rBORA",
    "outputId": "8d5388e3-f6c4-4008-ebaa-9610eafc9e2d"
   },
   "outputs": [
    {
     "data": {
      "text/plain": [
       "2"
      ]
     },
     "execution_count": 31,
     "metadata": {},
     "output_type": "execute_result"
    }
   ],
   "source": []
  },
  {
   "cell_type": "markdown",
   "metadata": {
    "id": "-lfBzy9NKuKp"
   },
   "source": [
    "Example 2d: Use indexing to print out 14."
   ]
  },
  {
   "cell_type": "code",
   "execution_count": null,
   "metadata": {
    "colab": {
     "base_uri": "https://localhost:8080/"
    },
    "executionInfo": {
     "elapsed": 28,
     "status": "ok",
     "timestamp": 1648559501091,
     "user": {
      "displayName": "Beth White",
      "userId": "06650684930091111574"
     },
     "user_tz": 240
    },
    "id": "3KIrioMLK2QA",
    "outputId": "40b0bef5-1e45-47c8-e636-d1e9e9859513"
   },
   "outputs": [
    {
     "data": {
      "text/plain": [
       "14"
      ]
     },
     "execution_count": 3,
     "metadata": {},
     "output_type": "execute_result"
    }
   ],
   "source": [
    "test_array[2][3]"
   ]
  },
  {
   "cell_type": "markdown",
   "metadata": {
    "id": "4X2HKKsGBPSH"
   },
   "source": [
    "Task 2d: Use indexing to print out 22 from test_array."
   ]
  },
  {
   "cell_type": "code",
   "execution_count": null,
   "metadata": {
    "colab": {
     "base_uri": "https://localhost:8080/"
    },
    "executionInfo": {
     "elapsed": 93,
     "status": "ok",
     "timestamp": 1681908920271,
     "user": {
      "displayName": "Beth White",
      "userId": "06650684930091111574"
     },
     "user_tz": 240
    },
    "id": "rduwIYoSFnAz",
    "outputId": "ab39f602-7129-4d61-f3a2-9cd23725091a"
   },
   "outputs": [
    {
     "data": {
      "text/plain": [
       "22"
      ]
     },
     "execution_count": 32,
     "metadata": {},
     "output_type": "execute_result"
    }
   ],
   "source": []
  },
  {
   "cell_type": "markdown",
   "metadata": {
    "id": "PMD9pS7SLCuY"
   },
   "source": [
    "Example 2e:  Use indexing to print out [21, 22, 23 ,24, 25] from test_array."
   ]
  },
  {
   "cell_type": "code",
   "execution_count": null,
   "metadata": {
    "colab": {
     "base_uri": "https://localhost:8080/"
    },
    "executionInfo": {
     "elapsed": 26,
     "status": "ok",
     "timestamp": 1648559501093,
     "user": {
      "displayName": "Beth White",
      "userId": "06650684930091111574"
     },
     "user_tz": 240
    },
    "id": "3qXUi5peLQhe",
    "outputId": "7bc73baa-b194-4e5b-bcdb-d8adc2b11095"
   },
   "outputs": [
    {
     "data": {
      "text/plain": [
       "[21, 22, 23, 24, 25]"
      ]
     },
     "execution_count": 4,
     "metadata": {},
     "output_type": "execute_result"
    }
   ],
   "source": [
    "test_array[4]"
   ]
  },
  {
   "cell_type": "markdown",
   "metadata": {
    "id": "vyQXcrdoFYgw"
   },
   "source": [
    "Task 2e: Use indexing to print out [11,12,13,14,15]"
   ]
  },
  {
   "cell_type": "code",
   "execution_count": null,
   "metadata": {
    "colab": {
     "base_uri": "https://localhost:8080/"
    },
    "executionInfo": {
     "elapsed": 109,
     "status": "ok",
     "timestamp": 1681908961129,
     "user": {
      "displayName": "Beth White",
      "userId": "06650684930091111574"
     },
     "user_tz": 240
    },
    "id": "GGhqZRcrFnqP",
    "outputId": "66ca7fd8-1da0-4070-e9b4-8f0bdccaeb3a"
   },
   "outputs": [
    {
     "data": {
      "text/plain": [
       "array([11, 12, 13, 14, 15])"
      ]
     },
     "execution_count": 33,
     "metadata": {},
     "output_type": "execute_result"
    }
   ],
   "source": []
  },
  {
   "cell_type": "markdown",
   "metadata": {
    "id": "KpBSnv4dALfK"
   },
   "source": [
    "Task 1a: Define this 3 dimensional array, display it for you to see, and confirm its shape is (3,2,4) and its dimensions are 3.\n",
    "\n",
    "g = np.array[[[1,2,3,4],[5,6,7,8]],[[9,10,11,12],[13,14,15,16]],[[17,18,19,20],[21,22,23,24]]]"
   ]
  },
  {
   "cell_type": "code",
   "execution_count": null,
   "metadata": {
    "id": "7KWV7JGl-aF6"
   },
   "outputs": [],
   "source": []
  },
  {
   "cell_type": "code",
   "execution_count": null,
   "metadata": {
    "colab": {
     "base_uri": "https://localhost:8080/"
    },
    "executionInfo": {
     "elapsed": 180,
     "status": "ok",
     "timestamp": 1681909037627,
     "user": {
      "displayName": "Beth White",
      "userId": "06650684930091111574"
     },
     "user_tz": 240
    },
    "id": "IbthF9WMGr2_",
    "outputId": "974fa58b-2db8-44e4-dd0f-17abb46933a7"
   },
   "outputs": [
    {
     "data": {
      "text/plain": [
       "(3, 2, 4)"
      ]
     },
     "execution_count": 36,
     "metadata": {},
     "output_type": "execute_result"
    }
   ],
   "source": []
  },
  {
   "cell_type": "code",
   "execution_count": null,
   "metadata": {
    "colab": {
     "base_uri": "https://localhost:8080/"
    },
    "executionInfo": {
     "elapsed": 85,
     "status": "ok",
     "timestamp": 1681909046612,
     "user": {
      "displayName": "Beth White",
      "userId": "06650684930091111574"
     },
     "user_tz": 240
    },
    "id": "vCmTBYt6BS7J",
    "outputId": "c0b2efe5-7cba-4800-e3bc-b5a2bf362f65"
   },
   "outputs": [
    {
     "data": {
      "text/plain": [
       "3"
      ]
     },
     "execution_count": 37,
     "metadata": {},
     "output_type": "execute_result"
    }
   ],
   "source": []
  },
  {
   "cell_type": "markdown",
   "metadata": {
    "id": "HYRadVUiBUNS"
   },
   "source": [
    "Task 1b: Access [[1,2,3,4],[5,6,7,8]]"
   ]
  },
  {
   "cell_type": "code",
   "execution_count": null,
   "metadata": {
    "colab": {
     "base_uri": "https://localhost:8080/"
    },
    "executionInfo": {
     "elapsed": 92,
     "status": "ok",
     "timestamp": 1681909080816,
     "user": {
      "displayName": "Beth White",
      "userId": "06650684930091111574"
     },
     "user_tz": 240
    },
    "id": "TRsvKvhSBaFh",
    "outputId": "b693c381-5f96-4449-ac33-c6718a562945"
   },
   "outputs": [
    {
     "data": {
      "text/plain": [
       "array([[1, 2, 3, 4],\n",
       "       [5, 6, 7, 8]])"
      ]
     },
     "execution_count": 38,
     "metadata": {},
     "output_type": "execute_result"
    }
   ],
   "source": []
  },
  {
   "cell_type": "markdown",
   "metadata": {
    "id": "DtdzjXMICDrK"
   },
   "source": [
    "Task 1c: Access [[ 9, 10, 11, 12],\n",
    "       [13, 14, 15, 16]]"
   ]
  },
  {
   "cell_type": "code",
   "execution_count": null,
   "metadata": {
    "colab": {
     "base_uri": "https://localhost:8080/"
    },
    "executionInfo": {
     "elapsed": 141,
     "status": "ok",
     "timestamp": 1681909150513,
     "user": {
      "displayName": "Beth White",
      "userId": "06650684930091111574"
     },
     "user_tz": 240
    },
    "id": "WYP8TmONCJHQ",
    "outputId": "1da695de-ef6c-4ea2-c8e2-4202d6ffd039"
   },
   "outputs": [
    {
     "data": {
      "text/plain": [
       "array([[ 9, 10, 11, 12],\n",
       "       [13, 14, 15, 16]])"
      ]
     },
     "execution_count": 39,
     "metadata": {},
     "output_type": "execute_result"
    }
   ],
   "source": []
  },
  {
   "cell_type": "markdown",
   "metadata": {
    "id": "5boXGI-4CSfw"
   },
   "source": [
    "Task 1d: Access[1,2,3,4]"
   ]
  },
  {
   "cell_type": "code",
   "execution_count": null,
   "metadata": {
    "colab": {
     "base_uri": "https://localhost:8080/"
    },
    "executionInfo": {
     "elapsed": 87,
     "status": "ok",
     "timestamp": 1681909196598,
     "user": {
      "displayName": "Beth White",
      "userId": "06650684930091111574"
     },
     "user_tz": 240
    },
    "id": "8nMay9b3Cafs",
    "outputId": "152b1b5a-f6eb-41f2-a4c2-bf2b64bb4c9d"
   },
   "outputs": [
    {
     "data": {
      "text/plain": [
       "array([1, 2, 3, 4])"
      ]
     },
     "execution_count": 41,
     "metadata": {},
     "output_type": "execute_result"
    }
   ],
   "source": []
  },
  {
   "cell_type": "markdown",
   "metadata": {
    "id": "4eCtppGNCfAZ"
   },
   "source": [
    "Task 1e: Access 1"
   ]
  },
  {
   "cell_type": "code",
   "execution_count": null,
   "metadata": {
    "colab": {
     "base_uri": "https://localhost:8080/"
    },
    "executionInfo": {
     "elapsed": 157,
     "status": "ok",
     "timestamp": 1681909223990,
     "user": {
      "displayName": "Beth White",
      "userId": "06650684930091111574"
     },
     "user_tz": 240
    },
    "id": "AWIkAH6SChIZ",
    "outputId": "b79365a3-dc33-453d-957e-cd97df76e822"
   },
   "outputs": [
    {
     "data": {
      "text/plain": [
       "1"
      ]
     },
     "execution_count": 42,
     "metadata": {},
     "output_type": "execute_result"
    }
   ],
   "source": []
  }
 ],
 "metadata": {
  "colab": {
   "provenance": [
    {
     "file_id": "1nsyTnPnJ_FeHKnN6e7n67jdJiaqr6-Ic",
     "timestamp": 1708701498033
    },
    {
     "file_id": "1Hcsx64wt-s4dL11CsssAaYqbZfvvG6sB",
     "timestamp": 1708700974569
    },
    {
     "file_id": "1MVFRGStKE2zKBUoI60Glp8WAqAewSZes",
     "timestamp": 1681647695688
    },
    {
     "file_id": "1c_YDtI-83cr2YFC9v-iXujizuPGz6UQA",
     "timestamp": 1647256028677
    },
    {
     "file_id": "1B6KdxKL8ua2lHFMHH6wxT_g-S5rVsS5E",
     "timestamp": 1645288157754
    }
   ]
  },
  "kernelspec": {
   "display_name": "Python 3 (ipykernel)",
   "language": "python",
   "name": "python3"
  },
  "language_info": {
   "codemirror_mode": {
    "name": "ipython",
    "version": 3
   },
   "file_extension": ".py",
   "mimetype": "text/x-python",
   "name": "python",
   "nbconvert_exporter": "python",
   "pygments_lexer": "ipython3",
   "version": "3.9.19"
  }
 },
 "nbformat": 4,
 "nbformat_minor": 4
}
