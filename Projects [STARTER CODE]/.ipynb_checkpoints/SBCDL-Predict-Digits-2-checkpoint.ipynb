{
 "cells": [
  {
   "cell_type": "code",
   "execution_count": 1,
   "id": "6534c9ab",
   "metadata": {
    "id": "6534c9ab"
   },
   "outputs": [],
   "source": [
    "import numpy as np\n",
    "from tensorflow import keras\n",
    "from keras import layers\n",
    "from keras.datasets import mnist\n",
    "import matplotlib.pyplot as plt"
   ]
  },
  {
   "cell_type": "markdown",
   "id": "2d910d7c-70d8-440c-8c4b-0b7e6c08e8c6",
   "metadata": {},
   "source": [
    "This function displays an image"
   ]
  },
  {
   "cell_type": "code",
   "execution_count": 2,
   "id": "95f593f8",
   "metadata": {
    "id": "95f593f8"
   },
   "outputs": [],
   "source": [
    "def show_image(im):\n",
    "  plt.imshow(im,cmap=plt.cm.summer)\n",
    "  plt.show()"
   ]
  },
  {
   "cell_type": "markdown",
   "id": "9c1c6b80-538d-4ab7-927a-3bb8cc54aba3",
   "metadata": {},
   "source": [
    "This function displays an image, its label (value), a prediction, and its probability"
   ]
  },
  {
   "cell_type": "code",
   "execution_count": 3,
   "id": "dd8e4483",
   "metadata": {
    "id": "dd8e4483"
   },
   "outputs": [],
   "source": [
    "def show_image_vpp(im,value,prediction,probability):\n",
    "  plt.imshow(im,cmap=plt.cm.summer)\n",
    "  plt.show()\n",
    "  print(\"the value is \",value)\n",
    "  print(\"The predicted value is \",prediction,\" with probability: \",probability)"
   ]
  },
  {
   "cell_type": "markdown",
   "id": "5cb3b471-2bfc-495d-8088-c3541d4183a4",
   "metadata": {},
   "source": [
    "This function builds a model "
   ]
  },
  {
   "cell_type": "code",
   "execution_count": 4,
   "id": "bcd721d4",
   "metadata": {
    "id": "bcd721d4"
   },
   "outputs": [],
   "source": [
    "def build_model(input_shape):\n",
    "    input = keras.Input(shape=(input_shape,),name=\"data\")\n",
    "    internal = layers.Dense(512,activation=\"relu\")(input)\n",
    "    output = layers.Dense(10,activation=\"softmax\")(internal)\n",
    "    model = keras.Model(inputs=input,outputs=output)\n",
    "    return model"
   ]
  },
  {
   "cell_type": "markdown",
   "id": "bf2e5580-cf66-466f-acf4-24629f5bae29",
   "metadata": {},
   "source": [
    "This function trains a model"
   ]
  },
  {
   "cell_type": "code",
   "execution_count": 5,
   "id": "e3ee20b9",
   "metadata": {
    "id": "e3ee20b9"
   },
   "outputs": [],
   "source": [
    "def train_model(model,train_tensors,train_labels):\n",
    "    model.compile(optimizer=\"rmsprop\",loss=\"sparse_categorical_crossentropy\",metrics=[\"accuracy\"])\n",
    "    model.fit(train_tensors,train_labels,epochs=5)"
   ]
  },
  {
   "cell_type": "markdown",
   "id": "29ba9fce-844c-46ff-9662-5e27c8da7581",
   "metadata": {},
   "source": [
    "This function predicts the results of a model on some tensors; it returns the predictions and their associated probabilities"
   ]
  },
  {
   "cell_type": "code",
   "execution_count": 6,
   "id": "85d8efa2",
   "metadata": {
    "id": "85d8efa2"
   },
   "outputs": [],
   "source": [
    "def predict(model,test_tensors):\n",
    "    mpredictions = model.predict(test_tensors)\n",
    "    digit_predictions = np.array([x.argmax() for x in mpredictions])\n",
    "    digit_probability = np.array([mpredictions[i][p] for i, p in enumerate(digit_predictions)])\n",
    "    return digit_predictions,digit_probability"
   ]
  },
  {
   "cell_type": "markdown",
   "id": "79f28b21",
   "metadata": {
    "id": "79f28b21"
   },
   "source": [
    "# Get the training and testing data"
   ]
  },
  {
   "cell_type": "code",
   "execution_count": 7,
   "id": "f7413d5a",
   "metadata": {
    "id": "f7413d5a"
   },
   "outputs": [],
   "source": [
    "(train_images, train_labels), (test_images, test_labels) = mnist.load_data()"
   ]
  },
  {
   "cell_type": "markdown",
   "id": "397b17f6",
   "metadata": {
    "id": "397b17f6"
   },
   "source": [
    "# Reshape the training tensors"
   ]
  },
  {
   "cell_type": "code",
   "execution_count": 9,
   "id": "9c045452",
   "metadata": {
    "id": "9c045452",
    "outputId": "6ddebfef-0cbb-4b7e-da00-f580dcbb999c"
   },
   "outputs": [],
   "source": [
    "train_shape = train_images.shape\n",
    "train_tensors = train_images.reshape(train_shape[0], train_shape[1]*train_shape[2])"
   ]
  },
  {
   "cell_type": "markdown",
   "id": "de0a5183",
   "metadata": {
    "id": "de0a5183"
   },
   "source": [
    "# build the model -- give the model the shape of the images"
   ]
  },
  {
   "cell_type": "code",
   "execution_count": 10,
   "id": "8a75e77d",
   "metadata": {
    "id": "8a75e77d"
   },
   "outputs": [],
   "source": [
    "model = build_model(train_tensors.shape[1])"
   ]
  },
  {
   "cell_type": "markdown",
   "id": "08c2045b",
   "metadata": {
    "id": "08c2045b"
   },
   "source": [
    "# Train the model"
   ]
  },
  {
   "cell_type": "code",
   "execution_count": 11,
   "id": "538a5024",
   "metadata": {
    "colab": {
     "base_uri": "https://localhost:8080/"
    },
    "executionInfo": {
     "elapsed": 70415,
     "status": "ok",
     "timestamp": 1649768861525,
     "user": {
      "displayName": "Beth White",
      "userId": "06650684930091111574"
     },
     "user_tz": 240
    },
    "id": "538a5024",
    "outputId": "1253b30d-5725-4c8f-bf11-ab610314579d"
   },
   "outputs": [
    {
     "name": "stdout",
     "output_type": "stream",
     "text": [
      "Epoch 1/5\n",
      "\u001b[1m1875/1875\u001b[0m \u001b[32m━━━━━━━━━━━━━━━━━━━━\u001b[0m\u001b[37m\u001b[0m \u001b[1m3s\u001b[0m 1ms/step - accuracy: 0.8630 - loss: 9.2640\n",
      "Epoch 2/5\n",
      "\u001b[1m1875/1875\u001b[0m \u001b[32m━━━━━━━━━━━━━━━━━━━━\u001b[0m\u001b[37m\u001b[0m \u001b[1m3s\u001b[0m 1ms/step - accuracy: 0.9478 - loss: 0.7954\n",
      "Epoch 3/5\n",
      "\u001b[1m1875/1875\u001b[0m \u001b[32m━━━━━━━━━━━━━━━━━━━━\u001b[0m\u001b[37m\u001b[0m \u001b[1m3s\u001b[0m 1ms/step - accuracy: 0.9626 - loss: 0.5563\n",
      "Epoch 4/5\n",
      "\u001b[1m1875/1875\u001b[0m \u001b[32m━━━━━━━━━━━━━━━━━━━━\u001b[0m\u001b[37m\u001b[0m \u001b[1m3s\u001b[0m 1ms/step - accuracy: 0.9675 - loss: 0.4401\n",
      "Epoch 5/5\n",
      "\u001b[1m1875/1875\u001b[0m \u001b[32m━━━━━━━━━━━━━━━━━━━━\u001b[0m\u001b[37m\u001b[0m \u001b[1m3s\u001b[0m 1ms/step - accuracy: 0.9743 - loss: 0.3892\n"
     ]
    }
   ],
   "source": [
    "train_model(model,train_tensors,train_labels)"
   ]
  },
  {
   "cell_type": "markdown",
   "id": "5b9166c8",
   "metadata": {
    "id": "5b9166c8"
   },
   "source": [
    "# Get the predictions and probabilities on the testing set"
   ]
  },
  {
   "cell_type": "code",
   "execution_count": 13,
   "id": "3442c768",
   "metadata": {
    "id": "3442c768",
    "outputId": "0ff3c43b-a187-44ce-e70a-b045a5d7f8cd"
   },
   "outputs": [
    {
     "name": "stdout",
     "output_type": "stream",
     "text": [
      "\u001b[1m313/313\u001b[0m \u001b[32m━━━━━━━━━━━━━━━━━━━━\u001b[0m\u001b[37m\u001b[0m \u001b[1m0s\u001b[0m 494us/step\n"
     ]
    }
   ],
   "source": [
    "test_shape = test_images.shape\n",
    "test_tensors = test_images.reshape(test_shape[0], test_shape[1]*test_shape[2])\n",
    "pred, prob = predict(model,test_tensors)"
   ]
  },
  {
   "cell_type": "markdown",
   "id": "13bdff86-400d-4e8b-92a9-778339e789d8",
   "metadata": {
    "id": "27399a02"
   },
   "source": [
    "# Compute the number of wrong predictions"
   ]
  },
  {
   "cell_type": "code",
   "execution_count": 14,
   "id": "821f7554",
   "metadata": {
    "id": "821f7554"
   },
   "outputs": [
    {
     "data": {
      "text/plain": [
       "330"
      ]
     },
     "execution_count": 14,
     "metadata": {},
     "output_type": "execute_result"
    }
   ],
   "source": [
    "wrong_prediction_count = 0\n",
    "wrong_predictions = []\n",
    "for i in range(len(test_images)):\n",
    "  if test_labels[i] != pred[i]:\n",
    "    wrong_prediction_count = wrong_prediction_count +1\n",
    "    wrong_predictions.append(i)\n",
    "\n",
    "wrong_prediction_count\n"
   ]
  },
  {
   "cell_type": "markdown",
   "id": "3c4a7062-f642-49d1-a48e-591d8b3115eb",
   "metadata": {
    "id": "6a6c080e"
   },
   "source": [
    "# Compute the probability of obtaining a wrong prediction"
   ]
  },
  {
   "cell_type": "code",
   "execution_count": 15,
   "id": "6f4a57b4-ca6a-4b93-b6f3-c12bcb6ba222",
   "metadata": {},
   "outputs": [
    {
     "data": {
      "text/plain": [
       "0.033"
      ]
     },
     "execution_count": 15,
     "metadata": {},
     "output_type": "execute_result"
    }
   ],
   "source": [
    "prob_wrong = len(wrong_predictions) / test_images.shape[0]\n",
    "prob_wrong"
   ]
  },
  {
   "cell_type": "markdown",
   "id": "8d65b3ff-dcb6-43c8-80f1-152504d12a1e",
   "metadata": {},
   "source": [
    "# Compute the accuracy, i.e., probability of being correct"
   ]
  },
  {
   "cell_type": "code",
   "execution_count": 16,
   "id": "81f73bd6-b992-4b27-8647-ea00ec7f8ed0",
   "metadata": {},
   "outputs": [
    {
     "data": {
      "text/plain": [
       "0.967"
      ]
     },
     "execution_count": 16,
     "metadata": {},
     "output_type": "execute_result"
    }
   ],
   "source": [
    "accuracy = 1 - prob_wrong\n",
    "accuracy"
   ]
  },
  {
   "cell_type": "markdown",
   "id": "afad771a-6729-4a31-b59c-3ae9189f32b3",
   "metadata": {},
   "source": [
    " # Compute the Predictions with Low Confidence (< 0.7)"
   ]
  },
  {
   "cell_type": "code",
   "execution_count": 17,
   "id": "236427e7-0eee-4ad7-888d-e7ddd61fbb1e",
   "metadata": {},
   "outputs": [
    {
     "data": {
      "text/plain": [
       "37"
      ]
     },
     "execution_count": 17,
     "metadata": {},
     "output_type": "execute_result"
    }
   ],
   "source": [
    "unsure_predictions = [ i for i in range(test_images.shape[0]) if prob[i] < 0.7 ]\n",
    "len(unsure_predictions)"
   ]
  },
  {
   "cell_type": "markdown",
   "id": "8eadddc0-0858-4119-a7db-4f86c8180117",
   "metadata": {},
   "source": [
    "# Compute how many of the low-confidence predictions are wrong"
   ]
  },
  {
   "cell_type": "code",
   "execution_count": 18,
   "id": "f66acc36-52e0-4a72-9336-cd1a1a481493",
   "metadata": {},
   "outputs": [
    {
     "data": {
      "text/plain": [
       "22"
      ]
     },
     "execution_count": 18,
     "metadata": {},
     "output_type": "execute_result"
    }
   ],
   "source": [
    "nb_low_confidence_and_wrong = 0\n",
    "for i in unsure_predictions:\n",
    "    if test_labels[i] != pred[i]:\n",
    "        nb_low_confidence_and_wrong += 1\n",
    "nb_low_confidence_and_wrong"
   ]
  },
  {
   "cell_type": "markdown",
   "id": "38605e8c-7949-4efb-894a-2c878bcd9e54",
   "metadata": {},
   "source": [
    "# Display the first 10 digits and their predictions and probabilities"
   ]
  },
  {
   "cell_type": "code",
   "execution_count": 19,
   "id": "5e51895f-c21a-47b2-8cab-31fe2557bbf7",
   "metadata": {},
   "outputs": [
    {
     "data": {
      "image/png": "[encoded data removed]",
      "text/plain": [
       "<Figure size 640x480 with 1 Axes>"
      ]
     },
     "metadata": {},
     "output_type": "display_data"
    },
    {
     "name": "stdout",
     "output_type": "stream",
     "text": [
      "the value is  7\n",
      "The predicted value is  7  with probability:  1.0\n"
     ]
    },
    {
     "data": {
      "image/png": "[encoded data removed]",
      "text/plain": [
       "<Figure size 640x480 with 1 Axes>"
      ]
     },
     "metadata": {},
     "output_type": "display_data"
    },
    {
     "name": "stdout",
     "output_type": "stream",
     "text": [
      "the value is  2\n",
      "The predicted value is  2  with probability:  1.0\n"
     ]
    },
    {
     "data": {
      "image/png": "[encoded data removed]",
      "text/plain": [
       "<Figure size 640x480 with 1 Axes>"
      ]
     },
     "metadata": {},
     "output_type": "display_data"
    },
    {
     "name": "stdout",
     "output_type": "stream",
     "text": [
      "the value is  1\n",
      "The predicted value is  1  with probability:  1.0\n"
     ]
    },
    {
     "data": {
      "image/png": "[encoded data removed]",
      "text/plain": [
       "<Figure size 640x480 with 1 Axes>"
      ]
     },
     "metadata": {},
     "output_type": "display_data"
    },
    {
     "name": "stdout",
     "output_type": "stream",
     "text": [
      "the value is  0\n",
      "The predicted value is  0  with probability:  1.0\n"
     ]
    },
    {
     "data": {
      "image/png": "[encoded data removed]",
      "text/plain": [
       "<Figure size 640x480 with 1 Axes>"
      ]
     },
     "metadata": {},
     "output_type": "display_data"
    },
    {
     "name": "stdout",
     "output_type": "stream",
     "text": [
      "the value is  4\n",
      "The predicted value is  4  with probability:  1.0\n"
     ]
    },
    {
     "data": {
      "image/png": "[encoded data removed]",
      "text/plain": [
       "<Figure size 640x480 with 1 Axes>"
      ]
     },
     "metadata": {},
     "output_type": "display_data"
    },
    {
     "name": "stdout",
     "output_type": "stream",
     "text": [
      "the value is  1\n",
      "The predicted value is  1  with probability:  1.0\n"
     ]
    },
    {
     "data": {
      "image/png": "[encoded data removed]",
      "text/plain": [
       "<Figure size 640x480 with 1 Axes>"
      ]
     },
     "metadata": {},
     "output_type": "display_data"
    },
    {
     "name": "stdout",
     "output_type": "stream",
     "text": [
      "the value is  4\n",
      "The predicted value is  4  with probability:  1.0\n"
     ]
    },
    {
     "data": {
      "image/png": "[encoded data removed]",
      "text/plain": [
       "<Figure size 640x480 with 1 Axes>"
      ]
     },
     "metadata": {},
     "output_type": "display_data"
    },
    {
     "name": "stdout",
     "output_type": "stream",
     "text": [
      "the value is  9\n",
      "The predicted value is  9  with probability:  0.9862912\n"
     ]
    },
    {
     "data": {
      "image/png": "[encoded data removed]",
      "text/plain": [
       "<Figure size 640x480 with 1 Axes>"
      ]
     },
     "metadata": {},
     "output_type": "display_data"
    },
    {
     "name": "stdout",
     "output_type": "stream",
     "text": [
      "the value is  5\n",
      "The predicted value is  5  with probability:  1.0\n"
     ]
    },
    {
     "data": {
      "image/png": "[encoded data removed]",
      "text/plain": [
       "<Figure size 640x480 with 1 Axes>"
      ]
     },
     "metadata": {},
     "output_type": "display_data"
    },
    {
     "name": "stdout",
     "output_type": "stream",
     "text": [
      "the value is  9\n",
      "The predicted value is  9  with probability:  1.0\n"
     ]
    }
   ],
   "source": [
    "for j in range(10):\n",
    "  show_image_vpp(test_images[j],test_labels[j],pred[j],prob[j])"
   ]
  },
  {
   "cell_type": "markdown",
   "id": "caae1ff1-dcca-4790-b7ca-193e5d1aff93",
   "metadata": {},
   "source": [
    "# Find the first wrong prediction and display it"
   ]
  },
  {
   "cell_type": "code",
   "execution_count": 21,
   "id": "f5be7cbc-4bad-4106-b9d2-5f260481cc26",
   "metadata": {},
   "outputs": [
    {
     "data": {
      "image/png": "[encoded data removed]",
      "text/plain": [
       "<Figure size 640x480 with 1 Axes>"
      ]
     },
     "metadata": {},
     "output_type": "display_data"
    },
    {
     "name": "stdout",
     "output_type": "stream",
     "text": [
      "the value is  9\n",
      "The predicted value is  8  with probability:  0.999795\n"
     ]
    }
   ],
   "source": [
    "for i in range(len(test_images)):\n",
    "  if test_labels[i] != pred[i]:\n",
    "    show_image_vpp(test_images[i],test_labels[i],pred[i],prob[i])\n",
    "    break"
   ]
  },
  {
   "cell_type": "markdown",
   "id": "24a750fb-c816-4fb3-966a-319b1958f4a0",
   "metadata": {},
   "source": [
    "# Evaluate the accuracy of the test set using model.evaluate"
   ]
  },
  {
   "cell_type": "code",
   "execution_count": 23,
   "id": "78ef3f22-69bc-4cae-a31a-ffd7ff6114af",
   "metadata": {},
   "outputs": [
    {
     "name": "stdout",
     "output_type": "stream",
     "text": [
      "\u001b[1m313/313\u001b[0m \u001b[32m━━━━━━━━━━━━━━━━━━━━\u001b[0m\u001b[37m\u001b[0m \u001b[1m0s\u001b[0m 475us/step - accuracy: 0.9601 - loss: 0.8526\n"
     ]
    },
    {
     "data": {
      "text/plain": [
       "[0.6654636263847351, 0.9670000076293945]"
      ]
     },
     "execution_count": 23,
     "metadata": {},
     "output_type": "execute_result"
    }
   ],
   "source": [
    "model.evaluate(test_tensors,test_labels)"
   ]
  },
  {
   "cell_type": "code",
   "execution_count": null,
   "id": "37e533cf-fbd3-4224-b64d-8290787561be",
   "metadata": {},
   "outputs": [],
   "source": []
  }
 ],
 "metadata": {
  "colab": {
   "provenance": [
    {
     "file_id": "129oFsgU-2vKgWP67J9Rq0GpFtp3WmbA8",
     "timestamp": 1710411764605
    },
    {
     "file_id": "1Hgsr75l8w4l_Eq7uOzKSz-NLe_6a1_iC",
     "timestamp": 1651088939559
    }
   ]
  },
  "kernelspec": {
   "display_name": "Python 3 (ipykernel)",
   "language": "python",
   "name": "python3"
  },
  "language_info": {
   "codemirror_mode": {
    "name": "ipython",
    "version": 3
   },
   "file_extension": ".py",
   "mimetype": "text/x-python",
   "name": "python",
   "nbconvert_exporter": "python",
   "pygments_lexer": "ipython3",
   "version": "3.10.13"
  }
 },
 "nbformat": 4,
 "nbformat_minor": 5
}
