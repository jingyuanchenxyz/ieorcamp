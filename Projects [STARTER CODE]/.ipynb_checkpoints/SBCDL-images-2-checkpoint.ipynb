{
 "cells": [
  {
   "cell_type": "markdown",
   "metadata": {
    "id": "383C93B-Ryii"
   },
   "source": [
    "# Review"
   ]
  },
  {
   "cell_type": "markdown",
   "metadata": {
    "id": "eFGsXQqJSFLW"
   },
   "source": [
    "Import all important libraries for manipulating and displaying images:"
   ]
  },
  {
   "cell_type": "code",
   "execution_count": null,
   "metadata": {
    "id": "1LzErFoeSJo3"
   },
   "outputs": [],
   "source": []
  },
  {
   "cell_type": "markdown",
   "metadata": {
    "id": "f2r4VJeWR1VA"
   },
   "source": [
    "Define a numpy array with the dimensions of 2, and shape 6x6. All contents can be zeros. Name it tiny_image."
   ]
  },
  {
   "cell_type": "code",
   "execution_count": null,
   "metadata": {
    "id": "p0-Sru7SSNBl"
   },
   "outputs": [],
   "source": []
  },
  {
   "cell_type": "markdown",
   "metadata": {
    "id": "AeZv0MQESNjt"
   },
   "source": [
    "Use the ndim dimension to confirm the dimension."
   ]
  },
  {
   "cell_type": "markdown",
   "metadata": {
    "id": "cGJC3YQtSUh_"
   },
   "source": [
    "Also confirm the shape."
   ]
  },
  {
   "cell_type": "code",
   "execution_count": null,
   "metadata": {
    "id": "sA-iYGs9SUGu"
   },
   "outputs": [],
   "source": []
  },
  {
   "cell_type": "markdown",
   "metadata": {
    "id": "K7U4SBdfSmGF"
   },
   "source": [
    "Show tiny image in matrix form."
   ]
  },
  {
   "cell_type": "code",
   "execution_count": null,
   "metadata": {
    "id": "5591A8lkSrWu"
   },
   "outputs": [],
   "source": []
  },
  {
   "cell_type": "markdown",
   "metadata": {
    "id": "_-fmNdV-SsDV"
   },
   "source": [
    "Show (Plot) tiny image in image form."
   ]
  },
  {
   "cell_type": "code",
   "execution_count": null,
   "metadata": {
    "id": "qq7rZMuQSznE"
   },
   "outputs": [],
   "source": []
  },
  {
   "cell_type": "markdown",
   "metadata": {
    "id": "lEDMFdrZ2jBY"
   },
   "source": [
    "# Importing all of our libraries and the MNIST dataset."
   ]
  },
  {
   "cell_type": "markdown",
   "metadata": {
    "id": "oo_iLrf0kUXS"
   },
   "source": [
    "Add comments to each of the below lines of code that say specifically what each line does."
   ]
  },
  {
   "cell_type": "code",
   "execution_count": 2,
   "metadata": {
    "colab": {
     "base_uri": "https://localhost:8080/"
    },
    "executionInfo": {
     "elapsed": 8222,
     "status": "ok",
     "timestamp": 1710244361340,
     "user": {
      "displayName": "Beth White",
      "userId": "06650684930091111574"
     },
     "user_tz": 240
    },
    "id": "VhqhwPFByW56",
    "outputId": "9f184afe-324d-4e9f-8687-0376b917ed4f"
   },
   "outputs": [
    {
     "ename": "ModuleNotFoundError",
     "evalue": "No module named 'tensorflow'",
     "output_type": "error",
     "traceback": [
      "\u001b[0;31m---------------------------------------------------------------------------\u001b[0m",
      "\u001b[0;31mModuleNotFoundError\u001b[0m                       Traceback (most recent call last)",
      "Cell \u001b[0;32mIn[2], line 2\u001b[0m\n\u001b[1;32m      1\u001b[0m \u001b[38;5;28;01mimport\u001b[39;00m \u001b[38;5;21;01mnumpy\u001b[39;00m \u001b[38;5;28;01mas\u001b[39;00m \u001b[38;5;21;01mnp\u001b[39;00m\n\u001b[0;32m----> 2\u001b[0m \u001b[38;5;28;01mfrom\u001b[39;00m \u001b[38;5;21;01mtensorflow\u001b[39;00m \u001b[38;5;28;01mimport\u001b[39;00m keras\n\u001b[1;32m      3\u001b[0m \u001b[38;5;28;01mfrom\u001b[39;00m \u001b[38;5;21;01mkeras\u001b[39;00m \u001b[38;5;28;01mimport\u001b[39;00m layers\n\u001b[1;32m      4\u001b[0m \u001b[38;5;28;01mfrom\u001b[39;00m \u001b[38;5;21;01mkeras\u001b[39;00m\u001b[38;5;21;01m.\u001b[39;00m\u001b[38;5;21;01mdatasets\u001b[39;00m \u001b[38;5;28;01mimport\u001b[39;00m mnist\n",
      "\u001b[0;31mModuleNotFoundError\u001b[0m: No module named 'tensorflow'"
     ]
    }
   ],
   "source": [
    "import numpy as np\n",
    "from tensorflow import keras\n",
    "from keras import layers\n",
    "from keras.datasets import mnist\n",
    "import matplotlib.pyplot as plt\n",
    "\n",
    "(train_images, train_labels), (test_images, test_labels) = mnist.load_data()"
   ]
  },
  {
   "cell_type": "markdown",
   "metadata": {
    "id": "GKEENiE3BOQB"
   },
   "source": [
    "## Review"
   ]
  },
  {
   "cell_type": "markdown",
   "metadata": {
    "id": "2__sVKFVysEG"
   },
   "source": [
    "Show image 10 of train_images in matrix form."
   ]
  },
  {
   "cell_type": "code",
   "execution_count": null,
   "metadata": {
    "colab": {
     "base_uri": "https://localhost:8080/",
     "height": 68
    },
    "executionInfo": {
     "elapsed": 108,
     "status": "ok",
     "timestamp": 1709751934307,
     "user": {
      "displayName": "Beth White",
      "userId": "06650684930091111574"
     },
     "user_tz": 300
    },
    "id": "MhYotiF6lJ8f",
    "outputId": "0fc64357-6c02-484a-a39e-9a23b3b38e59"
   },
   "outputs": [],
   "source": []
  },
  {
   "cell_type": "markdown",
   "metadata": {
    "id": "B72Gc1Nc2PHm"
   },
   "source": [
    "Show image 10 of the training_images in image form:"
   ]
  },
  {
   "cell_type": "code",
   "execution_count": null,
   "metadata": {
    "colab": {
     "base_uri": "https://localhost:8080/",
     "height": 430
    },
    "executionInfo": {
     "elapsed": 382,
     "status": "ok",
     "timestamp": 1709751937789,
     "user": {
      "displayName": "Beth White",
      "userId": "06650684930091111574"
     },
     "user_tz": 300
    },
    "id": "9c12PbuMzDlR",
    "outputId": "d2a368b2-6700-41c2-9f85-227304baba7e"
   },
   "outputs": [],
   "source": []
  },
  {
   "cell_type": "markdown",
   "metadata": {
    "id": "Nju4gAYeP_tg"
   },
   "source": [
    "Show the label that corresponds to the image you just printed above."
   ]
  },
  {
   "cell_type": "code",
   "execution_count": null,
   "metadata": {
    "id": "RQgYFhFsQEHQ"
   },
   "outputs": [],
   "source": []
  },
  {
   "cell_type": "markdown",
   "metadata": {
    "id": "zfcuc97i-GY6"
   },
   "source": [
    "Task: Use the ndim method to determine the dimension of train_images."
   ]
  },
  {
   "cell_type": "code",
   "execution_count": null,
   "metadata": {
    "colab": {
     "base_uri": "https://localhost:8080/"
    },
    "executionInfo": {
     "elapsed": 8,
     "status": "ok",
     "timestamp": 1681909659442,
     "user": {
      "displayName": "Beth White",
      "userId": "06650684930091111574"
     },
     "user_tz": 240
    },
    "id": "JK_ePvlv-Oba",
    "outputId": "3e6c5f19-1454-4800-9b97-ed8f61609bab"
   },
   "outputs": [],
   "source": []
  },
  {
   "cell_type": "markdown",
   "metadata": {
    "id": "CCzbIsLD9rX6"
   },
   "source": [
    "Task: Use the shape method to determine the shape of train_images."
   ]
  },
  {
   "cell_type": "code",
   "execution_count": null,
   "metadata": {
    "colab": {
     "base_uri": "https://localhost:8080/"
    },
    "executionInfo": {
     "elapsed": 7,
     "status": "ok",
     "timestamp": 1681909659443,
     "user": {
      "displayName": "Beth White",
      "userId": "06650684930091111574"
     },
     "user_tz": 240
    },
    "id": "qFR_VDtA92n5",
    "outputId": "8e638a6b-4bcc-4cf8-e989-b472ebd7ef5b"
   },
   "outputs": [],
   "source": []
  },
  {
   "cell_type": "markdown",
   "metadata": {
    "id": "GsA27HmS97I6"
   },
   "source": [
    "Question: What does each of these three numbers represent?  "
   ]
  },
  {
   "cell_type": "markdown",
   "metadata": {
    "id": "jFCiyKNXA2oS"
   },
   "source": [
    "Task: Plot the 10th row of the 44th image in train_images."
   ]
  },
  {
   "cell_type": "code",
   "execution_count": null,
   "metadata": {
    "colab": {
     "base_uri": "https://localhost:8080/"
    },
    "executionInfo": {
     "elapsed": 9,
     "status": "ok",
     "timestamp": 1681909660088,
     "user": {
      "displayName": "Beth White",
      "userId": "06650684930091111574"
     },
     "user_tz": 240
    },
    "id": "tlUm9lu_BDH4",
    "outputId": "4b42af89-3c21-41cb-98c9-2df62d9f51ab"
   },
   "outputs": [],
   "source": []
  },
  {
   "cell_type": "markdown",
   "metadata": {
    "id": "6AgxgxjWz950"
   },
   "source": [
    "# Creating and Manipulating Images"
   ]
  },
  {
   "cell_type": "markdown",
   "metadata": {
    "id": "rx60ESSky3B3"
   },
   "source": [
    "Create a 2-D tensor for an image with all zeros using the numpy zeros method."
   ]
  },
  {
   "cell_type": "code",
   "execution_count": null,
   "metadata": {
    "colab": {
     "base_uri": "https://localhost:8080/"
    },
    "executionInfo": {
     "elapsed": 101,
     "status": "ok",
     "timestamp": 1709752027875,
     "user": {
      "displayName": "Beth White",
      "userId": "06650684930091111574"
     },
     "user_tz": 300
    },
    "id": "OPqXESrQy9fT",
    "outputId": "49892a1a-b877-46c7-a36a-4a9d9c90d3d4"
   },
   "outputs": [],
   "source": []
  },
  {
   "cell_type": "markdown",
   "metadata": {
    "id": "y3euzxzKzAb5"
   },
   "source": [
    "Task: Display the image (pretty boring)"
   ]
  },
  {
   "cell_type": "code",
   "execution_count": null,
   "metadata": {
    "colab": {
     "base_uri": "https://localhost:8080/",
     "height": 146
    },
    "executionInfo": {
     "elapsed": 116,
     "status": "error",
     "timestamp": 1709924540418,
     "user": {
      "displayName": "Beth White",
      "userId": "06650684930091111574"
     },
     "user_tz": 300
    },
    "id": "qM-fU2FfDsyJ",
    "outputId": "8a6ea1ef-4068-4931-ec40-55294e6b3d5a"
   },
   "outputs": [],
   "source": []
  },
  {
   "cell_type": "markdown",
   "metadata": {
    "id": "8AZmR8DMFDM0"
   },
   "source": [
    "Draw a horizontal line:\n"
   ]
  },
  {
   "cell_type": "code",
   "execution_count": null,
   "metadata": {
    "id": "l3QkKk8iFF2M"
   },
   "outputs": [],
   "source": []
  },
  {
   "cell_type": "markdown",
   "metadata": {
    "id": "G8QqhZwbRLCP"
   },
   "source": [
    "Display the image numerically as an array."
   ]
  },
  {
   "cell_type": "code",
   "execution_count": null,
   "metadata": {
    "colab": {
     "base_uri": "https://localhost:8080/",
     "height": 430
    },
    "executionInfo": {
     "elapsed": 311,
     "status": "ok",
     "timestamp": 1709752182949,
     "user": {
      "displayName": "Beth White",
      "userId": "06650684930091111574"
     },
     "user_tz": 300
    },
    "id": "JZSmNMqXRQ3J",
    "outputId": "8cb74cc5-f706-4234-c6b8-8ced2b46091e"
   },
   "outputs": [],
   "source": []
  },
  {
   "cell_type": "markdown",
   "metadata": {
    "id": "OCtGBYqpFW6P"
   },
   "source": [
    "Task: Draw a vertical line"
   ]
  },
  {
   "cell_type": "code",
   "execution_count": null,
   "metadata": {
    "colab": {
     "base_uri": "https://localhost:8080/",
     "height": 430
    },
    "executionInfo": {
     "elapsed": 346,
     "status": "ok",
     "timestamp": 1709752229049,
     "user": {
      "displayName": "Beth White",
      "userId": "06650684930091111574"
     },
     "user_tz": 300
    },
    "id": "AJBnDxKJLIfw",
    "outputId": "8b3a9f98-0433-4a31-9f93-6a5eb35f0cba"
   },
   "outputs": [],
   "source": []
  },
  {
   "cell_type": "markdown",
   "metadata": {
    "id": "wS01P6QCzGJY"
   },
   "source": [
    "Draw an interesting line"
   ]
  },
  {
   "cell_type": "code",
   "execution_count": null,
   "metadata": {
    "id": "dijCu1axzK3D"
   },
   "outputs": [],
   "source": [
    "\n"
   ]
  },
  {
   "cell_type": "markdown",
   "metadata": {
    "id": "pigx3gcezN5J"
   },
   "source": [
    "Show the image again"
   ]
  },
  {
   "cell_type": "code",
   "execution_count": null,
   "metadata": {
    "colab": {
     "base_uri": "https://localhost:8080/",
     "height": 430
    },
    "executionInfo": {
     "elapsed": 446,
     "status": "ok",
     "timestamp": 1709752727160,
     "user": {
      "displayName": "Beth White",
      "userId": "06650684930091111574"
     },
     "user_tz": 300
    },
    "id": "E-ra7azZzQGk",
    "outputId": "c34eae82-77a1-43a4-ae4d-35fef233a16a"
   },
   "outputs": [],
   "source": []
  },
  {
   "cell_type": "markdown",
   "metadata": {
    "id": "jrQNieCzGDzE"
   },
   "source": [
    "Move the line up to row 3 and show the image again."
   ]
  },
  {
   "cell_type": "code",
   "execution_count": null,
   "metadata": {
    "colab": {
     "base_uri": "https://localhost:8080/",
     "height": 430
    },
    "executionInfo": {
     "elapsed": 447,
     "status": "ok",
     "timestamp": 1709752791468,
     "user": {
      "displayName": "Beth White",
      "userId": "06650684930091111574"
     },
     "user_tz": 300
    },
    "id": "0H6WzAbBGKnx",
    "outputId": "84d02555-d3ec-42cf-b192-6c8d60943935"
   },
   "outputs": [],
   "source": []
  },
  {
   "cell_type": "markdown",
   "metadata": {
    "id": "dZ9w7IQ5GT2n"
   },
   "source": [
    "Instead of the line increasing in darkness, change it so it decreases in darkness. Note, a value of 255 is white."
   ]
  },
  {
   "cell_type": "code",
   "execution_count": null,
   "metadata": {
    "colab": {
     "background_save": true,
     "base_uri": "https://localhost:8080/",
     "height": 430
    },
    "executionInfo": {
     "elapsed": 317,
     "status": "ok",
     "timestamp": 1709752857893,
     "user": {
      "displayName": "Beth White",
      "userId": "06650684930091111574"
     },
     "user_tz": 300
    },
    "id": "LNcyuca1GbRH",
    "outputId": "820255ad-abbe-4c73-f79e-a84298b6d5a9"
   },
   "outputs": [],
   "source": []
  },
  {
   "cell_type": "markdown",
   "metadata": {
    "id": "5HJm_nEsGvVA"
   },
   "source": [
    "Challenge: Draw a pattern of alternating horizontal lines.\n"
   ]
  },
  {
   "cell_type": "code",
   "execution_count": null,
   "metadata": {
    "colab": {
     "base_uri": "https://localhost:8080/",
     "height": 430
    },
    "executionInfo": {
     "elapsed": 300,
     "status": "ok",
     "timestamp": 1709822040577,
     "user": {
      "displayName": "Beth White",
      "userId": "06650684930091111574"
     },
     "user_tz": 300
    },
    "id": "qSDxGbMmG5Ct",
    "outputId": "ed2adfe4-ab60-457f-b626-a71ae3ade6d6"
   },
   "outputs": [],
   "source": []
  },
  {
   "cell_type": "markdown",
   "metadata": {
    "id": "VyWiD5fmRXvv"
   },
   "source": [
    "Print the image numerically as an array."
   ]
  },
  {
   "cell_type": "code",
   "execution_count": null,
   "metadata": {
    "colab": {
     "base_uri": "https://localhost:8080/"
    },
    "executionInfo": {
     "elapsed": 148,
     "status": "ok",
     "timestamp": 1709822183636,
     "user": {
      "displayName": "Beth White",
      "userId": "06650684930091111574"
     },
     "user_tz": 300
    },
    "id": "V6vza8fxRawX",
    "outputId": "7aa910d1-0437-432f-9b34-c64b1282272a"
   },
   "outputs": [],
   "source": []
  },
  {
   "cell_type": "code",
   "execution_count": null,
   "metadata": {
    "colab": {
     "base_uri": "https://localhost:8080/",
     "height": 430
    },
    "executionInfo": {
     "elapsed": 509,
     "status": "ok",
     "timestamp": 1709822259111,
     "user": {
      "displayName": "Beth White",
      "userId": "06650684930091111574"
     },
     "user_tz": 300
    },
    "id": "eIXrhuoyH1h3",
    "outputId": "6366e9d3-0748-43ae-8670-99a66c5564c8"
   },
   "outputs": [],
   "source": []
  },
  {
   "cell_type": "markdown",
   "metadata": {
    "id": "0NGhbFqdPoug"
   },
   "source": [
    "Draw a pattern of alternating horizontal lines that only goes partially across.  "
   ]
  },
  {
   "cell_type": "code",
   "execution_count": null,
   "metadata": {
    "colab": {
     "base_uri": "https://localhost:8080/",
     "height": 430
    },
    "executionInfo": {
     "elapsed": 302,
     "status": "ok",
     "timestamp": 1709822270276,
     "user": {
      "displayName": "Beth White",
      "userId": "06650684930091111574"
     },
     "user_tz": 300
    },
    "id": "lw-QQrY7PxTH",
    "outputId": "d377e571-2275-42f8-d3dc-f7246e70261b"
   },
   "outputs": [],
   "source": []
  },
  {
   "cell_type": "markdown",
   "metadata": {
    "id": "nM1sQ3UNQVAx"
   },
   "source": [
    "Draw a pattern of horizontal lines that only goes part of the way to the right and part of the way down."
   ]
  },
  {
   "cell_type": "code",
   "execution_count": null,
   "metadata": {
    "colab": {
     "base_uri": "https://localhost:8080/",
     "height": 430
    },
    "executionInfo": {
     "elapsed": 165,
     "status": "ok",
     "timestamp": 1709822325286,
     "user": {
      "displayName": "Beth White",
      "userId": "06650684930091111574"
     },
     "user_tz": 300
    },
    "id": "cdpFPRBZQdBJ",
    "outputId": "db07ae7b-3254-4f67-8d7b-0f2a1cf28f98"
   },
   "outputs": [],
   "source": []
  },
  {
   "cell_type": "code",
   "execution_count": null,
   "metadata": {
    "id": "LWU1RJv0Wnrr"
   },
   "outputs": [],
   "source": []
  },
  {
   "cell_type": "markdown",
   "metadata": {
    "id": "vm3YQ7epHjxW"
   },
   "source": [
    "Draw a pattern of alternating vertical lines."
   ]
  },
  {
   "cell_type": "code",
   "execution_count": null,
   "metadata": {
    "colab": {
     "base_uri": "https://localhost:8080/",
     "height": 430
    },
    "executionInfo": {
     "elapsed": 386,
     "status": "ok",
     "timestamp": 1709822413789,
     "user": {
      "displayName": "Beth White",
      "userId": "06650684930091111574"
     },
     "user_tz": 300
    },
    "id": "K6Fgsio26pMl",
    "outputId": "b4a61038-a259-42fe-a7fb-579fe729b1e1"
   },
   "outputs": [],
   "source": []
  },
  {
   "cell_type": "markdown",
   "metadata": {
    "id": "Uz1w0CSA6puF"
   },
   "source": [
    "Draw a diagonal line."
   ]
  },
  {
   "cell_type": "code",
   "execution_count": null,
   "metadata": {
    "colab": {
     "base_uri": "https://localhost:8080/",
     "height": 219
    },
    "executionInfo": {
     "elapsed": 145,
     "status": "error",
     "timestamp": 1710244343925,
     "user": {
      "displayName": "Beth White",
      "userId": "06650684930091111574"
     },
     "user_tz": 240
    },
    "id": "OIqZbUzi-5ww",
    "outputId": "3a2c37c4-c002-4848-a350-42186caebc4b"
   },
   "outputs": [],
   "source": []
  },
  {
   "cell_type": "markdown",
   "metadata": {
    "id": "2YoaV1WFAPhW"
   },
   "source": [
    "Draw an X across the 28x28.\n",
    "\n"
   ]
  },
  {
   "cell_type": "code",
   "execution_count": null,
   "metadata": {
    "colab": {
     "base_uri": "https://localhost:8080/",
     "height": 430
    },
    "executionInfo": {
     "elapsed": 1015,
     "status": "ok",
     "timestamp": 1710244404352,
     "user": {
      "displayName": "Beth White",
      "userId": "06650684930091111574"
     },
     "user_tz": 240
    },
    "id": "zPGwSfVMAXw4",
    "outputId": "9f5d31cc-2c94-49a8-9f4f-ea5124f2d034"
   },
   "outputs": [],
   "source": []
  },
  {
   "cell_type": "markdown",
   "metadata": {
    "id": "wh-TuZIoQnNl"
   },
   "source": [
    "Make your own cool pattern."
   ]
  },
  {
   "cell_type": "markdown",
   "metadata": {
    "id": "t3PhxGMFza5q"
   },
   "source": [
    "Challenge: Draw a seven"
   ]
  },
  {
   "cell_type": "code",
   "execution_count": null,
   "metadata": {
    "id": "KQLI8Rq3zdm6"
   },
   "outputs": [],
   "source": []
  },
  {
   "cell_type": "code",
   "execution_count": null,
   "metadata": {
    "id": "K5odXU61zS8q"
   },
   "outputs": [],
   "source": []
  },
  {
   "cell_type": "markdown",
   "metadata": {
    "id": "RhjImSK7zu_e"
   },
   "source": [
    "Challenge: Make a better seven"
   ]
  },
  {
   "cell_type": "code",
   "execution_count": null,
   "metadata": {
    "id": "DZNUtMpvzyGh"
   },
   "outputs": [],
   "source": []
  },
  {
   "cell_type": "code",
   "execution_count": null,
   "metadata": {
    "id": "RNThl76Yz6ZO"
   },
   "outputs": [],
   "source": []
  },
  {
   "cell_type": "markdown",
   "metadata": {
    "id": "q87pXM8n0AFj"
   },
   "source": [
    "Make it a summer seven"
   ]
  },
  {
   "cell_type": "code",
   "execution_count": null,
   "metadata": {
    "id": "2FHWgxRN0C5E"
   },
   "outputs": [],
   "source": []
  },
  {
   "cell_type": "code",
   "execution_count": null,
   "metadata": {
    "id": "cJJ1Ft-D0IjK"
   },
   "outputs": [],
   "source": []
  },
  {
   "cell_type": "markdown",
   "metadata": {
    "id": "CIwB910IRxX-"
   },
   "source": [
    "Try another colormap.\n",
    "\n"
   ]
  },
  {
   "cell_type": "code",
   "execution_count": null,
   "metadata": {
    "id": "MzUbVNMcR8vf"
   },
   "outputs": [],
   "source": []
  }
 ],
 "metadata": {
  "colab": {
   "provenance": [
    {
     "file_id": "1OBxDj4U2LErxAzbUCpoKEWk4k2-PGFPB",
     "timestamp": 1709121427615
    },
    {
     "file_id": "1TKWFCqZC3pOX8D5pRk-r6qF6zLQJro7V",
     "timestamp": 1709120587933
    },
    {
     "file_id": "1c_YDtI-83cr2YFC9v-iXujizuPGz6UQA",
     "timestamp": 1681257698017
    },
    {
     "file_id": "1B6KdxKL8ua2lHFMHH6wxT_g-S5rVsS5E",
     "timestamp": 1645288157754
    }
   ]
  },
  "kernelspec": {
   "display_name": "Python 3 (ipykernel)",
   "language": "python",
   "name": "python3"
  },
  "language_info": {
   "codemirror_mode": {
    "name": "ipython",
    "version": 3
   },
   "file_extension": ".py",
   "mimetype": "text/x-python",
   "name": "python",
   "nbconvert_exporter": "python",
   "pygments_lexer": "ipython3",
   "version": "3.10.13"
  }
 },
 "nbformat": 4,
 "nbformat_minor": 4
}
