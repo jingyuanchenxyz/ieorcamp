{
 "cells": [
  {
   "cell_type": "markdown",
   "id": "7d30e621",
   "metadata": {},
   "source": [
    "-----------------------------------------\n",
    "You are interviewing for a job at CNN in the beautiful city of Atlanta.\n",
    "-------------------\n",
    "CNN wants to be sure that you have the technical skills to automate the most boring tasks of your job, so that you can focus on creative writing. They asked to write a model to classify business newswire so that you only need to look at the relevant one for your job: those on cocoa, retail, gold, jobs, and housing. Can you show them that you can build this classification model and leverage one-hot encoding?\n"
   ]
  },
  {
   "cell_type": "code",
   "execution_count": null,
   "id": "390c6c9e",
   "metadata": {},
   "outputs": [],
   "source": [
    "from tensorflow import keras\n",
    "from keras import layers\n",
    "import numpy as np\n",
    "import random\n",
    "\n",
    "def classify(model,train_tensors,train_labels):\n",
    "    model.compile(optimizer=\"rmsprop\",loss=\"sparse_categorical_crossentropy\",metrics=[\"accuracy\"])\n",
    "    model.fit(train_tensors,train_labels,epochs=10)\n",
    "    \n",
    "\n",
    "\n",
    "names = ['cocoa','grain','veg-oil','earn','acq','wheat','copper','housing','money-supply',\n",
    "   'coffee','sugar','trade','reserves','ship','cotton','carcass','crude','nat-gas',\n",
    "   'cpi','money-fx','interest','gnp','meal-feed','alum','oilseed','gold','tin',\n",
    "   'strategic-metal','livestock','retail','ipi','iron-steel','rubber','heat','jobs',\n",
    "   'lei','bop','zinc','orange','pet-chem','dlr','gas','silver','wpi','hog','lead']"
   ]
  },
  {
   "cell_type": "code",
   "execution_count": 2,
   "id": "30a2c9ec",
   "metadata": {},
   "outputs": [],
   "source": [
    "from tensorflow.keras.datasets import reuters\n",
    "nb_words = 10000\n",
    "(train_data, train_labels), (test_data, test_labels) = reuters.load_data(num_words=nb_words)\n",
    "word_index = reuters.get_word_index()\n",
    "reverse_word_index = dict([(value, key) for (key, value) in word_index.items()])"
   ]
  },
  {
   "cell_type": "markdown",
   "id": "35f48e56",
   "metadata": {},
   "source": [
    "-------------\n",
    "This function allows you to read the text associated with a tensor\n",
    "------------"
   ]
  },
  {
   "cell_type": "code",
   "execution_count": 3,
   "id": "2c3e9086",
   "metadata": {},
   "outputs": [],
   "source": [
    "def get_text(tensor):\n",
    "   return \" \".join([reverse_word_index.get(i - 3, \"\") for i in tensor])"
   ]
  },
  {
   "cell_type": "markdown",
   "id": "9796699d",
   "metadata": {},
   "source": [
    "--------------\n",
    "This function shows you what the training data and label are.\n",
    "-------------\n",
    "you can run multiple times to see random newswire"
   ]
  },
  {
   "cell_type": "code",
   "execution_count": 10,
   "id": "5693ce61",
   "metadata": {},
   "outputs": [
    {
     "name": "stdout",
     "output_type": "stream",
     "text": [
      "This is a news about nat-gas\n",
      " \n"
     ]
    },
    {
     "data": {
      "text/plain": [
       "' consolidated natural gas co said it has received securities and exchange commission approval to establish a wholly owned natural gas marketing subsidiary called  trading co it said the new unit will operate in new york pennsylvania ohio west virginia louisiana and texas and compete with other markets for delivery of low cost natural gas supplies consolidated said  needs will be met from a wide range of low cost sources including the spot market independent producers and brokers and  producing affiliates  development co of pittsburgh and  producing co based in new orleans reuter 3'"
      ]
     },
     "execution_count": 10,
     "metadata": {},
     "output_type": "execute_result"
    }
   ],
   "source": [
    "which_news = random.randrange(len(train_data))\n",
    "print('This is a news about',names[train_labels[which_news]])\n",
    "print(' ')\n",
    "get_text(train_data[which_news])"
   ]
  },
  {
   "cell_type": "markdown",
   "id": "fa47ddbf-20c1-4739-b97a-32dc25a86abc",
   "metadata": {},
   "source": [
    "# Define the one-hot encoding"
   ]
  },
  {
   "cell_type": "code",
   "execution_count": null,
   "id": "604baa27-9ee6-42fe-8994-b1b59ad3e114",
   "metadata": {},
   "outputs": [],
   "source": [
    "def one_hot_encode(sequences,dimension):\n",
    "\n",
    "    return encodings"
   ]
  },
  {
   "cell_type": "markdown",
   "id": "c53c3fea-e9bc-4fb2-befc-d85c344031d3",
   "metadata": {},
   "source": [
    "# Encode the data"
   ]
  },
  {
   "cell_type": "code",
   "execution_count": 11,
   "id": "aac9c4ad",
   "metadata": {},
   "outputs": [],
   "source": [
    "etrain_data = one_hot_encode(train_data,nb_words)"
   ]
  },
  {
   "cell_type": "markdown",
   "id": "e24889e5",
   "metadata": {},
   "source": [
    "------\n",
    "Define a model with two hidden layers with 64 neurons and relu activation\n",
    "------\n",
    "Determine what the output layer should be ...\n",
    "The instruction below has the core structure\n",
    "------"
   ]
  },
  {
   "cell_type": "code",
   "execution_count": null,
   "id": "e49d1b38",
   "metadata": {},
   "outputs": [],
   "source": [
    "input = keras.Input(shape=etrain_data.shape[1],name=\"data\")\n",
    "l1 = \n",
    "l2 = \n",
    "output = \n",
    "model = keras.Model(inputs=input,outputs=output)\n",
    "model.summary()"
   ]
  },
  {
   "cell_type": "markdown",
   "id": "821c28d3",
   "metadata": {},
   "source": [
    "-----\n",
    "Write the instruction to train the classification model\n",
    "-----\n",
    "See the function above :)"
   ]
  },
  {
   "cell_type": "code",
   "execution_count": null,
   "id": "4d2af31f",
   "metadata": {},
   "outputs": [],
   "source": []
  },
  {
   "cell_type": "markdown",
   "id": "fb1e6463",
   "metadata": {},
   "source": [
    "-----\n",
    "Write the instruction to make predictions on the training data\n",
    "-----"
   ]
  },
  {
   "cell_type": "code",
   "execution_count": null,
   "id": "10488f13",
   "metadata": {},
   "outputs": [],
   "source": [
    "predictions = "
   ]
  },
  {
   "cell_type": "code",
   "execution_count": null,
   "id": "da76b5ae",
   "metadata": {},
   "outputs": [],
   "source": [
    "predictions[0]"
   ]
  },
  {
   "cell_type": "markdown",
   "id": "8f2af914",
   "metadata": {},
   "source": [
    "------\n",
    "Write the instructions to evaluate the accuracy of the model on the testing data\n",
    "-------\n",
    "Hint: make sure you are using the right input: the testing data must be one-encoded\n",
    "-------"
   ]
  },
  {
   "cell_type": "code",
   "execution_count": null,
   "id": "42aad8be",
   "metadata": {},
   "outputs": [],
   "source": []
  },
  {
   "cell_type": "markdown",
   "id": "6a3d70ee",
   "metadata": {},
   "source": [
    "------\n",
    "Write the instruction to make predictions on the testing data\n",
    "------"
   ]
  },
  {
   "cell_type": "code",
   "execution_count": null,
   "id": "e6ebd05f",
   "metadata": {},
   "outputs": [],
   "source": [
    "predictions = "
   ]
  },
  {
   "cell_type": "markdown",
   "id": "a6182280",
   "metadata": {},
   "source": [
    "-------\n",
    "This instruction computes the categories associated with the predictions\n",
    "-------\n",
    "    It uses the probabilities to select the most likely categories"
   ]
  },
  {
   "cell_type": "code",
   "execution_count": null,
   "id": "8f9a9eb0",
   "metadata": {},
   "outputs": [],
   "source": []
  },
  {
   "cell_type": "markdown",
   "id": "03782a78",
   "metadata": {},
   "source": [
    "------\n",
    "Find a wire that is predicted to talk about cocoa\n",
    "------"
   ]
  },
  {
   "cell_type": "code",
   "execution_count": null,
   "id": "00fff97b",
   "metadata": {},
   "outputs": [],
   "source": []
  },
  {
   "cell_type": "code",
   "execution_count": null,
   "id": "036a5e7f",
   "metadata": {},
   "outputs": [],
   "source": []
  }
 ],
 "metadata": {
  "kernelspec": {
   "display_name": "Python 3 (ipykernel)",
   "language": "python",
   "name": "python3"
  },
  "language_info": {
   "codemirror_mode": {
    "name": "ipython",
    "version": 3
   },
   "file_extension": ".py",
   "mimetype": "text/x-python",
   "name": "python",
   "nbconvert_exporter": "python",
   "pygments_lexer": "ipython3",
   "version": "3.10.13"
  }
 },
 "nbformat": 4,
 "nbformat_minor": 5
}
