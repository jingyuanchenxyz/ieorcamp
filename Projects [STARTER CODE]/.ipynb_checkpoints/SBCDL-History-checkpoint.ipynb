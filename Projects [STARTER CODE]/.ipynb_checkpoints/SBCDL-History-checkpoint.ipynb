{
 "cells": [
  {
   "cell_type": "code",
   "execution_count": null,
   "id": "4089d35f",
   "metadata": {},
   "outputs": [],
   "source": [
    "import tensorflow \n",
    "import keras\n",
    "from  keras import layers\n",
    "from keras.datasets import imdb\n",
    "import numpy as np\n",
    "\n",
    "nb_words = 10000\n",
    "(train_data, train_labels), (test_data, test_labels) = imdb.load_data(num_words=nb_words)"
   ]
  },
  {
   "cell_type": "markdown",
   "id": "f934cc8d-3a67-4a9d-b944-f4a8c621edd0",
   "metadata": {},
   "source": [
    "# get the word index and its reverse"
   ]
  },
  {
   "cell_type": "code",
   "execution_count": null,
   "id": "f3b017b6-115d-4571-8fee-b423c5927590",
   "metadata": {},
   "outputs": [],
   "source": [
    "word_index = imdb.get_word_index()\n",
    "reverse_word_index = dict([(value, key) for (key, value) in word_index.items()])"
   ]
  },
  {
   "cell_type": "markdown",
   "id": "c98ab52f-91af-4b1e-8110-ea4f8a5780a8",
   "metadata": {},
   "source": [
    "# get the actual review"
   ]
  },
  {
   "cell_type": "code",
   "execution_count": null,
   "id": "b857604b-118f-4bed-ad2a-d584fe4fb18c",
   "metadata": {},
   "outputs": [],
   "source": [
    "def get_review_text(review):\n",
    "   return \" \".join([reverse_word_index.get(i - 3, \"?\") for i in review])"
   ]
  },
  {
   "cell_type": "markdown",
   "id": "007d3ab0-a938-4a6b-b38a-f959af6c7344",
   "metadata": {},
   "source": [
    "# print the actual review"
   ]
  },
  {
   "cell_type": "code",
   "execution_count": null,
   "id": "262fbc28-562a-43de-bcbc-00eb1398753a",
   "metadata": {},
   "outputs": [],
   "source": [
    "print(get_review_text(train_data[6]))"
   ]
  },
  {
   "cell_type": "markdown",
   "id": "92b1af95-1145-4f28-8599-12618f365f8a",
   "metadata": {},
   "source": [
    "# define the one-hot encoding // The dimension is the number of words"
   ]
  },
  {
   "cell_type": "code",
   "execution_count": null,
   "id": "3978addb-31db-4211-b304-a1f7b1d8113d",
   "metadata": {},
   "outputs": [],
   "source": [
    "def one_hot_encode(sequences,dimension):\n",
    "    encodings = np.zeros((len(sequences),dimension))\n",
    "    for i, sequence in enumerate(sequences):\n",
    "      for j in sequence:\n",
    "          encodings[i,j] = 1\n",
    "    return encodings"
   ]
  },
  {
   "cell_type": "markdown",
   "id": "bc4a0dc2-730c-4ce4-b135-754e6539f5c0",
   "metadata": {},
   "source": [
    "# train a binary classification model"
   ]
  },
  {
   "cell_type": "code",
   "execution_count": null,
   "id": "74005da7-e896-4c42-bcc3-bd7a1f2e7198",
   "metadata": {},
   "outputs": [],
   "source": [
    "def train_the_binary_classification(model,inputs,outputs,val_inputs,val_outputs):\n",
    "  model.compile(optimizer=\"rmsprop\",loss=\"binary_crossentropy\",metrics=[\"binary_accuracy\"])\n",
    "  return model.fit(inputs,outputs,epochs=20,batch_size=512,validation_data=(val_inputs,val_outputs))"
   ]
  },
  {
   "cell_type": "markdown",
   "id": "8984c07d-8d8c-45d0-b75a-195fac87d871",
   "metadata": {},
   "source": [
    "# Define the training and validation data"
   ]
  },
  {
   "cell_type": "code",
   "execution_count": null,
   "id": "a9b5a7d3-a8b7-4d36-970f-8f489cf58ef2",
   "metadata": {},
   "outputs": [],
   "source": []
  },
  {
   "cell_type": "markdown",
   "id": "e8f5aad1-8bdc-4a28-9a8c-c822922d0901",
   "metadata": {},
   "source": [
    "# Encode the data"
   ]
  },
  {
   "cell_type": "code",
   "execution_count": null,
   "id": "c46851f5",
   "metadata": {},
   "outputs": [],
   "source": []
  },
  {
   "cell_type": "markdown",
   "id": "82378607-7244-44dd-bc21-71d9d7a0de2e",
   "metadata": {},
   "source": [
    "# Define a great model "
   ]
  },
  {
   "cell_type": "code",
   "execution_count": null,
   "id": "a9224dbc",
   "metadata": {},
   "outputs": [],
   "source": []
  },
  {
   "cell_type": "markdown",
   "id": "fd2b5b3e-7360-41da-87a8-524b0a2f7359",
   "metadata": {},
   "source": [
    "# Train the binary classification with a validation set"
   ]
  },
  {
   "cell_type": "code",
   "execution_count": null,
   "id": "6039cdbb",
   "metadata": {},
   "outputs": [],
   "source": []
  },
  {
   "cell_type": "markdown",
   "id": "3d17ba0c-e0ca-45cd-ab68-2d9cacb557c2",
   "metadata": {},
   "source": [
    "# Evaluate on the training data"
   ]
  },
  {
   "cell_type": "code",
   "execution_count": null,
   "id": "a0236678-acfc-40dd-9363-e8c5fedb234d",
   "metadata": {},
   "outputs": [],
   "source": []
  },
  {
   "cell_type": "markdown",
   "id": "acb56034-2860-49a3-b4bc-a72c0391d793",
   "metadata": {},
   "source": [
    "# Evaluate on the Validation Data"
   ]
  },
  {
   "cell_type": "code",
   "execution_count": null,
   "id": "71fc69d6-f023-40e4-a075-e8a7b53507db",
   "metadata": {},
   "outputs": [],
   "source": []
  },
  {
   "cell_type": "markdown",
   "id": "fcd25685-cb19-43fa-9e11-adda1d4aeffa",
   "metadata": {},
   "source": [
    "# Evaluate on the testing data"
   ]
  },
  {
   "cell_type": "code",
   "execution_count": null,
   "id": "dc0ba038-725c-4e76-844a-a31998bdda8c",
   "metadata": {},
   "outputs": [],
   "source": []
  },
  {
   "cell_type": "markdown",
   "id": "a9ef6291-5daf-4d69-8be9-0a72625bc9a7",
   "metadata": {},
   "source": [
    "# Plot the Training and Validation Losses"
   ]
  },
  {
   "cell_type": "code",
   "execution_count": null,
   "id": "1439272a-ffb9-4050-ad6d-575ea942331d",
   "metadata": {},
   "outputs": [],
   "source": []
  },
  {
   "cell_type": "markdown",
   "id": "91618075-5b6e-4925-8b11-eff271215423",
   "metadata": {},
   "source": [
    "# Plot the Training and Validation Losses"
   ]
  },
  {
   "cell_type": "code",
   "execution_count": null,
   "id": "91a2ca81-f612-452b-ad2f-7e470bcde61f",
   "metadata": {},
   "outputs": [],
   "source": []
  },
  {
   "cell_type": "code",
   "execution_count": null,
   "id": "1a0998ae",
   "metadata": {},
   "outputs": [],
   "source": []
  },
  {
   "cell_type": "code",
   "execution_count": null,
   "id": "ad2c4b76",
   "metadata": {},
   "outputs": [],
   "source": []
  },
  {
   "cell_type": "code",
   "execution_count": null,
   "id": "6bf9276e",
   "metadata": {},
   "outputs": [],
   "source": []
  }
 ],
 "metadata": {
  "kernelspec": {
   "display_name": "Python [conda env:SBCDL]",
   "language": "python",
   "name": "conda-env-SBCDL-py"
  },
  "language_info": {
   "codemirror_mode": {
    "name": "ipython",
    "version": 3
   },
   "file_extension": ".py",
   "mimetype": "text/x-python",
   "name": "python",
   "nbconvert_exporter": "python",
   "pygments_lexer": "ipython3",
   "version": "3.12.4"
  }
 },
 "nbformat": 4,
 "nbformat_minor": 5
}
