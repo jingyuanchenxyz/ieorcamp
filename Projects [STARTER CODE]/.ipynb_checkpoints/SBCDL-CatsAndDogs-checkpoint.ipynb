{
 "cells": [
  {
   "cell_type": "markdown",
   "id": "dcd81251-ebd8-4dfa-b1b3-8cca70ae305e",
   "metadata": {},
   "source": [
    "# Go wild -- this assignment is to recognize Cats and Dogs. The load dataset function is loading the data properly.\n",
    "# Note that the image are in color, i.e., different from the MNIST and Fashion image. The tensors will be different\n",
    "# The rest is yours. Here are a few suggestions\n",
    "\n",
    "# 1. Start with a basic model -- that is your baseline\n",
    "# 2. Move a convolutional network\n",
    "# 3. Finish with a convolutional network with data augmentation (see the video)"
   ]
  },
  {
   "cell_type": "code",
   "execution_count": 14,
   "id": "4de5d852",
   "metadata": {},
   "outputs": [],
   "source": [
    "# USE ONLY IF using a GPU on PACE\n",
    "\n",
    "# If this is not imported the GPU on the PACE will not function properly\n",
    "# otherwise, on another system, it will need built with cuda and loaded \n",
    "# the same version to work properly\n",
    "# os.system(\"module load cuda/12.1.1\")\n",
    "import os\n",
    "import time\n",
    "os.system(\"module load cuda/12.1.1\")\n",
    "time.sleep(20)"
   ]
  },
  {
   "cell_type": "code",
   "execution_count": 15,
   "id": "ba135fa5-1d46-4d81-9a73-6507077d1afd",
   "metadata": {},
   "outputs": [],
   "source": [
    "from tensorflow import keras\n",
    "from keras import layers\n",
    "from keras.datasets import imdb\n",
    "import numpy as np\n",
    "import os, shutil, pathlib\n",
    "from keras.utils import load_img\n",
    "from keras.utils import img_to_array\n",
    "from keras.utils import array_to_img\n",
    "import matplotlib.pyplot as plt\n",
    "import tensorflow as tf\n",
    "from PIL import Image\n",
    "size_picture = 128"
   ]
  },
  {
   "cell_type": "code",
   "execution_count": 16,
   "id": "f633c946",
   "metadata": {},
   "outputs": [],
   "source": [
    "from keras.utils import image_dataset_from_directory"
   ]
  },
  {
   "cell_type": "code",
   "execution_count": 17,
   "id": "98f76a30",
   "metadata": {},
   "outputs": [],
   "source": [
    "def tensor_from_image(name):\n",
    "    img = load_img(name)\n",
    "    img = img.resize((size_picture,size_picture))\n",
    "    return (img,img_to_array(img).astype(\"uint8\").reshape((size_picture,size_picture,3)))  "
   ]
  },
  {
   "cell_type": "code",
   "execution_count": 18,
   "id": "947ad042",
   "metadata": {},
   "outputs": [],
   "source": [
    "def load_dataset(start_index,end_index):\n",
    "    images = []\n",
    "    tensor_inputs = np.zeros((2*(end_index-start_index+1),size_picture,size_picture,3))\n",
    "    tensor_labels = np.zeros((2*(end_index-start_index+1),1))\n",
    "    base_directory = pathlib.Path('../datasets/cats_and_dogs/training_set')\n",
    "    k = 0\n",
    "    for category in {\"cat\",\"dog\"}:\n",
    "        names = [f\"{category}.{i}.jpg\" for i in range(start_index,end_index+1)]\n",
    "        for n in names:\n",
    "            fname = base_directory / category / n\n",
    "            (img,t) = tensor_from_image(fname)\n",
    "            images.append(img)\n",
    "            tensor_inputs[k] = t\n",
    "            tensor_labels[k] = (category == 'dog')\n",
    "            k += 1\n",
    "    return (images,tensor_inputs,tensor_labels)"
   ]
  },
  {
   "cell_type": "code",
   "execution_count": 19,
   "id": "b02dcfe1",
   "metadata": {},
   "outputs": [],
   "source": [
    "def binary_classify(model,inputs,outputs):\n",
    "  model.compile(optimizer=\"rmsprop\",loss=\"binary_crossentropy\",metrics=[\"accuracy\"])\n",
    "  model.fit(inputs,outputs,epochs=100)"
   ]
  },
  {
   "cell_type": "code",
   "execution_count": 20,
   "id": "cebe1f0f",
   "metadata": {},
   "outputs": [],
   "source": [
    "(training_images,training_inputs,training_labels) = load_dataset(1,3000)\n",
    "(testing_images,testing_inputs,testing_labels) = load_dataset(3001,3999)"
   ]
  },
  {
   "cell_type": "code",
   "execution_count": null,
   "id": "6fa9958c-05f5-4232-b850-7862f01e3644",
   "metadata": {},
   "outputs": [],
   "source": []
  },
  {
   "cell_type": "code",
   "execution_count": null,
   "id": "066ba1f5",
   "metadata": {},
   "outputs": [],
   "source": []
  },
  {
   "cell_type": "code",
   "execution_count": null,
   "id": "84836160-df14-416c-be3c-59af3d3ae13a",
   "metadata": {},
   "outputs": [],
   "source": []
  },
  {
   "cell_type": "code",
   "execution_count": null,
   "id": "86d179c7-ca6d-40e4-bc03-610f488b6fab",
   "metadata": {},
   "outputs": [],
   "source": []
  },
  {
   "cell_type": "code",
   "execution_count": null,
   "id": "5c242126-8bdb-4187-9bf3-0478b1703c77",
   "metadata": {},
   "outputs": [],
   "source": []
  },
  {
   "cell_type": "code",
   "execution_count": null,
   "id": "e242e8cb",
   "metadata": {
    "scrolled": true
   },
   "outputs": [],
   "source": []
  },
  {
   "cell_type": "code",
   "execution_count": null,
   "id": "cdefd5e5-5bf8-48ed-ad3f-c814be219067",
   "metadata": {},
   "outputs": [],
   "source": []
  },
  {
   "cell_type": "code",
   "execution_count": null,
   "id": "fb7b37ac",
   "metadata": {},
   "outputs": [],
   "source": []
  },
  {
   "cell_type": "code",
   "execution_count": null,
   "id": "55e1f832",
   "metadata": {},
   "outputs": [],
   "source": []
  },
  {
   "cell_type": "code",
   "execution_count": null,
   "id": "10259b32",
   "metadata": {},
   "outputs": [],
   "source": []
  },
  {
   "cell_type": "code",
   "execution_count": null,
   "id": "556aceeb",
   "metadata": {},
   "outputs": [],
   "source": []
  }
 ],
 "metadata": {
  "kernelspec": {
   "display_name": "Python [conda env:SBCDL]",
   "language": "python",
   "name": "conda-env-SBCDL-py"
  },
  "language_info": {
   "codemirror_mode": {
    "name": "ipython",
    "version": 3
   },
   "file_extension": ".py",
   "mimetype": "text/x-python",
   "name": "python",
   "nbconvert_exporter": "python",
   "pygments_lexer": "ipython3",
   "version": "3.12.4"
  }
 },
 "nbformat": 4,
 "nbformat_minor": 5
}
