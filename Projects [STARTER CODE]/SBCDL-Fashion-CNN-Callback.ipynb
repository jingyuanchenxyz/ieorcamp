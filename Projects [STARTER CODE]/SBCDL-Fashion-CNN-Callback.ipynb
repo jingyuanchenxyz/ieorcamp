{
 "cells": [
  {
   "cell_type": "code",
   "execution_count": null,
   "metadata": {
    "executionInfo": {
     "elapsed": 5804,
     "status": "ok",
     "timestamp": 1718800305048,
     "user": {
      "displayName": "Pascal Van Hentenryck",
      "userId": "09161115431355032627"
     },
     "user_tz": 240
    },
    "id": "mBv1W3sDfNFy"
   },
   "outputs": [],
   "source": [
    "import numpy as np\n",
    "from tensorflow import keras\n",
    "from keras import layers\n",
    "from keras.datasets import fashion_mnist\n",
    "import matplotlib.pyplot as plt"
   ]
  },
  {
   "cell_type": "code",
   "execution_count": null,
   "metadata": {
    "colab": {
     "base_uri": "https://localhost:8080/"
    },
    "executionInfo": {
     "elapsed": 1173,
     "status": "ok",
     "timestamp": 1718800307110,
     "user": {
      "displayName": "Pascal Van Hentenryck",
      "userId": "09161115431355032627"
     },
     "user_tz": 240
    },
    "id": "JKGsG-PifbbO",
    "outputId": "3ef379c2-c2d9-4cab-9898-b240d9f72a08"
   },
   "outputs": [],
   "source": [
    "(train_images, train_labels), (test_images, test_labels) = fashion_mnist.load_data()"
   ]
  },
  {
   "cell_type": "code",
   "execution_count": null,
   "metadata": {
    "colab": {
     "base_uri": "https://localhost:8080/"
    },
    "executionInfo": {
     "elapsed": 185,
     "status": "ok",
     "timestamp": 1718800310048,
     "user": {
      "displayName": "Pascal Van Hentenryck",
      "userId": "09161115431355032627"
     },
     "user_tz": 240
    },
    "id": "OCi64m3WfkDT",
    "outputId": "d8e08795-3eec-4855-df8c-8826e14ad179"
   },
   "outputs": [],
   "source": [
    "train_shape = train_images.shape\n",
    "train_images.shape"
   ]
  },
  {
   "cell_type": "markdown",
   "metadata": {},
   "source": [
    "# Create the validation test and the new training data"
   ]
  },
  {
   "cell_type": "code",
   "execution_count": null,
   "metadata": {},
   "outputs": [],
   "source": []
  },
  {
   "cell_type": "code",
   "execution_count": null,
   "metadata": {
    "colab": {
     "base_uri": "https://localhost:8080/"
    },
    "executionInfo": {
     "elapsed": 191,
     "status": "ok",
     "timestamp": 1718800773565,
     "user": {
      "displayName": "Pascal Van Hentenryck",
      "userId": "09161115431355032627"
     },
     "user_tz": 240
    },
    "id": "YyOLCob5gCvy",
    "outputId": "d9441dcb-0533-4e6e-b1b0-172de5c70296"
   },
   "outputs": [],
   "source": [
    "names =\t['T-shirt/top','Trouser','Pullover','Dress','Coat','Sandal','Shirt','Sneaker','Bag','Ankle boot']\n",
    "names"
   ]
  },
  {
   "cell_type": "code",
   "execution_count": null,
   "metadata": {
    "executionInfo": {
     "elapsed": 195,
     "status": "ok",
     "timestamp": 1718800314481,
     "user": {
      "displayName": "Pascal Van Hentenryck",
      "userId": "09161115431355032627"
     },
     "user_tz": 240
    },
    "id": "agpP4QdVf_TW"
   },
   "outputs": [],
   "source": [
    "def show_image(im):\n",
    "  plt.imshow(im,cmap=plt.cm.summer)\n",
    "  plt.show()"
   ]
  },
  {
   "cell_type": "code",
   "execution_count": null,
   "metadata": {
    "executionInfo": {
     "elapsed": 194,
     "status": "ok",
     "timestamp": 1718800760770,
     "user": {
      "displayName": "Pascal Van Hentenryck",
      "userId": "09161115431355032627"
     },
     "user_tz": 240
    },
    "id": "jx8y0UKMfa6p"
   },
   "outputs": [],
   "source": [
    "def show_image_label(im,value,names):\n",
    "  plt.imshow(im,cmap=plt.cm.summer)\n",
    "  plt.show()\n",
    "  print(\"the fashion is \",names[value])"
   ]
  },
  {
   "cell_type": "code",
   "execution_count": null,
   "metadata": {},
   "outputs": [],
   "source": [
    "def show_image_vpp(im,value,prediction,probability):\n",
    "  plt.imshow(im,cmap=plt.cm.summer)\n",
    "  plt.show()\n",
    "  print(\"the value is \",names[value])\n",
    "  print(\"The predicted value is \",names[prediction],\" with probability: \",probability)"
   ]
  },
  {
   "cell_type": "code",
   "execution_count": null,
   "metadata": {
    "colab": {
     "base_uri": "https://localhost:8080/",
     "height": 448
    },
    "executionInfo": {
     "elapsed": 433,
     "status": "ok",
     "timestamp": 1718800794610,
     "user": {
      "displayName": "Pascal Van Hentenryck",
      "userId": "09161115431355032627"
     },
     "user_tz": 240
    },
    "id": "1oGUQX3Zeqf3",
    "outputId": "f96da147-8ec5-48a0-d0c5-03f89ae7b72f"
   },
   "outputs": [],
   "source": [
    "show_image_label(test_images[28],test_labels[28],names)"
   ]
  },
  {
   "cell_type": "markdown",
   "metadata": {},
   "source": [
    "# Define a function to build a CNN model"
   ]
  },
  {
   "cell_type": "code",
   "execution_count": null,
   "metadata": {},
   "outputs": [],
   "source": [
    "def build_model(input_shape):\n",
    "\n",
    "    return model"
   ]
  },
  {
   "cell_type": "markdown",
   "metadata": {},
   "source": [
    "# Define a function to train a model with callback for early stopping"
   ]
  },
  {
   "cell_type": "code",
   "execution_count": null,
   "metadata": {},
   "outputs": [],
   "source": [
    "def train_model(model,train_tensors,train_labels,val_inputs,val_outputs,nb_epochs):\n"
   ]
  },
  {
   "cell_type": "markdown",
   "metadata": {},
   "source": [
    "# Define a function to predict the fashion type and the probability of the prediction"
   ]
  },
  {
   "cell_type": "code",
   "execution_count": null,
   "metadata": {},
   "outputs": [],
   "source": [
    "def predict(model,test_tensors):\n",
    "    mpredictions = model.predict(test_tensors)\n",
    "    digit_predictions = np.array([x.argmax() for x in mpredictions])\n",
    "    digit_probability = np.array([mpredictions[i][p] for i, p in enumerate(digit_predictions)])\n",
    "    return digit_predictions,digit_probability"
   ]
  },
  {
   "cell_type": "markdown",
   "metadata": {},
   "source": [
    "# Define the training and validation tensors"
   ]
  },
  {
   "cell_type": "code",
   "execution_count": null,
   "metadata": {},
   "outputs": [],
   "source": []
  },
  {
   "cell_type": "markdown",
   "metadata": {},
   "source": [
    "# Build the model"
   ]
  },
  {
   "cell_type": "code",
   "execution_count": null,
   "metadata": {},
   "outputs": [],
   "source": [
    "model = "
   ]
  },
  {
   "cell_type": "markdown",
   "metadata": {},
   "source": [
    "# Print a summary of the model"
   ]
  },
  {
   "cell_type": "code",
   "execution_count": null,
   "metadata": {},
   "outputs": [],
   "source": [
    "model.summary()"
   ]
  },
  {
   "cell_type": "markdown",
   "metadata": {},
   "source": [
    "# Train the model"
   ]
  },
  {
   "cell_type": "code",
   "execution_count": null,
   "metadata": {},
   "outputs": [],
   "source": []
  },
  {
   "cell_type": "markdown",
   "metadata": {},
   "source": [
    "# Evaluate how good the model is on the testing data"
   ]
  },
  {
   "cell_type": "code",
   "execution_count": null,
   "metadata": {},
   "outputs": [],
   "source": []
  },
  {
   "cell_type": "code",
   "execution_count": null,
   "metadata": {},
   "outputs": [],
   "source": []
  },
  {
   "cell_type": "code",
   "execution_count": null,
   "metadata": {},
   "outputs": [],
   "source": []
  }
 ],
 "metadata": {
  "colab": {
   "authorship_tag": "ABX9TyOPIqVy36zY1omxWF+zKnIC",
   "provenance": []
  },
  "kernelspec": {
   "display_name": "Python 3 (ipykernel)",
   "language": "python",
   "name": "python3"
  },
  "language_info": {
   "codemirror_mode": {
    "name": "ipython",
    "version": 3
   },
   "file_extension": ".py",
   "mimetype": "text/x-python",
   "name": "python",
   "nbconvert_exporter": "python",
   "pygments_lexer": "ipython3",
   "version": "3.12.7"
  }
 },
 "nbformat": 4,
 "nbformat_minor": 4
}
