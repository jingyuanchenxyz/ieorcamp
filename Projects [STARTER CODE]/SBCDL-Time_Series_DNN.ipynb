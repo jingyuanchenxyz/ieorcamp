{
 "cells": [
  {
   "cell_type": "markdown",
   "id": "a3077b84-9815-4835-aa91-4c80b17d36aa",
   "metadata": {},
   "source": [
    "# This project is about predicting the temperature 12 hours from now given a set of past features. The data is from Germany for about 7 years at the hourly granularity "
   ]
  },
  {
   "cell_type": "code",
   "execution_count": 2,
   "id": "4089d35f",
   "metadata": {},
   "outputs": [],
   "source": [
    "import keras\n",
    "from keras import layers\n",
    "from keras.datasets import imdb\n",
    "from keras.utils import timeseries_dataset_from_array\n",
    "import numpy as np\n",
    "from matplotlib import pyplot as plt\n",
    "import os"
   ]
  },
  {
   "cell_type": "markdown",
   "id": "23e9b0d1-45ff-45df-97bf-dd89bb056eea",
   "metadata": {},
   "source": [
    "# Read the data from the csv file (do not worry); the header gives you the meaning of the features"
   ]
  },
  {
   "cell_type": "code",
   "execution_count": 3,
   "id": "bf8e70fa-99f8-4728-87dc-da547bd1eb4d",
   "metadata": {},
   "outputs": [
    {
     "name": "stdout",
     "output_type": "stream",
     "text": [
      "['\"Date Time\"', '\"p (mbar)\"', '\"T (degC)\"', '\"Tpot (K)\"', '\"Tdew (degC)\"', '\"rh (%)\"', '\"VPmax (mbar)\"', '\"VPact (mbar)\"', '\"VPdef (mbar)\"', '\"sh (g/kg)\"', '\"H2OC (mmol/mol)\"', '\"rho (g/m**3)\"', '\"wv (m/s)\"', '\"max. wv (m/s)\"', '\"wd (deg)\"']\n"
     ]
    }
   ],
   "source": [
    "fname = os.path.join(\"../datasets/jena_climate_2009_2016.csv\")\n",
    "with open(fname) as f:\n",
    "    data = f.read()\n",
    "lines = data.split(\"\\n\")\n",
    "header = lines[0].split(\",\")\n",
    "lines = lines[1:]\n",
    "print(header)"
   ]
  },
  {
   "cell_type": "markdown",
   "id": "f934cc8d-3a67-4a9d-b944-f4a8c621edd0",
   "metadata": {},
   "source": [
    "# These lines compute the temperature (the target) and the raw_data (the features). The raw_data also contains the temperature since past temperature will be used to predict the next temperature"
   ]
  },
  {
   "cell_type": "code",
   "execution_count": null,
   "id": "a58a4dab-21d0-4465-87e5-acdb03ae27cf",
   "metadata": {},
   "outputs": [],
   "source": [
    "temperature = np.zeros((len(lines),))\n",
    "raw_data = np.zeros((len(lines), len(header) - 1))\n",
    "for i, line in enumerate(lines):\n",
    "    values = [float(x) for x in line.split(\",\")[1:]]\n",
    "    temperature[i] = values[1]\n",
    "    raw_data[i, :] = values[:]"
   ]
  },
  {
   "cell_type": "markdown",
   "id": "2876719e-570c-46ce-9446-5c4d20023b02",
   "metadata": {},
   "source": [
    "# Normalize the raw data"
   ]
  },
  {
   "cell_type": "code",
   "execution_count": null,
   "id": "f9cbbbda-7a49-4725-9a74-978b6f621d78",
   "metadata": {},
   "outputs": [],
   "source": [
    "mean = raw_data[:num_train_samples].mean(axis=0)\n",
    "raw_data -= mean\n",
    "std = raw_data[:num_train_samples].std(axis=0)\n",
    "raw_data /= std"
   ]
  },
  {
   "cell_type": "markdown",
   "id": "58fc05f6-ae30-4d49-9a24-36fb76c178b0",
   "metadata": {},
   "source": [
    "# Define the proper number of samples for the training, testing, and validation sets; do not create new sets"
   ]
  },
  {
   "cell_type": "code",
   "execution_count": null,
   "id": "54ee745e-438c-4efc-ac64-61445cdded38",
   "metadata": {},
   "outputs": [],
   "source": [
    "num_train_samples = \n",
    "num_val_samples = \n",
    "num_test_samples = \n",
    "print(\"num_train_samples:\", num_train_samples)\n",
    "print(\"num_val_samples:\", num_val_samples)\n",
    "print(\"num_test_samples:\", num_test_samples)\n",
    "print(\"total:\",num_train_samples + num_val_samples + num_test_samples)"
   ]
  },
  {
   "cell_type": "markdown",
   "id": "8e936a41-4520-46bb-9c1c-48a9fdbb517b",
   "metadata": {},
   "source": [
    "# This is the utility code to generate the data as discussed in the videos"
   ]
  },
  {
   "cell_type": "code",
   "execution_count": null,
   "id": "3978addb-31db-4211-b304-a1f7b1d8113d",
   "metadata": {},
   "outputs": [],
   "source": [
    "sequence_length = 120\n",
    "lookahead = 12 # predict 12 hours in the future\n",
    "delay = (sequence_length + lookahead - 1)\n",
    "batch_size = 256\n",
    "\n",
    "train_dataset = keras.utils.timeseries_dataset_from_array(\n",
    "    raw_data[:-delay],\n",
    "    targets=temperature[delay:],\n",
    "    sequence_length=sequence_length,\n",
    "    batch_size=batch_size,\n",
    "    start_index=0,\n",
    "    end_index=num_train_samples-1)\n",
    "\n",
    "val_dataset = keras.utils.timeseries_dataset_from_array(\n",
    "    raw_data[:-delay],\n",
    "    targets=temperature[delay:],\n",
    "    sequence_length=sequence_length,\n",
    "    batch_size=batch_size,\n",
    "    start_index=num_train_samples,\n",
    "    end_index=num_train_samples + num_val_samples-1)\n",
    "\n",
    "test_dataset = keras.utils.timeseries_dataset_from_array(\n",
    "    raw_data[:-delay],\n",
    "    targets=temperature[delay:],\n",
    "    sequence_length=sequence_length,\n",
    "    batch_size=batch_size,\n",
    "    start_index=num_train_samples + num_val_samples,\n",
    "    end_index=num_train_samples + num_val_samples + num_test_samples-delay-1)\n"
   ]
  },
  {
   "cell_type": "markdown",
   "id": "bc4a0dc2-730c-4ce4-b135-754e6539f5c0",
   "metadata": {},
   "source": [
    "# Now define the DNN model, plot the results;"
   ]
  },
  {
   "cell_type": "code",
   "execution_count": null,
   "id": "74005da7-e896-4c42-bcc3-bd7a1f2e7198",
   "metadata": {},
   "outputs": [],
   "source": []
  },
  {
   "cell_type": "code",
   "execution_count": null,
   "id": "e2a05e48-3672-49c3-bd38-e085027e617f",
   "metadata": {},
   "outputs": [],
   "source": []
  }
 ],
 "metadata": {
  "kernelspec": {
   "display_name": "Python [conda env:SBCDL]",
   "language": "python",
   "name": "conda-env-SBCDL-py"
  },
  "language_info": {
   "codemirror_mode": {
    "name": "ipython",
    "version": 3
   },
   "file_extension": ".py",
   "mimetype": "text/x-python",
   "name": "python",
   "nbconvert_exporter": "python",
   "pygments_lexer": "ipython3",
   "version": "3.12.4"
  }
 },
 "nbformat": 4,
 "nbformat_minor": 5
}
