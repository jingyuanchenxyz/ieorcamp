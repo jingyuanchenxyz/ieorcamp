{
 "cells": [
  {
   "cell_type": "code",
   "execution_count": null,
   "id": "32490c3a",
   "metadata": {},
   "outputs": [],
   "source": [
    "import numpy as np\n",
    "from tensorflow import keras\n",
    "from keras import layers\n",
    "import matplotlib.pyplot as plt"
   ]
  },
  {
   "cell_type": "markdown",
   "id": "f8e1c93d-d2a6-4162-8880-bdaaccf5063d",
   "metadata": {},
   "source": [
    "# read the data file"
   ]
  },
  {
   "cell_type": "code",
   "execution_count": null,
   "id": "380837ba",
   "metadata": {},
   "outputs": [],
   "source": [
    "import pandas  as pd #Data manipulation\n",
    "df = pd.read_csv('../datasets/income.csv')\n",
    "print('\\nNumber of rows and columns in the data set: ',df.shape)\n",
    "print('')\n",
    "df.head()"
   ]
  },
  {
   "cell_type": "markdown",
   "id": "2d18657e-2f1e-4a6d-9e26-6565585a3e79",
   "metadata": {},
   "source": [
    "# Compute the input (as a tensor) which is the income"
   ]
  },
  {
   "cell_type": "code",
   "execution_count": null,
   "id": "c2d5e80a",
   "metadata": {},
   "outputs": [],
   "source": [
    "data_input = np.array([np.array([df['income'][i]]) for i in range(df.shape[0])])\n",
    "data_input.shape"
   ]
  },
  {
   "cell_type": "markdown",
   "id": "ed777df4-26fe-4ce5-95bc-8234a3a740f8",
   "metadata": {},
   "source": [
    "# Compute the output which is the happiness level"
   ]
  },
  {
   "cell_type": "code",
   "execution_count": null,
   "id": "f6142679",
   "metadata": {},
   "outputs": [],
   "source": [
    "data_output = np.array([df['happiness'][i] for i in range(df.shape[0])])\n",
    "data_output"
   ]
  },
  {
   "cell_type": "markdown",
   "id": "43f586c1-02ea-4bff-9632-db6f379a75a7",
   "metadata": {},
   "source": [
    "# Train the model"
   ]
  },
  {
   "cell_type": "code",
   "execution_count": null,
   "id": "4524a955",
   "metadata": {},
   "outputs": [],
   "source": [
    "def train_model(model,inputs,outputs):\n",
    "  model.compile(optimizer=\"rmsprop\",loss=\"mse\",metrics=[\"mae\"])\n",
    "  model.fit(inputs,outputs,epochs=1000)"
   ]
  },
  {
   "cell_type": "markdown",
   "id": "a5fed1da-a320-4fb2-8b00-952efb756159",
   "metadata": {},
   "source": [
    "# Define a function to build the model: the function returns the model which has a dense layer with 4 neuros and a sigmoid activation function"
   ]
  },
  {
   "cell_type": "code",
   "execution_count": null,
   "id": "408c19ff",
   "metadata": {},
   "outputs": [],
   "source": [
    "def build_model(data):\n"
   ]
  },
  {
   "cell_type": "markdown",
   "id": "260fd731-006f-4b84-95ad-e9017ee27fb9",
   "metadata": {},
   "source": [
    "# Now build the model"
   ]
  },
  {
   "cell_type": "code",
   "execution_count": null,
   "id": "91f5930f",
   "metadata": {},
   "outputs": [],
   "source": [
    "model = build_model(data_input)\n",
    "model.summary()"
   ]
  },
  {
   "cell_type": "markdown",
   "id": "ef71c52d-ce55-4102-b530-df631161b1a4",
   "metadata": {},
   "source": [
    "# Train the model"
   ]
  },
  {
   "cell_type": "code",
   "execution_count": null,
   "id": "ca836564-f7d8-483e-b00a-813eec9c4014",
   "metadata": {},
   "outputs": [],
   "source": [
    "train_model(model,data_input,data_output)"
   ]
  },
  {
   "cell_type": "markdown",
   "id": "b48b5166-2253-44de-95ae-401dca83831d",
   "metadata": {},
   "source": [
    "# These two functions are used to plot the model predictions"
   ]
  },
  {
   "cell_type": "code",
   "execution_count": null,
   "id": "0c85c61a",
   "metadata": {},
   "outputs": [],
   "source": [
    "def plot_data(model,inputs,outputs,low,high):\n",
    "    x = np.linspace(low,high,20)\n",
    "    y = model.predict(x)\n",
    "    plt.scatter(inputs,outputs)\n",
    "    plt.scatter(x,y)"
   ]
  },
  {
   "cell_type": "code",
   "execution_count": null,
   "id": "bf47a412-5d74-4bc8-82f6-fb49f302052e",
   "metadata": {},
   "outputs": [],
   "source": [
    "def plot_data_line(model,inputs,outputs,low,high):\n",
    "    x = np.linspace(low,high,20)\n",
    "    y = model.predict(x)\n",
    "    plt.scatter(inputs,outputs)\n",
    "    plt.plot(x,y,\"-r\")"
   ]
  },
  {
   "cell_type": "markdown",
   "id": "351b5256-99d1-4752-9529-2d600e4a33e9",
   "metadata": {},
   "source": [
    "# Now plot the results"
   ]
  },
  {
   "cell_type": "code",
   "execution_count": null,
   "id": "22fcaf4e-ef85-4670-9006-84968d19bdee",
   "metadata": {},
   "outputs": [],
   "source": [
    "plot_data(model,data_input,data_output,1,8)"
   ]
  },
  {
   "cell_type": "code",
   "execution_count": null,
   "id": "28d6b11e-6566-4b91-8759-d45234001525",
   "metadata": {},
   "outputs": [],
   "source": [
    "plot_data_line(model,data_input,data_output,1,8)"
   ]
  },
  {
   "cell_type": "code",
   "execution_count": null,
   "id": "3e51bb01-155b-4554-81c5-33bc3ae570f8",
   "metadata": {},
   "outputs": [],
   "source": []
  },
  {
   "cell_type": "code",
   "execution_count": null,
   "id": "c7a91f3e-1e7e-4b1f-aca3-0b50c4c4989c",
   "metadata": {},
   "outputs": [],
   "source": []
  },
  {
   "cell_type": "code",
   "execution_count": null,
   "id": "c3d739c9",
   "metadata": {},
   "outputs": [],
   "source": []
  }
 ],
 "metadata": {
  "kernelspec": {
   "display_name": "Python 3 (ipykernel)",
   "language": "python",
   "name": "python3"
  },
  "language_info": {
   "codemirror_mode": {
    "name": "ipython",
    "version": 3
   },
   "file_extension": ".py",
   "mimetype": "text/x-python",
   "name": "python",
   "nbconvert_exporter": "python",
   "pygments_lexer": "ipython3",
   "version": "3.12.7"
  }
 },
 "nbformat": 4,
 "nbformat_minor": 5
}
