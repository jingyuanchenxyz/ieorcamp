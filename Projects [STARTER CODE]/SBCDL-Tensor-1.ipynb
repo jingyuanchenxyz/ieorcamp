{
 "cells": [
  {
   "cell_type": "markdown",
   "metadata": {
    "id": "KAfeoNr6qWIP"
   },
   "source": [
    "# Review"
   ]
  },
  {
   "cell_type": "markdown",
   "metadata": {
    "id": "yt7HGzgGqZAH"
   },
   "source": [
    "What is an array/list?"
   ]
  },
  {
   "cell_type": "markdown",
   "metadata": {
    "id": "KK07kgnHqajA"
   },
   "source": [
    "Answer:  "
   ]
  },
  {
   "cell_type": "markdown",
   "metadata": {
    "id": "_xKQqWiIqePP"
   },
   "source": [
    "Define an array best_test_array as these numbers:  5,3,9,1,4,9,11,22,54,71,2.   "
   ]
  },
  {
   "cell_type": "code",
   "execution_count": null,
   "metadata": {
    "id": "0_VWfBZWqVe4"
   },
   "outputs": [],
   "source": []
  },
  {
   "cell_type": "markdown",
   "metadata": {
    "id": "eDWHKl_6qsXH"
   },
   "source": [
    "Use indexing to pull out the number 11."
   ]
  },
  {
   "cell_type": "code",
   "execution_count": null,
   "metadata": {
    "id": "zxQS6oe_qwD1"
   },
   "outputs": [],
   "source": []
  },
  {
   "cell_type": "markdown",
   "metadata": {
    "id": "6YDGNWNrqwln"
   },
   "source": [
    "Use slicing to pull out the number 54, 71, 2."
   ]
  },
  {
   "cell_type": "code",
   "execution_count": null,
   "metadata": {
    "id": "M6DhBvD7q9hQ"
   },
   "outputs": [],
   "source": []
  },
  {
   "cell_type": "markdown",
   "metadata": {
    "id": "NZYy0hu0q4LQ"
   },
   "source": [
    "Use slicing to pull out the numbers 9,1,4,9."
   ]
  },
  {
   "cell_type": "code",
   "execution_count": null,
   "metadata": {
    "id": "Sq9gdh4Sq80w"
   },
   "outputs": [],
   "source": []
  },
  {
   "cell_type": "markdown",
   "metadata": {
    "id": "4TGNk_1eRY9F"
   },
   "source": [
    "# Array Indexing"
   ]
  },
  {
   "cell_type": "markdown",
   "metadata": {
    "id": "cScPe185Rchi"
   },
   "source": [
    "Example 1: Import the numpy module as np."
   ]
  },
  {
   "cell_type": "code",
   "execution_count": null,
   "metadata": {
    "id": "QhLO8wU6Remj"
   },
   "outputs": [],
   "source": []
  },
  {
   "cell_type": "markdown",
   "metadata": {
    "id": "vdW-kMaiRli6"
   },
   "source": [
    "Example 2a: Define this array [[1,2,3,4,5],[6,7,8,9,10],[11,12,13,14,15],[16,17,18,19,20],[21,22,23,24,25],[26,27,28,29,30]] using numpy and name it test_array."
   ]
  },
  {
   "cell_type": "code",
   "execution_count": null,
   "metadata": {
    "colab": {
     "base_uri": "https://localhost:8080/"
    },
    "executionInfo": {
     "elapsed": 4,
     "status": "ok",
     "timestamp": 1709059947250,
     "user": {
      "displayName": "Beth White",
      "userId": "06650684930091111574"
     },
     "user_tz": 300
    },
    "id": "Nk8a8SuxRnBT",
    "outputId": "e1240f58-39c6-48dd-c52f-91ffea4dbbca"
   },
   "outputs": [],
   "source": []
  },
  {
   "cell_type": "markdown",
   "metadata": {
    "id": "q8koDVhsRo6T"
   },
   "source": [
    "Example 2b: Use indexing to return 1."
   ]
  },
  {
   "cell_type": "code",
   "execution_count": null,
   "metadata": {
    "id": "88dqkw97RuwD"
   },
   "outputs": [],
   "source": []
  },
  {
   "cell_type": "markdown",
   "metadata": {
    "id": "UmyVQhTSRzGC"
   },
   "source": [
    "Task 1: Use indexing to return 11."
   ]
  },
  {
   "cell_type": "code",
   "execution_count": null,
   "metadata": {
    "id": "wqcBBbzhR2Eb"
   },
   "outputs": [],
   "source": []
  },
  {
   "cell_type": "markdown",
   "metadata": {
    "id": "0tNn8IFPR3Jy"
   },
   "source": [
    "Task 1a: Use indexing to return 23."
   ]
  },
  {
   "cell_type": "code",
   "execution_count": null,
   "metadata": {
    "id": "XTKufs37R8Yz"
   },
   "outputs": [],
   "source": []
  },
  {
   "cell_type": "markdown",
   "metadata": {
    "id": "VkkT1ZeWR9Jr"
   },
   "source": [
    "Task 1b: Use indexing to return 9."
   ]
  },
  {
   "cell_type": "code",
   "execution_count": null,
   "metadata": {
    "id": "UUDaoEDoR-LK"
   },
   "outputs": [],
   "source": []
  },
  {
   "cell_type": "markdown",
   "metadata": {
    "id": "lEDMFdrZ2jBY"
   },
   "source": [
    "## **Using Numpy** -- Understanding Shape and Dimension of Arrays"
   ]
  },
  {
   "cell_type": "markdown",
   "metadata": {
    "id": "RTUyxKbF2p41"
   },
   "source": [
    "Import numpy module as np"
   ]
  },
  {
   "cell_type": "code",
   "execution_count": null,
   "metadata": {
    "id": "ofaiwlV72scs"
   },
   "outputs": [],
   "source": []
  },
  {
   "cell_type": "markdown",
   "metadata": {
    "id": "YlDpXE-TnsdX"
   },
   "source": [
    "Example 1a: Create a scalar array with a value of 255 using the numpy method array, and name it scale_by."
   ]
  },
  {
   "cell_type": "code",
   "execution_count": null,
   "metadata": {
    "colab": {
     "base_uri": "https://localhost:8080/"
    },
    "executionInfo": {
     "elapsed": 8,
     "status": "ok",
     "timestamp": 1708701710270,
     "user": {
      "displayName": "Beth White",
      "userId": "06650684930091111574"
     },
     "user_tz": 300
    },
    "id": "wXslKh96n9h1",
    "outputId": "97855233-28aa-428d-a3a4-79aa791a763b"
   },
   "outputs": [],
   "source": []
  },
  {
   "cell_type": "markdown",
   "metadata": {
    "id": "HPjKa9RrnwZX"
   },
   "source": [
    "Task 1a: Create a scalar array with a value of 50 using the numpy method array and name it scaling."
   ]
  },
  {
   "cell_type": "code",
   "execution_count": null,
   "metadata": {
    "colab": {
     "base_uri": "https://localhost:8080/"
    },
    "executionInfo": {
     "elapsed": 19,
     "status": "ok",
     "timestamp": 1708701710476,
     "user": {
      "displayName": "Beth White",
      "userId": "06650684930091111574"
     },
     "user_tz": 300
    },
    "id": "wfGtsB_doR4Z",
    "outputId": "b8196e76-ec98-4895-82e1-846008aab6d5"
   },
   "outputs": [],
   "source": []
  },
  {
   "cell_type": "markdown",
   "metadata": {
    "id": "-6fqeZIoom7O"
   },
   "source": [
    "Example 1b:  Determine the dimensions of the array scale_by using the ndim method of numpy."
   ]
  },
  {
   "cell_type": "code",
   "execution_count": null,
   "metadata": {
    "colab": {
     "base_uri": "https://localhost:8080/"
    },
    "executionInfo": {
     "elapsed": 19,
     "status": "ok",
     "timestamp": 1708701710477,
     "user": {
      "displayName": "Beth White",
      "userId": "06650684930091111574"
     },
     "user_tz": 300
    },
    "id": "618A1I8sotLe",
    "outputId": "a9e878a3-6290-48f2-ce31-3d824e63e4b1"
   },
   "outputs": [],
   "source": []
  },
  {
   "cell_type": "markdown",
   "metadata": {
    "id": "FjYL6H-9o1ye"
   },
   "source": [
    "Task 1b: Determine the dimensions of the array scaling using the ndim method of numpy."
   ]
  },
  {
   "cell_type": "code",
   "execution_count": null,
   "metadata": {
    "colab": {
     "base_uri": "https://localhost:8080/"
    },
    "executionInfo": {
     "elapsed": 16,
     "status": "ok",
     "timestamp": 1708701710477,
     "user": {
      "displayName": "Beth White",
      "userId": "06650684930091111574"
     },
     "user_tz": 300
    },
    "id": "aeI1DrtYo7q2",
    "outputId": "c4a40dd5-3662-443a-ea49-91c24e9ae53d"
   },
   "outputs": [],
   "source": []
  },
  {
   "cell_type": "markdown",
   "metadata": {
    "id": "g34M3e0J21jo"
   },
   "source": [
    "Eample 2a: Define the following arrays: a = [1, 1, 1, 1] the using the numpy array the  then use the numpy shape method to determine the shape of this array.\n"
   ]
  },
  {
   "cell_type": "code",
   "execution_count": null,
   "metadata": {
    "colab": {
     "base_uri": "https://localhost:8080/"
    },
    "executionInfo": {
     "elapsed": 13,
     "status": "ok",
     "timestamp": 1708701710477,
     "user": {
      "displayName": "Beth White",
      "userId": "06650684930091111574"
     },
     "user_tz": 300
    },
    "id": "XX1Yp3TE3IX0",
    "outputId": "98ad9ba7-7e0d-4576-e803-0f971cc7cbfa"
   },
   "outputs": [],
   "source": [
    "\n"
   ]
  },
  {
   "cell_type": "markdown",
   "metadata": {
    "id": "HiMulAZbq0L-"
   },
   "source": [
    "Example 2b: Use the ndim method of numpy to determine the dimensions of a."
   ]
  },
  {
   "cell_type": "code",
   "execution_count": null,
   "metadata": {
    "colab": {
     "base_uri": "https://localhost:8080/"
    },
    "executionInfo": {
     "elapsed": 11,
     "status": "ok",
     "timestamp": 1708701710477,
     "user": {
      "displayName": "Beth White",
      "userId": "06650684930091111574"
     },
     "user_tz": 300
    },
    "id": "EDqDTSVvfwMB",
    "outputId": "d9d3d0b8-604e-4158-ef1a-5855f2bfd87e"
   },
   "outputs": [],
   "source": []
  },
  {
   "cell_type": "code",
   "execution_count": null,
   "metadata": {
    "colab": {
     "base_uri": "https://localhost:8080/"
    },
    "executionInfo": {
     "elapsed": 10,
     "status": "ok",
     "timestamp": 1708701710478,
     "user": {
      "displayName": "Beth White",
      "userId": "06650684930091111574"
     },
     "user_tz": 300
    },
    "id": "XEjau6OR6H5s",
    "outputId": "167567c8-38c6-4751-80e9-27c411411799"
   },
   "outputs": [],
   "source": []
  },
  {
   "cell_type": "markdown",
   "metadata": {
    "id": "Fr4EExZ86Jrk"
   },
   "source": [
    "Task 2a: Define the following arrays: b = [4,2,5,3,6,5] the using the numpy array the then use the numpy shape method to determine the shape of this array."
   ]
  },
  {
   "cell_type": "code",
   "execution_count": null,
   "metadata": {
    "id": "XyO8oib8rMNW"
   },
   "outputs": [],
   "source": []
  },
  {
   "cell_type": "markdown",
   "metadata": {
    "id": "W8n0RM8RrMp1"
   },
   "source": [
    "Task 2b: Use the ndim method of numpy to determine the dimensions of b."
   ]
  },
  {
   "cell_type": "code",
   "execution_count": null,
   "metadata": {
    "id": "n0AuXozfrPcu"
   },
   "outputs": [],
   "source": []
  },
  {
   "cell_type": "markdown",
   "metadata": {
    "id": "cUnnjgCBk4C1"
   },
   "source": [
    "# Slicing Review:"
   ]
  },
  {
   "cell_type": "markdown",
   "metadata": {
    "id": "dprIcS5BiAt5"
   },
   "source": [
    "Example: Define a list t, slice to get the last three numbers in the list and call them z. Print z."
   ]
  },
  {
   "cell_type": "code",
   "execution_count": null,
   "metadata": {
    "colab": {
     "base_uri": "https://localhost:8080/"
    },
    "executionInfo": {
     "elapsed": 189,
     "status": "ok",
     "timestamp": 1708701710660,
     "user": {
      "displayName": "Beth White",
      "userId": "06650684930091111574"
     },
     "user_tz": 300
    },
    "id": "P4MVxlphkkrV",
    "outputId": "78dd12d6-ab0e-4400-f5db-d14068ea6443"
   },
   "outputs": [],
   "source": []
  },
  {
   "cell_type": "markdown",
   "metadata": {
    "id": "PZBMBdf28-vE"
   },
   "source": [
    "Task 2c: Use slicing to assign the last three values in b to c."
   ]
  },
  {
   "cell_type": "code",
   "execution_count": null,
   "metadata": {
    "id": "hyRsk2eH9Fss"
   },
   "outputs": [],
   "source": []
  },
  {
   "cell_type": "markdown",
   "metadata": {
    "id": "7ddam0u_9GRx"
   },
   "source": [
    "Task 2d: Determine the dimensions of c."
   ]
  },
  {
   "cell_type": "code",
   "execution_count": null,
   "metadata": {
    "id": "VCDrHvqx9LyK"
   },
   "outputs": [],
   "source": []
  },
  {
   "cell_type": "markdown",
   "metadata": {
    "id": "iZ-OP3X49YrS"
   },
   "source": [
    "Task 2e: Determine the shape of c."
   ]
  },
  {
   "cell_type": "code",
   "execution_count": null,
   "metadata": {
    "id": "5rosOzf39Zt6"
   },
   "outputs": [],
   "source": []
  },
  {
   "cell_type": "markdown",
   "metadata": {
    "id": "1z7_tYFZ9qKl"
   },
   "source": [
    "Task 3a: Use a for loop to print all of the values in c."
   ]
  },
  {
   "cell_type": "code",
   "execution_count": null,
   "metadata": {
    "id": "Hin1t4pJ-Skj"
   },
   "outputs": [],
   "source": []
  },
  {
   "cell_type": "markdown",
   "metadata": {
    "id": "ISYvhXzc3Tlm"
   },
   "source": [
    "Example 4a: Define the following array: b = [[1,1,1,1],[1,1,1,1]] and use the numpy method to determine the shape of this array."
   ]
  },
  {
   "cell_type": "code",
   "execution_count": null,
   "metadata": {
    "colab": {
     "base_uri": "https://localhost:8080/"
    },
    "executionInfo": {
     "elapsed": 23,
     "status": "ok",
     "timestamp": 1708701710661,
     "user": {
      "displayName": "Beth White",
      "userId": "06650684930091111574"
     },
     "user_tz": 300
    },
    "id": "6xBxXEnU3sad",
    "outputId": "0bf33176-9d4d-4461-85e6-26c7f500ae56"
   },
   "outputs": [],
   "source": []
  },
  {
   "cell_type": "markdown",
   "metadata": {
    "id": "4I1Uvoyx6n4E"
   },
   "source": [
    "Task 4a: Use the numpy method ndim to determine the number of dimensions."
   ]
  },
  {
   "cell_type": "code",
   "execution_count": null,
   "metadata": {
    "id": "jlBRjHVX6pxE"
   },
   "outputs": [],
   "source": []
  },
  {
   "cell_type": "markdown",
   "metadata": {
    "id": "NTq-2_0U32xd"
   },
   "source": [
    "Task 5a: Define the following array: c = [[1,1,1,1],[1,1,1,1],[1,1,1,1]] and use the numpy method to determine the shape of this array."
   ]
  },
  {
   "cell_type": "code",
   "execution_count": null,
   "metadata": {
    "id": "HXq4uyjn4Dzm"
   },
   "outputs": [],
   "source": []
  },
  {
   "cell_type": "markdown",
   "metadata": {
    "id": "cmVObmpk6wa0"
   },
   "source": [
    "Task 5b: Use the numpy method ndim to determine the number of dimensions."
   ]
  },
  {
   "cell_type": "code",
   "execution_count": null,
   "metadata": {
    "id": "mZ0A64_s6xLG"
   },
   "outputs": [],
   "source": []
  },
  {
   "cell_type": "markdown",
   "metadata": {
    "id": "gLPsxlxr4VOk"
   },
   "source": [
    "Example 6a: Create an array of shape (5, 3), and query its shape to confirm."
   ]
  },
  {
   "cell_type": "code",
   "execution_count": null,
   "metadata": {
    "colab": {
     "base_uri": "https://localhost:8080/"
    },
    "executionInfo": {
     "elapsed": 19,
     "status": "ok",
     "timestamp": 1708701710662,
     "user": {
      "displayName": "Beth White",
      "userId": "06650684930091111574"
     },
     "user_tz": 300
    },
    "id": "OFlJIntJ4e6f",
    "outputId": "e3f258f1-63c1-4225-d5b5-4d0045ba48a1"
   },
   "outputs": [],
   "source": []
  },
  {
   "cell_type": "code",
   "execution_count": null,
   "metadata": {
    "colab": {
     "base_uri": "https://localhost:8080/"
    },
    "executionInfo": {
     "elapsed": 16,
     "status": "ok",
     "timestamp": 1708701710663,
     "user": {
      "displayName": "Beth White",
      "userId": "06650684930091111574"
     },
     "user_tz": 300
    },
    "id": "wqzlQhoDsOCO",
    "outputId": "74e5294a-ae14-4135-9f5b-12f93b21bdc9"
   },
   "outputs": [],
   "source": []
  },
  {
   "cell_type": "markdown",
   "metadata": {
    "id": "WhSJr8a6_gtJ"
   },
   "source": [
    "Task 6a: Create an array of shape (6, 4), name it f, and query its shape to confirm."
   ]
  },
  {
   "cell_type": "code",
   "execution_count": null,
   "metadata": {
    "id": "71hiX0oB_y-x"
   },
   "outputs": [],
   "source": []
  },
  {
   "cell_type": "markdown",
   "metadata": {
    "id": "5dOSSSFs66vD"
   },
   "source": [
    "Task 6b: Use the numpy method ndim to determine the number of dimensions."
   ]
  },
  {
   "cell_type": "code",
   "execution_count": null,
   "metadata": {
    "id": "A_WV-Go3681N"
   },
   "outputs": [],
   "source": []
  },
  {
   "cell_type": "markdown",
   "metadata": {
    "id": "ndqhw8Sm4tus"
   },
   "source": [
    "Task 7a: Create an array of shape (1, 10) and query shape to confirm."
   ]
  },
  {
   "cell_type": "code",
   "execution_count": null,
   "metadata": {
    "id": "sOiq5n22i6Nr"
   },
   "outputs": [],
   "source": []
  },
  {
   "cell_type": "code",
   "execution_count": null,
   "metadata": {
    "id": "6RnyV31a4-ac"
   },
   "outputs": [],
   "source": []
  },
  {
   "cell_type": "markdown",
   "metadata": {
    "id": "95h5nzWR7C3j"
   },
   "source": [
    "Task 7b: Use the numpy method ndim to determine the number of dimensions."
   ]
  },
  {
   "cell_type": "code",
   "execution_count": null,
   "metadata": {
    "id": "6UjY5LMh7D67"
   },
   "outputs": [],
   "source": []
  },
  {
   "cell_type": "markdown",
   "metadata": {
    "id": "78qsYuI3AHJx"
   },
   "source": [
    "## **Accessing array contents**"
   ]
  },
  {
   "cell_type": "markdown",
   "metadata": {
    "id": "51mG97moBiET"
   },
   "source": [
    "Review 1: Remember to access items in a list, you use indexing.  For example, to access \"this\" in the list: t = ['we', 'this', 'the', 'they', 'them']"
   ]
  },
  {
   "cell_type": "code",
   "execution_count": null,
   "metadata": {
    "colab": {
     "base_uri": "https://localhost:8080/",
     "height": 36
    },
    "executionInfo": {
     "elapsed": 12,
     "status": "ok",
     "timestamp": 1708701710664,
     "user": {
      "displayName": "Beth White",
      "userId": "06650684930091111574"
     },
     "user_tz": 300
    },
    "id": "SDtnbjPIBl_I",
    "outputId": "1e598068-78cb-43d5-c0c1-9db7ab968d23"
   },
   "outputs": [],
   "source": []
  },
  {
   "cell_type": "markdown",
   "metadata": {
    "id": "Uk7M1fySAUex"
   },
   "source": [
    "Example 2a: Define this array [[1,2,3,4,5],[6,7,8,9,10],[11,12,13,14,15],[16,17,18,19,20],[21,22,23,24,25],[26,27,28,29,30]] using numpy and name it test_array."
   ]
  },
  {
   "cell_type": "code",
   "execution_count": null,
   "metadata": {
    "colab": {
     "base_uri": "https://localhost:8080/"
    },
    "executionInfo": {
     "elapsed": 11,
     "status": "ok",
     "timestamp": 1708701710819,
     "user": {
      "displayName": "Beth White",
      "userId": "06650684930091111574"
     },
     "user_tz": 300
    },
    "id": "mBUtxg_YA0T2",
    "outputId": "69a596a0-d1dc-48a7-89ed-c32182e6c709"
   },
   "outputs": [],
   "source": []
  },
  {
   "cell_type": "markdown",
   "metadata": {
    "id": "OHJMcAijA3W5"
   },
   "source": [
    "Task 2b: Determine the shape of test_array."
   ]
  },
  {
   "cell_type": "code",
   "execution_count": null,
   "metadata": {
    "id": "zFMFHYFVBJ9x"
   },
   "outputs": [],
   "source": []
  },
  {
   "cell_type": "markdown",
   "metadata": {
    "id": "U5jVac3jBKVG"
   },
   "source": [
    "Task 2c: Determine the dimensions of test_array."
   ]
  },
  {
   "cell_type": "code",
   "execution_count": null,
   "metadata": {
    "id": "N7bl3t1rBORA"
   },
   "outputs": [],
   "source": []
  },
  {
   "cell_type": "markdown",
   "metadata": {
    "id": "-lfBzy9NKuKp"
   },
   "source": [
    "Example 2d: Use indexing to print out 14."
   ]
  },
  {
   "cell_type": "code",
   "execution_count": null,
   "metadata": {
    "colab": {
     "base_uri": "https://localhost:8080/"
    },
    "executionInfo": {
     "elapsed": 10,
     "status": "ok",
     "timestamp": 1708701710820,
     "user": {
      "displayName": "Beth White",
      "userId": "06650684930091111574"
     },
     "user_tz": 300
    },
    "id": "3KIrioMLK2QA",
    "outputId": "6d45253a-1fcc-4fa8-f5fa-d0d730d23c65"
   },
   "outputs": [],
   "source": []
  },
  {
   "cell_type": "markdown",
   "metadata": {
    "id": "4X2HKKsGBPSH"
   },
   "source": [
    "Task 2d: Use indexing to print out 22 from test_array."
   ]
  },
  {
   "cell_type": "code",
   "execution_count": null,
   "metadata": {
    "id": "rduwIYoSFnAz"
   },
   "outputs": [],
   "source": []
  },
  {
   "cell_type": "markdown",
   "metadata": {
    "id": "PMD9pS7SLCuY"
   },
   "source": [
    "Example 2e:  Use indexing to print out [21, 22, 23 ,24, 25] from test_array."
   ]
  },
  {
   "cell_type": "code",
   "execution_count": null,
   "metadata": {
    "colab": {
     "base_uri": "https://localhost:8080/"
    },
    "executionInfo": {
     "elapsed": 8,
     "status": "ok",
     "timestamp": 1708701710821,
     "user": {
      "displayName": "Beth White",
      "userId": "06650684930091111574"
     },
     "user_tz": 300
    },
    "id": "3qXUi5peLQhe",
    "outputId": "2ac5cb14-8606-4492-88a2-590f1489a9d4"
   },
   "outputs": [],
   "source": []
  },
  {
   "cell_type": "markdown",
   "metadata": {
    "id": "vyQXcrdoFYgw"
   },
   "source": [
    "Task 2e: Use indexing to print out [11,12,13,14,15]"
   ]
  },
  {
   "cell_type": "code",
   "execution_count": null,
   "metadata": {
    "id": "GGhqZRcrFnqP"
   },
   "outputs": [],
   "source": []
  },
  {
   "cell_type": "markdown",
   "metadata": {
    "id": "KpBSnv4dALfK"
   },
   "source": [
    "Task 1a: Define this 3 dimensional array, display it for you to see, and confirm its shape is (6,4) and its dimensions are 2.\n",
    "\n",
    "g = np.array([[1,2,3,4],[6,7,8,9],[11,12,13,14],[16,17,18,19],[21,22,23,24],[26,27,28,29]])"
   ]
  },
  {
   "cell_type": "code",
   "execution_count": null,
   "metadata": {
    "colab": {
     "base_uri": "https://localhost:8080/"
    },
    "executionInfo": {
     "elapsed": 149,
     "status": "ok",
     "timestamp": 1708701977923,
     "user": {
      "displayName": "Beth White",
      "userId": "06650684930091111574"
     },
     "user_tz": 300
    },
    "id": "7KWV7JGl-aF6",
    "outputId": "531797f4-90c7-4bb3-aa72-74bca84ccd52"
   },
   "outputs": [],
   "source": []
  },
  {
   "cell_type": "code",
   "execution_count": null,
   "metadata": {
    "id": "IbthF9WMGr2_"
   },
   "outputs": [],
   "source": []
  },
  {
   "cell_type": "code",
   "execution_count": null,
   "metadata": {
    "id": "vCmTBYt6BS7J"
   },
   "outputs": [],
   "source": []
  },
  {
   "cell_type": "markdown",
   "metadata": {
    "id": "HYRadVUiBUNS"
   },
   "source": [
    "Task 1b: Access [[1,2,3,4],[6,7,8,9]]"
   ]
  },
  {
   "cell_type": "code",
   "execution_count": null,
   "metadata": {
    "colab": {
     "base_uri": "https://localhost:8080/"
    },
    "executionInfo": {
     "elapsed": 92,
     "status": "ok",
     "timestamp": 1681909080816,
     "user": {
      "displayName": "Beth White",
      "userId": "06650684930091111574"
     },
     "user_tz": 240
    },
    "id": "TRsvKvhSBaFh",
    "outputId": "b693c381-5f96-4449-ac33-c6718a562945"
   },
   "outputs": [],
   "source": []
  },
  {
   "cell_type": "markdown",
   "metadata": {
    "id": "DtdzjXMICDrK"
   },
   "source": [
    "Task 1c: Access [[ 11, 12, 13, 14],\n",
    "       [16, 17, 18, 19]]"
   ]
  },
  {
   "cell_type": "code",
   "execution_count": null,
   "metadata": {
    "colab": {
     "base_uri": "https://localhost:8080/"
    },
    "executionInfo": {
     "elapsed": 141,
     "status": "ok",
     "timestamp": 1681909150513,
     "user": {
      "displayName": "Beth White",
      "userId": "06650684930091111574"
     },
     "user_tz": 240
    },
    "id": "WYP8TmONCJHQ",
    "outputId": "1da695de-ef6c-4ea2-c8e2-4202d6ffd039"
   },
   "outputs": [],
   "source": []
  },
  {
   "cell_type": "markdown",
   "metadata": {
    "id": "5boXGI-4CSfw"
   },
   "source": [
    "Task 1d: Access[1,2,3,4]"
   ]
  },
  {
   "cell_type": "code",
   "execution_count": null,
   "metadata": {
    "colab": {
     "base_uri": "https://localhost:8080/"
    },
    "executionInfo": {
     "elapsed": 87,
     "status": "ok",
     "timestamp": 1681909196598,
     "user": {
      "displayName": "Beth White",
      "userId": "06650684930091111574"
     },
     "user_tz": 240
    },
    "id": "8nMay9b3Cafs",
    "outputId": "152b1b5a-f6eb-41f2-a4c2-bf2b64bb4c9d"
   },
   "outputs": [],
   "source": []
  },
  {
   "cell_type": "markdown",
   "metadata": {
    "id": "4eCtppGNCfAZ"
   },
   "source": [
    "Task 1e: Access 1"
   ]
  },
  {
   "cell_type": "code",
   "execution_count": null,
   "metadata": {
    "colab": {
     "base_uri": "https://localhost:8080/"
    },
    "executionInfo": {
     "elapsed": 157,
     "status": "ok",
     "timestamp": 1681909223990,
     "user": {
      "displayName": "Beth White",
      "userId": "06650684930091111574"
     },
     "user_tz": 240
    },
    "id": "AWIkAH6SChIZ",
    "outputId": "b79365a3-dc33-453d-957e-cd97df76e822"
   },
   "outputs": [],
   "source": []
  },
  {
   "cell_type": "markdown",
   "metadata": {
    "id": "3ush0eJhlTNg"
   },
   "source": [
    "Task 1f: Access the middle two columns."
   ]
  },
  {
   "cell_type": "code",
   "execution_count": null,
   "metadata": {
    "id": "dthDQ05vlcw6"
   },
   "outputs": [],
   "source": []
  },
  {
   "cell_type": "markdown",
   "metadata": {
    "id": "0whoDVx7ldHL"
   },
   "source": [
    "Task 1g: Access 9."
   ]
  },
  {
   "cell_type": "code",
   "execution_count": null,
   "metadata": {
    "id": "f-69Tl4GllA3"
   },
   "outputs": [],
   "source": []
  },
  {
   "cell_type": "markdown",
   "metadata": {
    "id": "XLAeumpBllqX"
   },
   "source": [
    "Task 1h: Access 18."
   ]
  },
  {
   "cell_type": "code",
   "execution_count": null,
   "metadata": {
    "id": "guXVrcmZlq8H"
   },
   "outputs": [],
   "source": []
  },
  {
   "cell_type": "code",
   "execution_count": null,
   "metadata": {},
   "outputs": [],
   "source": []
  },
  {
   "cell_type": "code",
   "execution_count": null,
   "metadata": {},
   "outputs": [],
   "source": []
  },
  {
   "cell_type": "code",
   "execution_count": null,
   "metadata": {},
   "outputs": [],
   "source": []
  },
  {
   "cell_type": "code",
   "execution_count": null,
   "metadata": {},
   "outputs": [],
   "source": []
  }
 ],
 "metadata": {
  "colab": {
   "provenance": [
    {
     "file_id": "1Hcsx64wt-s4dL11CsssAaYqbZfvvG6sB",
     "timestamp": 1708700974569
    },
    {
     "file_id": "1MVFRGStKE2zKBUoI60Glp8WAqAewSZes",
     "timestamp": 1681647695688
    },
    {
     "file_id": "1c_YDtI-83cr2YFC9v-iXujizuPGz6UQA",
     "timestamp": 1647256028677
    },
    {
     "file_id": "1B6KdxKL8ua2lHFMHH6wxT_g-S5rVsS5E",
     "timestamp": 1645288157754
    }
   ]
  },
  "kernelspec": {
   "display_name": "Python 3 (ipykernel)",
   "language": "python",
   "name": "python3"
  },
  "language_info": {
   "codemirror_mode": {
    "name": "ipython",
    "version": 3
   },
   "file_extension": ".py",
   "mimetype": "text/x-python",
   "name": "python",
   "nbconvert_exporter": "python",
   "pygments_lexer": "ipython3",
   "version": "3.12.4"
  }
 },
 "nbformat": 4,
 "nbformat_minor": 4
}
