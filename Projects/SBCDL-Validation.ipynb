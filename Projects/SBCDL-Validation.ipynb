{
 "cells": [
  {
   "cell_type": "code",
   "execution_count": 1,
   "id": "4089d35f",
   "metadata": {},
   "outputs": [],
   "source": [
    "import keras\n",
    "from keras import layers\n",
    "from keras.datasets import imdb\n",
    "import numpy as np\n",
    "nb_words = 10000\n",
    "(train_data, train_labels), (test_data, test_labels) = imdb.load_data(num_words=nb_words)"
   ]
  },
  {
   "cell_type": "markdown",
   "id": "f934cc8d-3a67-4a9d-b944-f4a8c621edd0",
   "metadata": {},
   "source": [
    "# get the word index and its reverse"
   ]
  },
  {
   "cell_type": "code",
   "execution_count": 2,
   "id": "f3b017b6-115d-4571-8fee-b423c5927590",
   "metadata": {},
   "outputs": [],
   "source": [
    "word_index = imdb.get_word_index()\n",
    "reverse_word_index = dict([(value, key) for (key, value) in word_index.items()])"
   ]
  },
  {
   "cell_type": "markdown",
   "id": "c98ab52f-91af-4b1e-8110-ea4f8a5780a8",
   "metadata": {},
   "source": [
    "# get the actual review"
   ]
  },
  {
   "cell_type": "code",
   "execution_count": 3,
   "id": "b857604b-118f-4bed-ad2a-d584fe4fb18c",
   "metadata": {},
   "outputs": [],
   "source": [
    "def get_review_text(review):\n",
    "   return \" \".join([reverse_word_index.get(i - 3, \"?\") for i in review])"
   ]
  },
  {
   "cell_type": "markdown",
   "id": "007d3ab0-a938-4a6b-b38a-f959af6c7344",
   "metadata": {},
   "source": [
    "# print the actual review"
   ]
  },
  {
   "cell_type": "code",
   "execution_count": 4,
   "id": "262fbc28-562a-43de-bcbc-00eb1398753a",
   "metadata": {},
   "outputs": [
    {
     "name": "stdout",
     "output_type": "stream",
     "text": [
      "? lavish production values and solid performances in this straightforward adaption of jane ? satirical classic about the marriage game within and between the classes in ? 18th century england northam and paltrow are a ? mixture as friends who must pass through ? and lies to discover that they love each other good humor is a ? virtue which goes a long way towards explaining the ? of the aged source material which has been toned down a bit in its harsh ? i liked the look of the film and how shots were set up and i thought it didn't rely too much on ? of head shots like most other films of the 80s and 90s do very good results\n"
     ]
    }
   ],
   "source": [
    "print(get_review_text(train_data[6]))"
   ]
  },
  {
   "cell_type": "markdown",
   "id": "92b1af95-1145-4f28-8599-12618f365f8a",
   "metadata": {},
   "source": [
    "# define the one-hot encoding // The dimension is the number of words"
   ]
  },
  {
   "cell_type": "code",
   "execution_count": 5,
   "id": "3978addb-31db-4211-b304-a1f7b1d8113d",
   "metadata": {},
   "outputs": [],
   "source": [
    "def one_hot_encode(sequences,dimension):\n",
    "    encodings = np.zeros((len(sequences),dimension))\n",
    "    for i, sequence in enumerate(sequences):\n",
    "      for j in sequence:\n",
    "          encodings[i,j] = 1\n",
    "    return encodings"
   ]
  },
  {
   "cell_type": "markdown",
   "id": "bc4a0dc2-730c-4ce4-b135-754e6539f5c0",
   "metadata": {},
   "source": [
    "# train a binary classification model"
   ]
  },
  {
   "cell_type": "code",
   "execution_count": 6,
   "id": "74005da7-e896-4c42-bcc3-bd7a1f2e7198",
   "metadata": {},
   "outputs": [],
   "source": [
    "def train_the_binary_classification(model,inputs,outputs,val_inputs,val_outputs):\n",
    "  model.compile(optimizer=\"rmsprop\",loss=\"binary_crossentropy\",metrics=[\"binary_accuracy\"])\n",
    "  return model.fit(inputs,outputs,epochs=20,batch_size=512,validation_data=(val_inputs,val_outputs))"
   ]
  },
  {
   "cell_type": "markdown",
   "id": "38faeddd-9c5f-401d-a931-49071307883b",
   "metadata": {},
   "source": [
    "# Define the training and validation data"
   ]
  },
  {
   "cell_type": "code",
   "execution_count": 7,
   "id": "5b5a456a-01c9-4f7b-be3f-37aa32902b64",
   "metadata": {},
   "outputs": [],
   "source": [
    "partial_train_data = train_data[10000:]\n",
    "partial_train_labels = train_labels[10000:]\n",
    "validation_data = train_data[:10000]\n",
    "validation_labels = train_labels[:10000]"
   ]
  },
  {
   "cell_type": "markdown",
   "id": "e8f5aad1-8bdc-4a28-9a8c-c822922d0901",
   "metadata": {},
   "source": [
    "# Encode the data"
   ]
  },
  {
   "cell_type": "code",
   "execution_count": 9,
   "id": "c46851f5",
   "metadata": {},
   "outputs": [],
   "source": [
    "# etrain_data = one_hot_encode(train_data,nb_words)\n",
    "# etest_data = one_hot_encode(test_data,nb_words)\n",
    "# evalidation_data = one_hot_encode(validation_data,nb_words)\n",
    "\n",
    "train_encodings = one_hot_encode(partial_train_data, nb_words)\n",
    "val_encodings = one_hot_encode(validation_data, nb_words)\n",
    "test_encodings = one_hot_encode(test_data, nb_words)\n"
   ]
  },
  {
   "cell_type": "markdown",
   "id": "d0efa92e-e3ba-42c1-9d34-d29f39467fd0",
   "metadata": {},
   "source": [
    "# print the first encoding"
   ]
  },
  {
   "cell_type": "code",
   "execution_count": 11,
   "id": "0610500b-60da-42c2-b405-225258ed5854",
   "metadata": {},
   "outputs": [
    {
     "name": "stdout",
     "output_type": "stream",
     "text": [
      "First encoded training sample: [0. 1. 1. ... 0. 0. 0.]\n"
     ]
    }
   ],
   "source": [
    "# etrain_labels = np.asarray(train_labels).astype(\"float32\")\n",
    "# print(etrain_labels)\n",
    "# etest_labels = np.asarray(test_labels).astype(\"float32\")\n",
    "# print(etest_labels)\n",
    "# evalidation_labels = np.asarray(validation_labels).astype(\"float32\")\n",
    "# print(evalidation_labels)\n",
    "\n",
    "print(\"First encoded training sample:\", train_encodings[0])\n"
   ]
  },
  {
   "cell_type": "markdown",
   "id": "82378607-7244-44dd-bc21-71d9d7a0de2e",
   "metadata": {},
   "source": [
    "# Define a good model; do not forget the last layer for binary classification"
   ]
  },
  {
   "cell_type": "code",
   "execution_count": 12,
   "id": "a9224dbc",
   "metadata": {},
   "outputs": [
    {
     "name": "stdout",
     "output_type": "stream",
     "text": [
      "Model: \"model\"\n",
      "_________________________________________________________________\n",
      " Layer (type)                Output Shape              Param #   \n",
      "=================================================================\n",
      " data (InputLayer)           [(None, 10000)]           0         \n",
      "                                                                 \n",
      " dense (Dense)               (None, 64)                640064    \n",
      "                                                                 \n",
      " dense_1 (Dense)             (None, 64)                4160      \n",
      "                                                                 \n",
      " dense_2 (Dense)             (None, 1)                 65        \n",
      "                                                                 \n",
      "=================================================================\n",
      "Total params: 644,289\n",
      "Trainable params: 644,289\n",
      "Non-trainable params: 0\n",
      "_________________________________________________________________\n"
     ]
    }
   ],
   "source": [
    "input = keras.Input(shape=(nb_words,),name=\"data\")\n",
    "l1 = layers.Dense(64,activation=\"relu\")(input)\n",
    "l2 = layers.Dense(64,activation=\"relu\")(l1)\n",
    "output = layers.Dense(1,activation=\"sigmoid\")(l2) \n",
    "model = keras.Model(inputs=input,outputs=output)\n",
    "model.summary()"
   ]
  },
  {
   "cell_type": "markdown",
   "id": "fd2b5b3e-7360-41da-87a8-524b0a2f7359",
   "metadata": {},
   "source": [
    "# Train the binary classification with a validation set"
   ]
  },
  {
   "cell_type": "code",
   "execution_count": 13,
   "id": "6039cdbb",
   "metadata": {},
   "outputs": [
    {
     "name": "stdout",
     "output_type": "stream",
     "text": [
      "Epoch 1/20\n",
      "30/30 [==============================] - 4s 91ms/step - loss: 0.4826 - binary_accuracy: 0.7759 - val_loss: 0.3233 - val_binary_accuracy: 0.8787\n",
      "Epoch 2/20\n",
      "30/30 [==============================] - 1s 29ms/step - loss: 0.2580 - binary_accuracy: 0.9052 - val_loss: 0.3239 - val_binary_accuracy: 0.8680\n",
      "Epoch 3/20\n",
      "30/30 [==============================] - 1s 32ms/step - loss: 0.1894 - binary_accuracy: 0.9289 - val_loss: 0.2772 - val_binary_accuracy: 0.8929\n",
      "Epoch 4/20\n",
      "30/30 [==============================] - 1s 23ms/step - loss: 0.1395 - binary_accuracy: 0.9506 - val_loss: 0.2947 - val_binary_accuracy: 0.8871\n",
      "Epoch 5/20\n",
      "30/30 [==============================] - 1s 29ms/step - loss: 0.1064 - binary_accuracy: 0.9641 - val_loss: 0.3192 - val_binary_accuracy: 0.8874\n",
      "Epoch 6/20\n",
      "30/30 [==============================] - 1s 22ms/step - loss: 0.0780 - binary_accuracy: 0.9755 - val_loss: 0.3511 - val_binary_accuracy: 0.8820\n",
      "Epoch 7/20\n",
      "30/30 [==============================] - 1s 21ms/step - loss: 0.0565 - binary_accuracy: 0.9829 - val_loss: 0.3829 - val_binary_accuracy: 0.8823\n",
      "Epoch 8/20\n",
      "30/30 [==============================] - 1s 20ms/step - loss: 0.0461 - binary_accuracy: 0.9857 - val_loss: 0.4082 - val_binary_accuracy: 0.8805\n",
      "Epoch 9/20\n",
      "30/30 [==============================] - 1s 23ms/step - loss: 0.0140 - binary_accuracy: 0.9987 - val_loss: 0.5337 - val_binary_accuracy: 0.8639\n",
      "Epoch 10/20\n",
      "30/30 [==============================] - 1s 24ms/step - loss: 0.0415 - binary_accuracy: 0.9893 - val_loss: 0.4963 - val_binary_accuracy: 0.8778\n",
      "Epoch 11/20\n",
      "30/30 [==============================] - 1s 23ms/step - loss: 0.0053 - binary_accuracy: 0.9997 - val_loss: 0.5474 - val_binary_accuracy: 0.8769\n",
      "Epoch 12/20\n",
      "30/30 [==============================] - 1s 21ms/step - loss: 0.0410 - binary_accuracy: 0.9892 - val_loss: 0.5780 - val_binary_accuracy: 0.8755\n",
      "Epoch 13/20\n",
      "30/30 [==============================] - 1s 20ms/step - loss: 0.0020 - binary_accuracy: 0.9999 - val_loss: 0.6174 - val_binary_accuracy: 0.8750\n",
      "Epoch 14/20\n",
      "30/30 [==============================] - 1s 22ms/step - loss: 0.0013 - binary_accuracy: 0.9999 - val_loss: 0.6839 - val_binary_accuracy: 0.8723\n",
      "Epoch 15/20\n",
      "30/30 [==============================] - 1s 19ms/step - loss: 0.0457 - binary_accuracy: 0.9913 - val_loss: 0.7263 - val_binary_accuracy: 0.8712\n",
      "Epoch 16/20\n",
      "30/30 [==============================] - 1s 20ms/step - loss: 5.9019e-04 - binary_accuracy: 1.0000 - val_loss: 0.7395 - val_binary_accuracy: 0.8723\n",
      "Epoch 17/20\n",
      "30/30 [==============================] - 1s 19ms/step - loss: 4.0448e-04 - binary_accuracy: 1.0000 - val_loss: 0.7782 - val_binary_accuracy: 0.8714\n",
      "Epoch 18/20\n",
      "30/30 [==============================] - 1s 22ms/step - loss: 2.7352e-04 - binary_accuracy: 1.0000 - val_loss: 0.8363 - val_binary_accuracy: 0.8708\n",
      "Epoch 19/20\n",
      "30/30 [==============================] - 1s 28ms/step - loss: 0.0354 - binary_accuracy: 0.9927 - val_loss: 0.8878 - val_binary_accuracy: 0.8693\n",
      "Epoch 20/20\n",
      "30/30 [==============================] - 1s 24ms/step - loss: 1.3367e-04 - binary_accuracy: 1.0000 - val_loss: 0.9014 - val_binary_accuracy: 0.8688\n"
     ]
    }
   ],
   "source": [
    "# history = train_the_binary_classification(model,partial_train_data,partial_train_labels,validation_data,validation_labels)\n",
    "\n",
    "history = train_the_binary_classification(model, train_encodings, partial_train_labels, val_encodings, validation_labels)\n"
   ]
  },
  {
   "cell_type": "markdown",
   "id": "3d17ba0c-e0ca-45cd-ab68-2d9cacb557c2",
   "metadata": {},
   "source": [
    "# Evaluate on the training data"
   ]
  },
  {
   "cell_type": "code",
   "execution_count": 14,
   "id": "a0236678-acfc-40dd-9363-e8c5fedb234d",
   "metadata": {},
   "outputs": [
    {
     "name": "stdout",
     "output_type": "stream",
     "text": [
      "469/469 [==============================] - 19s 41ms/step - loss: 9.0718e-05 - binary_accuracy: 1.0000\n",
      "Training Loss: 0.0001, Training Accuracy: 1.0000\n"
     ]
    }
   ],
   "source": [
    "train_loss, train_acc = model.evaluate(train_encodings, partial_train_labels)\n",
    "print(f\"Training Loss: {train_loss:.4f}, Training Accuracy: {train_acc:.4f}\")\n",
    "\n"
   ]
  },
  {
   "cell_type": "markdown",
   "id": "acb56034-2860-49a3-b4bc-a72c0391d793",
   "metadata": {},
   "source": [
    "# Evaluate on the Validation Data"
   ]
  },
  {
   "cell_type": "code",
   "execution_count": 15,
   "id": "71fc69d6-f023-40e4-a075-e8a7b53507db",
   "metadata": {},
   "outputs": [
    {
     "name": "stdout",
     "output_type": "stream",
     "text": [
      "313/313 [==============================] - 12s 37ms/step - loss: 0.9014 - binary_accuracy: 0.8688\n",
      "Validation Loss: 0.9014, Validation Accuracy: 0.8688\n"
     ]
    }
   ],
   "source": [
    "val_loss, val_acc = model.evaluate(val_encodings, validation_labels)\n",
    "print(f\"Validation Loss: {val_loss:.4f}, Validation Accuracy: {val_acc:.4f}\")\n",
    "\n"
   ]
  },
  {
   "cell_type": "markdown",
   "id": "fcd25685-cb19-43fa-9e11-adda1d4aeffa",
   "metadata": {},
   "source": [
    "# Evaluate on the testing data"
   ]
  },
  {
   "cell_type": "code",
   "execution_count": 16,
   "id": "dc0ba038-725c-4e76-844a-a31998bdda8c",
   "metadata": {},
   "outputs": [
    {
     "name": "stdout",
     "output_type": "stream",
     "text": [
      "782/782 [==============================] - 32s 40ms/step - loss: 0.9781 - binary_accuracy: 0.8546\n",
      "Testing Loss: 0.9781, Testing Accuracy: 0.8546\n"
     ]
    }
   ],
   "source": [
    "test_loss, test_acc = model.evaluate(test_encodings, test_labels)\n",
    "print(f\"Testing Loss: {test_loss:.4f}, Testing Accuracy: {test_acc:.4f}\")\n"
   ]
  }
 ],
 "metadata": {
  "kernelspec": {
   "display_name": "sethbonder",
   "language": "python",
   "name": "sethbonder"
  },
  "language_info": {
   "codemirror_mode": {
    "name": "ipython",
    "version": 3
   },
   "file_extension": ".py",
   "mimetype": "text/x-python",
   "name": "python",
   "nbconvert_exporter": "python",
   "pygments_lexer": "ipython3",
   "version": "3.10.8"
  }
 },
 "nbformat": 4,
 "nbformat_minor": 5
}
