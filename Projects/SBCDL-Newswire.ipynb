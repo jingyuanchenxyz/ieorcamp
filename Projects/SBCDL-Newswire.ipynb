{
 "cells": [
  {
   "cell_type": "markdown",
   "id": "7d30e621",
   "metadata": {},
   "source": [
    "-----------------------------------------\n",
    "You are interviewing for a job at CNN in the beautiful city of Atlanta.\n",
    "-------------------\n",
    "CNN wants to be sure that you have the technical skills to automate the most boring tasks of your job, so that you can focus on creative writing. They asked to write a model to classify business newswire so that you only need to look at the relevant one for your job: those on cocoa, retail, gold, jobs, and housing. Can you show them that you can build this classification model and leverage one-hot encoding?\n"
   ]
  },
  {
   "cell_type": "code",
   "execution_count": null,
   "id": "390c6c9e",
   "metadata": {},
   "outputs": [],
   "source": [
    "from tensorflow import keras\n",
    "from keras import layers\n",
    "import numpy as np\n",
    "import random\n",
    "\n",
    "def classify(model,train_tensors,train_labels):\n",
    "    model.compile(optimizer=\"rmsprop\",loss=\"sparse_categorical_crossentropy\",metrics=[\"accuracy\"])\n",
    "    model.fit(train_tensors,train_labels,epochs=10)\n",
    "    \n",
    "\n",
    "\n",
    "names = ['cocoa','grain','veg-oil','earn','acq','wheat','copper','housing','money-supply',\n",
    "   'coffee','sugar','trade','reserves','ship','cotton','carcass','crude','nat-gas',\n",
    "   'cpi','money-fx','interest','gnp','meal-feed','alum','oilseed','gold','tin',\n",
    "   'strategic-metal','livestock','retail','ipi','iron-steel','rubber','heat','jobs',\n",
    "   'lei','bop','zinc','orange','pet-chem','dlr','gas','silver','wpi','hog','lead']\n",
    "\n",
    "\n"
   ]
  },
  {
   "cell_type": "code",
   "execution_count": 2,
   "id": "30a2c9ec",
   "metadata": {},
   "outputs": [],
   "source": [
    "from tensorflow.keras.datasets import reuters\n",
    "nb_words = 10000\n",
    "(train_data, train_labels), (test_data, test_labels) = reuters.load_data(num_words=nb_words)\n",
    "word_index = reuters.get_word_index()\n",
    "reverse_word_index = dict([(value, key) for (key, value) in word_index.items()])"
   ]
  },
  {
   "cell_type": "markdown",
   "id": "35f48e56",
   "metadata": {},
   "source": [
    "-------------\n",
    "This function allows you to read the text associated with a tensor\n",
    "------------"
   ]
  },
  {
   "cell_type": "code",
   "execution_count": 3,
   "id": "2c3e9086",
   "metadata": {},
   "outputs": [],
   "source": [
    "def get_text(tensor):\n",
    "   return \" \".join([reverse_word_index.get(i - 3, \"\") for i in tensor])"
   ]
  },
  {
   "cell_type": "markdown",
   "id": "9796699d",
   "metadata": {},
   "source": [
    "--------------\n",
    "This function shows you what the training data and label are.\n",
    "-------------\n",
    "you can run multiple times to see random newswire"
   ]
  },
  {
   "cell_type": "code",
   "execution_count": 4,
   "id": "5693ce61",
   "metadata": {},
   "outputs": [
    {
     "name": "stdout",
     "output_type": "stream",
     "text": [
      "This is a news about copper\n",
      " \n"
     ]
    },
    {
     "data": {
      "text/plain": [
       "' refined copper stocks held by u s refineries fell to 109 200 short tons at the end of january from 145 400 short tons at the end of december the american bureau of metal statistics reported commodity exchange comex copper stocks climbed to 103 000 tons in january from 93 300 tons in december combined refinery and comex stocks eased to 212 200 tons in january from 238 700 tons in december u s refined production declined to 117 600 tons in january from 137 400 tons in december crude output increased to 98 600 tons in january from 93 300 tons revised lower in december preliminary figures showed u s refined deliveries rose to 151 800 tons in january from 124 800 tons in december reuter 3'"
      ]
     },
     "execution_count": 4,
     "metadata": {},
     "output_type": "execute_result"
    }
   ],
   "source": [
    "which_news = random.randrange(len(train_data))\n",
    "print('This is a news about',names[train_labels[which_news]])\n",
    "print(' ')\n",
    "get_text(train_data[which_news])"
   ]
  },
  {
   "cell_type": "markdown",
   "id": "fa47ddbf-20c1-4739-b97a-32dc25a86abc",
   "metadata": {},
   "source": [
    "# Define the one-hot encoding"
   ]
  },
  {
   "cell_type": "code",
   "execution_count": 5,
   "id": "604baa27-9ee6-42fe-8994-b1b59ad3e114",
   "metadata": {},
   "outputs": [],
   "source": [
    "def one_hot_encode(sequences,dimension):\n",
    "    encodings = np.zeros((len(sequences), dimension))\n",
    "    for i, sequence in enumerate(sequences):\n",
    "        for j in sequence:\n",
    "            encodings[i,j] = 1\n",
    "    return encodings"
   ]
  },
  {
   "cell_type": "markdown",
   "id": "c53c3fea-e9bc-4fb2-befc-d85c344031d3",
   "metadata": {},
   "source": [
    "# Encode the data"
   ]
  },
  {
   "cell_type": "code",
   "execution_count": 6,
   "id": "aac9c4ad",
   "metadata": {},
   "outputs": [],
   "source": [
    "etrain_data = one_hot_encode(train_data,nb_words)"
   ]
  },
  {
   "cell_type": "markdown",
   "id": "e24889e5",
   "metadata": {},
   "source": [
    "------\n",
    "Define a model with two hidden layers with 64 neurons and relu activation\n",
    "------\n",
    "Determine what the output layer should be ...\n",
    "The instruction below has the core structure\n",
    "------"
   ]
  },
  {
   "cell_type": "code",
   "execution_count": 7,
   "id": "e49d1b38",
   "metadata": {},
   "outputs": [
    {
     "name": "stdout",
     "output_type": "stream",
     "text": [
      "Model: \"model\"\n",
      "_________________________________________________________________\n",
      " Layer (type)                Output Shape              Param #   \n",
      "=================================================================\n",
      " data (InputLayer)           [(None, 10000)]           0         \n",
      "                                                                 \n",
      " dense (Dense)               (None, 64)                640064    \n",
      "                                                                 \n",
      " dense_1 (Dense)             (None, 64)                4160      \n",
      "                                                                 \n",
      " dense_2 (Dense)             (None, 46)                2990      \n",
      "                                                                 \n",
      "=================================================================\n",
      "Total params: 647,214\n",
      "Trainable params: 647,214\n",
      "Non-trainable params: 0\n",
      "_________________________________________________________________\n"
     ]
    }
   ],
   "source": [
    "# input = keras.Input(shape=etrain_data.shape[1],name=\"data\")\n",
    "input = keras.Input(shape=(nb_words,),name=\"data\")\n",
    "l1 = l1 = layers.Dense(64,activation=\"relu\")(input)\n",
    "l2 = layers.Dense(64,activation=\"relu\")(l1)\n",
    "output = layers.Dense(46,activation=\"softmax\")(l2) # There are 46 distinct topics in the newswire articles \n",
    "model = keras.Model(inputs=input,outputs=output)\n",
    "model.summary()"
   ]
  },
  {
   "cell_type": "markdown",
   "id": "821c28d3",
   "metadata": {},
   "source": [
    "-----\n",
    "Write the instruction to train the classification model\n",
    "-----\n",
    "See the function above :)"
   ]
  },
  {
   "cell_type": "code",
   "execution_count": 8,
   "id": "4d2af31f",
   "metadata": {},
   "outputs": [
    {
     "name": "stdout",
     "output_type": "stream",
     "text": [
      "Epoch 1/10\n",
      "281/281 [==============================] - 7s 23ms/step - loss: 1.4618 - accuracy: 0.6790\n",
      "Epoch 2/10\n",
      "281/281 [==============================] - 6s 22ms/step - loss: 0.7485 - accuracy: 0.8373\n",
      "Epoch 3/10\n",
      "281/281 [==============================] - 6s 22ms/step - loss: 0.4793 - accuracy: 0.8980\n",
      "Epoch 4/10\n",
      "281/281 [==============================] - 7s 24ms/step - loss: 0.3402 - accuracy: 0.9261\n",
      "Epoch 5/10\n",
      "281/281 [==============================] - 6s 22ms/step - loss: 0.2687 - accuracy: 0.9405\n",
      "Epoch 6/10\n",
      "281/281 [==============================] - 7s 24ms/step - loss: 0.2290 - accuracy: 0.9482\n",
      "Epoch 7/10\n",
      "281/281 [==============================] - 7s 25ms/step - loss: 0.2067 - accuracy: 0.9510\n",
      "Epoch 8/10\n",
      "281/281 [==============================] - 7s 26ms/step - loss: 0.1867 - accuracy: 0.9538\n",
      "Epoch 9/10\n",
      "281/281 [==============================] - 11s 38ms/step - loss: 0.1774 - accuracy: 0.9536\n",
      "Epoch 10/10\n",
      "281/281 [==============================] - 11s 38ms/step - loss: 0.1643 - accuracy: 0.9547\n"
     ]
    }
   ],
   "source": [
    "# Train the model\n",
    "classify(model, etrain_data, train_labels)"
   ]
  },
  {
   "cell_type": "markdown",
   "id": "fb1e6463",
   "metadata": {},
   "source": [
    "-----\n",
    "Write the instruction to make predictions on the training data\n",
    "-----"
   ]
  },
  {
   "cell_type": "code",
   "execution_count": 9,
   "id": "10488f13",
   "metadata": {},
   "outputs": [
    {
     "name": "stdout",
     "output_type": "stream",
     "text": [
      "281/281 [==============================] - 9s 32ms/step\n"
     ]
    }
   ],
   "source": [
    "predictions = model.predict(etrain_data)"
   ]
  },
  {
   "cell_type": "code",
   "execution_count": 17,
   "id": "da76b5ae",
   "metadata": {},
   "outputs": [
    {
     "name": "stdout",
     "output_type": "stream",
     "text": [
      "[1.76498590e-11 2.56611390e-08 1.56440950e-15 8.84477437e-01\n",
      " 1.12660468e-01 2.16990320e-17 1.11118129e-11 9.13904785e-10\n",
      " 7.33031309e-04 3.94548438e-09 3.55428043e-08 4.53051689e-06\n",
      " 1.43215761e-09 1.29396085e-08 6.34491210e-11 1.05524010e-12\n",
      " 2.32658795e-06 2.06032344e-11 2.47226328e-09 1.54138461e-03\n",
      " 5.79564774e-04 1.15965133e-06 1.28426577e-12 1.62242735e-08\n",
      " 5.18945672e-13 8.72739103e-11 4.07646898e-13 8.65982795e-13\n",
      " 7.37098785e-11 1.99410211e-11 1.31598266e-09 1.92389962e-12\n",
      " 2.72775427e-13 7.70531811e-15 3.97692795e-10 3.57025173e-13\n",
      " 1.22716015e-08 9.12357689e-11 4.97918492e-13 3.54079793e-10\n",
      " 5.62696487e-11 5.41604643e-11 4.39344497e-13 2.90913425e-13\n",
      " 4.44012553e-16 2.04881789e-11]\n",
      "Total probability: 1.0\n"
     ]
    }
   ],
   "source": [
    "predictions[0]\n",
    "print(predictions[0])\n",
    "print(f\"Total probability: {np.sum(predictions[0])}\")"
   ]
  },
  {
   "cell_type": "markdown",
   "id": "8f2af914",
   "metadata": {},
   "source": [
    "------\n",
    "Write the instructions to evaluate the accuracy of the model on the testing data\n",
    "-------\n",
    "Hint: make sure you are using the right input: the testing data must be one-encoded\n",
    "-------"
   ]
  },
  {
   "cell_type": "code",
   "execution_count": 11,
   "id": "42aad8be",
   "metadata": {},
   "outputs": [
    {
     "name": "stdout",
     "output_type": "stream",
     "text": [
      "71/71 [==============================] - 2s 20ms/step - loss: 1.5779 - accuracy: 0.7854\n",
      "Test Accuracy: 0.79\n"
     ]
    }
   ],
   "source": [
    "etest_data = one_hot_encode(test_data, nb_words)\n",
    "test_loss, test_acc = model.evaluate(etest_data, test_labels)\n",
    "print(f\"Test Accuracy: {test_acc:.2f}\")"
   ]
  },
  {
   "cell_type": "markdown",
   "id": "6a3d70ee",
   "metadata": {},
   "source": [
    "------\n",
    "Write the instruction to make predictions on the testing data\n",
    "------"
   ]
  },
  {
   "cell_type": "code",
   "execution_count": 12,
   "id": "e6ebd05f",
   "metadata": {},
   "outputs": [
    {
     "name": "stdout",
     "output_type": "stream",
     "text": [
      "71/71 [==============================] - 2s 23ms/step\n"
     ]
    }
   ],
   "source": [
    "predictions = model.predict(etest_data)"
   ]
  },
  {
   "cell_type": "markdown",
   "id": "a6182280",
   "metadata": {},
   "source": [
    "-------\n",
    "This instruction computes the categories associated with the predictions\n",
    "-------\n",
    "    It uses the probabilities to select the most likely categories"
   ]
  },
  {
   "cell_type": "code",
   "execution_count": 13,
   "id": "8f9a9eb0",
   "metadata": {},
   "outputs": [
    {
     "name": "stdout",
     "output_type": "stream",
     "text": [
      "[ 3 10  1 ...  3  3 24]\n"
     ]
    }
   ],
   "source": [
    "predicted_categories = np.argmax(predictions, axis=1)  # Get the most likely category index\n",
    "print(predicted_categories)"
   ]
  },
  {
   "cell_type": "markdown",
   "id": "03782a78",
   "metadata": {},
   "source": [
    "------\n",
    "Find a wire that is predicted to talk about cocoa\n",
    "------"
   ]
  },
  {
   "cell_type": "code",
   "execution_count": 14,
   "id": "00fff97b",
   "metadata": {},
   "outputs": [
    {
     "name": "stdout",
     "output_type": "stream",
     "text": [
      "Predicted Cocoa News:  asian cocoa producers are expanding output despite depressed world prices and they dismiss suggestions in the london market that their cocoa is  leading cocoa producers are trying to protect their market from our product said a spokesman for indonesia's directorate general of plantations we're happy about our long term future malaysian growers said they would try to expand sales in asia and the united states if malaysian cocoa was not suitable for european  they were responding to comments by london traders that large tonnages of unwanted cocoa beans from malaysia indonesia and papua new guinea png were helping to depress cocoa prices london traders said the asian cocoa was considered  for western  because of an   and a high level of free fatty   siew  the chairman of malaysia's cocoa growers' council said malaysia should expand its sales to asia and the united states if it did not produce a type suitable for western europe a spokesman for the png cocoa industry board said the london market was  if it linked png cocoa with high acid malaysian and indonesian beans when the market is declining buyers  on anything to talk down prices the spokesman said he said that png could sell whatever cocoa it produces png exported 33 000 tonnes of cocoa in the 1986 87 cocoa year ending september 30 of which nearly 50 pct was exported to west germany 16 pct to the u s and the rest to the netherlands and britain the indonesia spokesman an agriculture ministry official who  not to be identified said indonesia had no problem with quality and would continue to expand sales he described criticism of the quality of indonesian beans as trade  and said  traditional links with dutch buyers meant it did not have any difficulty with exports indonesia and malaysia  two biggest commodity producers are expanding cocoa output and are both outside the international cocoa organization icco officials have said malaysian production is expected to total 150 000 to 155 000 tonnes in calendar 1987 this is up from 131 000 tonnes in 1986 partly because of the end of a three year drought in sabah the country's largest cocoa growing area production of indonesian cocoa beans  to 31 600 tonnes in calendar 1986 from 10 284 tonnes in 1980 output is projected to rise to 50 000 tonnes in 1988 from 38 000 tonnes this year as young trees mature both malaysia and indonesia are low cost producers and traders said they could last out low prices longer than west african countries according to one kuala lumpur trader world prices would have to fall another 1 000 ringgit per tonne about 250 stg to make cocoa production in malaysia  some traders believe the main quality problem is with harvesting and  techniques one trader said malaysian cocoa is virtually  from west african output if treated in the same way but this is not possible on the larger malaysian estates reuter 3\n"
     ]
    }
   ],
   "source": [
    "cocoa_indices = np.where(predicted_categories == 0)[0]  # Get indices of articles predicted as \"cocoa\"\n",
    "\n",
    "if cocoa_indices.size > 0:\n",
    "    selected_index = random.choice(cocoa_indices)  # Pick a random one\n",
    "    print(\"Predicted Cocoa News:\", get_text(test_data[selected_index]))\n",
    "else:\n",
    "    print(\"No articles predicted to talk about cocoa.\")"
   ]
  },
  {
   "cell_type": "code",
   "execution_count": 15,
   "id": "036a5e7f",
   "metadata": {},
   "outputs": [
    {
     "name": "stdout",
     "output_type": "stream",
     "text": [
      "Predicted Cocoa News:  edouard  ivorian delegate to the international cocoa organization icco was chosen executive director of the icco effective october 1 icco officials said  will succeed dr kobena erbynn of ghana in the post reuter 3\n"
     ]
    }
   ],
   "source": [
    "cocoa_indices = np.where(predicted_categories == 0)[0]  # Get indices of articles predicted as \"cocoa\"\n",
    "\n",
    "if cocoa_indices.size > 0:\n",
    "    selected_index = random.choice(cocoa_indices)  # Pick a random one\n",
    "    print(\"Predicted Cocoa News:\", get_text(test_data[selected_index]))\n",
    "else:\n",
    "    print(\"No articles predicted to talk about cocoa.\")"
   ]
  },
  {
   "cell_type": "code",
   "execution_count": null,
   "id": "f51179e6",
   "metadata": {},
   "outputs": [],
   "source": []
  }
 ],
 "metadata": {
  "kernelspec": {
   "display_name": "sethbonder",
   "language": "python",
   "name": "sethbonder"
  },
  "language_info": {
   "codemirror_mode": {
    "name": "ipython",
    "version": 3
   },
   "file_extension": ".py",
   "mimetype": "text/x-python",
   "name": "python",
   "nbconvert_exporter": "python",
   "pygments_lexer": "ipython3",
   "version": "3.10.8"
  }
 },
 "nbformat": 4,
 "nbformat_minor": 5
}
