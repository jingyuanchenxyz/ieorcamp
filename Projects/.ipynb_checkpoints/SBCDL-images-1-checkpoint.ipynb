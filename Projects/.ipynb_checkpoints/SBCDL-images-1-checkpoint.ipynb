{
 "cells": [
  {
   "cell_type": "markdown",
   "metadata": {
    "id": "FRfUbo9Ojj13"
   },
   "source": [
    "# Review:  "
   ]
  },
  {
   "cell_type": "markdown",
   "metadata": {
    "id": "aCXUvdjgjnIZ"
   },
   "source": [
    "Define the 4x4 matrix 1,2,3,4 (row 1), 5,6,7,8 (row 2), 9,10,11,12 (row 3), and 13,14,15,16 (row 4)."
   ]
  },
  {
   "cell_type": "code",
   "execution_count": 1,
   "metadata": {
    "id": "IDmCDXipkEzU"
   },
   "outputs": [
    {
     "name": "stdout",
     "output_type": "stream",
     "text": [
      "[[ 1  2  3  4]\n",
      " [ 5  6  7  8]\n",
      " [ 9 10 11 12]\n",
      " [13 14 15 16]]\n"
     ]
    }
   ],
   "source": [
    "import numpy as np\n",
    "\n",
    "matrix = np.array([\n",
    "    [1, 2, 3, 4],\n",
    "    [5, 6, 7, 8],\n",
    "    [9, 10, 11, 12],\n",
    "    [13, 14, 15, 16]\n",
    "])\n",
    "\n",
    "print(matrix)"
   ]
  },
  {
   "cell_type": "markdown",
   "metadata": {
    "id": "-G7klcFJkFgK"
   },
   "source": [
    "Index to show 7."
   ]
  },
  {
   "cell_type": "code",
   "execution_count": 2,
   "metadata": {
    "id": "OFwCFTQWkIhx"
   },
   "outputs": [
    {
     "name": "stdout",
     "output_type": "stream",
     "text": [
      "7\n"
     ]
    }
   ],
   "source": [
    "print(matrix[1, 2])"
   ]
  },
  {
   "cell_type": "markdown",
   "metadata": {
    "id": "c_EKIrEOkI_M"
   },
   "source": [
    "Slice to show the middle two rows."
   ]
  },
  {
   "cell_type": "code",
   "execution_count": 3,
   "metadata": {
    "id": "gifIu2BlkNB_"
   },
   "outputs": [
    {
     "name": "stdout",
     "output_type": "stream",
     "text": [
      "[[ 5  6  7  8]\n",
      " [ 9 10 11 12]]\n"
     ]
    }
   ],
   "source": [
    "print(matrix[1:3])"
   ]
  },
  {
   "cell_type": "markdown",
   "metadata": {
    "id": "ESqkexypkO8U"
   },
   "source": [
    "Slice to show the last two columns."
   ]
  },
  {
   "cell_type": "code",
   "execution_count": 4,
   "metadata": {
    "id": "9MhoMVcTkRYX"
   },
   "outputs": [
    {
     "name": "stdout",
     "output_type": "stream",
     "text": [
      "[[ 3  4]\n",
      " [ 7  8]\n",
      " [11 12]\n",
      " [15 16]]\n"
     ]
    }
   ],
   "source": [
    "print(matrix[:, 2:])"
   ]
  },
  {
   "cell_type": "markdown",
   "metadata": {
    "id": "lEDMFdrZ2jBY"
   },
   "source": [
    "# Importing all of our libraries and the MNIST dataset."
   ]
  },
  {
   "cell_type": "markdown",
   "metadata": {
    "id": "oo_iLrf0kUXS"
   },
   "source": [
    "Add comments to each of the below lines of code that say specifically what each line does."
   ]
  },
  {
   "cell_type": "code",
   "execution_count": 5,
   "metadata": {
    "colab": {
     "base_uri": "https://localhost:8080/"
    },
    "executionInfo": {
     "elapsed": 9905,
     "status": "ok",
     "timestamp": 1709215190205,
     "user": {
      "displayName": "Beth White",
      "userId": "06650684930091111574"
     },
     "user_tz": 300
    },
    "id": "VhqhwPFByW56",
    "outputId": "0298f337-1795-4c87-84d1-47313ff48164"
   },
   "outputs": [],
   "source": [
    "import numpy as np  \n",
    "from tensorflow import keras  \n",
    "from keras import layers  \n",
    "from keras.datasets import mnist \n",
    "import matplotlib.pyplot as plt \n",
    "\n",
    "(train_images, train_labels), (test_images, test_labels) = mnist.load_data() "
   ]
  },
  {
   "cell_type": "markdown",
   "metadata": {
    "id": "DADJeNyAcmUa"
   },
   "source": [
    "![image.png](data:image/png;base64,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)"
   ]
  },
  {
   "cell_type": "markdown",
   "metadata": {
    "id": "GKEENiE3BOQB"
   },
   "source": [
    "##(Images 4)  MatPlotLib -- Practice Displaying Images"
   ]
  },
  {
   "cell_type": "markdown",
   "metadata": {
    "id": "2__sVKFVysEG"
   },
   "source": [
    "Example: Show image 10 of train_images in matrix form."
   ]
  },
  {
   "cell_type": "code",
   "execution_count": 6,
   "metadata": {
    "colab": {
     "base_uri": "https://localhost:8080/",
     "height": 1000
    },
    "executionInfo": {
     "elapsed": 6,
     "status": "ok",
     "timestamp": 1709215260863,
     "user": {
      "displayName": "Beth White",
      "userId": "06650684930091111574"
     },
     "user_tz": 300
    },
    "id": "q5McFNdzyqi7",
    "outputId": "08fd99e5-3655-4f2c-9749-8b471fd3b75e"
   },
   "outputs": [
    {
     "name": "stdout",
     "output_type": "stream",
     "text": [
      "[[  0   0   0   0   0   0   0   0   0   0   0   0   0   0   0   0   0   0\n",
      "    0   0   0   0   0   0   0   0   0   0]\n",
      " [  0   0   0   0   0   0   0   0   0   0   0   0   0   0   0   0   0   0\n",
      "    0   0   0   0   0   0   0   0   0   0]\n",
      " [  0   0   0   0   0   0   0   0   0   0   0   0   0   0   0   0   0   0\n",
      "    0   0   0   0   0   0   0   0   0   0]\n",
      " [  0   0   0   0   0   0   0   0   0   0   0   0   0   0   0   0   0   0\n",
      "    0   0   0   0   0   0   0   0   0   0]\n",
      " [  0   0   0   0   0   0   0   0   0   0   0  42 118 219 166 118 118   6\n",
      "    0   0   0   0   0   0   0   0   0   0]\n",
      " [  0   0   0   0   0   0   0   0   0   0 103 242 254 254 254 254 254  66\n",
      "    0   0   0   0   0   0   0   0   0   0]\n",
      " [  0   0   0   0   0   0   0   0   0   0  18 232 254 254 254 254 254 238\n",
      "   70   0   0   0   0   0   0   0   0   0]\n",
      " [  0   0   0   0   0   0   0   0   0   0   0 104 244 254 224 254 254 254\n",
      "  141   0   0   0   0   0   0   0   0   0]\n",
      " [  0   0   0   0   0   0   0   0   0   0   0   0 207 254 210 254 254 254\n",
      "   34   0   0   0   0   0   0   0   0   0]\n",
      " [  0   0   0   0   0   0   0   0   0   0   0   0  84 206 254 254 254 254\n",
      "   41   0   0   0   0   0   0   0   0   0]\n",
      " [  0   0   0   0   0   0   0   0   0   0   0   0   0  24 209 254 254 254\n",
      "  171   0   0   0   0   0   0   0   0   0]\n",
      " [  0   0   0   0   0   0   0   0   0   0   0   0  91 137 253 254 254 254\n",
      "  112   0   0   0   0   0   0   0   0   0]\n",
      " [  0   0   0   0   0   0   0   0   0   0  40 214 250 254 254 254 254 254\n",
      "   34   0   0   0   0   0   0   0   0   0]\n",
      " [  0   0   0   0   0   0   0   0   0   0  81 247 254 254 254 254 254 254\n",
      "  146   0   0   0   0   0   0   0   0   0]\n",
      " [  0   0   0   0   0   0   0   0   0   0   0 110 246 254 254 254 254 254\n",
      "  171   0   0   0   0   0   0   0   0   0]\n",
      " [  0   0   0   0   0   0   0   0   0   0   0   0  73  89  89  93 240 254\n",
      "  171   0   0   0   0   0   0   0   0   0]\n",
      " [  0   0   0   0   0   0   0   0   0   0   0   0   0   0   0   1 128 254\n",
      "  219  31   0   0   0   0   0   0   0   0]\n",
      " [  0   0   0   0   0   0   0   0   0   0   0   0   0   0   0   7 254 254\n",
      "  214  28   0   0   0   0   0   0   0   0]\n",
      " [  0   0   0   0   0   0   0   0   0   0   0   0   0   0   0 138 254 254\n",
      "  116   0   0   0   0   0   0   0   0   0]\n",
      " [  0   0   0   0   0   0  19 177  90   0   0   0   0   0  25 240 254 254\n",
      "   34   0   0   0   0   0   0   0   0   0]\n",
      " [  0   0   0   0   0   0 164 254 215  63  36   0  51  89 206 254 254 139\n",
      "    8   0   0   0   0   0   0   0   0   0]\n",
      " [  0   0   0   0   0   0  57 197 254 254 222 180 241 254 254 253 213  11\n",
      "    0   0   0   0   0   0   0   0   0   0]\n",
      " [  0   0   0   0   0   0   0 140 105 254 254 254 254 254 254 236   0   0\n",
      "    0   0   0   0   0   0   0   0   0   0]\n",
      " [  0   0   0   0   0   0   0   0   7 117 117 165 254 254 239  50   0   0\n",
      "    0   0   0   0   0   0   0   0   0   0]\n",
      " [  0   0   0   0   0   0   0   0   0   0   0   0   0   0   0   0   0   0\n",
      "    0   0   0   0   0   0   0   0   0   0]\n",
      " [  0   0   0   0   0   0   0   0   0   0   0   0   0   0   0   0   0   0\n",
      "    0   0   0   0   0   0   0   0   0   0]\n",
      " [  0   0   0   0   0   0   0   0   0   0   0   0   0   0   0   0   0   0\n",
      "    0   0   0   0   0   0   0   0   0   0]\n",
      " [  0   0   0   0   0   0   0   0   0   0   0   0   0   0   0   0   0   0\n",
      "    0   0   0   0   0   0   0   0   0   0]]\n"
     ]
    }
   ],
   "source": [
    "print(train_images[10])"
   ]
  },
  {
   "cell_type": "markdown",
   "metadata": {
    "id": "B72Gc1Nc2PHm"
   },
   "source": [
    "Show image 10 of the training_images in image form:"
   ]
  },
  {
   "cell_type": "code",
   "execution_count": 7,
   "metadata": {
    "colab": {
     "base_uri": "https://localhost:8080/",
     "height": 430
    },
    "executionInfo": {
     "elapsed": 778,
     "status": "ok",
     "timestamp": 1709215503371,
     "user": {
      "displayName": "Beth White",
      "userId": "06650684930091111574"
     },
     "user_tz": 300
    },
    "id": "9c12PbuMzDlR",
    "outputId": "00497a62-0000-4342-c17a-fd46650fbf3d"
   },
   "outputs": [
    {
     "data": {
      "image/png": "[encoded data removed]",
      "text/plain": [
       "<Figure size 640x480 with 1 Axes>"
      ]
     },
     "metadata": {},
     "output_type": "display_data"
    }
   ],
   "source": [
    "plt.imshow(train_images[10], cmap='gray')\n",
    "plt.title(f\"Label: {train_labels[10]}\")\n",
    "plt.show()\n"
   ]
  },
  {
   "cell_type": "markdown",
   "metadata": {
    "id": "BEmMVeQx2djQ"
   },
   "source": [
    "Task: Show image 6755 of the training_images in matrix form."
   ]
  },
  {
   "cell_type": "code",
   "execution_count": 8,
   "metadata": {
    "colab": {
     "base_uri": "https://localhost:8080/",
     "height": 1000
    },
    "executionInfo": {
     "elapsed": 117,
     "status": "ok",
     "timestamp": 1709215949762,
     "user": {
      "displayName": "Beth White",
      "userId": "06650684930091111574"
     },
     "user_tz": 300
    },
    "id": "AIV9UP882qnV",
    "outputId": "f748902e-882d-4589-e2e7-457bd6f04f15"
   },
   "outputs": [
    {
     "name": "stdout",
     "output_type": "stream",
     "text": [
      "[[  0   0   0   0   0   0   0   0   0   0   0   0   0   0   0   0   0   0\n",
      "    0   0   0   0   0   0   0   0   0   0]\n",
      " [  0   0   0   0   0   0   0   0   0   0   0   0   0   0   0   0   0   0\n",
      "    0   0   0   0   0   0   0   0   0   0]\n",
      " [  0   0   0   0   0   0   0   0   0   0   0   0   0   0   0   0   0   0\n",
      "    0   0   0   0   0   0   0   0   0   0]\n",
      " [  0   0   0   0   0   0   0   0   0   0   0   0   0   0   0   0   0   0\n",
      "    0   0   0   0   0   0   0   0   0   0]\n",
      " [  0   0   0   0   0   0   0   0   0   0   0   0   0   0   0   0   0   0\n",
      "    0   0   0   0   0   0   0   0   0   0]\n",
      " [  0   0   0   0   0   0   0   0   0   0   0   0   0   0   0  47 150 253\n",
      "  253 110  15   0   0   0   0   0   0   0]\n",
      " [  0   0   0   0   0   0   0   0   0   0   0   0   0  32 217 233 252 252\n",
      "  252 119   5   0   0   0   0   0   0   0]\n",
      " [  0   0   0   0   0   0   0   0   0   0   0   0  32 150 252 253 252 252\n",
      "  148   0   0   0   0   0   0   0   0   0]\n",
      " [  0   0   0   0   0   0   0   0   0   0   1   1 217 252 252 253 252 252\n",
      "  190   1   1   0   0   0   0   0   0   0]\n",
      " [  0   0   0   0   0   0   0   0   0  16 191 253 252 252 252 253 252 252\n",
      "  252 253  98   0   0   0   0   0   0   0]\n",
      " [  0   0   0   0   0   0   0  32 197 222 252 253 252 241 179 180 179 231\n",
      "  252 253 200  21   0   0   0   0   0   0]\n",
      " [  0   0   0   0   0   0  21 211 252 252 252 253 179  61   0   0   0  51\n",
      "  175 253 252  71   0   0   0   0   0   0]\n",
      " [  0   0   0   0   0   0 144 252 252 252 252 108  15   0   0   0   0   0\n",
      "  144 253 252  71   0   0   0   0   0   0]\n",
      " [  0   0   0   0   0   0 145 253 253 175  62   0   0   0   0   0   0  99\n",
      "  253 255 222  41   0   0   0   0   0   0]\n",
      " [  0   0   0   0   0   0  20 179 138  10   0   0   0   0   0   0  21 201\n",
      "  252 253 179   0   0   0   0   0   0   0]\n",
      " [  0   0   0   0   0   0   0   0   0   0   0   0   0   0   0  99 201 252\n",
      "  252 217  71   0   0   0   0   0   0   0]\n",
      " [  0   0   0   0   0   0   0   0   0   0   0   0   0  21 144 253 252 252\n",
      "  168   0   0   0   0   0   0   0   0   0]\n",
      " [  0   0   0   0   0  79 109 109 109 109 191 255 253 253 253 255 253 217\n",
      "    0   0   0   0   0   0   0   0   0   0]\n",
      " [  0   0   0   0 105 242 252 252 252 252 252 253 252 252 252 253 252 226\n",
      "   73   0   0   0   0   0   0   0   0   0]\n",
      " [  0   0   0   0 196 252 252 252 252 252 252 253 220 215 215 253 252 252\n",
      "  252  37   5   0   0   0   0   0   0   0]\n",
      " [  0   0   0   0  31 108 190 252 252 148 108 108  15   0   0 108 232 252\n",
      "  252 253 119   0   0   0   0   0   0   0]\n",
      " [  0   0   0   0   0   0   1  83   0   0   0   0   0   0   0   0   0 120\n",
      "  253 255 180   0   0   0   0   0   0   0]\n",
      " [  0   0   0   0   0   0   0   0   0   0   0   0   0   0   0   0   0   5\n",
      "  159 253 242  62   0   0   0   0   0   0]\n",
      " [  0   0   0   0   0   0   0   0   0   0   0   0   0   0   0   0   0   0\n",
      "   41 253 252  92   0   0   0   0   0   0]\n",
      " [  0   0   0   0   0   0   0   0   0   0   0   0   0   0   0   0   0   0\n",
      "    0 253 252 215   0   0   0   0   0   0]\n",
      " [  0   0   0   0   0   0   0   0   0   0   0   0   0   0   0   0   0   0\n",
      "    0   0   0   0   0   0   0   0   0   0]\n",
      " [  0   0   0   0   0   0   0   0   0   0   0   0   0   0   0   0   0   0\n",
      "    0   0   0   0   0   0   0   0   0   0]\n",
      " [  0   0   0   0   0   0   0   0   0   0   0   0   0   0   0   0   0   0\n",
      "    0   0   0   0   0   0   0   0   0   0]]\n"
     ]
    }
   ],
   "source": [
    "print(train_images[6755]) "
   ]
  },
  {
   "cell_type": "markdown",
   "metadata": {
    "id": "lCxHrAYg2rTP"
   },
   "source": [
    "Task: Show image 6755 in the training_images in image form."
   ]
  },
  {
   "cell_type": "code",
   "execution_count": 13,
   "metadata": {
    "colab": {
     "base_uri": "https://localhost:8080/",
     "height": 430
    },
    "executionInfo": {
     "elapsed": 283,
     "status": "ok",
     "timestamp": 1709215638088,
     "user": {
      "displayName": "Beth White",
      "userId": "06650684930091111574"
     },
     "user_tz": 300
    },
    "id": "Zlc1iw9h2yTF",
    "outputId": "622d8b3d-023b-4e1a-d703-b7e177c48673"
   },
   "outputs": [
    {
     "data": {
      "image/png": "[encoded data removed]",
      "text/plain": [
       "<Figure size 640x480 with 1 Axes>"
      ]
     },
     "metadata": {},
     "output_type": "display_data"
    }
   ],
   "source": [
    "plt.imshow(train_images[6755], cmap='gray_r')\n",
    "plt.title(f\"Label: {train_labels[6755]}\")\n",
    "plt.show()\n"
   ]
  },
  {
   "cell_type": "markdown",
   "metadata": {
    "id": "nPpJPGVS21bV"
   },
   "source": [
    "Task: Show image 40212 of the training_images in matrix form."
   ]
  },
  {
   "cell_type": "code",
   "execution_count": 14,
   "metadata": {
    "colab": {
     "base_uri": "https://localhost:8080/",
     "height": 448
    },
    "executionInfo": {
     "elapsed": 352,
     "status": "ok",
     "timestamp": 1709215924669,
     "user": {
      "displayName": "Beth White",
      "userId": "06650684930091111574"
     },
     "user_tz": 300
    },
    "id": "tMUuakFB20p-",
    "outputId": "c37c83a0-f90a-43ca-8844-8b31395b27f6"
   },
   "outputs": [
    {
     "name": "stdout",
     "output_type": "stream",
     "text": [
      "[[  0   0   0   0   0   0   0   0   0   0   0   0   0   0   0   0   0   0\n",
      "    0   0   0   0   0   0   0   0   0   0]\n",
      " [  0   0   0   0   0   0   0   0   0   0   0   0   0   0   0   0   0   0\n",
      "    0   0   0   0   0   0   0   0   0   0]\n",
      " [  0   0   0   0   0   0   0   0   0   0   0   0   0   0   0   0   0   0\n",
      "    0   0   0   0   0   0   0   0   0   0]\n",
      " [  0   0   0   0   0   0   0   0   0   0   0   0   0   0   0   0   0   0\n",
      "    0   0   0   0   0   0   0   0   0   0]\n",
      " [  0   0   0   0   0   0   0   0  20  67  81 254 254 254 254 255  86  39\n",
      "    0   0   0   0   0   0   0   0   0   0]\n",
      " [  0   0   0   0   0   0   0 104 168 253 253 253 253 253 253 253 253 203\n",
      "   44   0   0   0   0   0   0   0   0   0]\n",
      " [  0   0   0   0   0   3 109 241 253 253 253 253 253 253 253 253 253 253\n",
      "   84   0   0   0   0   0   0   0   0   0]\n",
      " [  0   0   0   0   0 123 253 253 253 253 253 253 253 253 253 253 253 253\n",
      "  133   6   0   0   0   0   0   0   0   0]\n",
      " [  0   0   0   0   0 254 253 253 253 253 253 253 253 253 253 253 253 253\n",
      "  253  17   0   0   0   0   0   0   0   0]\n",
      " [  0   0   0   0   0 240 253 253 253 242 234 234 122  67 241 253 253 253\n",
      "  253  17   0   0   0   0   0   0   0   0]\n",
      " [  0   0   0   0   0  44 212 253 227  75   0   0   0   0  95 253 253 253\n",
      "  253  81   0   0   0   0   0   0   0   0]\n",
      " [  0   0   0   0   0   0  54 102  72   0   0   0   0   0  95 253 253 253\n",
      "  253 205   0   0   0   0   0   0   0   0]\n",
      " [  0   0   0   0   0   0   0   0   0   0   0   0   0   4 113 253 253 253\n",
      "  253 205   0   0   0   0   0   0   0   0]\n",
      " [  0   0   0   0   0   0   0   0   0   0   0   0   0  29 253 253 253 253\n",
      "  253 135   0   0   0   0   0   0   0   0]\n",
      " [  0   0   0   0   0   0   0   0   0   0   0   0   0  29 253 253 253 253\n",
      "  145   7   0   0   0   0   0   0   0   0]\n",
      " [  0   0   0   0   0   0   0   0   0   0   0   0   0  29 253 253 253 253\n",
      "   84   0   0   0   0   0   0   0   0   0]\n",
      " [  0   0   0   0   0   0   0   0   0   0   0   0  63 121 253 253 253 210\n",
      "   49   0   0   0   0   0   0   0   0   0]\n",
      " [  0   0   0   0   0   0   0   0   0   0   0  58 219 253 253 253 227  49\n",
      "    0   0   0   0   0   0   0   0   0   0]\n",
      " [  0   0   0   0   0   0   0   0  15  48  62 241 253 253 253 253 250 236\n",
      "  110  48  27   0   0   0   0   0   0   0]\n",
      " [  0   0   0   0   0   0   0   0  76 253 253 253 253 253 253 253 253 253\n",
      "  253 253 190 114  29  59   0   0   0   0]\n",
      " [  0   0   0   0   0   0   0 140 201 253 253 253 253 253 253 253 253 253\n",
      "  253 253 253 253 198 130   0   0   0   0]\n",
      " [  0   0   0   0   0   0 128 251 253 253 253 253 253 253 253 253 253 253\n",
      "  253 253 253 253 240 192  48   0   0   0]\n",
      " [  0   0   0   0   0   0  69 226 253 253 253 253 253 253 253 253 253 253\n",
      "  253 253 253 166 102   0   0   0   0   0]\n",
      " [  0   0   0   0   0   0   0  51  65  65  65 128 253  92  65  65  65  65\n",
      "   65 100 168  19   0   0   0   0   0   0]\n",
      " [  0   0   0   0   0   0   0   0   0   0   0   0   0   0   0   0   0   0\n",
      "    0   0   0   0   0   0   0   0   0   0]\n",
      " [  0   0   0   0   0   0   0   0   0   0   0   0   0   0   0   0   0   0\n",
      "    0   0   0   0   0   0   0   0   0   0]\n",
      " [  0   0   0   0   0   0   0   0   0   0   0   0   0   0   0   0   0   0\n",
      "    0   0   0   0   0   0   0   0   0   0]\n",
      " [  0   0   0   0   0   0   0   0   0   0   0   0   0   0   0   0   0   0\n",
      "    0   0   0   0   0   0   0   0   0   0]]\n"
     ]
    }
   ],
   "source": [
    "print(train_images[40212])\n"
   ]
  },
  {
   "cell_type": "markdown",
   "metadata": {
    "id": "fgVAtaxy26OH"
   },
   "source": [
    "Task: Show image 40212 of the training_images in image form."
   ]
  },
  {
   "cell_type": "code",
   "execution_count": 15,
   "metadata": {
    "colab": {
     "base_uri": "https://localhost:8080/",
     "height": 430
    },
    "executionInfo": {
     "elapsed": 157,
     "status": "ok",
     "timestamp": 1681909642900,
     "user": {
      "displayName": "Beth White",
      "userId": "06650684930091111574"
     },
     "user_tz": 240
    },
    "id": "0F7gQ_A52_3w",
    "outputId": "b5a6e050-905a-4140-f43b-70767b27dbd4"
   },
   "outputs": [
    {
     "data": {
      "image/png": "[encoded data removed]",
      "text/plain": [
       "<Figure size 640x480 with 1 Axes>"
      ]
     },
     "metadata": {},
     "output_type": "display_data"
    }
   ],
   "source": [
    "plt.imshow(train_images[40212], cmap='gray_r')\n",
    "plt.title(f\"Label: {train_labels[40212]}\")\n",
    "plt.show()\n"
   ]
  },
  {
   "cell_type": "markdown",
   "metadata": {
    "id": "JW0rzQCv3Dvg"
   },
   "source": [
    "Task: Write a for loop to show images 1-10 of test_images in image form."
   ]
  },
  {
   "cell_type": "code",
   "execution_count": 28,
   "metadata": {
    "colab": {
     "base_uri": "https://localhost:8080/",
     "height": 1000
    },
    "executionInfo": {
     "elapsed": 2040,
     "status": "ok",
     "timestamp": 1709216367176,
     "user": {
      "displayName": "Beth White",
      "userId": "06650684930091111574"
     },
     "user_tz": 300
    },
    "id": "WbCvb4Ng3DVN",
    "outputId": "3288e9d9-8a3f-4f9c-c451-4b9a8fbca90c"
   },
   "outputs": [
    {
     "data": {
      "image/png": "[encoded data removed]",
      "text/plain": [
       "<Figure size 640x480 with 1 Axes>"
      ]
     },
     "metadata": {},
     "output_type": "display_data"
    },
    {
     "data": {
      "image/png": "[encoded data removed]",
      "text/plain": [
       "<Figure size 640x480 with 1 Axes>"
      ]
     },
     "metadata": {},
     "output_type": "display_data"
    },
    {
     "data": {
      "image/png": "[encoded data removed]",
      "text/plain": [
       "<Figure size 640x480 with 1 Axes>"
      ]
     },
     "metadata": {},
     "output_type": "display_data"
    },
    {
     "data": {
      "image/png": "[encoded data removed]",
      "text/plain": [
       "<Figure size 640x480 with 1 Axes>"
      ]
     },
     "metadata": {},
     "output_type": "display_data"
    },
    {
     "data": {
      "image/png": "[encoded data removed]",
      "text/plain": [
       "<Figure size 640x480 with 1 Axes>"
      ]
     },
     "metadata": {},
     "output_type": "display_data"
    },
    {
     "data": {
      "image/png": "[encoded data removed]",
      "text/plain": [
       "<Figure size 640x480 with 1 Axes>"
      ]
     },
     "metadata": {},
     "output_type": "display_data"
    },
    {
     "data": {
      "image/png": "[encoded data removed]",
      "text/plain": [
       "<Figure size 640x480 with 1 Axes>"
      ]
     },
     "metadata": {},
     "output_type": "display_data"
    },
    {
     "data": {
      "image/png": "[encoded data removed]",
      "text/plain": [
       "<Figure size 640x480 with 1 Axes>"
      ]
     },
     "metadata": {},
     "output_type": "display_data"
    },
    {
     "data": {
      "image/png": "[encoded data removed]",
      "text/plain": [
       "<Figure size 640x480 with 1 Axes>"
      ]
     },
     "metadata": {},
     "output_type": "display_data"
    },
    {
     "data": {
      "image/png": "[encoded data removed]",
      "text/plain": [
       "<Figure size 640x480 with 1 Axes>"
      ]
     },
     "metadata": {},
     "output_type": "display_data"
    }
   ],
   "source": [
    "for i in range(1, 11):  # Loop through test_images 1 to 10\n",
    "    plt.imshow(test_images[i], cmap='gray_r')\n",
    "    plt.title(f\"Label: {test_labels[i]}\")\n",
    "    plt.show()"
   ]
  },
  {
   "cell_type": "markdown",
   "metadata": {},
   "source": [
    "Task: write a loop to show the first 10 labels"
   ]
  },
  {
   "cell_type": "code",
   "execution_count": 17,
   "metadata": {
    "colab": {
     "base_uri": "https://localhost:8080/"
    },
    "executionInfo": {
     "elapsed": 116,
     "status": "ok",
     "timestamp": 1709216450454,
     "user": {
      "displayName": "Beth White",
      "userId": "06650684930091111574"
     },
     "user_tz": 300
    },
    "id": "cSKWYCf0CL4V",
    "outputId": "1034ccd4-1d92-4575-f88f-c71ac57930a1"
   },
   "outputs": [
    {
     "name": "stdout",
     "output_type": "stream",
     "text": [
      "Image 0: Label = 7\n",
      "Image 1: Label = 2\n",
      "Image 2: Label = 1\n",
      "Image 3: Label = 0\n",
      "Image 4: Label = 4\n",
      "Image 5: Label = 1\n",
      "Image 6: Label = 4\n",
      "Image 7: Label = 9\n",
      "Image 8: Label = 5\n",
      "Image 9: Label = 9\n"
     ]
    }
   ],
   "source": [
    "for i in range(10):\n",
    "    print(f\"Image {i}: Label = {test_labels[i]}\")"
   ]
  },
  {
   "cell_type": "code",
   "execution_count": null,
   "metadata": {
    "id": "Yb8Yrwgd-t4t"
   },
   "outputs": [],
   "source": []
  },
  {
   "cell_type": "markdown",
   "metadata": {
    "id": "0BbNBiXR-tRK"
   },
   "source": [
    "# (Images 5) Understanding the mnist dataset."
   ]
  },
  {
   "cell_type": "markdown",
   "metadata": {
    "id": "zfcuc97i-GY6"
   },
   "source": [
    "Task: Use the ndim method to determine the dimension of train_images."
   ]
  },
  {
   "cell_type": "code",
   "execution_count": 18,
   "metadata": {
    "colab": {
     "base_uri": "https://localhost:8080/"
    },
    "executionInfo": {
     "elapsed": 2,
     "status": "ok",
     "timestamp": 1709216762858,
     "user": {
      "displayName": "Beth White",
      "userId": "06650684930091111574"
     },
     "user_tz": 300
    },
    "id": "JK_ePvlv-Oba",
    "outputId": "67c1cef4-d587-4644-be8d-48c14f7cdf46"
   },
   "outputs": [
    {
     "name": "stdout",
     "output_type": "stream",
     "text": [
      "3\n"
     ]
    }
   ],
   "source": [
    "print(train_images.ndim)"
   ]
  },
  {
   "cell_type": "markdown",
   "metadata": {
    "id": "PeVv0PGt-PH6"
   },
   "source": [
    "Question: What does this mean?"
   ]
  },
  {
   "cell_type": "markdown",
   "metadata": {
    "id": "8pAdP0j8-Q1j"
   },
   "source": [
    "Answer: train_images is a 3D array. "
   ]
  },
  {
   "cell_type": "markdown",
   "metadata": {
    "id": "CCzbIsLD9rX6"
   },
   "source": [
    "Task: Use the shape method to determine the shape of train_images."
   ]
  },
  {
   "cell_type": "code",
   "execution_count": 19,
   "metadata": {
    "colab": {
     "base_uri": "https://localhost:8080/"
    },
    "executionInfo": {
     "elapsed": 115,
     "status": "ok",
     "timestamp": 1709216954153,
     "user": {
      "displayName": "Beth White",
      "userId": "06650684930091111574"
     },
     "user_tz": 300
    },
    "id": "qFR_VDtA92n5",
    "outputId": "d79f0d31-1e19-4d92-89d0-07cfc61afac0"
   },
   "outputs": [
    {
     "name": "stdout",
     "output_type": "stream",
     "text": [
      "(60000, 28, 28)\n"
     ]
    }
   ],
   "source": [
    "print(train_images.shape)"
   ]
  },
  {
   "cell_type": "markdown",
   "metadata": {
    "id": "GsA27HmS97I6"
   },
   "source": [
    "Question: What does each of these three numbers represent?  "
   ]
  },
  {
   "cell_type": "markdown",
   "metadata": {
    "id": "9AorbLbE9-Xd"
   },
   "source": [
    "\n",
    "Answer: 60,000 represents: the total number of images in the training set.\n"
   ]
  },
  {
   "cell_type": "markdown",
   "metadata": {
    "id": "DFpcZxzw-hEa"
   },
   "source": [
    "Answer: 28 represents: the height of each image in pixels.\n"
   ]
  },
  {
   "cell_type": "markdown",
   "metadata": {
    "id": "aj3_por7-jJ7"
   },
   "source": [
    "Answer: 28 represents: the width of each image in pixels."
   ]
  },
  {
   "cell_type": "markdown",
   "metadata": {
    "id": "VU116QKRADDK"
   },
   "source": [
    "Example: Plot image 16 from the train_images dataset."
   ]
  },
  {
   "cell_type": "code",
   "execution_count": 21,
   "metadata": {
    "id": "UX7yqqlXAJd0"
   },
   "outputs": [
    {
     "data": {
      "image/png": "[encoded data removed]",
      "text/plain": [
       "<Figure size 640x480 with 1 Axes>"
      ]
     },
     "metadata": {},
     "output_type": "display_data"
    }
   ],
   "source": [
    "plt.imshow(train_images[16], cmap='gray_r')\n",
    "plt.title(f\"Label: {train_labels[16]}\")\n",
    "plt.show()\n"
   ]
  },
  {
   "cell_type": "markdown",
   "metadata": {
    "id": "Q3Uc63fuAKxq"
   },
   "source": [
    "Example:  Plot the label 16 from the train_labels dataset"
   ]
  },
  {
   "cell_type": "code",
   "execution_count": 22,
   "metadata": {
    "colab": {
     "base_uri": "https://localhost:8080/"
    },
    "executionInfo": {
     "elapsed": 130,
     "status": "ok",
     "timestamp": 1709120932983,
     "user": {
      "displayName": "Beth White",
      "userId": "06650684930091111574"
     },
     "user_tz": 300
    },
    "id": "DnlFmfz4ARs6",
    "outputId": "0d15a7e4-d4f5-4a4e-ae40-ef1c827e29a2"
   },
   "outputs": [
    {
     "name": "stdout",
     "output_type": "stream",
     "text": [
      "Label for Image 16: 2\n"
     ]
    }
   ],
   "source": [
    "print(f\"Label for Image 16: {train_labels[16]}\")"
   ]
  },
  {
   "cell_type": "markdown",
   "metadata": {
    "id": "qyo5Y6cAAY06"
   },
   "source": [
    "Task: Plot image 44 from the train_image dataset."
   ]
  },
  {
   "cell_type": "code",
   "execution_count": 23,
   "metadata": {
    "colab": {
     "base_uri": "https://localhost:8080/",
     "height": 430
    },
    "executionInfo": {
     "elapsed": 341,
     "status": "ok",
     "timestamp": 1681909660087,
     "user": {
      "displayName": "Beth White",
      "userId": "06650684930091111574"
     },
     "user_tz": 240
    },
    "id": "wUYSudPqAamS",
    "outputId": "9dad3c4d-f399-49dd-ac21-14167b595c7c"
   },
   "outputs": [
    {
     "data": {
      "image/png": "[encoded data removed]",
      "text/plain": [
       "<Figure size 640x480 with 1 Axes>"
      ]
     },
     "metadata": {},
     "output_type": "display_data"
    }
   ],
   "source": [
    "plt.imshow(train_images[44], cmap='gray_r')\n",
    "plt.title(f\"Label: {train_labels[44]}\")\n",
    "plt.show()"
   ]
  },
  {
   "cell_type": "markdown",
   "metadata": {
    "id": "xvhvM-eTAcr7"
   },
   "source": [
    "Task: Plot the label 44 from the train_labels dataset"
   ]
  },
  {
   "cell_type": "code",
   "execution_count": 24,
   "metadata": {
    "colab": {
     "base_uri": "https://localhost:8080/"
    },
    "executionInfo": {
     "elapsed": 199,
     "status": "ok",
     "timestamp": 1709217258177,
     "user": {
      "displayName": "Beth White",
      "userId": "06650684930091111574"
     },
     "user_tz": 300
    },
    "id": "1271G6OyAdyK",
    "outputId": "ed94461b-ff1a-43ea-ed7e-3825946e9576"
   },
   "outputs": [
    {
     "name": "stdout",
     "output_type": "stream",
     "text": [
      "Label for Image 44: 3\n"
     ]
    }
   ],
   "source": [
    "print(f\"Label for Image 44: {train_labels[44]}\")"
   ]
  },
  {
   "cell_type": "markdown",
   "metadata": {
    "id": "jFCiyKNXA2oS"
   },
   "source": [
    "Task: Plot the 10th row of the 44th image in train_images."
   ]
  },
  {
   "cell_type": "code",
   "execution_count": 25,
   "metadata": {
    "colab": {
     "base_uri": "https://localhost:8080/"
    },
    "executionInfo": {
     "elapsed": 213,
     "status": "ok",
     "timestamp": 1709217121090,
     "user": {
      "displayName": "Beth White",
      "userId": "06650684930091111574"
     },
     "user_tz": 300
    },
    "id": "tlUm9lu_BDH4",
    "outputId": "2c07c0af-f2d8-4fba-c5e7-6e863fac9b3e"
   },
   "outputs": [
    {
     "name": "stdout",
     "output_type": "stream",
     "text": [
      "[  0   0   0   0   0   0   0   0   0   0   0   0   0   0   0 255 253  82\n",
      "   0   0   0   0   0   0   0   0   0   0]\n"
     ]
    }
   ],
   "source": [
    "print(train_images[44][10])"
   ]
  },
  {
   "cell_type": "markdown",
   "metadata": {
    "id": "7XzEvFHMBtKC"
   },
   "source": [
    "Run this code to define our show digit function, add comments to each line of code demonstrating that you understand what each line does."
   ]
  },
  {
   "cell_type": "code",
   "execution_count": 26,
   "metadata": {
    "id": "Gv6UgC0nBwfV"
   },
   "outputs": [],
   "source": [
    "def show_digit(image,value):\n",
    "  plt.imshow(image,cmap=plt.cm.binary)\n",
    "  plt.show()\n",
    "  print(\"the value is \",value)"
   ]
  },
  {
   "cell_type": "markdown",
   "metadata": {
    "id": "06adhUq3CBRn"
   },
   "source": [
    "Task: Call this function with image 44  and label 44 of the train_images set."
   ]
  },
  {
   "cell_type": "code",
   "execution_count": 27,
   "metadata": {
    "colab": {
     "base_uri": "https://localhost:8080/",
     "height": 448
    },
    "executionInfo": {
     "elapsed": 451,
     "status": "ok",
     "timestamp": 1709217420557,
     "user": {
      "displayName": "Beth White",
      "userId": "06650684930091111574"
     },
     "user_tz": 300
    },
    "id": "XjDVsBCQSd5j",
    "outputId": "84926c02-2e3b-4d4c-c04d-4d9a735ed4ed"
   },
   "outputs": [
    {
     "data": {
      "image/png": "[encoded data removed]",
      "text/plain": [
       "<Figure size 640x480 with 1 Axes>"
      ]
     },
     "metadata": {},
     "output_type": "display_data"
    },
    {
     "name": "stdout",
     "output_type": "stream",
     "text": [
      "the value is  3\n"
     ]
    }
   ],
   "source": [
    "show_digit(train_images[44], train_labels[44])"
   ]
  },
  {
   "cell_type": "code",
   "execution_count": null,
   "metadata": {},
   "outputs": [],
   "source": []
  }
 ],
 "metadata": {
  "colab": {
   "provenance": [
    {
     "file_id": "1TKWFCqZC3pOX8D5pRk-r6qF6zLQJro7V",
     "timestamp": 1709120587933
    },
    {
     "file_id": "1c_YDtI-83cr2YFC9v-iXujizuPGz6UQA",
     "timestamp": 1681257698017
    },
    {
     "file_id": "1B6KdxKL8ua2lHFMHH6wxT_g-S5rVsS5E",
     "timestamp": 1645288157754
    }
   ]
  },
  "kernelspec": {
   "display_name": "sethbonder",
   "language": "python",
   "name": "sethbonder"
  },
  "language_info": {
   "codemirror_mode": {
    "name": "ipython",
    "version": 3
   },
   "file_extension": ".py",
   "mimetype": "text/x-python",
   "name": "python",
   "nbconvert_exporter": "python",
   "pygments_lexer": "ipython3",
   "version": "3.10.8"
  }
 },
 "nbformat": 4,
 "nbformat_minor": 4
}
