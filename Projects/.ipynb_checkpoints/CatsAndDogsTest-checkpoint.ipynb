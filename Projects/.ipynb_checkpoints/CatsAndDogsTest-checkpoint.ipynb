{
 "cells": [
  {
   "cell_type": "markdown",
   "id": "b38dc7fb",
   "metadata": {},
   "source": [
    "# Go wild -- this assignment is to recognize Cats and Dogs. The load dataset function is loading the data properly.\n",
    "# Note that the image are in color, i.e., different from the MNIST and Fashion image. The tensors will be different\n",
    "# The rest is yours. Here are a few suggestions\n",
    "\n",
    "# - You are working with colored images, not black and white. Recall what that means for your input_shape.\n",
    "# - You are given training_images, training_inputs, training_labels, testing_images, testing_inputs, testing_labels, and size_picture variables to work with. \n",
    "# - Partition your training inputs and labels to make your training and validation datasets\n",
    "# - Define your binary_classification function to use your training and validation datasets. Use Callback in your function as well.\n",
    "\n",
    "\n",
    "# 1. Start with a basic DNN model -- that is your baseline\n",
    "# 2. Make a convolutional network as your 2nd model\n",
    "# 3. Finish with a convolutional network with data augmentation as your 3rd model (see the slides)\n",
    "\n",
    "\n",
    "# - Train your 3 models one at a time\n",
    "\n",
    "# - Evaluate each of your 3 models to get your test loss and test accuracy.\n",
    "\n",
    "\n",
    "\n",
    "# Remember to ask for help with code as you won't be able to test if your code works. Double check with me if you have to. \n",
    "\n",
    "# Once you're confident you wrote your code correctly, let me know so I can take a picture of your code. I will personally test your code on my computer. If your code only has minor bugs that I can fix myself or your test accuracies are above 50%, you will be certified! We will email you your results!\n",
    "\n",
    "\n",
    "# You have until the end of today's training sessions to submit your code to me!\n",
    "\n",
    "\n"
   ]
  },
  {
   "cell_type": "code",
   "execution_count": null,
   "id": "03b338d6",
   "metadata": {},
   "outputs": [],
   "source": [
    "# USE ONLY IF using a GPU on PACE\n",
    "\n",
    "# If this is not imported the GPU on the PACE will not function properly\n",
    "# otherwise, on another system, it will need built with cuda and loaded \n",
    "# the same version to work properly\n",
    "# os.system(\"module load cuda/12.1.1\")\n",
    "import os\n",
    "import time\n",
    "os.system(\"module load cuda/12.1.1\")\n",
    "time.sleep(20)\n",
    "\n",
    "from tensorflow import keras\n",
    "from keras import layers\n",
    "from keras.datasets import imdb\n",
    "import numpy as np\n",
    "import os, shutil, pathlib\n",
    "from keras.utils import load_img\n",
    "from keras.utils import img_to_array\n",
    "from keras.utils import array_to_img\n",
    "import matplotlib.pyplot as plt\n",
    "import tensorflow as tf\n",
    "from PIL import Image\n",
    "from keras.utils import image_dataset_from_directory\n",
    "\n",
    "from keras.layers import Conv2D, MaxPooling2D\n",
    "from keras.models import Sequential\n",
    "from keras.layers import Dense, Flatten\n",
    "from keras.models import Model\n",
    "from keras.layers import Conv2D, MaxPooling2D, Flatten, Dense"
   ]
  },
  {
   "cell_type": "code",
   "execution_count": null,
   "id": "a0016fb7",
   "metadata": {},
   "outputs": [],
   "source": [
    "def tensor_from_image(name):\n",
    "    img = load_img(name)\n",
    "    img = img.resize((size_picture,size_picture))\n",
    "    return (img,img_to_array(img).astype(\"uint8\").reshape((size_picture,size_picture,3)))  \n",
    "\n",
    "\n",
    "def load_dataset(start_index, end_index, dataset_type):\n",
    "    images = []\n",
    "    total_images = 2 * (end_index - start_index + 1)  # 2x for cats + dogs\n",
    "    tensor_inputs = np.zeros((total_images, size_picture, size_picture, 3))\n",
    "    tensor_labels = np.zeros((total_images, 1))\n",
    "    \n",
    "    #  Handle folder name differences (test_set uses plural)\n",
    "    category_folder = {\n",
    "        \"cat\": \"cats\" if dataset_type == \"test_set\" else \"cat\",\n",
    "        \"dog\": \"dogs\" if dataset_type == \"test_set\" else \"dog\"\n",
    "    }\n",
    "    \n",
    "    base_directory = pathlib.Path(f'../datasets/cats_and_dogs/{dataset_type}')\n",
    "    print(base_directory)\n",
    "    k = 0  # Track loaded images\n",
    "    \n",
    "    for category in {\"cat\", \"dog\"}:\n",
    "        folder = category_folder[category]\n",
    "        names = [f\"{category}.{i}.jpg\" for i in range(start_index, end_index + 1)]\n",
    "        \n",
    "        for n in names:\n",
    "            fname = base_directory / folder / n\n",
    "            img, t = tensor_from_image(fname)  #  Assumes file exists\n",
    "            images.append(img)\n",
    "            tensor_inputs[k] = t\n",
    "            tensor_labels[k] = (category == 'dog')  # 1 for dog, 0 for cat\n",
    "            k += 1\n",
    "    \n",
    "    return images, tensor_inputs, tensor_labels\n",
    "\n",
    "\n"
   ]
  },
  {
   "cell_type": "markdown",
   "id": "8e76a02f",
   "metadata": {},
   "source": [
    "# The code cells above download all the imports necessary and processes all your training and test images of cats and dogs. But since it doesn't work for everyone, you can ignore the above if you want.\n",
    "\n",
    "\n",
    "# You are only responsible for the code below:"
   ]
  },
  {
   "cell_type": "code",
   "execution_count": null,
   "id": "0886e61b",
   "metadata": {},
   "outputs": [],
   "source": [
    "# Training data (1-4000 from training_set)\n",
    "training_images, training_inputs, training_labels = load_dataset(1, 4000, \"training_set\")\n",
    "\n",
    "# Testing data (4001-5000 from test_set)\n",
    "testing_images, testing_inputs, testing_labels = load_dataset(4001, 5000, \"test_set\")\n",
    "size_picture = 128"
   ]
  },
  {
   "cell_type": "code",
   "execution_count": null,
   "id": "76141cef",
   "metadata": {},
   "outputs": [],
   "source": [
    "# Define the split index\n",
    "split_index = int(0.8 * len(training_images))  # 80% for training, 20% for validation\n",
    "\n",
    "# Partition the data\n",
    "partial_train_data = ...\n",
    "partial_train_labels = ...\n",
    "validation_data = ...\n",
    "validation_labels = ..."
   ]
  },
  {
   "cell_type": "code",
   "execution_count": null,
   "id": "b85b8a0b",
   "metadata": {},
   "outputs": [],
   "source": [
    "def binary_classify(...):\n",
    "    ... \n",
    "    ...\n",
    "    \n",
    "    return ..."
   ]
  },
  {
   "cell_type": "code",
   "execution_count": null,
   "id": "95be266d",
   "metadata": {},
   "outputs": [],
   "source": [
    "# Build your DNN Model\n",
    "\n"
   ]
  },
  {
   "cell_type": "code",
   "execution_count": null,
   "id": "6b34ec68",
   "metadata": {},
   "outputs": [],
   "source": [
    "# Call your binary_classification function on your DNN Model to train it\n",
    "binary_classify(...)\n",
    "\n"
   ]
  },
  {
   "cell_type": "code",
   "execution_count": null,
   "id": "64160102",
   "metadata": {},
   "outputs": [],
   "source": [
    "# Build your CNN Model\n",
    "\n",
    "\n",
    "\n"
   ]
  },
  {
   "cell_type": "code",
   "execution_count": null,
   "id": "b73d6dd0",
   "metadata": {},
   "outputs": [],
   "source": [
    "# Call your binary_classification function on your CNN Model to train it\n",
    "binary_classify(...)\n",
    "\n"
   ]
  },
  {
   "cell_type": "code",
   "execution_count": null,
   "id": "7ec88a3b",
   "metadata": {},
   "outputs": [],
   "source": [
    "# Build your CNN Model with Data Augmentation (see slides for reference)\n",
    "\n",
    "\n",
    "\n"
   ]
  },
  {
   "cell_type": "code",
   "execution_count": null,
   "id": "534517d6",
   "metadata": {},
   "outputs": [],
   "source": [
    "# Call your binary_classification function on your CNN (data augmented) model to train it\n",
    "binary_classify(...)\n",
    "\n"
   ]
  },
  {
   "cell_type": "code",
   "execution_count": null,
   "id": "ae4ac8bc",
   "metadata": {},
   "outputs": [],
   "source": [
    "# Evaluate your 1st model on your testing inputs and labels\n",
    "test_loss_basic, test_acc_basic = ...\n"
   ]
  },
  {
   "cell_type": "code",
   "execution_count": null,
   "id": "5071002c",
   "metadata": {},
   "outputs": [],
   "source": [
    "# Evaluate your 2nd model on your testing inputs and labels\n",
    "test_loss_cnn, test_acc_cnn = ..."
   ]
  },
  {
   "cell_type": "code",
   "execution_count": null,
   "id": "9bf98910",
   "metadata": {},
   "outputs": [],
   "source": [
    "# Evaluate your 3rd model on your testing inputs and labels\n",
    "test_loss_aug, test_acc_aug = ..."
   ]
  }
 ],
 "metadata": {
  "kernelspec": {
   "display_name": "sethbonder",
   "language": "python",
   "name": "sethbonder"
  },
  "language_info": {
   "name": "python",
   "version": "3.10.8"
  }
 },
 "nbformat": 4,
 "nbformat_minor": 5
}
