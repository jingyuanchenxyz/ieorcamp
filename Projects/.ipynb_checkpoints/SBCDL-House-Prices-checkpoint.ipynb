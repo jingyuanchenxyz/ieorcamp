{
 "cells": [
  {
   "cell_type": "code",
   "execution_count": 1,
   "id": "f4363060",
   "metadata": {
    "id": "f4363060"
   },
   "outputs": [],
   "source": [
    "from tensorflow import keras\n",
    "from keras import layers\n",
    "from keras.datasets import imdb\n",
    "import numpy as np"
   ]
  },
  {
   "cell_type": "code",
   "execution_count": 2,
   "id": "a9da999b",
   "metadata": {
    "colab": {
     "base_uri": "https://localhost:8080/"
    },
    "executionInfo": {
     "elapsed": 260,
     "status": "ok",
     "timestamp": 1645466845436,
     "user": {
      "displayName": "Beth White",
      "photoUrl": "https://lh3.googleusercontent.com/a-/AOh14Gi2PiOhbmXWHX0i-JndtQuNBFoEb4JTKG2OsdI6uA=s64",
      "userId": "06650684930091111574"
     },
     "user_tz": 300
    },
    "id": "a9da999b",
    "outputId": "ac33241b-261d-4eb7-cc3e-0cbcf0b2eddb"
   },
   "outputs": [],
   "source": [
    "from keras.datasets import boston_housing\n",
    "(train_data, train_targets), (test_data, test_targets) = boston_housing.load_data()"
   ]
  },
  {
   "cell_type": "markdown",
   "id": "3fbf7c9f-f3c1-47ae-b0eb-7bdced55934e",
   "metadata": {},
   "source": [
    "# Normalization: do not worry about this"
   ]
  },
  {
   "cell_type": "code",
   "execution_count": 3,
   "id": "836f6728-d0a5-4238-bd9a-d70cbd9ed377",
   "metadata": {},
   "outputs": [],
   "source": [
    "mean = train_data.mean(axis=0)\n",
    "train_data -= mean\n",
    "std = train_data.std(axis=0)\n",
    "train_data /= std\n",
    "test_data -= mean\n",
    "test_data /= std"
   ]
  },
  {
   "cell_type": "markdown",
   "id": "4253bc59",
   "metadata": {},
   "source": [
    "# Shape of the data"
   ]
  },
  {
   "cell_type": "code",
   "execution_count": 4,
   "id": "6fe28208",
   "metadata": {
    "colab": {
     "base_uri": "https://localhost:8080/"
    },
    "executionInfo": {
     "elapsed": 9,
     "status": "ok",
     "timestamp": 1645466845437,
     "user": {
      "displayName": "Beth White",
      "photoUrl": "https://lh3.googleusercontent.com/a-/AOh14Gi2PiOhbmXWHX0i-JndtQuNBFoEb4JTKG2OsdI6uA=s64",
      "userId": "06650684930091111574"
     },
     "user_tz": 300
    },
    "id": "6fe28208",
    "outputId": "01574917-36cf-4aa1-919f-26e4666d8578"
   },
   "outputs": [
    {
     "data": {
      "text/plain": [
       "(404, 13)"
      ]
     },
     "execution_count": 4,
     "metadata": {},
     "output_type": "execute_result"
    }
   ],
   "source": [
    "train_data.shape\n"
   ]
  },
  {
   "cell_type": "code",
   "execution_count": 5,
   "id": "152c57e8",
   "metadata": {},
   "outputs": [
    {
     "data": {
      "text/plain": [
       "(404,)"
      ]
     },
     "execution_count": 5,
     "metadata": {},
     "output_type": "execute_result"
    }
   ],
   "source": [
    "train_targets.shape"
   ]
  },
  {
   "cell_type": "markdown",
   "id": "61e9c3b4",
   "metadata": {},
   "source": [
    "# Functions to Build the Models"
   ]
  },
  {
   "cell_type": "markdown",
   "id": "9fb1735f-bf29-4055-959e-a5f242621573",
   "metadata": {},
   "source": [
    "# Build a model with 1 hidden layers, 16 neurons, and relu activations."
   ]
  },
  {
   "cell_type": "code",
   "execution_count": 21,
   "id": "c47363d4-894a-4762-8576-03f9dad5d810",
   "metadata": {},
   "outputs": [],
   "source": [
    "def build_model_1(shape):\n",
    "  input = keras.Input(shape)\n",
    "  l1 = layers.Dense(16, activation=\"relu\")(input)\n",
    "  output = layers.Dense(1)(l1)\n",
    "  model = keras.Model(inputs=input,outputs=output)\n",
    "  return model "
   ]
  },
  {
   "cell_type": "markdown",
   "id": "7c4c4468",
   "metadata": {},
   "source": [
    "# Function to Train the Model"
   ]
  },
  {
   "cell_type": "code",
   "execution_count": 7,
   "id": "417e2591",
   "metadata": {
    "colab": {
     "base_uri": "https://localhost:8080/"
    },
    "executionInfo": {
     "elapsed": 458,
     "status": "ok",
     "timestamp": 1645466845891,
     "user": {
      "displayName": "Beth White",
      "photoUrl": "https://lh3.googleusercontent.com/a-/AOh14Gi2PiOhbmXWHX0i-JndtQuNBFoEb4JTKG2OsdI6uA=s64",
      "userId": "06650684930091111574"
     },
     "user_tz": 300
    },
    "id": "417e2591",
    "outputId": "6a6af84e-d9be-4c86-eed1-418c0e360280"
   },
   "outputs": [],
   "source": [
    "def train_model(model,inputs,outputs):\n",
    "  model.compile(optimizer=\"rmsprop\",loss=\"mse\",metrics=[\"mae\"])\n",
    "  model.fit(inputs,outputs,epochs=100)"
   ]
  },
  {
   "cell_type": "markdown",
   "id": "c44b3919",
   "metadata": {},
   "source": [
    "# Function to Predict"
   ]
  },
  {
   "cell_type": "code",
   "execution_count": 8,
   "id": "15543e4e",
   "metadata": {},
   "outputs": [],
   "source": [
    "def predict(model,data):\n",
    "    predictions = model.predict(data)\n",
    "    return predictions"
   ]
  },
  {
   "cell_type": "code",
   "execution_count": 9,
   "id": "c904334c",
   "metadata": {},
   "outputs": [],
   "source": [
    "def show(prediction,label):\n",
    "    print(\"the prediction is \",prediction)\n",
    "    print(\"the correct value is \",label)"
   ]
  },
  {
   "cell_type": "markdown",
   "id": "bf57e0db",
   "metadata": {},
   "source": [
    "# Building a model"
   ]
  },
  {
   "cell_type": "code",
   "execution_count": 22,
   "id": "82d57581",
   "metadata": {
    "colab": {
     "base_uri": "https://localhost:8080/"
    },
    "executionInfo": {
     "elapsed": 6238,
     "status": "ok",
     "timestamp": 1645466852125,
     "user": {
      "displayName": "Beth White",
      "photoUrl": "https://lh3.googleusercontent.com/a-/AOh14Gi2PiOhbmXWHX0i-JndtQuNBFoEb4JTKG2OsdI6uA=s64",
      "userId": "06650684930091111574"
     },
     "user_tz": 300
    },
    "id": "82d57581",
    "outputId": "975c990c-8e31-4101-b11f-8a061d069aa6"
   },
   "outputs": [
    {
     "name": "stdout",
     "output_type": "stream",
     "text": [
      "Model: \"model\"\n",
      "_________________________________________________________________\n",
      " Layer (type)                Output Shape              Param #   \n",
      "=================================================================\n",
      " input_1 (InputLayer)        [(None, 13)]              0         \n",
      "                                                                 \n",
      " dense_8 (Dense)             (None, 16)                224       \n",
      "                                                                 \n",
      " dense_9 (Dense)             (None, 1)                 17        \n",
      "                                                                 \n",
      "=================================================================\n",
      "Total params: 241\n",
      "Trainable params: 241\n",
      "Non-trainable params: 0\n",
      "_________________________________________________________________\n"
     ]
    }
   ],
   "source": [
    "model = build_model_1(train_data.shape[1])\n",
    "model.summary()"
   ]
  },
  {
   "cell_type": "markdown",
   "id": "77245050",
   "metadata": {},
   "source": [
    "# Training the Model"
   ]
  },
  {
   "cell_type": "code",
   "execution_count": 23,
   "id": "027e9965",
   "metadata": {},
   "outputs": [
    {
     "name": "stdout",
     "output_type": "stream",
     "text": [
      "Epoch 1/100\n",
      "13/13 [==============================] - 1s 3ms/step - loss: 567.1764 - mae: 21.9592\n",
      "Epoch 2/100\n",
      "13/13 [==============================] - 0s 3ms/step - loss: 553.5801 - mae: 21.6244\n",
      "Epoch 3/100\n",
      "13/13 [==============================] - 0s 3ms/step - loss: 542.3663 - mae: 21.3498\n",
      "Epoch 4/100\n",
      "13/13 [==============================] - 0s 3ms/step - loss: 531.6192 - mae: 21.0779\n",
      "Epoch 5/100\n",
      "13/13 [==============================] - 0s 3ms/step - loss: 520.8254 - mae: 20.8037\n",
      "Epoch 6/100\n",
      "13/13 [==============================] - 0s 2ms/step - loss: 509.8740 - mae: 20.5161\n",
      "Epoch 7/100\n",
      "13/13 [==============================] - 0s 2ms/step - loss: 498.7956 - mae: 20.2283\n",
      "Epoch 8/100\n",
      "13/13 [==============================] - 0s 2ms/step - loss: 487.5111 - mae: 19.9239\n",
      "Epoch 9/100\n",
      "13/13 [==============================] - 0s 9ms/step - loss: 476.2750 - mae: 19.6228\n",
      "Epoch 10/100\n",
      "13/13 [==============================] - 0s 2ms/step - loss: 464.8645 - mae: 19.3162\n",
      "Epoch 11/100\n",
      "13/13 [==============================] - 0s 4ms/step - loss: 453.3214 - mae: 19.0048\n",
      "Epoch 12/100\n",
      "13/13 [==============================] - 0s 5ms/step - loss: 441.7341 - mae: 18.6846\n",
      "Epoch 13/100\n",
      "13/13 [==============================] - 0s 3ms/step - loss: 430.1591 - mae: 18.3655\n",
      "Epoch 14/100\n",
      "13/13 [==============================] - 0s 3ms/step - loss: 418.2231 - mae: 18.0462\n",
      "Epoch 15/100\n",
      "13/13 [==============================] - 0s 4ms/step - loss: 406.4333 - mae: 17.7302\n",
      "Epoch 16/100\n",
      "13/13 [==============================] - 0s 3ms/step - loss: 394.5438 - mae: 17.4103\n",
      "Epoch 17/100\n",
      "13/13 [==============================] - 0s 3ms/step - loss: 382.6715 - mae: 17.0879\n",
      "Epoch 18/100\n",
      "13/13 [==============================] - 0s 3ms/step - loss: 370.4602 - mae: 16.7542\n",
      "Epoch 19/100\n",
      "13/13 [==============================] - 0s 3ms/step - loss: 358.1334 - mae: 16.4192\n",
      "Epoch 20/100\n",
      "13/13 [==============================] - 0s 3ms/step - loss: 345.6525 - mae: 16.0731\n",
      "Epoch 21/100\n",
      "13/13 [==============================] - 0s 3ms/step - loss: 332.8028 - mae: 15.7182\n",
      "Epoch 22/100\n",
      "13/13 [==============================] - 0s 3ms/step - loss: 320.4674 - mae: 15.3692\n",
      "Epoch 23/100\n",
      "13/13 [==============================] - 0s 3ms/step - loss: 307.9799 - mae: 15.0152\n",
      "Epoch 24/100\n",
      "13/13 [==============================] - 0s 2ms/step - loss: 295.5525 - mae: 14.6609\n",
      "Epoch 25/100\n",
      "13/13 [==============================] - 0s 2ms/step - loss: 283.2092 - mae: 14.3009\n",
      "Epoch 26/100\n",
      "13/13 [==============================] - 0s 3ms/step - loss: 271.0372 - mae: 13.9515\n",
      "Epoch 27/100\n",
      "13/13 [==============================] - 0s 3ms/step - loss: 259.0166 - mae: 13.5791\n",
      "Epoch 28/100\n",
      "13/13 [==============================] - 0s 3ms/step - loss: 246.8901 - mae: 13.2120\n",
      "Epoch 29/100\n",
      "13/13 [==============================] - 0s 3ms/step - loss: 235.3169 - mae: 12.8297\n",
      "Epoch 30/100\n",
      "13/13 [==============================] - 0s 3ms/step - loss: 223.8125 - mae: 12.4517\n",
      "Epoch 31/100\n",
      "13/13 [==============================] - 0s 3ms/step - loss: 212.5945 - mae: 12.0635\n",
      "Epoch 32/100\n",
      "13/13 [==============================] - 0s 3ms/step - loss: 201.6221 - mae: 11.6705\n",
      "Epoch 33/100\n",
      "13/13 [==============================] - 0s 3ms/step - loss: 190.9509 - mae: 11.2916\n",
      "Epoch 34/100\n",
      "13/13 [==============================] - 0s 3ms/step - loss: 180.5654 - mae: 10.9080\n",
      "Epoch 35/100\n",
      "13/13 [==============================] - 0s 3ms/step - loss: 170.8091 - mae: 10.5537\n",
      "Epoch 36/100\n",
      "13/13 [==============================] - 0s 2ms/step - loss: 161.1592 - mae: 10.1956\n",
      "Epoch 37/100\n",
      "13/13 [==============================] - 0s 3ms/step - loss: 152.0192 - mae: 9.8476\n",
      "Epoch 38/100\n",
      "13/13 [==============================] - 0s 2ms/step - loss: 143.1658 - mae: 9.4937\n",
      "Epoch 39/100\n",
      "13/13 [==============================] - 0s 2ms/step - loss: 134.8113 - mae: 9.1670\n",
      "Epoch 40/100\n",
      "13/13 [==============================] - 0s 3ms/step - loss: 126.9121 - mae: 8.8377\n",
      "Epoch 41/100\n",
      "13/13 [==============================] - 0s 3ms/step - loss: 119.3617 - mae: 8.5495\n",
      "Epoch 42/100\n",
      "13/13 [==============================] - 0s 3ms/step - loss: 112.4105 - mae: 8.2691\n",
      "Epoch 43/100\n",
      "13/13 [==============================] - 0s 4ms/step - loss: 105.7129 - mae: 7.9907\n",
      "Epoch 44/100\n",
      "13/13 [==============================] - 0s 3ms/step - loss: 99.3627 - mae: 7.7277\n",
      "Epoch 45/100\n",
      "13/13 [==============================] - 0s 3ms/step - loss: 93.4009 - mae: 7.4808\n",
      "Epoch 46/100\n",
      "13/13 [==============================] - 0s 3ms/step - loss: 87.8217 - mae: 7.2329\n",
      "Epoch 47/100\n",
      "13/13 [==============================] - 0s 2ms/step - loss: 82.7181 - mae: 6.9992\n",
      "Epoch 48/100\n",
      "13/13 [==============================] - 0s 2ms/step - loss: 77.6376 - mae: 6.7752\n",
      "Epoch 49/100\n",
      "13/13 [==============================] - 0s 2ms/step - loss: 73.0082 - mae: 6.5489\n",
      "Epoch 50/100\n",
      "13/13 [==============================] - 0s 2ms/step - loss: 68.7943 - mae: 6.3391\n",
      "Epoch 51/100\n",
      "13/13 [==============================] - 0s 3ms/step - loss: 64.7836 - mae: 6.1426\n",
      "Epoch 52/100\n",
      "13/13 [==============================] - 0s 2ms/step - loss: 61.1400 - mae: 5.9390\n",
      "Epoch 53/100\n",
      "13/13 [==============================] - 0s 3ms/step - loss: 57.9136 - mae: 5.7656\n",
      "Epoch 54/100\n",
      "13/13 [==============================] - 0s 2ms/step - loss: 54.9463 - mae: 5.5923\n",
      "Epoch 55/100\n",
      "13/13 [==============================] - 0s 3ms/step - loss: 52.1696 - mae: 5.4250\n",
      "Epoch 56/100\n",
      "13/13 [==============================] - 0s 4ms/step - loss: 49.5737 - mae: 5.2748\n",
      "Epoch 57/100\n",
      "13/13 [==============================] - 0s 3ms/step - loss: 47.1170 - mae: 5.1154\n",
      "Epoch 58/100\n",
      "13/13 [==============================] - 0s 3ms/step - loss: 44.8658 - mae: 4.9646\n",
      "Epoch 59/100\n",
      "13/13 [==============================] - 0s 3ms/step - loss: 42.7639 - mae: 4.8196\n",
      "Epoch 60/100\n",
      "13/13 [==============================] - 0s 3ms/step - loss: 40.8940 - mae: 4.6806\n",
      "Epoch 61/100\n",
      "13/13 [==============================] - 0s 2ms/step - loss: 39.1050 - mae: 4.5509\n",
      "Epoch 62/100\n",
      "13/13 [==============================] - 0s 2ms/step - loss: 37.4262 - mae: 4.4343\n",
      "Epoch 63/100\n",
      "13/13 [==============================] - 0s 3ms/step - loss: 35.8868 - mae: 4.3314\n",
      "Epoch 64/100\n",
      "13/13 [==============================] - 0s 2ms/step - loss: 34.4749 - mae: 4.2209\n",
      "Epoch 65/100\n",
      "13/13 [==============================] - 0s 2ms/step - loss: 33.1603 - mae: 4.1264\n",
      "Epoch 66/100\n",
      "13/13 [==============================] - 0s 2ms/step - loss: 31.9569 - mae: 4.0445\n",
      "Epoch 67/100\n",
      "13/13 [==============================] - 0s 2ms/step - loss: 30.8389 - mae: 3.9608\n",
      "Epoch 68/100\n",
      "13/13 [==============================] - 0s 2ms/step - loss: 29.8692 - mae: 3.8849\n",
      "Epoch 69/100\n",
      "13/13 [==============================] - 0s 2ms/step - loss: 28.9738 - mae: 3.8199\n",
      "Epoch 70/100\n",
      "13/13 [==============================] - 0s 2ms/step - loss: 28.1874 - mae: 3.7670\n",
      "Epoch 71/100\n",
      "13/13 [==============================] - 0s 2ms/step - loss: 27.4508 - mae: 3.7023\n",
      "Epoch 72/100\n",
      "13/13 [==============================] - 0s 2ms/step - loss: 26.7905 - mae: 3.6584\n",
      "Epoch 73/100\n",
      "13/13 [==============================] - 0s 2ms/step - loss: 26.1911 - mae: 3.6151\n",
      "Epoch 74/100\n",
      "13/13 [==============================] - 0s 2ms/step - loss: 25.6789 - mae: 3.5672\n",
      "Epoch 75/100\n",
      "13/13 [==============================] - 0s 2ms/step - loss: 25.2092 - mae: 3.5402\n",
      "Epoch 76/100\n",
      "13/13 [==============================] - 0s 2ms/step - loss: 24.7829 - mae: 3.5055\n",
      "Epoch 77/100\n",
      "13/13 [==============================] - 0s 2ms/step - loss: 24.3987 - mae: 3.4775\n",
      "Epoch 78/100\n",
      "13/13 [==============================] - 0s 3ms/step - loss: 24.0524 - mae: 3.4464\n",
      "Epoch 79/100\n",
      "13/13 [==============================] - 0s 4ms/step - loss: 23.7013 - mae: 3.4191\n",
      "Epoch 80/100\n",
      "13/13 [==============================] - 0s 3ms/step - loss: 23.3487 - mae: 3.3917\n",
      "Epoch 81/100\n",
      "13/13 [==============================] - 0s 3ms/step - loss: 23.0513 - mae: 3.3755\n",
      "Epoch 82/100\n",
      "13/13 [==============================] - 0s 3ms/step - loss: 22.7565 - mae: 3.3577\n",
      "Epoch 83/100\n",
      "13/13 [==============================] - 0s 3ms/step - loss: 22.5228 - mae: 3.3366\n",
      "Epoch 84/100\n",
      "13/13 [==============================] - 0s 3ms/step - loss: 22.2360 - mae: 3.3195\n",
      "Epoch 85/100\n",
      "13/13 [==============================] - 0s 3ms/step - loss: 22.0208 - mae: 3.2860\n",
      "Epoch 86/100\n",
      "13/13 [==============================] - 0s 2ms/step - loss: 21.7724 - mae: 3.2758\n",
      "Epoch 87/100\n",
      "13/13 [==============================] - 0s 2ms/step - loss: 21.5235 - mae: 3.2587\n",
      "Epoch 88/100\n",
      "13/13 [==============================] - 0s 2ms/step - loss: 21.3023 - mae: 3.2376\n",
      "Epoch 89/100\n",
      "13/13 [==============================] - 0s 8ms/step - loss: 21.0940 - mae: 3.2330\n",
      "Epoch 90/100\n",
      "13/13 [==============================] - 0s 3ms/step - loss: 20.8489 - mae: 3.1997\n",
      "Epoch 91/100\n",
      "13/13 [==============================] - 0s 2ms/step - loss: 20.6718 - mae: 3.2024\n",
      "Epoch 92/100\n",
      "13/13 [==============================] - 0s 3ms/step - loss: 20.4798 - mae: 3.1763\n",
      "Epoch 93/100\n",
      "13/13 [==============================] - 0s 2ms/step - loss: 20.2805 - mae: 3.1589\n",
      "Epoch 94/100\n",
      "13/13 [==============================] - 0s 2ms/step - loss: 20.0707 - mae: 3.1512\n",
      "Epoch 95/100\n",
      "13/13 [==============================] - 0s 2ms/step - loss: 19.8878 - mae: 3.1375\n",
      "Epoch 96/100\n",
      "13/13 [==============================] - 0s 2ms/step - loss: 19.6784 - mae: 3.1168\n",
      "Epoch 97/100\n",
      "13/13 [==============================] - 0s 2ms/step - loss: 19.5080 - mae: 3.1029\n",
      "Epoch 98/100\n",
      "13/13 [==============================] - 0s 2ms/step - loss: 19.3210 - mae: 3.0863\n",
      "Epoch 99/100\n",
      "13/13 [==============================] - 0s 2ms/step - loss: 19.1690 - mae: 3.0759\n",
      "Epoch 100/100\n",
      "13/13 [==============================] - 0s 2ms/step - loss: 18.9674 - mae: 3.0656\n"
     ]
    }
   ],
   "source": [
    "train_model(model,train_data,train_targets)"
   ]
  },
  {
   "cell_type": "markdown",
   "id": "bae3b3e2",
   "metadata": {},
   "source": [
    "# Shape of the Testing Data"
   ]
  },
  {
   "cell_type": "code",
   "execution_count": 24,
   "id": "79105a4d",
   "metadata": {
    "id": "79105a4d"
   },
   "outputs": [
    {
     "data": {
      "text/plain": [
       "(102, 13)"
      ]
     },
     "execution_count": 24,
     "metadata": {},
     "output_type": "execute_result"
    }
   ],
   "source": [
    "test_data.shape"
   ]
  },
  {
   "cell_type": "markdown",
   "id": "7607f4b1",
   "metadata": {},
   "source": [
    "# Predict"
   ]
  },
  {
   "cell_type": "code",
   "execution_count": 25,
   "id": "e902fd97",
   "metadata": {},
   "outputs": [
    {
     "name": "stdout",
     "output_type": "stream",
     "text": [
      "4/4 [==============================] - 0s 3ms/step\n"
     ]
    }
   ],
   "source": [
    "predictions = predict(model,test_data)"
   ]
  },
  {
   "cell_type": "code",
   "execution_count": 26,
   "id": "c9c188f4",
   "metadata": {},
   "outputs": [
    {
     "data": {
      "text/plain": [
       "array([[ 9.067154],\n",
       "       [18.729984],\n",
       "       [20.78861 ],\n",
       "       [31.29892 ],\n",
       "       [25.809114],\n",
       "       [17.491571],\n",
       "       [26.69798 ],\n",
       "       [22.513199],\n",
       "       [21.617174],\n",
       "       [18.39227 ],\n",
       "       [10.136055],\n",
       "       [16.437857],\n",
       "       [17.988195],\n",
       "       [42.217846],\n",
       "       [17.893246],\n",
       "       [18.079271],\n",
       "       [25.370808],\n",
       "       [20.528185],\n",
       "       [16.837852],\n",
       "       [26.874128],\n",
       "       [13.994074],\n",
       "       [14.268528],\n",
       "       [19.802397],\n",
       "       [ 9.385471],\n",
       "       [24.096632],\n",
       "       [18.276752],\n",
       "       [31.544706],\n",
       "       [31.425852],\n",
       "       [13.026009],\n",
       "       [20.322323],\n",
       "       [21.007952],\n",
       "       [14.507336],\n",
       "       [31.366415],\n",
       "       [23.790716],\n",
       "       [15.132891],\n",
       "       [ 9.884165],\n",
       "       [13.474138],\n",
       "       [16.545076],\n",
       "       [23.194948],\n",
       "       [29.039738],\n",
       "       [31.589163],\n",
       "       [28.735842],\n",
       "       [16.73529 ],\n",
       "       [36.127556],\n",
       "       [32.517277],\n",
       "       [25.190695],\n",
       "       [25.837507],\n",
       "       [16.337059],\n",
       "       [19.212318],\n",
       "       [22.900679],\n",
       "       [35.106255],\n",
       "       [17.684664],\n",
       "       [15.053089],\n",
       "       [13.564484],\n",
       "       [31.8483  ],\n",
       "       [29.108534],\n",
       "       [15.674177],\n",
       "       [45.256466],\n",
       "       [32.167427],\n",
       "       [26.167875],\n",
       "       [18.951334],\n",
       "       [17.901037],\n",
       "       [14.956991],\n",
       "       [18.92513 ],\n",
       "       [23.34657 ],\n",
       "       [26.093157],\n",
       "       [16.16431 ],\n",
       "       [24.576775],\n",
       "       [18.583918],\n",
       "       [10.705729],\n",
       "       [27.189468],\n",
       "       [27.287981],\n",
       "       [19.79348 ],\n",
       "       [20.684206],\n",
       "       [24.492586],\n",
       "       [18.922068],\n",
       "       [19.525988],\n",
       "       [23.511824],\n",
       "       [36.20202 ],\n",
       "       [12.919477],\n",
       "       [19.447931],\n",
       "       [38.74975 ],\n",
       "       [10.525774],\n",
       "       [16.29649 ],\n",
       "       [18.608877],\n",
       "       [16.87571 ],\n",
       "       [17.646746],\n",
       "       [25.20315 ],\n",
       "       [25.878706],\n",
       "       [20.15603 ],\n",
       "       [18.49311 ],\n",
       "       [19.901339],\n",
       "       [25.829643],\n",
       "       [36.148106],\n",
       "       [36.002846],\n",
       "       [19.136034],\n",
       "       [36.76951 ],\n",
       "       [36.531574],\n",
       "       [22.790203],\n",
       "       [43.18741 ],\n",
       "       [32.9538  ],\n",
       "       [18.920666]], dtype=float32)"
      ]
     },
     "execution_count": 26,
     "metadata": {},
     "output_type": "execute_result"
    }
   ],
   "source": [
    "predictions"
   ]
  },
  {
   "cell_type": "markdown",
   "id": "85965c34",
   "metadata": {},
   "source": [
    "# Show the first 10 Predictions"
   ]
  },
  {
   "cell_type": "code",
   "execution_count": 27,
   "id": "6b8ba768",
   "metadata": {},
   "outputs": [
    {
     "name": "stdout",
     "output_type": "stream",
     "text": [
      "the prediction is  [9.067154]\n",
      "the correct value is  7.2\n",
      " \n",
      "the prediction is  [18.729984]\n",
      "the correct value is  18.8\n",
      " \n",
      "the prediction is  [20.78861]\n",
      "the correct value is  19.0\n",
      " \n",
      "the prediction is  [31.29892]\n",
      "the correct value is  27.0\n",
      " \n",
      "the prediction is  [25.809114]\n",
      "the correct value is  22.2\n",
      " \n",
      "the prediction is  [17.491571]\n",
      "the correct value is  24.5\n",
      " \n",
      "the prediction is  [26.69798]\n",
      "the correct value is  31.2\n",
      " \n",
      "the prediction is  [22.513199]\n",
      "the correct value is  22.9\n",
      " \n",
      "the prediction is  [21.617174]\n",
      "the correct value is  20.5\n",
      " \n",
      "the prediction is  [18.39227]\n",
      "the correct value is  23.2\n",
      " \n"
     ]
    }
   ],
   "source": [
    "for i in range(10):\n",
    "    show(predictions[i],test_targets[i])\n",
    "    print(\" \")"
   ]
  },
  {
   "cell_type": "code",
   "execution_count": 28,
   "id": "e3b18659",
   "metadata": {},
   "outputs": [
    {
     "name": "stdout",
     "output_type": "stream",
     "text": [
      "4/4 [==============================] - 0s 2ms/step - loss: 23.1775 - mae: 3.6660\n"
     ]
    },
    {
     "data": {
      "text/plain": [
       "[23.177471160888672, 3.6660265922546387]"
      ]
     },
     "execution_count": 28,
     "metadata": {},
     "output_type": "execute_result"
    }
   ],
   "source": [
    "model.evaluate(test_data,test_targets)"
   ]
  },
  {
   "cell_type": "markdown",
   "id": "5bea3a79-0f60-4705-8f50-1b70bd843c75",
   "metadata": {},
   "source": [
    "# Run the three models and compares the accuracy"
   ]
  },
  {
   "cell_type": "code",
   "execution_count": null,
   "id": "f87a925a-290e-4593-abf1-7099d2115db5",
   "metadata": {},
   "outputs": [],
   "source": []
  },
  {
   "cell_type": "code",
   "execution_count": null,
   "id": "6ffd6459-4b8a-4955-a0bb-aa7c8f1eda6f",
   "metadata": {},
   "outputs": [],
   "source": []
  }
 ],
 "metadata": {
  "colab": {
   "name": "HousePrices.ipynb",
   "provenance": []
  },
  "kernelspec": {
   "display_name": "sethbonder",
   "language": "python",
   "name": "sethbonder"
  },
  "language_info": {
   "codemirror_mode": {
    "name": "ipython",
    "version": 3
   },
   "file_extension": ".py",
   "mimetype": "text/x-python",
   "name": "python",
   "nbconvert_exporter": "python",
   "pygments_lexer": "ipython3",
   "version": "3.10.8"
  }
 },
 "nbformat": 4,
 "nbformat_minor": 5
}
