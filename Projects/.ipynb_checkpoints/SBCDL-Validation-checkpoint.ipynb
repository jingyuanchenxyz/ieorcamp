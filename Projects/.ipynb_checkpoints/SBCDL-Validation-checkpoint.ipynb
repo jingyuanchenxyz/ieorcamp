{
 "cells": [
  {
   "cell_type": "code",
   "execution_count": 1,
   "id": "4089d35f",
   "metadata": {},
   "outputs": [],
   "source": [
    "import keras\n",
    "from keras import layers\n",
    "from keras.datasets import imdb\n",
    "import numpy as np\n",
    "nb_words = 10000\n",
    "(train_data, train_labels), (test_data, test_labels) = imdb.load_data(num_words=nb_words)"
   ]
  },
  {
   "cell_type": "markdown",
   "id": "f934cc8d-3a67-4a9d-b944-f4a8c621edd0",
   "metadata": {},
   "source": [
    "# get the word index and its reverse"
   ]
  },
  {
   "cell_type": "code",
   "execution_count": 2,
   "id": "f3b017b6-115d-4571-8fee-b423c5927590",
   "metadata": {},
   "outputs": [],
   "source": [
    "word_index = imdb.get_word_index()\n",
    "reverse_word_index = dict([(value, key) for (key, value) in word_index.items()])"
   ]
  },
  {
   "cell_type": "markdown",
   "id": "c98ab52f-91af-4b1e-8110-ea4f8a5780a8",
   "metadata": {},
   "source": [
    "# get the actual review"
   ]
  },
  {
   "cell_type": "code",
   "execution_count": 3,
   "id": "b857604b-118f-4bed-ad2a-d584fe4fb18c",
   "metadata": {},
   "outputs": [],
   "source": [
    "def get_review_text(review):\n",
    "   return \" \".join([reverse_word_index.get(i - 3, \"?\") for i in review])"
   ]
  },
  {
   "cell_type": "markdown",
   "id": "007d3ab0-a938-4a6b-b38a-f959af6c7344",
   "metadata": {},
   "source": [
    "# print the actual review"
   ]
  },
  {
   "cell_type": "code",
   "execution_count": 4,
   "id": "262fbc28-562a-43de-bcbc-00eb1398753a",
   "metadata": {},
   "outputs": [
    {
     "name": "stdout",
     "output_type": "stream",
     "text": [
      "? lavish production values and solid performances in this straightforward adaption of jane ? satirical classic about the marriage game within and between the classes in ? 18th century england northam and paltrow are a ? mixture as friends who must pass through ? and lies to discover that they love each other good humor is a ? virtue which goes a long way towards explaining the ? of the aged source material which has been toned down a bit in its harsh ? i liked the look of the film and how shots were set up and i thought it didn't rely too much on ? of head shots like most other films of the 80s and 90s do very good results\n"
     ]
    }
   ],
   "source": [
    "print(get_review_text(train_data[6]))"
   ]
  },
  {
   "cell_type": "markdown",
   "id": "92b1af95-1145-4f28-8599-12618f365f8a",
   "metadata": {},
   "source": [
    "# define the one-hot encoding // The dimension is the number of words"
   ]
  },
  {
   "cell_type": "code",
   "execution_count": 5,
   "id": "3978addb-31db-4211-b304-a1f7b1d8113d",
   "metadata": {},
   "outputs": [],
   "source": [
    "def one_hot_encode(sequences,dimension):\n",
    "    encodings = np.zeros((len(sequences),dimension))\n",
    "    for i, sequence in enumerate(sequences):\n",
    "      for j in sequence:\n",
    "          encodings[i,j] = 1\n",
    "    return encodings"
   ]
  },
  {
   "cell_type": "markdown",
   "id": "bc4a0dc2-730c-4ce4-b135-754e6539f5c0",
   "metadata": {},
   "source": [
    "# train a binary classification model"
   ]
  },
  {
   "cell_type": "code",
   "execution_count": 6,
   "id": "74005da7-e896-4c42-bcc3-bd7a1f2e7198",
   "metadata": {},
   "outputs": [],
   "source": [
    "def train_the_binary_classification(model,inputs,outputs,val_inputs,val_outputs):\n",
    "  model.compile(optimizer=\"rmsprop\",loss=\"binary_crossentropy\",metrics=[\"binary_accuracy\"])\n",
    "  return model.fit(inputs,outputs,epochs=20,batch_size=512,validation_data=(val_inputs,val_outputs))"
   ]
  },
  {
   "cell_type": "markdown",
   "id": "38faeddd-9c5f-401d-a931-49071307883b",
   "metadata": {},
   "source": [
    "# Define the training and validation data"
   ]
  },
  {
   "cell_type": "code",
   "execution_count": 8,
   "id": "5b5a456a-01c9-4f7b-be3f-37aa32902b64",
   "metadata": {},
   "outputs": [],
   "source": [
    "partial_train_data = train_data[10000:]\n",
    "partial_train_labels = train_labels[10000:]\n",
    "validation_data = train_data[:10000]\n",
    "validation_labels = train_labels[:10000]"
   ]
  },
  {
   "cell_type": "markdown",
   "id": "e8f5aad1-8bdc-4a28-9a8c-c822922d0901",
   "metadata": {},
   "source": [
    "# Encode the data"
   ]
  },
  {
   "cell_type": "code",
   "execution_count": 17,
   "id": "c46851f5",
   "metadata": {},
   "outputs": [],
   "source": [
    "# etrain_data = one_hot_encode(train_data,nb_words)\n",
    "# etest_data = one_hot_encode(test_data,nb_words)\n",
    "# evalidation_data = one_hot_encode(validation_data,nb_words)\n",
    "\n",
    "train_encodings = one_hot_encode(partial_train_data, nb_words)\n",
    "val_encodings = one_hot_encode(validation_data, nb_words)\n",
    "test_encodings = one_hot_encode(test_data, nb_words)\n"
   ]
  },
  {
   "cell_type": "markdown",
   "id": "d0efa92e-e3ba-42c1-9d34-d29f39467fd0",
   "metadata": {},
   "source": [
    "# print the first encoding"
   ]
  },
  {
   "cell_type": "code",
   "execution_count": 10,
   "id": "0610500b-60da-42c2-b405-225258ed5854",
   "metadata": {},
   "outputs": [
    {
     "name": "stdout",
     "output_type": "stream",
     "text": [
      "First encoded training sample: [0. 1. 1. ... 0. 0. 0.]\n"
     ]
    }
   ],
   "source": [
    "# etrain_labels = np.asarray(train_labels).astype(\"float32\")\n",
    "# print(etrain_labels)\n",
    "# etest_labels = np.asarray(test_labels).astype(\"float32\")\n",
    "# print(etest_labels)\n",
    "# evalidation_labels = np.asarray(validation_labels).astype(\"float32\")\n",
    "# print(evalidation_labels)\n",
    "\n",
    "print(\"First encoded training sample:\", train_encodings[0])\n"
   ]
  },
  {
   "cell_type": "markdown",
   "id": "82378607-7244-44dd-bc21-71d9d7a0de2e",
   "metadata": {},
   "source": [
    "# Define a good model; do not forget the last layer for binary classification"
   ]
  },
  {
   "cell_type": "code",
   "execution_count": 11,
   "id": "a9224dbc",
   "metadata": {},
   "outputs": [
    {
     "name": "stdout",
     "output_type": "stream",
     "text": [
      "Model: \"model\"\n",
      "_________________________________________________________________\n",
      " Layer (type)                Output Shape              Param #   \n",
      "=================================================================\n",
      " data (InputLayer)           [(None, 10000)]           0         \n",
      "                                                                 \n",
      " dense (Dense)               (None, 64)                640064    \n",
      "                                                                 \n",
      " dense_1 (Dense)             (None, 64)                4160      \n",
      "                                                                 \n",
      " dense_2 (Dense)             (None, 1)                 65        \n",
      "                                                                 \n",
      "=================================================================\n",
      "Total params: 644,289\n",
      "Trainable params: 644,289\n",
      "Non-trainable params: 0\n",
      "_________________________________________________________________\n"
     ]
    }
   ],
   "source": [
    "input = keras.Input(shape=(nb_words,),name=\"data\")\n",
    "l1 = layers.Dense(64,activation=\"relu\")(input)\n",
    "l2 = layers.Dense(64,activation=\"relu\")(l1)\n",
    "output = layers.Dense(1,activation=\"sigmoid\")(l2) \n",
    "model = keras.Model(inputs=input,outputs=output)\n",
    "model.summary()"
   ]
  },
  {
   "cell_type": "markdown",
   "id": "fd2b5b3e-7360-41da-87a8-524b0a2f7359",
   "metadata": {},
   "source": [
    "# Train the binary classification with a validation set"
   ]
  },
  {
   "cell_type": "code",
   "execution_count": 12,
   "id": "6039cdbb",
   "metadata": {},
   "outputs": [
    {
     "name": "stdout",
     "output_type": "stream",
     "text": [
      "Epoch 1/20\n",
      "30/30 [==============================] - 2s 37ms/step - loss: 0.4854 - binary_accuracy: 0.7714 - val_loss: 0.3248 - val_binary_accuracy: 0.8786\n",
      "Epoch 2/20\n",
      "30/30 [==============================] - 1s 17ms/step - loss: 0.2680 - binary_accuracy: 0.9001 - val_loss: 0.3012 - val_binary_accuracy: 0.8779\n",
      "Epoch 3/20\n",
      "30/30 [==============================] - 1s 18ms/step - loss: 0.1826 - binary_accuracy: 0.9336 - val_loss: 0.3624 - val_binary_accuracy: 0.8604\n",
      "Epoch 4/20\n",
      "30/30 [==============================] - 1s 18ms/step - loss: 0.1417 - binary_accuracy: 0.9495 - val_loss: 0.3428 - val_binary_accuracy: 0.8727\n",
      "Epoch 5/20\n",
      "30/30 [==============================] - 1s 19ms/step - loss: 0.1169 - binary_accuracy: 0.9565 - val_loss: 0.3228 - val_binary_accuracy: 0.8802\n",
      "Epoch 6/20\n",
      "30/30 [==============================] - 1s 18ms/step - loss: 0.0787 - binary_accuracy: 0.9749 - val_loss: 0.5588 - val_binary_accuracy: 0.8357\n",
      "Epoch 7/20\n",
      "30/30 [==============================] - 1s 18ms/step - loss: 0.0670 - binary_accuracy: 0.9777 - val_loss: 0.3800 - val_binary_accuracy: 0.8802\n",
      "Epoch 8/20\n",
      "30/30 [==============================] - 1s 18ms/step - loss: 0.0496 - binary_accuracy: 0.9847 - val_loss: 0.4219 - val_binary_accuracy: 0.8754\n",
      "Epoch 9/20\n",
      "30/30 [==============================] - 1s 18ms/step - loss: 0.0181 - binary_accuracy: 0.9964 - val_loss: 0.4795 - val_binary_accuracy: 0.8758\n",
      "Epoch 10/20\n",
      "30/30 [==============================] - 1s 19ms/step - loss: 0.0322 - binary_accuracy: 0.9899 - val_loss: 0.5107 - val_binary_accuracy: 0.8749\n",
      "Epoch 11/20\n",
      "30/30 [==============================] - 1s 18ms/step - loss: 0.0286 - binary_accuracy: 0.9932 - val_loss: 0.6195 - val_binary_accuracy: 0.8663\n",
      "Epoch 12/20\n",
      "30/30 [==============================] - 1s 18ms/step - loss: 0.0051 - binary_accuracy: 0.9996 - val_loss: 0.5953 - val_binary_accuracy: 0.8739\n",
      "Epoch 13/20\n",
      "30/30 [==============================] - 1s 18ms/step - loss: 0.0027 - binary_accuracy: 0.9999 - val_loss: 0.6796 - val_binary_accuracy: 0.8674\n",
      "Epoch 14/20\n",
      "30/30 [==============================] - 0s 17ms/step - loss: 0.0306 - binary_accuracy: 0.9916 - val_loss: 0.6781 - val_binary_accuracy: 0.8706\n",
      "Epoch 15/20\n",
      "30/30 [==============================] - 0s 16ms/step - loss: 0.0011 - binary_accuracy: 0.9999 - val_loss: 0.7151 - val_binary_accuracy: 0.8702\n",
      "Epoch 16/20\n",
      "30/30 [==============================] - 0s 16ms/step - loss: 7.1416e-04 - binary_accuracy: 1.0000 - val_loss: 0.7779 - val_binary_accuracy: 0.8699\n",
      "Epoch 17/20\n",
      "30/30 [==============================] - 0s 17ms/step - loss: 0.0436 - binary_accuracy: 0.9915 - val_loss: 0.8113 - val_binary_accuracy: 0.8699\n",
      "Epoch 18/20\n",
      "30/30 [==============================] - 0s 17ms/step - loss: 3.4177e-04 - binary_accuracy: 1.0000 - val_loss: 0.8248 - val_binary_accuracy: 0.8710\n",
      "Epoch 19/20\n",
      "30/30 [==============================] - 1s 20ms/step - loss: 2.3259e-04 - binary_accuracy: 1.0000 - val_loss: 0.8592 - val_binary_accuracy: 0.8713\n",
      "Epoch 20/20\n",
      "30/30 [==============================] - 1s 18ms/step - loss: 1.6383e-04 - binary_accuracy: 1.0000 - val_loss: 0.9178 - val_binary_accuracy: 0.8696\n"
     ]
    }
   ],
   "source": [
    "# history = train_the_binary_classification(model,partial_train_data,partial_train_labels,validation_data,validation_labels)\n",
    "\n",
    "history = train_the_binary_classification(model, train_encodings, partial_train_labels, val_encodings, validation_labels)\n"
   ]
  },
  {
   "cell_type": "markdown",
   "id": "3d17ba0c-e0ca-45cd-ab68-2d9cacb557c2",
   "metadata": {},
   "source": [
    "# Evaluate on the training data"
   ]
  },
  {
   "cell_type": "code",
   "execution_count": 13,
   "id": "a0236678-acfc-40dd-9363-e8c5fedb234d",
   "metadata": {},
   "outputs": [
    {
     "name": "stdout",
     "output_type": "stream",
     "text": [
      "469/469 [==============================] - 4s 9ms/step - loss: 1.0148e-04 - binary_accuracy: 1.0000\n",
      "Training Loss: 0.0001, Training Accuracy: 1.0000\n"
     ]
    }
   ],
   "source": [
    "train_loss, train_acc = model.evaluate(train_encodings, partial_train_labels)\n",
    "print(f\"Training Loss: {train_loss:.4f}, Training Accuracy: {train_acc:.4f}\")\n",
    "\n"
   ]
  },
  {
   "cell_type": "markdown",
   "id": "acb56034-2860-49a3-b4bc-a72c0391d793",
   "metadata": {},
   "source": [
    "# Evaluate on the Validation Data"
   ]
  },
  {
   "cell_type": "code",
   "execution_count": 14,
   "id": "71fc69d6-f023-40e4-a075-e8a7b53507db",
   "metadata": {},
   "outputs": [
    {
     "name": "stdout",
     "output_type": "stream",
     "text": [
      "313/313 [==============================] - 3s 8ms/step - loss: 0.9178 - binary_accuracy: 0.8696\n",
      "Validation Loss: 0.9178, Validation Accuracy: 0.8696\n"
     ]
    }
   ],
   "source": [
    "val_loss, val_acc = model.evaluate(val_encodings, validation_labels)\n",
    "print(f\"Validation Loss: {val_loss:.4f}, Validation Accuracy: {val_acc:.4f}\")\n",
    "\n"
   ]
  },
  {
   "cell_type": "markdown",
   "id": "fcd25685-cb19-43fa-9e11-adda1d4aeffa",
   "metadata": {},
   "source": [
    "# Evaluate on the testing data"
   ]
  },
  {
   "cell_type": "code",
   "execution_count": 18,
   "id": "dc0ba038-725c-4e76-844a-a31998bdda8c",
   "metadata": {},
   "outputs": [
    {
     "name": "stdout",
     "output_type": "stream",
     "text": [
      "782/782 [==============================] - 6s 8ms/step - loss: 1.0060 - binary_accuracy: 0.8536\n",
      "Testing Loss: 1.0060, Testing Accuracy: 0.8536\n"
     ]
    }
   ],
   "source": [
    "test_loss, test_acc = model.evaluate(test_encodings, test_labels)\n",
    "print(f\"Testing Loss: {test_loss:.4f}, Testing Accuracy: {test_acc:.4f}\")\n"
   ]
  }
 ],
 "metadata": {
  "kernelspec": {
   "display_name": "sethbonder",
   "language": "python",
   "name": "sethbonder"
  },
  "language_info": {
   "codemirror_mode": {
    "name": "ipython",
    "version": 3
   },
   "file_extension": ".py",
   "mimetype": "text/x-python",
   "name": "python",
   "nbconvert_exporter": "python",
   "pygments_lexer": "ipython3",
   "version": "3.10.8"
  }
 },
 "nbformat": 4,
 "nbformat_minor": 5
}
