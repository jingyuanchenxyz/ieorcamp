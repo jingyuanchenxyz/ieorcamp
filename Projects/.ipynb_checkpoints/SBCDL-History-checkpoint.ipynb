{
 "cells": [
  {
   "cell_type": "code",
   "execution_count": 1,
   "id": "4089d35f",
   "metadata": {},
   "outputs": [],
   "source": [
    "import tensorflow \n",
    "import keras\n",
    "from  keras import layers\n",
    "from keras.datasets import imdb\n",
    "import numpy as np\n",
    "\n",
    "nb_words = 10000\n",
    "(train_data, train_labels), (test_data, test_labels) = imdb.load_data(num_words=nb_words)"
   ]
  },
  {
   "cell_type": "markdown",
   "id": "f934cc8d-3a67-4a9d-b944-f4a8c621edd0",
   "metadata": {},
   "source": [
    "# get the word index and its reverse"
   ]
  },
  {
   "cell_type": "code",
   "execution_count": 2,
   "id": "f3b017b6-115d-4571-8fee-b423c5927590",
   "metadata": {},
   "outputs": [],
   "source": [
    "word_index = imdb.get_word_index()\n",
    "reverse_word_index = dict([(value, key) for (key, value) in word_index.items()])"
   ]
  },
  {
   "cell_type": "markdown",
   "id": "c98ab52f-91af-4b1e-8110-ea4f8a5780a8",
   "metadata": {},
   "source": [
    "# get the actual review"
   ]
  },
  {
   "cell_type": "code",
   "execution_count": 3,
   "id": "b857604b-118f-4bed-ad2a-d584fe4fb18c",
   "metadata": {},
   "outputs": [],
   "source": [
    "def get_review_text(review):\n",
    "   return \" \".join([reverse_word_index.get(i - 3, \"?\") for i in review])"
   ]
  },
  {
   "cell_type": "markdown",
   "id": "007d3ab0-a938-4a6b-b38a-f959af6c7344",
   "metadata": {},
   "source": [
    "# print the actual review"
   ]
  },
  {
   "cell_type": "code",
   "execution_count": 4,
   "id": "262fbc28-562a-43de-bcbc-00eb1398753a",
   "metadata": {},
   "outputs": [
    {
     "name": "stdout",
     "output_type": "stream",
     "text": [
      "? lavish production values and solid performances in this straightforward adaption of jane ? satirical classic about the marriage game within and between the classes in ? 18th century england northam and paltrow are a ? mixture as friends who must pass through ? and lies to discover that they love each other good humor is a ? virtue which goes a long way towards explaining the ? of the aged source material which has been toned down a bit in its harsh ? i liked the look of the film and how shots were set up and i thought it didn't rely too much on ? of head shots like most other films of the 80s and 90s do very good results\n"
     ]
    }
   ],
   "source": [
    "print(get_review_text(train_data[6]))"
   ]
  },
  {
   "cell_type": "markdown",
   "id": "92b1af95-1145-4f28-8599-12618f365f8a",
   "metadata": {},
   "source": [
    "# define the one-hot encoding // The dimension is the number of words"
   ]
  },
  {
   "cell_type": "code",
   "execution_count": 5,
   "id": "3978addb-31db-4211-b304-a1f7b1d8113d",
   "metadata": {},
   "outputs": [],
   "source": [
    "def one_hot_encode(sequences,dimension):\n",
    "    encodings = np.zeros((len(sequences),dimension))\n",
    "    for i, sequence in enumerate(sequences):\n",
    "      for j in sequence:\n",
    "          encodings[i,j] = 1\n",
    "    return encodings"
   ]
  },
  {
   "cell_type": "markdown",
   "id": "bc4a0dc2-730c-4ce4-b135-754e6539f5c0",
   "metadata": {},
   "source": [
    "# train a binary classification model"
   ]
  },
  {
   "cell_type": "code",
   "execution_count": 6,
   "id": "74005da7-e896-4c42-bcc3-bd7a1f2e7198",
   "metadata": {},
   "outputs": [],
   "source": [
    "def train_the_binary_classification(model,inputs,outputs,val_inputs,val_outputs):\n",
    "  model.compile(optimizer=\"rmsprop\",loss=\"binary_crossentropy\",metrics=[\"binary_accuracy\"])\n",
    "  return model.fit(inputs,outputs,epochs=20,batch_size=512,validation_data=(val_inputs,val_outputs))"
   ]
  },
  {
   "cell_type": "markdown",
   "id": "8984c07d-8d8c-45d0-b75a-195fac87d871",
   "metadata": {},
   "source": [
    "# Define the training and validation data"
   ]
  },
  {
   "cell_type": "code",
   "execution_count": 7,
   "id": "a9b5a7d3-a8b7-4d36-970f-8f489cf58ef2",
   "metadata": {},
   "outputs": [],
   "source": [
    "partial_train_data = train_data[10000:]\n",
    "partial_train_labels = train_labels[10000:]\n",
    "validation_data = train_data[:10000]\n",
    "validation_labels = train_labels[:10000]"
   ]
  },
  {
   "cell_type": "markdown",
   "id": "e8f5aad1-8bdc-4a28-9a8c-c822922d0901",
   "metadata": {},
   "source": [
    "# Encode the data"
   ]
  },
  {
   "cell_type": "code",
   "execution_count": 8,
   "id": "c46851f5",
   "metadata": {},
   "outputs": [],
   "source": [
    "train_encodings = one_hot_encode(partial_train_data, nb_words)\n",
    "val_encodings = one_hot_encode(validation_data, nb_words)\n",
    "test_encodings = one_hot_encode(test_data, nb_words)"
   ]
  },
  {
   "cell_type": "markdown",
   "id": "82378607-7244-44dd-bc21-71d9d7a0de2e",
   "metadata": {},
   "source": [
    "# Define a great model "
   ]
  },
  {
   "cell_type": "code",
   "execution_count": 9,
   "id": "a9224dbc",
   "metadata": {},
   "outputs": [
    {
     "data": {
      "text/html": [
       "<pre style=\"white-space:pre;overflow-x:auto;line-height:normal;font-family:Menlo,'DejaVu Sans Mono',consolas,'Courier New',monospace\"><span style=\"font-weight: bold\">Model: \"functional\"</span>\n",
       "</pre>\n"
      ],
      "text/plain": [
       "\u001b[1mModel: \"functional\"\u001b[0m\n"
      ]
     },
     "metadata": {},
     "output_type": "display_data"
    },
    {
     "data": {
      "text/html": [
       "<pre style=\"white-space:pre;overflow-x:auto;line-height:normal;font-family:Menlo,'DejaVu Sans Mono',consolas,'Courier New',monospace\">┏━━━━━━━━━━━━━━━━━━━━━━━━━━━━━━━━━━━━━━┳━━━━━━━━━━━━━━━━━━━━━━━━━━━━━┳━━━━━━━━━━━━━━━━━┓\n",
       "┃<span style=\"font-weight: bold\"> Layer (type)                         </span>┃<span style=\"font-weight: bold\"> Output Shape                </span>┃<span style=\"font-weight: bold\">         Param # </span>┃\n",
       "┡━━━━━━━━━━━━━━━━━━━━━━━━━━━━━━━━━━━━━━╇━━━━━━━━━━━━━━━━━━━━━━━━━━━━━╇━━━━━━━━━━━━━━━━━┩\n",
       "│ data (<span style=\"color: #0087ff; text-decoration-color: #0087ff\">InputLayer</span>)                    │ (<span style=\"color: #00d7ff; text-decoration-color: #00d7ff\">None</span>, <span style=\"color: #00af00; text-decoration-color: #00af00\">10000</span>)               │               <span style=\"color: #00af00; text-decoration-color: #00af00\">0</span> │\n",
       "├──────────────────────────────────────┼─────────────────────────────┼─────────────────┤\n",
       "│ dense (<span style=\"color: #0087ff; text-decoration-color: #0087ff\">Dense</span>)                        │ (<span style=\"color: #00d7ff; text-decoration-color: #00d7ff\">None</span>, <span style=\"color: #00af00; text-decoration-color: #00af00\">64</span>)                  │         <span style=\"color: #00af00; text-decoration-color: #00af00\">640,064</span> │\n",
       "├──────────────────────────────────────┼─────────────────────────────┼─────────────────┤\n",
       "│ dense_1 (<span style=\"color: #0087ff; text-decoration-color: #0087ff\">Dense</span>)                      │ (<span style=\"color: #00d7ff; text-decoration-color: #00d7ff\">None</span>, <span style=\"color: #00af00; text-decoration-color: #00af00\">64</span>)                  │           <span style=\"color: #00af00; text-decoration-color: #00af00\">4,160</span> │\n",
       "├──────────────────────────────────────┼─────────────────────────────┼─────────────────┤\n",
       "│ dense_2 (<span style=\"color: #0087ff; text-decoration-color: #0087ff\">Dense</span>)                      │ (<span style=\"color: #00d7ff; text-decoration-color: #00d7ff\">None</span>, <span style=\"color: #00af00; text-decoration-color: #00af00\">1</span>)                   │              <span style=\"color: #00af00; text-decoration-color: #00af00\">65</span> │\n",
       "└──────────────────────────────────────┴─────────────────────────────┴─────────────────┘\n",
       "</pre>\n"
      ],
      "text/plain": [
       "┏━━━━━━━━━━━━━━━━━━━━━━━━━━━━━━━━━━━━━━┳━━━━━━━━━━━━━━━━━━━━━━━━━━━━━┳━━━━━━━━━━━━━━━━━┓\n",
       "┃\u001b[1m \u001b[0m\u001b[1mLayer (type)                        \u001b[0m\u001b[1m \u001b[0m┃\u001b[1m \u001b[0m\u001b[1mOutput Shape               \u001b[0m\u001b[1m \u001b[0m┃\u001b[1m \u001b[0m\u001b[1m        Param #\u001b[0m\u001b[1m \u001b[0m┃\n",
       "┡━━━━━━━━━━━━━━━━━━━━━━━━━━━━━━━━━━━━━━╇━━━━━━━━━━━━━━━━━━━━━━━━━━━━━╇━━━━━━━━━━━━━━━━━┩\n",
       "│ data (\u001b[38;5;33mInputLayer\u001b[0m)                    │ (\u001b[38;5;45mNone\u001b[0m, \u001b[38;5;34m10000\u001b[0m)               │               \u001b[38;5;34m0\u001b[0m │\n",
       "├──────────────────────────────────────┼─────────────────────────────┼─────────────────┤\n",
       "│ dense (\u001b[38;5;33mDense\u001b[0m)                        │ (\u001b[38;5;45mNone\u001b[0m, \u001b[38;5;34m64\u001b[0m)                  │         \u001b[38;5;34m640,064\u001b[0m │\n",
       "├──────────────────────────────────────┼─────────────────────────────┼─────────────────┤\n",
       "│ dense_1 (\u001b[38;5;33mDense\u001b[0m)                      │ (\u001b[38;5;45mNone\u001b[0m, \u001b[38;5;34m64\u001b[0m)                  │           \u001b[38;5;34m4,160\u001b[0m │\n",
       "├──────────────────────────────────────┼─────────────────────────────┼─────────────────┤\n",
       "│ dense_2 (\u001b[38;5;33mDense\u001b[0m)                      │ (\u001b[38;5;45mNone\u001b[0m, \u001b[38;5;34m1\u001b[0m)                   │              \u001b[38;5;34m65\u001b[0m │\n",
       "└──────────────────────────────────────┴─────────────────────────────┴─────────────────┘\n"
      ]
     },
     "metadata": {},
     "output_type": "display_data"
    },
    {
     "data": {
      "text/html": [
       "<pre style=\"white-space:pre;overflow-x:auto;line-height:normal;font-family:Menlo,'DejaVu Sans Mono',consolas,'Courier New',monospace\"><span style=\"font-weight: bold\"> Total params: </span><span style=\"color: #00af00; text-decoration-color: #00af00\">644,289</span> (2.46 MB)\n",
       "</pre>\n"
      ],
      "text/plain": [
       "\u001b[1m Total params: \u001b[0m\u001b[38;5;34m644,289\u001b[0m (2.46 MB)\n"
      ]
     },
     "metadata": {},
     "output_type": "display_data"
    },
    {
     "data": {
      "text/html": [
       "<pre style=\"white-space:pre;overflow-x:auto;line-height:normal;font-family:Menlo,'DejaVu Sans Mono',consolas,'Courier New',monospace\"><span style=\"font-weight: bold\"> Trainable params: </span><span style=\"color: #00af00; text-decoration-color: #00af00\">644,289</span> (2.46 MB)\n",
       "</pre>\n"
      ],
      "text/plain": [
       "\u001b[1m Trainable params: \u001b[0m\u001b[38;5;34m644,289\u001b[0m (2.46 MB)\n"
      ]
     },
     "metadata": {},
     "output_type": "display_data"
    },
    {
     "data": {
      "text/html": [
       "<pre style=\"white-space:pre;overflow-x:auto;line-height:normal;font-family:Menlo,'DejaVu Sans Mono',consolas,'Courier New',monospace\"><span style=\"font-weight: bold\"> Non-trainable params: </span><span style=\"color: #00af00; text-decoration-color: #00af00\">0</span> (0.00 B)\n",
       "</pre>\n"
      ],
      "text/plain": [
       "\u001b[1m Non-trainable params: \u001b[0m\u001b[38;5;34m0\u001b[0m (0.00 B)\n"
      ]
     },
     "metadata": {},
     "output_type": "display_data"
    }
   ],
   "source": [
    "input = keras.Input(shape=(nb_words,),name=\"data\")\n",
    "l1 = layers.Dense(64,activation=\"relu\")(input)\n",
    "l2 = layers.Dense(64,activation=\"relu\")(l1)\n",
    "output = layers.Dense(1,activation=\"sigmoid\")(l2) \n",
    "model = keras.Model(inputs=input,outputs=output)\n",
    "model.summary()"
   ]
  },
  {
   "cell_type": "markdown",
   "id": "fd2b5b3e-7360-41da-87a8-524b0a2f7359",
   "metadata": {},
   "source": [
    "# Train the binary classification with a validation set"
   ]
  },
  {
   "cell_type": "code",
   "execution_count": 10,
   "id": "6039cdbb",
   "metadata": {},
   "outputs": [
    {
     "name": "stdout",
     "output_type": "stream",
     "text": [
      "Epoch 1/20\n",
      "\u001b[1m30/30\u001b[0m \u001b[32m━━━━━━━━━━━━━━━━━━━━\u001b[0m\u001b[37m\u001b[0m \u001b[1m4s\u001b[0m 78ms/step - binary_accuracy: 0.6717 - loss: 0.5903 - val_binary_accuracy: 0.8708 - val_loss: 0.3455\n",
      "Epoch 2/20\n",
      "\u001b[1m30/30\u001b[0m \u001b[32m━━━━━━━━━━━━━━━━━━━━\u001b[0m\u001b[37m\u001b[0m \u001b[1m1s\u001b[0m 16ms/step - binary_accuracy: 0.8886 - loss: 0.3054 - val_binary_accuracy: 0.8269 - val_loss: 0.4082\n",
      "Epoch 3/20\n",
      "\u001b[1m30/30\u001b[0m \u001b[32m━━━━━━━━━━━━━━━━━━━━\u001b[0m\u001b[37m\u001b[0m \u001b[1m1s\u001b[0m 16ms/step - binary_accuracy: 0.9146 - loss: 0.2304 - val_binary_accuracy: 0.8869 - val_loss: 0.2758\n",
      "Epoch 4/20\n",
      "\u001b[1m30/30\u001b[0m \u001b[32m━━━━━━━━━━━━━━━━━━━━\u001b[0m\u001b[37m\u001b[0m \u001b[1m1s\u001b[0m 18ms/step - binary_accuracy: 0.9406 - loss: 0.1717 - val_binary_accuracy: 0.8874 - val_loss: 0.2856\n",
      "Epoch 5/20\n",
      "\u001b[1m30/30\u001b[0m \u001b[32m━━━━━━━━━━━━━━━━━━━━\u001b[0m\u001b[37m\u001b[0m \u001b[1m1s\u001b[0m 21ms/step - binary_accuracy: 0.9545 - loss: 0.1388 - val_binary_accuracy: 0.8753 - val_loss: 0.3331\n",
      "Epoch 6/20\n",
      "\u001b[1m30/30\u001b[0m \u001b[32m━━━━━━━━━━━━━━━━━━━━\u001b[0m\u001b[37m\u001b[0m \u001b[1m1s\u001b[0m 18ms/step - binary_accuracy: 0.9579 - loss: 0.1220 - val_binary_accuracy: 0.8857 - val_loss: 0.3019\n",
      "Epoch 7/20\n",
      "\u001b[1m30/30\u001b[0m \u001b[32m━━━━━━━━━━━━━━━━━━━━\u001b[0m\u001b[37m\u001b[0m \u001b[1m1s\u001b[0m 16ms/step - binary_accuracy: 0.9732 - loss: 0.0914 - val_binary_accuracy: 0.8536 - val_loss: 0.4041\n",
      "Epoch 8/20\n",
      "\u001b[1m30/30\u001b[0m \u001b[32m━━━━━━━━━━━━━━━━━━━━\u001b[0m\u001b[37m\u001b[0m \u001b[1m1s\u001b[0m 16ms/step - binary_accuracy: 0.9719 - loss: 0.0855 - val_binary_accuracy: 0.8785 - val_loss: 0.3563\n",
      "Epoch 9/20\n",
      "\u001b[1m30/30\u001b[0m \u001b[32m━━━━━━━━━━━━━━━━━━━━\u001b[0m\u001b[37m\u001b[0m \u001b[1m0s\u001b[0m 15ms/step - binary_accuracy: 0.9813 - loss: 0.0658 - val_binary_accuracy: 0.8772 - val_loss: 0.3682\n",
      "Epoch 10/20\n",
      "\u001b[1m30/30\u001b[0m \u001b[32m━━━━━━━━━━━━━━━━━━━━\u001b[0m\u001b[37m\u001b[0m \u001b[1m1s\u001b[0m 20ms/step - binary_accuracy: 0.9883 - loss: 0.0510 - val_binary_accuracy: 0.8774 - val_loss: 0.3875\n",
      "Epoch 11/20\n",
      "\u001b[1m30/30\u001b[0m \u001b[32m━━━━━━━━━━━━━━━━━━━━\u001b[0m\u001b[37m\u001b[0m \u001b[1m1s\u001b[0m 15ms/step - binary_accuracy: 0.9899 - loss: 0.0401 - val_binary_accuracy: 0.8744 - val_loss: 0.4132\n",
      "Epoch 12/20\n",
      "\u001b[1m30/30\u001b[0m \u001b[32m━━━━━━━━━━━━━━━━━━━━\u001b[0m\u001b[37m\u001b[0m \u001b[1m1s\u001b[0m 15ms/step - binary_accuracy: 0.9902 - loss: 0.0360 - val_binary_accuracy: 0.8782 - val_loss: 0.4349\n",
      "Epoch 13/20\n",
      "\u001b[1m30/30\u001b[0m \u001b[32m━━━━━━━━━━━━━━━━━━━━\u001b[0m\u001b[37m\u001b[0m \u001b[1m1s\u001b[0m 15ms/step - binary_accuracy: 0.9958 - loss: 0.0215 - val_binary_accuracy: 0.8762 - val_loss: 0.4520\n",
      "Epoch 14/20\n",
      "\u001b[1m30/30\u001b[0m \u001b[32m━━━━━━━━━━━━━━━━━━━━\u001b[0m\u001b[37m\u001b[0m \u001b[1m1s\u001b[0m 15ms/step - binary_accuracy: 0.9988 - loss: 0.0128 - val_binary_accuracy: 0.8380 - val_loss: 0.6457\n",
      "Epoch 15/20\n",
      "\u001b[1m30/30\u001b[0m \u001b[32m━━━━━━━━━━━━━━━━━━━━\u001b[0m\u001b[37m\u001b[0m \u001b[1m1s\u001b[0m 18ms/step - binary_accuracy: 0.9924 - loss: 0.0217 - val_binary_accuracy: 0.8747 - val_loss: 0.5104\n",
      "Epoch 16/20\n",
      "\u001b[1m30/30\u001b[0m \u001b[32m━━━━━━━━━━━━━━━━━━━━\u001b[0m\u001b[37m\u001b[0m \u001b[1m1s\u001b[0m 16ms/step - binary_accuracy: 0.9960 - loss: 0.0172 - val_binary_accuracy: 0.8745 - val_loss: 0.5219\n",
      "Epoch 17/20\n",
      "\u001b[1m30/30\u001b[0m \u001b[32m━━━━━━━━━━━━━━━━━━━━\u001b[0m\u001b[37m\u001b[0m \u001b[1m1s\u001b[0m 16ms/step - binary_accuracy: 0.9998 - loss: 0.0055 - val_binary_accuracy: 0.8744 - val_loss: 0.5543\n",
      "Epoch 18/20\n",
      "\u001b[1m30/30\u001b[0m \u001b[32m━━━━━━━━━━━━━━━━━━━━\u001b[0m\u001b[37m\u001b[0m \u001b[1m0s\u001b[0m 14ms/step - binary_accuracy: 0.9972 - loss: 0.0116 - val_binary_accuracy: 0.8722 - val_loss: 0.5678\n",
      "Epoch 19/20\n",
      "\u001b[1m30/30\u001b[0m \u001b[32m━━━━━━━━━━━━━━━━━━━━\u001b[0m\u001b[37m\u001b[0m \u001b[1m0s\u001b[0m 14ms/step - binary_accuracy: 1.0000 - loss: 0.0036 - val_binary_accuracy: 0.8725 - val_loss: 0.5986\n",
      "Epoch 20/20\n",
      "\u001b[1m30/30\u001b[0m \u001b[32m━━━━━━━━━━━━━━━━━━━━\u001b[0m\u001b[37m\u001b[0m \u001b[1m0s\u001b[0m 14ms/step - binary_accuracy: 0.9999 - loss: 0.0026 - val_binary_accuracy: 0.8720 - val_loss: 0.6444\n"
     ]
    }
   ],
   "source": [
    "history = train_the_binary_classification(model, train_encodings, partial_train_labels, val_encodings, validation_labels)"
   ]
  },
  {
   "cell_type": "markdown",
   "id": "3d17ba0c-e0ca-45cd-ab68-2d9cacb557c2",
   "metadata": {},
   "source": [
    "# Evaluate on the training data"
   ]
  },
  {
   "cell_type": "code",
   "execution_count": 11,
   "id": "a0236678-acfc-40dd-9363-e8c5fedb234d",
   "metadata": {},
   "outputs": [
    {
     "name": "stdout",
     "output_type": "stream",
     "text": [
      "\u001b[1m469/469\u001b[0m \u001b[32m━━━━━━━━━━━━━━━━━━━━\u001b[0m\u001b[37m\u001b[0m \u001b[1m1s\u001b[0m 2ms/step - binary_accuracy: 1.0000 - loss: 0.0024\n",
      "Training Loss: 0.0024, Training Accuracy: 1.0000\n"
     ]
    }
   ],
   "source": [
    "train_loss, train_acc = model.evaluate(train_encodings, partial_train_labels)\n",
    "print(f\"Training Loss: {train_loss:.4f}, Training Accuracy: {train_acc:.4f}\")"
   ]
  },
  {
   "cell_type": "markdown",
   "id": "acb56034-2860-49a3-b4bc-a72c0391d793",
   "metadata": {},
   "source": [
    "# Evaluate on the Validation Data"
   ]
  },
  {
   "cell_type": "code",
   "execution_count": 12,
   "id": "71fc69d6-f023-40e4-a075-e8a7b53507db",
   "metadata": {},
   "outputs": [
    {
     "name": "stdout",
     "output_type": "stream",
     "text": [
      "\u001b[1m313/313\u001b[0m \u001b[32m━━━━━━━━━━━━━━━━━━━━\u001b[0m\u001b[37m\u001b[0m \u001b[1m1s\u001b[0m 3ms/step - binary_accuracy: 0.8767 - loss: 0.6293\n",
      "Validation Loss: 0.6444, Validation Accuracy: 0.8720\n"
     ]
    }
   ],
   "source": [
    "val_loss, val_acc = model.evaluate(val_encodings, validation_labels)\n",
    "print(f\"Validation Loss: {val_loss:.4f}, Validation Accuracy: {val_acc:.4f}\")"
   ]
  },
  {
   "cell_type": "markdown",
   "id": "fcd25685-cb19-43fa-9e11-adda1d4aeffa",
   "metadata": {},
   "source": [
    "# Evaluate on the testing data"
   ]
  },
  {
   "cell_type": "code",
   "execution_count": 13,
   "id": "dc0ba038-725c-4e76-844a-a31998bdda8c",
   "metadata": {},
   "outputs": [
    {
     "name": "stdout",
     "output_type": "stream",
     "text": [
      "\u001b[1m782/782\u001b[0m \u001b[32m━━━━━━━━━━━━━━━━━━━━\u001b[0m\u001b[37m\u001b[0m \u001b[1m2s\u001b[0m 2ms/step - binary_accuracy: 0.8614 - loss: 0.6956\n",
      "Testing Loss: 0.6808, Testing Accuracy: 0.8657\n"
     ]
    }
   ],
   "source": [
    "test_loss, test_acc = model.evaluate(test_encodings, test_labels)\n",
    "print(f\"Testing Loss: {test_loss:.4f}, Testing Accuracy: {test_acc:.4f}\")"
   ]
  },
  {
   "cell_type": "markdown",
   "id": "a9ef6291-5daf-4d69-8be9-0a72625bc9a7",
   "metadata": {},
   "source": [
    "# Plot the Training and Validation Losses"
   ]
  },
  {
   "cell_type": "code",
   "execution_count": 17,
   "id": "1439272a-ffb9-4050-ad6d-575ea942331d",
   "metadata": {},
   "outputs": [
    {
     "data": {
      "image/png": "[encoded data removed]",
      "text/plain": [
       "<Figure size 640x480 with 1 Axes>"
      ]
     },
     "metadata": {},
     "output_type": "display_data"
    }
   ],
   "source": [
    "import matplotlib.pyplot as plt\n",
    "history_dict = history.history\n",
    "loss_values = history_dict[\"loss\"]\n",
    "val_loss_values = history_dict[\"val_loss\"]\n",
    "epochs = range (1, len(loss_values) + 1)\n",
    "plt.plot(epochs, loss_values, \"bo\", label=\"Training Loss\")\n",
    "plt.plot(epochs, val_loss_values, \"b\", label=\"Validation Loss\")\n",
    "plt.title(\"Training and Validation Loss\")\n",
    "plt.xlabel(\"Epochs\")\n",
    "plt.ylabel(\"Loss\")\n",
    "plt.legend()\n",
    "plt.show()"
   ]
  }
 ],
 "metadata": {
  "kernelspec": {
   "display_name": "Python 3 (ipykernel)",
   "language": "python",
   "name": "python3"
  },
  "language_info": {
   "codemirror_mode": {
    "name": "ipython",
    "version": 3
   },
   "file_extension": ".py",
   "mimetype": "text/x-python",
   "name": "python",
   "nbconvert_exporter": "python",
   "pygments_lexer": "ipython3",
   "version": "3.12.7"
  }
 },
 "nbformat": 4,
 "nbformat_minor": 5
}
