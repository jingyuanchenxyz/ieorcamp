{
 "cells": [
  {
   "cell_type": "code",
   "execution_count": null,
   "metadata": {
    "executionInfo": {
     "elapsed": 5804,
     "status": "ok",
     "timestamp": 1718800305048,
     "user": {
      "displayName": "Pascal Van Hentenryck",
      "userId": "09161115431355032627"
     },
     "user_tz": 240
    },
    "id": "mBv1W3sDfNFy"
   },
   "outputs": [
    {
     "name": "stdout",
     "output_type": "stream",
     "text": [
      "1.6.1\n",
      "Collecting seaborn\n",
      "  Downloading seaborn-0.13.2-py3-none-any.whl.metadata (5.4 kB)\n",
      "Requirement already satisfied: numpy!=1.24.0,>=1.20 in c:\\users\\jorda\\miniconda3\\envs\\sethbonder\\lib\\site-packages (from seaborn) (1.26.4)\n",
      "Requirement already satisfied: pandas>=1.2 in c:\\users\\jorda\\miniconda3\\envs\\sethbonder\\lib\\site-packages (from seaborn) (2.2.3)\n",
      "Requirement already satisfied: matplotlib!=3.6.1,>=3.4 in c:\\users\\jorda\\miniconda3\\envs\\sethbonder\\lib\\site-packages (from seaborn) (3.9.1)\n",
      "Requirement already satisfied: contourpy>=1.0.1 in c:\\users\\jorda\\miniconda3\\envs\\sethbonder\\lib\\site-packages (from matplotlib!=3.6.1,>=3.4->seaborn) (1.3.2)\n",
      "Requirement already satisfied: cycler>=0.10 in c:\\users\\jorda\\miniconda3\\envs\\sethbonder\\lib\\site-packages (from matplotlib!=3.6.1,>=3.4->seaborn) (0.12.1)\n",
      "Requirement already satisfied: fonttools>=4.22.0 in c:\\users\\jorda\\miniconda3\\envs\\sethbonder\\lib\\site-packages (from matplotlib!=3.6.1,>=3.4->seaborn) (4.58.0)\n",
      "Requirement already satisfied: kiwisolver>=1.3.1 in c:\\users\\jorda\\miniconda3\\envs\\sethbonder\\lib\\site-packages (from matplotlib!=3.6.1,>=3.4->seaborn) (1.4.7)\n",
      "Requirement already satisfied: packaging>=20.0 in c:\\users\\jorda\\miniconda3\\envs\\sethbonder\\lib\\site-packages (from matplotlib!=3.6.1,>=3.4->seaborn) (25.0)\n",
      "Requirement already satisfied: pillow>=8 in c:\\users\\jorda\\miniconda3\\envs\\sethbonder\\lib\\site-packages (from matplotlib!=3.6.1,>=3.4->seaborn) (9.4.0)\n",
      "Requirement already satisfied: pyparsing>=2.3.1 in c:\\users\\jorda\\miniconda3\\envs\\sethbonder\\lib\\site-packages (from matplotlib!=3.6.1,>=3.4->seaborn) (3.2.3)\n",
      "Requirement already satisfied: python-dateutil>=2.7 in c:\\users\\jorda\\miniconda3\\envs\\sethbonder\\lib\\site-packages (from matplotlib!=3.6.1,>=3.4->seaborn) (2.9.0.post0)\n",
      "Requirement already satisfied: pytz>=2020.1 in c:\\users\\jorda\\miniconda3\\envs\\sethbonder\\lib\\site-packages (from pandas>=1.2->seaborn) (2025.2)\n",
      "Requirement already satisfied: tzdata>=2022.7 in c:\\users\\jorda\\miniconda3\\envs\\sethbonder\\lib\\site-packages (from pandas>=1.2->seaborn) (2025.2)\n",
      "Requirement already satisfied: six>=1.5 in c:\\users\\jorda\\miniconda3\\envs\\sethbonder\\lib\\site-packages (from python-dateutil>=2.7->matplotlib!=3.6.1,>=3.4->seaborn) (1.17.0)\n",
      "Downloading seaborn-0.13.2-py3-none-any.whl (294 kB)\n",
      "Installing collected packages: seaborn\n",
      "Successfully installed seaborn-0.13.2\n",
      "0.13.2\n"
     ]
    }
   ],
   "source": [
    "import numpy as np\n",
    "from tensorflow import keras\n",
    "from keras import layers\n",
    "from keras.datasets import fashion_mnist\n",
    "import matplotlib.pyplot as plt\n",
    "import sklearn\n",
    "print(sklearn.__version__)\n",
    "# !pip install seaborn\n",
    "import seaborn as sns\n",
    "print(sns.__version__)  # Should print the version (e.g., '0.12.2')"
   ]
  },
  {
   "cell_type": "code",
   "execution_count": 2,
   "metadata": {
    "colab": {
     "base_uri": "https://localhost:8080/"
    },
    "executionInfo": {
     "elapsed": 1173,
     "status": "ok",
     "timestamp": 1718800307110,
     "user": {
      "displayName": "Pascal Van Hentenryck",
      "userId": "09161115431355032627"
     },
     "user_tz": 240
    },
    "id": "JKGsG-PifbbO",
    "outputId": "3ef379c2-c2d9-4cab-9898-b240d9f72a08"
   },
   "outputs": [],
   "source": [
    "(train_images, train_labels), (test_images, test_labels) = fashion_mnist.load_data()"
   ]
  },
  {
   "cell_type": "code",
   "execution_count": 3,
   "metadata": {
    "colab": {
     "base_uri": "https://localhost:8080/"
    },
    "executionInfo": {
     "elapsed": 185,
     "status": "ok",
     "timestamp": 1718800310048,
     "user": {
      "displayName": "Pascal Van Hentenryck",
      "userId": "09161115431355032627"
     },
     "user_tz": 240
    },
    "id": "OCi64m3WfkDT",
    "outputId": "d8e08795-3eec-4855-df8c-8826e14ad179"
   },
   "outputs": [
    {
     "data": {
      "text/plain": [
       "(60000, 28, 28)"
      ]
     },
     "execution_count": 3,
     "metadata": {},
     "output_type": "execute_result"
    }
   ],
   "source": [
    "train_shape = train_images.shape\n",
    "train_images.shape"
   ]
  },
  {
   "cell_type": "markdown",
   "metadata": {},
   "source": [
    "# Create the validation test and the new training data"
   ]
  },
  {
   "cell_type": "code",
   "execution_count": 4,
   "metadata": {},
   "outputs": [],
   "source": [
    "# Define the split index\n",
    "split_index = int(0.8 * len(train_images))  # 80% for training, 20% for validation\n",
    "\n",
    "# Partition the data\n",
    "partial_train_data = train_images[:split_index]\n",
    "partial_train_labels = train_labels[:split_index]\n",
    "validation_data = train_images[split_index:]\n",
    "validation_labels = train_labels[split_index:]\n"
   ]
  },
  {
   "cell_type": "code",
   "execution_count": 5,
   "metadata": {
    "colab": {
     "base_uri": "https://localhost:8080/"
    },
    "executionInfo": {
     "elapsed": 191,
     "status": "ok",
     "timestamp": 1718800773565,
     "user": {
      "displayName": "Pascal Van Hentenryck",
      "userId": "09161115431355032627"
     },
     "user_tz": 240
    },
    "id": "YyOLCob5gCvy",
    "outputId": "d9441dcb-0533-4e6e-b1b0-172de5c70296"
   },
   "outputs": [
    {
     "data": {
      "text/plain": [
       "['T-shirt/top',\n",
       " 'Trouser',\n",
       " 'Pullover',\n",
       " 'Dress',\n",
       " 'Coat',\n",
       " 'Sandal',\n",
       " 'Shirt',\n",
       " 'Sneaker',\n",
       " 'Bag',\n",
       " 'Ankle boot']"
      ]
     },
     "execution_count": 5,
     "metadata": {},
     "output_type": "execute_result"
    }
   ],
   "source": [
    "names =\t['T-shirt/top','Trouser','Pullover','Dress','Coat','Sandal','Shirt','Sneaker','Bag','Ankle boot']\n",
    "names"
   ]
  },
  {
   "cell_type": "code",
   "execution_count": 6,
   "metadata": {
    "executionInfo": {
     "elapsed": 195,
     "status": "ok",
     "timestamp": 1718800314481,
     "user": {
      "displayName": "Pascal Van Hentenryck",
      "userId": "09161115431355032627"
     },
     "user_tz": 240
    },
    "id": "agpP4QdVf_TW"
   },
   "outputs": [],
   "source": [
    "def show_image(im):\n",
    "  plt.imshow(im,cmap=plt.cm.summer)\n",
    "  plt.show()"
   ]
  },
  {
   "cell_type": "code",
   "execution_count": 7,
   "metadata": {
    "executionInfo": {
     "elapsed": 194,
     "status": "ok",
     "timestamp": 1718800760770,
     "user": {
      "displayName": "Pascal Van Hentenryck",
      "userId": "09161115431355032627"
     },
     "user_tz": 240
    },
    "id": "jx8y0UKMfa6p"
   },
   "outputs": [],
   "source": [
    "def show_image_label(im,value,names):\n",
    "  plt.imshow(im,cmap=plt.cm.summer)\n",
    "  plt.show()\n",
    "  print(\"the fashion is \",names[value])"
   ]
  },
  {
   "cell_type": "code",
   "execution_count": 8,
   "metadata": {},
   "outputs": [],
   "source": [
    "def show_image_vpp(im,value,prediction,probability):\n",
    "  plt.imshow(im,cmap=plt.cm.summer)\n",
    "  plt.show()\n",
    "  print(\"the value is \",names[value])\n",
    "  print(\"The predicted value is \",names[prediction],\" with probability: \",probability)"
   ]
  },
  {
   "cell_type": "code",
   "execution_count": 9,
   "metadata": {
    "colab": {
     "base_uri": "https://localhost:8080/",
     "height": 448
    },
    "executionInfo": {
     "elapsed": 433,
     "status": "ok",
     "timestamp": 1718800794610,
     "user": {
      "displayName": "Pascal Van Hentenryck",
      "userId": "09161115431355032627"
     },
     "user_tz": 240
    },
    "id": "1oGUQX3Zeqf3",
    "outputId": "f96da147-8ec5-48a0-d0c5-03f89ae7b72f"
   },
   "outputs": [
    {
     "data": {
      "image/png": "[encoded data removed]",
      "text/plain": [
       "<Figure size 640x480 with 1 Axes>"
      ]
     },
     "metadata": {},
     "output_type": "display_data"
    },
    {
     "name": "stdout",
     "output_type": "stream",
     "text": [
      "the fashion is  Ankle boot\n"
     ]
    }
   ],
   "source": [
    "show_image_label(test_images[28],test_labels[28],names)"
   ]
  },
  {
   "cell_type": "markdown",
   "metadata": {},
   "source": [
    "# Define a function to build a CNN model"
   ]
  },
  {
   "cell_type": "code",
   "execution_count": 10,
   "metadata": {},
   "outputs": [],
   "source": [
    "def build_model(input_shape):\n",
    "    input = keras.Input(shape=(input_shape[1],input_shape[2],1))\n",
    "    x = layers.Conv2D(filters=32, kernel_size=3, activation=\"relu\")(input)\n",
    "    x = layers.MaxPooling2D(pool_size=2)(x)\n",
    "    x = layers.Conv2D(filters=64, kernel_size=3, activation=\"relu\")(x)\n",
    "    x = layers.MaxPooling2D(pool_size=2)(x)\n",
    "    x = layers.Conv2D(filters=128, kernel_size=3, activation=\"relu\")(x)\n",
    "    x = layers.Flatten()(x)\n",
    "    output = layers.Dense(10, activation=\"softmax\")(x)\n",
    "    model = keras.Model(inputs=input,outputs=output)\n",
    "    return model"
   ]
  },
  {
   "cell_type": "markdown",
   "metadata": {},
   "source": [
    "# Define a function to train a model with callback for early stopping"
   ]
  },
  {
   "cell_type": "code",
   "execution_count": 11,
   "metadata": {},
   "outputs": [],
   "source": [
    "def train_model(model,train_tensors,train_labels,val_inputs,val_outputs,nb_epochs):\n",
    "    callbacks_list = [\n",
    "        keras.callbacks.EarlyStopping(monitor=\"val_accuracy\",patience=2,mode=\"max\")\n",
    "    ]\n",
    "    model.compile(optimizer=\"rmsprop\",loss=\"sparse_categorical_crossentropy\",metrics=[\"accuracy\"])\n",
    "    return model.fit(val_inputs,val_outputs,callbacks=callbacks_list,epochs=nb_epochs,batch_size=512,validation_data=(val_inputs,val_outputs))"
   ]
  },
  {
   "cell_type": "markdown",
   "metadata": {},
   "source": [
    "# Define a function to predict the fashion type and the probability of the prediction"
   ]
  },
  {
   "cell_type": "code",
   "execution_count": 12,
   "metadata": {},
   "outputs": [],
   "source": [
    "def predict(model,test_tensors):\n",
    "    mpredictions = model.predict(test_tensors)\n",
    "    digit_predictions = np.array([x.argmax() for x in mpredictions])\n",
    "    digit_probability = np.array([mpredictions[i][p] for i, p in enumerate(digit_predictions)])\n",
    "    return digit_predictions,digit_probability"
   ]
  },
  {
   "cell_type": "markdown",
   "metadata": {},
   "source": [
    "# Define the training and validation tensors"
   ]
  },
  {
   "cell_type": "code",
   "execution_count": 13,
   "metadata": {},
   "outputs": [],
   "source": [
    "test_shape = test_images.shape\n",
    "train_tensors = train_images.reshape((train_shape[0], train_shape[1], train_shape[2], 1)).astype(\"float32\") / 255\n",
    "test_tensors = test_images.reshape((test_shape[0], test_shape[1], test_shape[2], 1)).astype(\"float32\") / 255"
   ]
  },
  {
   "cell_type": "markdown",
   "metadata": {},
   "source": [
    "# Build the model"
   ]
  },
  {
   "cell_type": "code",
   "execution_count": 14,
   "metadata": {},
   "outputs": [],
   "source": [
    "model = build_model(train_images.shape)"
   ]
  },
  {
   "cell_type": "markdown",
   "metadata": {},
   "source": [
    "# Print a summary of the model"
   ]
  },
  {
   "cell_type": "code",
   "execution_count": 15,
   "metadata": {},
   "outputs": [
    {
     "name": "stdout",
     "output_type": "stream",
     "text": [
      "Model: \"model\"\n",
      "_________________________________________________________________\n",
      " Layer (type)                Output Shape              Param #   \n",
      "=================================================================\n",
      " input_1 (InputLayer)        [(None, 28, 28, 1)]       0         \n",
      "                                                                 \n",
      " conv2d (Conv2D)             (None, 26, 26, 32)        320       \n",
      "                                                                 \n",
      " max_pooling2d (MaxPooling2D  (None, 13, 13, 32)       0         \n",
      " )                                                               \n",
      "                                                                 \n",
      " conv2d_1 (Conv2D)           (None, 11, 11, 64)        18496     \n",
      "                                                                 \n",
      " max_pooling2d_1 (MaxPooling  (None, 5, 5, 64)         0         \n",
      " 2D)                                                             \n",
      "                                                                 \n",
      " conv2d_2 (Conv2D)           (None, 3, 3, 128)         73856     \n",
      "                                                                 \n",
      " flatten (Flatten)           (None, 1152)              0         \n",
      "                                                                 \n",
      " dense (Dense)               (None, 10)                11530     \n",
      "                                                                 \n",
      "=================================================================\n",
      "Total params: 104,202\n",
      "Trainable params: 104,202\n",
      "Non-trainable params: 0\n",
      "_________________________________________________________________\n"
     ]
    }
   ],
   "source": [
    "model.summary()"
   ]
  },
  {
   "cell_type": "markdown",
   "metadata": {},
   "source": [
    "# Train the model"
   ]
  },
  {
   "cell_type": "code",
   "execution_count": 16,
   "metadata": {},
   "outputs": [
    {
     "name": "stdout",
     "output_type": "stream",
     "text": [
      "Epoch 1/20\n",
      "24/24 [==============================] - 5s 151ms/step - loss: 5.0559 - accuracy: 0.5612 - val_loss: 0.7097 - val_accuracy: 0.7290\n",
      "Epoch 2/20\n",
      "24/24 [==============================] - 3s 117ms/step - loss: 0.6835 - accuracy: 0.7567 - val_loss: 0.5658 - val_accuracy: 0.7938\n",
      "Epoch 3/20\n",
      "24/24 [==============================] - 4s 171ms/step - loss: 0.6019 - accuracy: 0.7876 - val_loss: 0.4714 - val_accuracy: 0.8307\n",
      "Epoch 4/20\n",
      "24/24 [==============================] - 3s 130ms/step - loss: 0.5998 - accuracy: 0.7952 - val_loss: 0.6677 - val_accuracy: 0.7532\n",
      "Epoch 5/20\n",
      "24/24 [==============================] - 3s 126ms/step - loss: 0.5012 - accuracy: 0.8213 - val_loss: 0.4315 - val_accuracy: 0.8399\n",
      "Epoch 6/20\n",
      "24/24 [==============================] - 3s 145ms/step - loss: 0.4121 - accuracy: 0.8468 - val_loss: 0.6098 - val_accuracy: 0.8083\n",
      "Epoch 7/20\n",
      "24/24 [==============================] - 3s 115ms/step - loss: 0.4094 - accuracy: 0.8495 - val_loss: 0.8300 - val_accuracy: 0.7583\n"
     ]
    }
   ],
   "source": [
    "history = train_model(model, train_images, train_labels, validation_data, validation_labels, nb_epochs=20)"
   ]
  },
  {
   "cell_type": "markdown",
   "metadata": {},
   "source": [
    "# Evaluate how good the model is on the testing data"
   ]
  },
  {
   "cell_type": "code",
   "execution_count": 17,
   "metadata": {},
   "outputs": [
    {
     "name": "stdout",
     "output_type": "stream",
     "text": [
      "313/313 [==============================] - 3s 7ms/step - loss: 2.2605 - accuracy: 0.6461\n",
      "Test Accuracy: 0.6461\n",
      "Test Loss: 2.2605\n"
     ]
    }
   ],
   "source": [
    "test_loss, test_accuracy = model.evaluate(test_tensors, test_labels)\n",
    "print(f\"Test Accuracy: {test_accuracy:.4f}\")\n",
    "print(f\"Test Loss: {test_loss:.4f}\")"
   ]
  },
  {
   "cell_type": "code",
   "execution_count": null,
   "metadata": {},
   "outputs": [
    {
     "name": "stdout",
     "output_type": "stream",
     "text": [
      "Requirement already satisfied: scikit-learn in c:\\users\\jorda\\miniconda3\\envs\\sethbonder\\lib\\site-packages (1.6.1)\n",
      "Requirement already satisfied: numpy>=1.19.5 in c:\\users\\jorda\\miniconda3\\envs\\sethbonder\\lib\\site-packages (from scikit-learn) (1.26.4)\n",
      "Requirement already satisfied: scipy>=1.6.0 in c:\\users\\jorda\\miniconda3\\envs\\sethbonder\\lib\\site-packages (from scikit-learn) (1.15.2)\n",
      "Requirement already satisfied: joblib>=1.2.0 in c:\\users\\jorda\\miniconda3\\envs\\sethbonder\\lib\\site-packages (from scikit-learn) (1.5.1)\n",
      "Requirement already satisfied: threadpoolctl>=3.1.0 in c:\\users\\jorda\\miniconda3\\envs\\sethbonder\\lib\\site-packages (from scikit-learn) (3.6.0)\n",
      "Requirement already satisfied: seaborn in c:\\users\\jorda\\miniconda3\\envs\\sethbonder\\lib\\site-packages (0.13.2)\n",
      "Requirement already satisfied: numpy!=1.24.0,>=1.20 in c:\\users\\jorda\\miniconda3\\envs\\sethbonder\\lib\\site-packages (from seaborn) (1.26.4)\n",
      "Requirement already satisfied: pandas>=1.2 in c:\\users\\jorda\\miniconda3\\envs\\sethbonder\\lib\\site-packages (from seaborn) (2.2.3)\n",
      "Requirement already satisfied: matplotlib!=3.6.1,>=3.4 in c:\\users\\jorda\\miniconda3\\envs\\sethbonder\\lib\\site-packages (from seaborn) (3.9.1)\n",
      "Requirement already satisfied: contourpy>=1.0.1 in c:\\users\\jorda\\miniconda3\\envs\\sethbonder\\lib\\site-packages (from matplotlib!=3.6.1,>=3.4->seaborn) (1.3.2)\n",
      "Requirement already satisfied: cycler>=0.10 in c:\\users\\jorda\\miniconda3\\envs\\sethbonder\\lib\\site-packages (from matplotlib!=3.6.1,>=3.4->seaborn) (0.12.1)\n",
      "Requirement already satisfied: fonttools>=4.22.0 in c:\\users\\jorda\\miniconda3\\envs\\sethbonder\\lib\\site-packages (from matplotlib!=3.6.1,>=3.4->seaborn) (4.58.0)\n",
      "Requirement already satisfied: kiwisolver>=1.3.1 in c:\\users\\jorda\\miniconda3\\envs\\sethbonder\\lib\\site-packages (from matplotlib!=3.6.1,>=3.4->seaborn) (1.4.7)\n",
      "Requirement already satisfied: packaging>=20.0 in c:\\users\\jorda\\miniconda3\\envs\\sethbonder\\lib\\site-packages (from matplotlib!=3.6.1,>=3.4->seaborn) (25.0)\n",
      "Requirement already satisfied: pillow>=8 in c:\\users\\jorda\\miniconda3\\envs\\sethbonder\\lib\\site-packages (from matplotlib!=3.6.1,>=3.4->seaborn) (9.4.0)\n",
      "Requirement already satisfied: pyparsing>=2.3.1 in c:\\users\\jorda\\miniconda3\\envs\\sethbonder\\lib\\site-packages (from matplotlib!=3.6.1,>=3.4->seaborn) (3.2.3)\n",
      "Requirement already satisfied: python-dateutil>=2.7 in c:\\users\\jorda\\miniconda3\\envs\\sethbonder\\lib\\site-packages (from matplotlib!=3.6.1,>=3.4->seaborn) (2.9.0.post0)\n",
      "Requirement already satisfied: pytz>=2020.1 in c:\\users\\jorda\\miniconda3\\envs\\sethbonder\\lib\\site-packages (from pandas>=1.2->seaborn) (2025.2)\n",
      "Requirement already satisfied: tzdata>=2022.7 in c:\\users\\jorda\\miniconda3\\envs\\sethbonder\\lib\\site-packages (from pandas>=1.2->seaborn) (2025.2)\n",
      "Requirement already satisfied: six>=1.5 in c:\\users\\jorda\\miniconda3\\envs\\sethbonder\\lib\\site-packages (from python-dateutil>=2.7->matplotlib!=3.6.1,>=3.4->seaborn) (1.17.0)\n",
      "313/313 [==============================] - 2s 5ms/step\n"
     ]
    },
    {
     "data": {
      "image/png": "[encoded data removed]",
      "text/plain": [
       "<Figure size 1000x800 with 2 Axes>"
      ]
     },
     "metadata": {},
     "output_type": "display_data"
    }
   ],
   "source": [
    "# !pip install scikit-learn\n",
    "# !pip install seaborn\n",
    "from sklearn.metrics import confusion_matrix\n",
    "import seaborn as sns\n",
    "\n",
    "predictions = np.argmax(model.predict(test_tensors), axis=1)\n",
    "cm = confusion_matrix(test_labels, predictions)\n",
    "\n",
    "plt.figure(figsize=(10, 8))\n",
    "sns.heatmap(cm, annot=True, fmt=\"d\", cmap=\"Blues\")\n",
    "plt.xlabel(\"Predicted Label\")\n",
    "plt.ylabel(\"True Label\")\n",
    "plt.title(\"Confusion Matrix\")\n",
    "plt.show()"
   ]
  },
  {
   "cell_type": "code",
   "execution_count": 19,
   "metadata": {},
   "outputs": [
    {
     "name": "stdout",
     "output_type": "stream",
     "text": [
      "              precision    recall  f1-score   support\n",
      "\n",
      " T-shirt/top       0.57      0.83      0.67      1000\n",
      "     Trouser       1.00      0.64      0.78      1000\n",
      "    Pullover       0.58      0.57      0.57      1000\n",
      "       Dress       0.78      0.57      0.66      1000\n",
      "        Coat       0.76      0.36      0.49      1000\n",
      "      Sandal       1.00      0.18      0.31      1000\n",
      "       Shirt       0.33      0.61      0.43      1000\n",
      "     Sneaker       0.57      0.98      0.72      1000\n",
      "         Bag       0.98      0.80      0.88      1000\n",
      "  Ankle boot       0.81      0.92      0.86      1000\n",
      "\n",
      "    accuracy                           0.65     10000\n",
      "   macro avg       0.74      0.65      0.64     10000\n",
      "weighted avg       0.74      0.65      0.64     10000\n",
      "\n"
     ]
    }
   ],
   "source": [
    "from sklearn.metrics import classification_report\n",
    "\n",
    "print(classification_report(test_labels, predictions, target_names=names))"
   ]
  },
  {
   "cell_type": "code",
   "execution_count": null,
   "metadata": {},
   "outputs": [],
   "source": []
  },
  {
   "cell_type": "code",
   "execution_count": null,
   "metadata": {},
   "outputs": [],
   "source": []
  }
 ],
 "metadata": {
  "colab": {
   "authorship_tag": "ABX9TyOPIqVy36zY1omxWF+zKnIC",
   "provenance": []
  },
  "kernelspec": {
   "display_name": "sethbonder",
   "language": "python",
   "name": "sethbonder"
  },
  "language_info": {
   "codemirror_mode": {
    "name": "ipython",
    "version": 3
   },
   "file_extension": ".py",
   "mimetype": "text/x-python",
   "name": "python",
   "nbconvert_exporter": "python",
   "pygments_lexer": "ipython3",
   "version": "3.10.8"
  }
 },
 "nbformat": 4,
 "nbformat_minor": 4
}
