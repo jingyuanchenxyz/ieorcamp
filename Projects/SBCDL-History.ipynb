{
 "cells": [
  {
   "cell_type": "code",
   "execution_count": 1,
   "id": "4089d35f",
   "metadata": {},
   "outputs": [],
   "source": [
    "import tensorflow \n",
    "import keras\n",
    "from  keras import layers\n",
    "from keras.datasets import imdb\n",
    "import numpy as np\n",
    "\n",
    "nb_words = 10000\n",
    "(train_data, train_labels), (test_data, test_labels) = imdb.load_data(num_words=nb_words)"
   ]
  },
  {
   "cell_type": "markdown",
   "id": "f934cc8d-3a67-4a9d-b944-f4a8c621edd0",
   "metadata": {},
   "source": [
    "# get the word index and its reverse"
   ]
  },
  {
   "cell_type": "code",
   "execution_count": 2,
   "id": "f3b017b6-115d-4571-8fee-b423c5927590",
   "metadata": {},
   "outputs": [],
   "source": [
    "word_index = imdb.get_word_index()\n",
    "reverse_word_index = dict([(value, key) for (key, value) in word_index.items()])"
   ]
  },
  {
   "cell_type": "markdown",
   "id": "c98ab52f-91af-4b1e-8110-ea4f8a5780a8",
   "metadata": {},
   "source": [
    "# get the actual review"
   ]
  },
  {
   "cell_type": "code",
   "execution_count": 3,
   "id": "b857604b-118f-4bed-ad2a-d584fe4fb18c",
   "metadata": {},
   "outputs": [],
   "source": [
    "def get_review_text(review):\n",
    "   return \" \".join([reverse_word_index.get(i - 3, \"?\") for i in review])"
   ]
  },
  {
   "cell_type": "markdown",
   "id": "007d3ab0-a938-4a6b-b38a-f959af6c7344",
   "metadata": {},
   "source": [
    "# print the actual review"
   ]
  },
  {
   "cell_type": "code",
   "execution_count": 4,
   "id": "262fbc28-562a-43de-bcbc-00eb1398753a",
   "metadata": {},
   "outputs": [
    {
     "name": "stdout",
     "output_type": "stream",
     "text": [
      "? lavish production values and solid performances in this straightforward adaption of jane ? satirical classic about the marriage game within and between the classes in ? 18th century england northam and paltrow are a ? mixture as friends who must pass through ? and lies to discover that they love each other good humor is a ? virtue which goes a long way towards explaining the ? of the aged source material which has been toned down a bit in its harsh ? i liked the look of the film and how shots were set up and i thought it didn't rely too much on ? of head shots like most other films of the 80s and 90s do very good results\n"
     ]
    }
   ],
   "source": [
    "print(get_review_text(train_data[6]))"
   ]
  },
  {
   "cell_type": "markdown",
   "id": "92b1af95-1145-4f28-8599-12618f365f8a",
   "metadata": {},
   "source": [
    "# define the one-hot encoding // The dimension is the number of words"
   ]
  },
  {
   "cell_type": "code",
   "execution_count": 5,
   "id": "3978addb-31db-4211-b304-a1f7b1d8113d",
   "metadata": {},
   "outputs": [],
   "source": [
    "def one_hot_encode(sequences,dimension):\n",
    "    encodings = np.zeros((len(sequences),dimension))\n",
    "    for i, sequence in enumerate(sequences):\n",
    "      for j in sequence:\n",
    "          encodings[i,j] = 1\n",
    "    return encodings"
   ]
  },
  {
   "cell_type": "markdown",
   "id": "bc4a0dc2-730c-4ce4-b135-754e6539f5c0",
   "metadata": {},
   "source": [
    "# train a binary classification model"
   ]
  },
  {
   "cell_type": "code",
   "execution_count": 6,
   "id": "74005da7-e896-4c42-bcc3-bd7a1f2e7198",
   "metadata": {},
   "outputs": [],
   "source": [
    "def train_the_binary_classification(model,inputs,outputs,val_inputs,val_outputs):\n",
    "  model.compile(optimizer=\"rmsprop\",loss=\"binary_crossentropy\",metrics=[\"binary_accuracy\"])\n",
    "  return model.fit(inputs,outputs,epochs=20,batch_size=512,validation_data=(val_inputs,val_outputs))"
   ]
  },
  {
   "cell_type": "code",
   "execution_count": 7,
   "id": "fb8037cd",
   "metadata": {},
   "outputs": [
    {
     "name": "stdout",
     "output_type": "stream",
     "text": [
      "25000\n"
     ]
    }
   ],
   "source": [
    "print(len(train_data))"
   ]
  },
  {
   "cell_type": "markdown",
   "id": "8984c07d-8d8c-45d0-b75a-195fac87d871",
   "metadata": {},
   "source": [
    "# Define the training and validation data"
   ]
  },
  {
   "cell_type": "code",
   "execution_count": null,
   "id": "a9b5a7d3-a8b7-4d36-970f-8f489cf58ef2",
   "metadata": {},
   "outputs": [],
   "source": [
    "# Training Data: First 20,000 samples (80% of original training dataset)\n",
    "partial_train_data = train_data[:20000]\n",
    "partial_train_labels = train_labels[:20000]\n",
    "\n",
    "# Validation Data: Last 5,000 samples (20% of original training dataset)\n",
    "validation_data = train_data[20000:]\n",
    "validation_labels = train_labels[20000:]"
   ]
  },
  {
   "cell_type": "markdown",
   "id": "e8f5aad1-8bdc-4a28-9a8c-c822922d0901",
   "metadata": {},
   "source": [
    "# Encode the data"
   ]
  },
  {
   "cell_type": "code",
   "execution_count": 9,
   "id": "c46851f5",
   "metadata": {},
   "outputs": [],
   "source": [
    "train_encodings = one_hot_encode(partial_train_data, nb_words)\n",
    "val_encodings = one_hot_encode(validation_data, nb_words)\n",
    "test_encodings = one_hot_encode(test_data, nb_words)"
   ]
  },
  {
   "cell_type": "markdown",
   "id": "82378607-7244-44dd-bc21-71d9d7a0de2e",
   "metadata": {},
   "source": [
    "# Define a great model "
   ]
  },
  {
   "cell_type": "code",
   "execution_count": 10,
   "id": "a9224dbc",
   "metadata": {},
   "outputs": [
    {
     "name": "stdout",
     "output_type": "stream",
     "text": [
      "Model: \"model\"\n",
      "_________________________________________________________________\n",
      " Layer (type)                Output Shape              Param #   \n",
      "=================================================================\n",
      " data (InputLayer)           [(None, 10000)]           0         \n",
      "                                                                 \n",
      " dense (Dense)               (None, 64)                640064    \n",
      "                                                                 \n",
      " dense_1 (Dense)             (None, 64)                4160      \n",
      "                                                                 \n",
      " dense_2 (Dense)             (None, 1)                 65        \n",
      "                                                                 \n",
      "=================================================================\n",
      "Total params: 644,289\n",
      "Trainable params: 644,289\n",
      "Non-trainable params: 0\n",
      "_________________________________________________________________\n"
     ]
    }
   ],
   "source": [
    "input = keras.Input(shape=(nb_words,),name=\"data\")\n",
    "l1 = layers.Dense(64,activation=\"relu\")(input)\n",
    "l2 = layers.Dense(64,activation=\"relu\")(l1)\n",
    "output = layers.Dense(1,activation=\"sigmoid\")(l2) \n",
    "model = keras.Model(inputs=input,outputs=output)\n",
    "model.summary()"
   ]
  },
  {
   "cell_type": "markdown",
   "id": "fd2b5b3e-7360-41da-87a8-524b0a2f7359",
   "metadata": {},
   "source": [
    "# Train the binary classification with a validation set"
   ]
  },
  {
   "cell_type": "code",
   "execution_count": 11,
   "id": "6039cdbb",
   "metadata": {},
   "outputs": [
    {
     "name": "stdout",
     "output_type": "stream",
     "text": [
      "Epoch 1/20\n",
      "40/40 [==============================] - 20s 54ms/step - loss: 0.4393 - binary_accuracy: 0.7976 - val_loss: 0.2935 - val_binary_accuracy: 0.8902\n",
      "Epoch 2/20\n",
      "40/40 [==============================] - 1s 20ms/step - loss: 0.2424 - binary_accuracy: 0.9077 - val_loss: 0.2848 - val_binary_accuracy: 0.8894\n",
      "Epoch 3/20\n",
      "40/40 [==============================] - 1s 26ms/step - loss: 0.1908 - binary_accuracy: 0.9265 - val_loss: 0.3552 - val_binary_accuracy: 0.8644\n",
      "Epoch 4/20\n",
      "40/40 [==============================] - 1s 24ms/step - loss: 0.1430 - binary_accuracy: 0.9482 - val_loss: 0.3058 - val_binary_accuracy: 0.8882\n",
      "Epoch 5/20\n",
      "40/40 [==============================] - 1s 20ms/step - loss: 0.1026 - binary_accuracy: 0.9635 - val_loss: 0.3388 - val_binary_accuracy: 0.8870\n",
      "Epoch 6/20\n",
      "40/40 [==============================] - 1s 25ms/step - loss: 0.0860 - binary_accuracy: 0.9686 - val_loss: 0.3880 - val_binary_accuracy: 0.8794\n",
      "Epoch 7/20\n",
      "40/40 [==============================] - 1s 31ms/step - loss: 0.0671 - binary_accuracy: 0.9774 - val_loss: 0.4187 - val_binary_accuracy: 0.8762\n",
      "Epoch 8/20\n",
      "40/40 [==============================] - 1s 29ms/step - loss: 0.0392 - binary_accuracy: 0.9879 - val_loss: 0.4491 - val_binary_accuracy: 0.8826\n",
      "Epoch 9/20\n",
      "40/40 [==============================] - 1s 19ms/step - loss: 0.0364 - binary_accuracy: 0.9901 - val_loss: 0.4963 - val_binary_accuracy: 0.8820\n",
      "Epoch 10/20\n",
      "40/40 [==============================] - 1s 20ms/step - loss: 0.0304 - binary_accuracy: 0.9923 - val_loss: 0.5277 - val_binary_accuracy: 0.8788\n",
      "Epoch 11/20\n",
      "40/40 [==============================] - 1s 20ms/step - loss: 0.0055 - binary_accuracy: 0.9995 - val_loss: 0.6266 - val_binary_accuracy: 0.8772\n",
      "Epoch 12/20\n",
      "40/40 [==============================] - 1s 24ms/step - loss: 0.0275 - binary_accuracy: 0.9924 - val_loss: 0.6549 - val_binary_accuracy: 0.8762\n",
      "Epoch 13/20\n",
      "40/40 [==============================] - 1s 25ms/step - loss: 0.0018 - binary_accuracy: 0.9999 - val_loss: 0.7186 - val_binary_accuracy: 0.8788\n",
      "Epoch 14/20\n",
      "40/40 [==============================] - 1s 23ms/step - loss: 0.0299 - binary_accuracy: 0.9927 - val_loss: 0.7294 - val_binary_accuracy: 0.8766\n",
      "Epoch 15/20\n",
      "40/40 [==============================] - 1s 19ms/step - loss: 7.8620e-04 - binary_accuracy: 1.0000 - val_loss: 0.7884 - val_binary_accuracy: 0.8778\n",
      "Epoch 16/20\n",
      "40/40 [==============================] - 1s 20ms/step - loss: 0.0373 - binary_accuracy: 0.9937 - val_loss: 0.7970 - val_binary_accuracy: 0.8736\n",
      "Epoch 17/20\n",
      "40/40 [==============================] - 1s 22ms/step - loss: 4.0885e-04 - binary_accuracy: 1.0000 - val_loss: 0.8420 - val_binary_accuracy: 0.8748\n",
      "Epoch 18/20\n",
      "40/40 [==============================] - 1s 28ms/step - loss: 2.6150e-04 - binary_accuracy: 1.0000 - val_loss: 0.9082 - val_binary_accuracy: 0.8744\n",
      "Epoch 19/20\n",
      "40/40 [==============================] - 1s 33ms/step - loss: 0.0246 - binary_accuracy: 0.9952 - val_loss: 0.9769 - val_binary_accuracy: 0.8700\n",
      "Epoch 20/20\n",
      "40/40 [==============================] - 1s 29ms/step - loss: 1.3171e-04 - binary_accuracy: 1.0000 - val_loss: 1.0018 - val_binary_accuracy: 0.8716\n"
     ]
    }
   ],
   "source": [
    "history = train_the_binary_classification(model, train_encodings, partial_train_labels, val_encodings, validation_labels)"
   ]
  },
  {
   "cell_type": "markdown",
   "id": "3d17ba0c-e0ca-45cd-ab68-2d9cacb557c2",
   "metadata": {},
   "source": [
    "# Evaluate on the training data"
   ]
  },
  {
   "cell_type": "code",
   "execution_count": 12,
   "id": "a0236678-acfc-40dd-9363-e8c5fedb234d",
   "metadata": {},
   "outputs": [
    {
     "name": "stdout",
     "output_type": "stream",
     "text": [
      "625/625 [==============================] - 18s 28ms/step - loss: 8.1381e-05 - binary_accuracy: 1.0000\n",
      "Training Loss: 0.0001, Training Accuracy: 1.0000\n"
     ]
    }
   ],
   "source": [
    "train_loss, train_acc = model.evaluate(train_encodings, partial_train_labels)\n",
    "print(f\"Training Loss: {train_loss:.4f}, Training Accuracy: {train_acc:.4f}\")"
   ]
  },
  {
   "cell_type": "markdown",
   "id": "acb56034-2860-49a3-b4bc-a72c0391d793",
   "metadata": {},
   "source": [
    "# Evaluate on the Validation Data"
   ]
  },
  {
   "cell_type": "code",
   "execution_count": 13,
   "id": "71fc69d6-f023-40e4-a075-e8a7b53507db",
   "metadata": {},
   "outputs": [
    {
     "name": "stdout",
     "output_type": "stream",
     "text": [
      "157/157 [==============================] - 7s 41ms/step - loss: 1.0018 - binary_accuracy: 0.8716\n",
      "Validation Loss: 1.0018, Validation Accuracy: 0.8716\n"
     ]
    }
   ],
   "source": [
    "val_loss, val_acc = model.evaluate(val_encodings, validation_labels)\n",
    "print(f\"Validation Loss: {val_loss:.4f}, Validation Accuracy: {val_acc:.4f}\")"
   ]
  },
  {
   "cell_type": "markdown",
   "id": "fcd25685-cb19-43fa-9e11-adda1d4aeffa",
   "metadata": {},
   "source": [
    "# Evaluate on the testing data"
   ]
  },
  {
   "cell_type": "code",
   "execution_count": 14,
   "id": "dc0ba038-725c-4e76-844a-a31998bdda8c",
   "metadata": {},
   "outputs": [
    {
     "name": "stdout",
     "output_type": "stream",
     "text": [
      "782/782 [==============================] - 31s 40ms/step - loss: 1.0767 - binary_accuracy: 0.8576\n",
      "Testing Loss: 1.0767, Testing Accuracy: 0.8576\n"
     ]
    }
   ],
   "source": [
    "test_loss, test_acc = model.evaluate(test_encodings, test_labels)\n",
    "print(f\"Testing Loss: {test_loss:.4f}, Testing Accuracy: {test_acc:.4f}\")"
   ]
  },
  {
   "cell_type": "markdown",
   "id": "a9ef6291-5daf-4d69-8be9-0a72625bc9a7",
   "metadata": {},
   "source": [
    "# Plot the Training and Validation Losses"
   ]
  },
  {
   "cell_type": "code",
   "execution_count": 15,
   "id": "1439272a-ffb9-4050-ad6d-575ea942331d",
   "metadata": {},
   "outputs": [
    {
     "data": {
      "image/png": "[encoded data removed]",
      "text/plain": [
       "<Figure size 640x480 with 1 Axes>"
      ]
     },
     "metadata": {},
     "output_type": "display_data"
    }
   ],
   "source": [
    "import matplotlib.pyplot as plt\n",
    "history_dict = history.history\n",
    "loss_values = history_dict[\"loss\"]\n",
    "val_loss_values = history_dict[\"val_loss\"]\n",
    "epochs = range (1, len(loss_values) + 1)\n",
    "plt.plot(epochs, loss_values, \"bo\", label=\"Training Loss\")\n",
    "plt.plot(epochs, val_loss_values, \"b\", label=\"Validation Loss\")\n",
    "plt.title(\"Training and Validation Loss\")\n",
    "plt.xlabel(\"Epochs\")\n",
    "plt.ylabel(\"Loss\")\n",
    "plt.legend()\n",
    "plt.show()"
   ]
  },
  {
   "cell_type": "code",
   "execution_count": null,
   "id": "f013f211",
   "metadata": {},
   "outputs": [],
   "source": []
  }
 ],
 "metadata": {
  "kernelspec": {
   "display_name": "sethbonder",
   "language": "python",
   "name": "sethbonder"
  },
  "language_info": {
   "codemirror_mode": {
    "name": "ipython",
    "version": 3
   },
   "file_extension": ".py",
   "mimetype": "text/x-python",
   "name": "python",
   "nbconvert_exporter": "python",
   "pygments_lexer": "ipython3",
   "version": "3.10.8"
  }
 },
 "nbformat": 4,
 "nbformat_minor": 5
}
