{
 "cells": [
  {
   "cell_type": "markdown",
   "id": "BUpeznIzfJ_Y",
   "metadata": {
    "id": "BUpeznIzfJ_Y"
   },
   "source": [
    "Write comments next to each line of code.  If you aren't sure what a method is or what the parameters are, you can easily look up any of them to describe them correctly."
   ]
  },
  {
   "cell_type": "code",
   "execution_count": 1,
   "id": "6534c9ab",
   "metadata": {
    "id": "6534c9ab"
   },
   "outputs": [],
   "source": [
    "# !pip install tensorflow\n",
    "import numpy as np\n",
    "from tensorflow import keras\n",
    "from keras import layers\n",
    "from keras.datasets import mnist\n",
    "import matplotlib.pyplot as plt"
   ]
  },
  {
   "cell_type": "markdown",
   "id": "2d910d7c-70d8-440c-8c4b-0b7e6c08e8c6",
   "metadata": {},
   "source": [
    "This function displays an image"
   ]
  },
  {
   "cell_type": "code",
   "execution_count": 2,
   "id": "95f593f8",
   "metadata": {
    "id": "95f593f8"
   },
   "outputs": [],
   "source": [
    "def show_image(im):\n",
    "  plt.imshow(im,cmap=plt.cm.summer)\n",
    "  plt.show()"
   ]
  },
  {
   "cell_type": "markdown",
   "id": "9c1c6b80-538d-4ab7-927a-3bb8cc54aba3",
   "metadata": {},
   "source": [
    "This function displays an image, its label (value), a prediction, and its probability"
   ]
  },
  {
   "cell_type": "code",
   "execution_count": 3,
   "id": "dd8e4483",
   "metadata": {
    "id": "dd8e4483"
   },
   "outputs": [],
   "source": [
    "def show_image_vpp(im,value,prediction,probability):\n",
    "  plt.imshow(im,cmap=plt.cm.summer)\n",
    "  plt.show()\n",
    "  print(\"the value is \",value)\n",
    "  print(\"The predicted value is \",prediction,\" with probability: \",probability)"
   ]
  },
  {
   "cell_type": "markdown",
   "id": "5cb3b471-2bfc-495d-8088-c3541d4183a4",
   "metadata": {},
   "source": [
    "This function builds a model "
   ]
  },
  {
   "cell_type": "code",
   "execution_count": 4,
   "id": "bcd721d4",
   "metadata": {
    "id": "bcd721d4"
   },
   "outputs": [],
   "source": [
    "def build_model(input_shape):\n",
    "    input = keras.Input(shape=(input_shape,),name=\"data\")\n",
    "    internal = layers.Dense(512,activation=\"relu\")(input)\n",
    "    output = layers.Dense(10,activation=\"softmax\")(internal)\n",
    "    model = keras.Model(inputs=input,outputs=output)\n",
    "    return model"
   ]
  },
  {
   "cell_type": "markdown",
   "id": "bf2e5580-cf66-466f-acf4-24629f5bae29",
   "metadata": {},
   "source": [
    "This function trains a model"
   ]
  },
  {
   "cell_type": "code",
   "execution_count": 5,
   "id": "e3ee20b9",
   "metadata": {
    "id": "e3ee20b9"
   },
   "outputs": [],
   "source": [
    "def train_model(model,train_tensors,train_labels):\n",
    "    model.compile(optimizer=\"rmsprop\",loss=\"sparse_categorical_crossentropy\",metrics=[\"accuracy\"])\n",
    "    model.fit(train_tensors,train_labels,epochs=5)"
   ]
  },
  {
   "cell_type": "markdown",
   "id": "29ba9fce-844c-46ff-9662-5e27c8da7581",
   "metadata": {},
   "source": [
    "This function predicts the results of a model on some tensors; it returns the predictions and their associated probabilities"
   ]
  },
  {
   "cell_type": "code",
   "execution_count": 6,
   "id": "85d8efa2",
   "metadata": {
    "id": "85d8efa2"
   },
   "outputs": [],
   "source": [
    "def predict(model,test_tensors):\n",
    "    mpredictions = model.predict(test_tensors)\n",
    "    digit_predictions = np.array([x.argmax() for x in mpredictions])\n",
    "    digit_probability = np.array([mpredictions[i][p] for i, p in enumerate(digit_predictions)])\n",
    "    return digit_predictions,digit_probability"
   ]
  },
  {
   "cell_type": "markdown",
   "id": "79f28b21",
   "metadata": {
    "id": "79f28b21"
   },
   "source": [
    "# Get the training and testing data"
   ]
  },
  {
   "cell_type": "code",
   "execution_count": 7,
   "id": "f7413d5a",
   "metadata": {
    "id": "f7413d5a"
   },
   "outputs": [],
   "source": [
    "(train_images, train_labels), (test_images, test_labels) = mnist.load_data()"
   ]
  },
  {
   "cell_type": "markdown",
   "id": "04372b2c",
   "metadata": {
    "id": "04372b2c"
   },
   "source": [
    "# Look at the shape of the images"
   ]
  },
  {
   "cell_type": "code",
   "execution_count": 8,
   "id": "51052f17",
   "metadata": {
    "colab": {
     "base_uri": "https://localhost:8080/"
    },
    "executionInfo": {
     "elapsed": 287,
     "status": "ok",
     "timestamp": 1649768791114,
     "user": {
      "displayName": "Beth White",
      "userId": "06650684930091111574"
     },
     "user_tz": 240
    },
    "id": "51052f17",
    "outputId": "dd60ebee-471d-4b85-938b-6dc4f8887ec1"
   },
   "outputs": [
    {
     "data": {
      "text/plain": [
       "(60000, 28, 28)"
      ]
     },
     "execution_count": 8,
     "metadata": {},
     "output_type": "execute_result"
    }
   ],
   "source": [
    "train_shape = train_images.shape\n",
    "train_shape"
   ]
  },
  {
   "cell_type": "markdown",
   "id": "64a22c33",
   "metadata": {
    "id": "64a22c33"
   },
   "source": [
    "# Look at the first Image"
   ]
  },
  {
   "cell_type": "code",
   "execution_count": 9,
   "id": "990a0e20",
   "metadata": {
    "colab": {
     "base_uri": "https://localhost:8080/"
    },
    "executionInfo": {
     "elapsed": 16,
     "status": "ok",
     "timestamp": 1649768791115,
     "user": {
      "displayName": "Beth White",
      "userId": "06650684930091111574"
     },
     "user_tz": 240
    },
    "id": "990a0e20",
    "outputId": "cf5c9a31-3288-4359-a279-8088751db14a"
   },
   "outputs": [
    {
     "data": {
      "text/plain": [
       "array([[  0,   0,   0,   0,   0,   0,   0,   0,   0,   0,   0,   0,   0,\n",
       "          0,   0,   0,   0,   0,   0,   0,   0,   0,   0,   0,   0,   0,\n",
       "          0,   0],\n",
       "       [  0,   0,   0,   0,   0,   0,   0,   0,   0,   0,   0,   0,   0,\n",
       "          0,   0,   0,   0,   0,   0,   0,   0,   0,   0,   0,   0,   0,\n",
       "          0,   0],\n",
       "       [  0,   0,   0,   0,   0,   0,   0,   0,   0,   0,   0,   0,   0,\n",
       "          0,   0,   0,   0,   0,   0,   0,   0,   0,   0,   0,   0,   0,\n",
       "          0,   0],\n",
       "       [  0,   0,   0,   0,   0,   0,   0,   0,   0,   0,   0,   0,   0,\n",
       "          0,   0,   0,   0,   0,   0,   0,   0,   0,   0,   0,   0,   0,\n",
       "          0,   0],\n",
       "       [  0,   0,   0,   0,   0,   0,   0,   0,   0,   0,   0,   0,   0,\n",
       "          0,   0,   0,   0,   0,   0,   0,   0,   0,   0,   0,   0,   0,\n",
       "          0,   0],\n",
       "       [  0,   0,   0,   0,   0,   0,   0,   0,   0,   0,   0,   0,   3,\n",
       "         18,  18,  18, 126, 136, 175,  26, 166, 255, 247, 127,   0,   0,\n",
       "          0,   0],\n",
       "       [  0,   0,   0,   0,   0,   0,   0,   0,  30,  36,  94, 154, 170,\n",
       "        253, 253, 253, 253, 253, 225, 172, 253, 242, 195,  64,   0,   0,\n",
       "          0,   0],\n",
       "       [  0,   0,   0,   0,   0,   0,   0,  49, 238, 253, 253, 253, 253,\n",
       "        253, 253, 253, 253, 251,  93,  82,  82,  56,  39,   0,   0,   0,\n",
       "          0,   0],\n",
       "       [  0,   0,   0,   0,   0,   0,   0,  18, 219, 253, 253, 253, 253,\n",
       "        253, 198, 182, 247, 241,   0,   0,   0,   0,   0,   0,   0,   0,\n",
       "          0,   0],\n",
       "       [  0,   0,   0,   0,   0,   0,   0,   0,  80, 156, 107, 253, 253,\n",
       "        205,  11,   0,  43, 154,   0,   0,   0,   0,   0,   0,   0,   0,\n",
       "          0,   0],\n",
       "       [  0,   0,   0,   0,   0,   0,   0,   0,   0,  14,   1, 154, 253,\n",
       "         90,   0,   0,   0,   0,   0,   0,   0,   0,   0,   0,   0,   0,\n",
       "          0,   0],\n",
       "       [  0,   0,   0,   0,   0,   0,   0,   0,   0,   0,   0, 139, 253,\n",
       "        190,   2,   0,   0,   0,   0,   0,   0,   0,   0,   0,   0,   0,\n",
       "          0,   0],\n",
       "       [  0,   0,   0,   0,   0,   0,   0,   0,   0,   0,   0,  11, 190,\n",
       "        253,  70,   0,   0,   0,   0,   0,   0,   0,   0,   0,   0,   0,\n",
       "          0,   0],\n",
       "       [  0,   0,   0,   0,   0,   0,   0,   0,   0,   0,   0,   0,  35,\n",
       "        241, 225, 160, 108,   1,   0,   0,   0,   0,   0,   0,   0,   0,\n",
       "          0,   0],\n",
       "       [  0,   0,   0,   0,   0,   0,   0,   0,   0,   0,   0,   0,   0,\n",
       "         81, 240, 253, 253, 119,  25,   0,   0,   0,   0,   0,   0,   0,\n",
       "          0,   0],\n",
       "       [  0,   0,   0,   0,   0,   0,   0,   0,   0,   0,   0,   0,   0,\n",
       "          0,  45, 186, 253, 253, 150,  27,   0,   0,   0,   0,   0,   0,\n",
       "          0,   0],\n",
       "       [  0,   0,   0,   0,   0,   0,   0,   0,   0,   0,   0,   0,   0,\n",
       "          0,   0,  16,  93, 252, 253, 187,   0,   0,   0,   0,   0,   0,\n",
       "          0,   0],\n",
       "       [  0,   0,   0,   0,   0,   0,   0,   0,   0,   0,   0,   0,   0,\n",
       "          0,   0,   0,   0, 249, 253, 249,  64,   0,   0,   0,   0,   0,\n",
       "          0,   0],\n",
       "       [  0,   0,   0,   0,   0,   0,   0,   0,   0,   0,   0,   0,   0,\n",
       "          0,  46, 130, 183, 253, 253, 207,   2,   0,   0,   0,   0,   0,\n",
       "          0,   0],\n",
       "       [  0,   0,   0,   0,   0,   0,   0,   0,   0,   0,   0,   0,  39,\n",
       "        148, 229, 253, 253, 253, 250, 182,   0,   0,   0,   0,   0,   0,\n",
       "          0,   0],\n",
       "       [  0,   0,   0,   0,   0,   0,   0,   0,   0,   0,  24, 114, 221,\n",
       "        253, 253, 253, 253, 201,  78,   0,   0,   0,   0,   0,   0,   0,\n",
       "          0,   0],\n",
       "       [  0,   0,   0,   0,   0,   0,   0,   0,  23,  66, 213, 253, 253,\n",
       "        253, 253, 198,  81,   2,   0,   0,   0,   0,   0,   0,   0,   0,\n",
       "          0,   0],\n",
       "       [  0,   0,   0,   0,   0,   0,  18, 171, 219, 253, 253, 253, 253,\n",
       "        195,  80,   9,   0,   0,   0,   0,   0,   0,   0,   0,   0,   0,\n",
       "          0,   0],\n",
       "       [  0,   0,   0,   0,  55, 172, 226, 253, 253, 253, 253, 244, 133,\n",
       "         11,   0,   0,   0,   0,   0,   0,   0,   0,   0,   0,   0,   0,\n",
       "          0,   0],\n",
       "       [  0,   0,   0,   0, 136, 253, 253, 253, 212, 135, 132,  16,   0,\n",
       "          0,   0,   0,   0,   0,   0,   0,   0,   0,   0,   0,   0,   0,\n",
       "          0,   0],\n",
       "       [  0,   0,   0,   0,   0,   0,   0,   0,   0,   0,   0,   0,   0,\n",
       "          0,   0,   0,   0,   0,   0,   0,   0,   0,   0,   0,   0,   0,\n",
       "          0,   0],\n",
       "       [  0,   0,   0,   0,   0,   0,   0,   0,   0,   0,   0,   0,   0,\n",
       "          0,   0,   0,   0,   0,   0,   0,   0,   0,   0,   0,   0,   0,\n",
       "          0,   0],\n",
       "       [  0,   0,   0,   0,   0,   0,   0,   0,   0,   0,   0,   0,   0,\n",
       "          0,   0,   0,   0,   0,   0,   0,   0,   0,   0,   0,   0,   0,\n",
       "          0,   0]], dtype=uint8)"
      ]
     },
     "execution_count": 9,
     "metadata": {},
     "output_type": "execute_result"
    }
   ],
   "source": [
    "train_images[0]"
   ]
  },
  {
   "cell_type": "markdown",
   "id": "397b17f6",
   "metadata": {
    "id": "397b17f6"
   },
   "source": [
    "# We need to reshape the tensors"
   ]
  },
  {
   "cell_type": "code",
   "execution_count": 10,
   "id": "9c045452",
   "metadata": {
    "id": "9c045452",
    "outputId": "6ddebfef-0cbb-4b7e-da00-f580dcbb999c"
   },
   "outputs": [
    {
     "data": {
      "text/plain": [
       "(60000, 784)"
      ]
     },
     "execution_count": 10,
     "metadata": {},
     "output_type": "execute_result"
    }
   ],
   "source": [
    "train_tensors = train_images.reshape((train_shape[0],train_shape[1]*train_shape[2]))\n",
    "train_tensors.shape"
   ]
  },
  {
   "cell_type": "markdown",
   "id": "de0a5183",
   "metadata": {
    "id": "de0a5183"
   },
   "source": [
    "# Now we can build the model\n",
    "# We need to give the model the shape of the images"
   ]
  },
  {
   "cell_type": "code",
   "execution_count": 11,
   "id": "8a75e77d",
   "metadata": {
    "id": "8a75e77d"
   },
   "outputs": [],
   "source": [
    "model = build_model(train_tensors.shape[1])"
   ]
  },
  {
   "cell_type": "markdown",
   "id": "08c2045b",
   "metadata": {
    "id": "08c2045b"
   },
   "source": [
    "# Now we need to train the model"
   ]
  },
  {
   "cell_type": "code",
   "execution_count": 12,
   "id": "538a5024",
   "metadata": {
    "colab": {
     "base_uri": "https://localhost:8080/"
    },
    "executionInfo": {
     "elapsed": 70415,
     "status": "ok",
     "timestamp": 1649768861525,
     "user": {
      "displayName": "Beth White",
      "userId": "06650684930091111574"
     },
     "user_tz": 240
    },
    "id": "538a5024",
    "outputId": "1253b30d-5725-4c8f-bf11-ab610314579d"
   },
   "outputs": [
    {
     "name": "stdout",
     "output_type": "stream",
     "text": [
      "Epoch 1/5\n",
      "1875/1875 [==============================] - 9s 4ms/step - loss: 3.9074 - accuracy: 0.9084\n",
      "Epoch 2/5\n",
      "1875/1875 [==============================] - 8s 4ms/step - loss: 0.8713 - accuracy: 0.9507\n",
      "Epoch 3/5\n",
      "1875/1875 [==============================] - 14s 7ms/step - loss: 0.6641 - accuracy: 0.9616\n",
      "Epoch 4/5\n",
      "1875/1875 [==============================] - 18s 10ms/step - loss: 0.5974 - accuracy: 0.9687\n",
      "Epoch 5/5\n",
      "1875/1875 [==============================] - 11s 6ms/step - loss: 0.5750 - accuracy: 0.9724\n"
     ]
    }
   ],
   "source": [
    "train_model(model,train_tensors,train_labels)"
   ]
  },
  {
   "cell_type": "markdown",
   "id": "5b9166c8",
   "metadata": {
    "id": "5b9166c8"
   },
   "source": [
    "# The model is trained; let us see how well it does at recognizing digits\n",
    "We first need to reshape the testing dataset"
   ]
  },
  {
   "cell_type": "code",
   "execution_count": 13,
   "id": "20aed3ee",
   "metadata": {
    "id": "20aed3ee",
    "outputId": "607d0fc6-7ec3-4b16-cc98-9b9f06174150"
   },
   "outputs": [
    {
     "data": {
      "text/plain": [
       "(10000, 28, 28)"
      ]
     },
     "execution_count": 13,
     "metadata": {},
     "output_type": "execute_result"
    }
   ],
   "source": [
    "test_shape = test_images.shape\n",
    "test_shape"
   ]
  },
  {
   "cell_type": "code",
   "execution_count": 14,
   "id": "3442c768",
   "metadata": {
    "id": "3442c768",
    "outputId": "0ff3c43b-a187-44ce-e70a-b045a5d7f8cd"
   },
   "outputs": [
    {
     "data": {
      "text/plain": [
       "array([[0., 0., 0., ..., 0., 0., 0.],\n",
       "       [0., 0., 0., ..., 0., 0., 0.],\n",
       "       [0., 0., 0., ..., 0., 0., 0.],\n",
       "       ...,\n",
       "       [0., 0., 0., ..., 0., 0., 0.],\n",
       "       [0., 0., 0., ..., 0., 0., 0.],\n",
       "       [0., 0., 0., ..., 0., 0., 0.]], dtype=float32)"
      ]
     },
     "execution_count": 14,
     "metadata": {},
     "output_type": "execute_result"
    }
   ],
   "source": [
    "test_tensors = test_images.reshape((test_shape[0],test_shape[1]*test_shape[2])).astype(\"float32\")\n",
    "test_tensors"
   ]
  },
  {
   "cell_type": "markdown",
   "id": "0c15b02d",
   "metadata": {
    "id": "0c15b02d"
   },
   "source": [
    "# Now we can make predictions and get probabilities"
   ]
  },
  {
   "cell_type": "code",
   "execution_count": 15,
   "id": "4d439ea3",
   "metadata": {
    "id": "4d439ea3"
   },
   "outputs": [
    {
     "name": "stdout",
     "output_type": "stream",
     "text": [
      "313/313 [==============================] - 1s 2ms/step\n"
     ]
    }
   ],
   "source": [
    "pred, prob = predict(model,test_tensors)"
   ]
  },
  {
   "cell_type": "markdown",
   "id": "0318610f-cecd-42f4-bc62-0e080288a562",
   "metadata": {},
   "source": [
    "Display the prediction"
   ]
  },
  {
   "cell_type": "code",
   "execution_count": 16,
   "id": "8eded227",
   "metadata": {
    "colab": {
     "base_uri": "https://localhost:8080/"
    },
    "executionInfo": {
     "elapsed": 46,
     "status": "ok",
     "timestamp": 1649768862890,
     "user": {
      "displayName": "Beth White",
      "userId": "06650684930091111574"
     },
     "user_tz": 240
    },
    "id": "8eded227",
    "outputId": "b798bfe5-686f-4b77-c263-2069f8437f50"
   },
   "outputs": [
    {
     "data": {
      "text/plain": [
       "array([7, 2, 1, ..., 4, 5, 6], dtype=int64)"
      ]
     },
     "execution_count": 16,
     "metadata": {},
     "output_type": "execute_result"
    }
   ],
   "source": [
    "pred"
   ]
  },
  {
   "cell_type": "markdown",
   "id": "aeecca40-4368-494a-b42c-186e2111f392",
   "metadata": {},
   "source": [
    "Display the probabilities"
   ]
  },
  {
   "cell_type": "code",
   "execution_count": 17,
   "id": "e363d8e0",
   "metadata": {
    "colab": {
     "base_uri": "https://localhost:8080/"
    },
    "executionInfo": {
     "elapsed": 36,
     "status": "ok",
     "timestamp": 1649768862891,
     "user": {
      "displayName": "Beth White",
      "userId": "06650684930091111574"
     },
     "user_tz": 240
    },
    "id": "e363d8e0",
    "outputId": "6d453713-fdcf-4002-b671-43b1b9e1924b"
   },
   "outputs": [
    {
     "data": {
      "text/plain": [
       "array([0.99999994, 0.99999994, 0.99999994, ..., 0.99999994, 0.99999994,\n",
       "       0.99999994], dtype=float32)"
      ]
     },
     "execution_count": 17,
     "metadata": {},
     "output_type": "execute_result"
    }
   ],
   "source": [
    "prob"
   ]
  },
  {
   "cell_type": "markdown",
   "id": "2de6286c-fbf2-479f-8c21-781421a26238",
   "metadata": {},
   "source": [
    "Show image 15 in the test set, its label, its prediction, and its probability"
   ]
  },
  {
   "cell_type": "code",
   "execution_count": null,
   "id": "ff80d3fd",
   "metadata": {
    "colab": {
     "base_uri": "https://localhost:8080/",
     "height": 300
    },
    "executionInfo": {
     "elapsed": 360,
     "status": "ok",
     "timestamp": 1649768863241,
     "user": {
      "displayName": "Beth White",
      "userId": "06650684930091111574"
     },
     "user_tz": 240
    },
    "id": "ff80d3fd",
    "outputId": "11637bc2-12ff-497a-8b7a-e5c6c188e6d8"
   },
   "outputs": [],
   "source": [
    "show_image_vpp(test_images[15],test_labels[15],pred[15],prob[15])"
   ]
  },
  {
   "cell_type": "markdown",
   "id": "3131885a-3c69-4583-992a-e88ff9c3c8e2",
   "metadata": {},
   "source": [
    "Show image 2 in the test set, its label, its prediction, and its probability"
   ]
  },
  {
   "cell_type": "code",
   "execution_count": 22,
   "id": "e7f330ce",
   "metadata": {
    "colab": {
     "base_uri": "https://localhost:8080/",
     "height": 300
    },
    "executionInfo": {
     "elapsed": 29,
     "status": "ok",
     "timestamp": 1649768863251,
     "user": {
      "displayName": "Beth White",
      "userId": "06650684930091111574"
     },
     "user_tz": 240
    },
    "id": "e7f330ce",
    "outputId": "ff80f9f2-5b33-48a4-f554-ca7a4462637a"
   },
   "outputs": [
    {
     "data": {
      "image/png": "[encoded data removed]",
      "text/plain": [
       "<Figure size 640x480 with 1 Axes>"
      ]
     },
     "metadata": {},
     "output_type": "display_data"
    },
    {
     "name": "stdout",
     "output_type": "stream",
     "text": [
      "the value is  1\n",
      "The predicted value is  1  with probability:  1.0\n"
     ]
    }
   ],
   "source": [
    "show_image_vpp(test_images[2],test_labels[2],pred[2],prob[2])"
   ]
  },
  {
   "cell_type": "code",
   "execution_count": null,
   "id": "27399a02",
   "metadata": {
    "id": "27399a02"
   },
   "outputs": [],
   "source": []
  },
  {
   "cell_type": "code",
   "execution_count": null,
   "id": "821f7554",
   "metadata": {
    "id": "821f7554"
   },
   "outputs": [],
   "source": []
  },
  {
   "cell_type": "code",
   "execution_count": null,
   "id": "6a6c080e",
   "metadata": {
    "id": "6a6c080e"
   },
   "outputs": [],
   "source": []
  }
 ],
 "metadata": {
  "colab": {
   "provenance": [
    {
     "file_id": "129oFsgU-2vKgWP67J9Rq0GpFtp3WmbA8",
     "timestamp": 1710411764605
    },
    {
     "file_id": "1Hgsr75l8w4l_Eq7uOzKSz-NLe_6a1_iC",
     "timestamp": 1651088939559
    }
   ]
  },
  "kernelspec": {
   "display_name": "sethbonder",
   "language": "python",
   "name": "sethbonder"
  },
  "language_info": {
   "codemirror_mode": {
    "name": "ipython",
    "version": 3
   },
   "file_extension": ".py",
   "mimetype": "text/x-python",
   "name": "python",
   "nbconvert_exporter": "python",
   "pygments_lexer": "ipython3",
   "version": "3.10.8"
  }
 },
 "nbformat": 4,
 "nbformat_minor": 5
}
