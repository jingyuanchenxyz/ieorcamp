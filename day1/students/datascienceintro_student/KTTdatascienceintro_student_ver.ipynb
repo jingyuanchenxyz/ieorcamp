{
 "cells": [
  {
   "cell_type": "markdown",
   "id": "fac533ac-120c-4695-83c1-5b54e156fb0a",
   "metadata": {},
   "source": [
    "# Day 1: KTT Berkeley IEOR Camp 2: Data Science Intro\n",
    "Fish Market Data (Source @Kaggle). *This lab introduces basic functions of pandas and matplotlib, going through how to import CSVs, explore, retrieve, summary and plot data.*"
   ]
  },
  {
   "cell_type": "markdown",
   "id": "6e8f04f5-f60e-438c-bcf2-db0c31017db1",
   "metadata": {},
   "source": [
    "First we will import our libraries (useful functions that other developers have written already) "
   ]
  },
  {
   "cell_type": "code",
   "execution_count": 103,
   "id": "96909009-0be1-471f-a032-38d407ae1aca",
   "metadata": {},
   "outputs": [],
   "source": [
    "import pandas as pd # to import and arrange our data\n",
    "import matplotlib.pyplot as plt # to plot things\n",
    "import numpy as np # to do math and statistical computing"
   ]
  },
  {
   "cell_type": "markdown",
   "id": "79723473-21f6-4727-8888-a585017930a2",
   "metadata": {},
   "source": [
    "## Importing CSV data sets"
   ]
  },
  {
   "cell_type": "markdown",
   "id": "08de5085-7e66-4266-b00e-45d5c65fafe3",
   "metadata": {},
   "source": [
    "Using the ``pd.read_csv(\"path to data\")`` function let's import our dataset"
   ]
  },
  {
   "cell_type": "code",
   "execution_count": 95,
   "id": "d59296da-6412-45bf-9d54-1476aeb1a9af",
   "metadata": {
    "scrolled": true
   },
   "outputs": [
    {
     "data": {
      "text/html": [
       "<div>\n",
       "<style scoped>\n",
       "    .dataframe tbody tr th:only-of-type {\n",
       "        vertical-align: middle;\n",
       "    }\n",
       "\n",
       "    .dataframe tbody tr th {\n",
       "        vertical-align: top;\n",
       "    }\n",
       "\n",
       "    .dataframe thead th {\n",
       "        text-align: right;\n",
       "    }\n",
       "</style>\n",
       "<table border=\"1\" class=\"dataframe\">\n",
       "  <thead>\n",
       "    <tr style=\"text-align: right;\">\n",
       "      <th></th>\n",
       "      <th>Species</th>\n",
       "      <th>Weight</th>\n",
       "      <th>Length1</th>\n",
       "      <th>Length2</th>\n",
       "      <th>Length3</th>\n",
       "      <th>Height</th>\n",
       "      <th>Width</th>\n",
       "    </tr>\n",
       "  </thead>\n",
       "  <tbody>\n",
       "    <tr>\n",
       "      <th>0</th>\n",
       "      <td>Bream</td>\n",
       "      <td>242.0</td>\n",
       "      <td>23.2</td>\n",
       "      <td>25.4</td>\n",
       "      <td>30.0</td>\n",
       "      <td>11.5200</td>\n",
       "      <td>4.0200</td>\n",
       "    </tr>\n",
       "    <tr>\n",
       "      <th>1</th>\n",
       "      <td>Bream</td>\n",
       "      <td>290.0</td>\n",
       "      <td>24.0</td>\n",
       "      <td>26.3</td>\n",
       "      <td>31.2</td>\n",
       "      <td>12.4800</td>\n",
       "      <td>4.3056</td>\n",
       "    </tr>\n",
       "    <tr>\n",
       "      <th>2</th>\n",
       "      <td>Bream</td>\n",
       "      <td>340.0</td>\n",
       "      <td>23.9</td>\n",
       "      <td>26.5</td>\n",
       "      <td>31.1</td>\n",
       "      <td>12.3778</td>\n",
       "      <td>4.6961</td>\n",
       "    </tr>\n",
       "    <tr>\n",
       "      <th>3</th>\n",
       "      <td>Bream</td>\n",
       "      <td>363.0</td>\n",
       "      <td>26.3</td>\n",
       "      <td>29.0</td>\n",
       "      <td>33.5</td>\n",
       "      <td>12.7300</td>\n",
       "      <td>4.4555</td>\n",
       "    </tr>\n",
       "    <tr>\n",
       "      <th>4</th>\n",
       "      <td>Bream</td>\n",
       "      <td>430.0</td>\n",
       "      <td>26.5</td>\n",
       "      <td>29.0</td>\n",
       "      <td>34.0</td>\n",
       "      <td>12.4440</td>\n",
       "      <td>5.1340</td>\n",
       "    </tr>\n",
       "    <tr>\n",
       "      <th>...</th>\n",
       "      <td>...</td>\n",
       "      <td>...</td>\n",
       "      <td>...</td>\n",
       "      <td>...</td>\n",
       "      <td>...</td>\n",
       "      <td>...</td>\n",
       "      <td>...</td>\n",
       "    </tr>\n",
       "    <tr>\n",
       "      <th>154</th>\n",
       "      <td>Smelt</td>\n",
       "      <td>12.2</td>\n",
       "      <td>11.5</td>\n",
       "      <td>12.2</td>\n",
       "      <td>13.4</td>\n",
       "      <td>2.0904</td>\n",
       "      <td>1.3936</td>\n",
       "    </tr>\n",
       "    <tr>\n",
       "      <th>155</th>\n",
       "      <td>Smelt</td>\n",
       "      <td>13.4</td>\n",
       "      <td>11.7</td>\n",
       "      <td>12.4</td>\n",
       "      <td>13.5</td>\n",
       "      <td>2.4300</td>\n",
       "      <td>1.2690</td>\n",
       "    </tr>\n",
       "    <tr>\n",
       "      <th>156</th>\n",
       "      <td>Smelt</td>\n",
       "      <td>12.2</td>\n",
       "      <td>12.1</td>\n",
       "      <td>13.0</td>\n",
       "      <td>13.8</td>\n",
       "      <td>2.2770</td>\n",
       "      <td>1.2558</td>\n",
       "    </tr>\n",
       "    <tr>\n",
       "      <th>157</th>\n",
       "      <td>Smelt</td>\n",
       "      <td>19.7</td>\n",
       "      <td>13.2</td>\n",
       "      <td>14.3</td>\n",
       "      <td>15.2</td>\n",
       "      <td>2.8728</td>\n",
       "      <td>2.0672</td>\n",
       "    </tr>\n",
       "    <tr>\n",
       "      <th>158</th>\n",
       "      <td>Smelt</td>\n",
       "      <td>19.9</td>\n",
       "      <td>13.8</td>\n",
       "      <td>15.0</td>\n",
       "      <td>16.2</td>\n",
       "      <td>2.9322</td>\n",
       "      <td>1.8792</td>\n",
       "    </tr>\n",
       "  </tbody>\n",
       "</table>\n",
       "<p>159 rows × 7 columns</p>\n",
       "</div>"
      ],
      "text/plain": [
       "    Species  Weight  Length1  Length2  Length3   Height   Width\n",
       "0     Bream   242.0     23.2     25.4     30.0  11.5200  4.0200\n",
       "1     Bream   290.0     24.0     26.3     31.2  12.4800  4.3056\n",
       "2     Bream   340.0     23.9     26.5     31.1  12.3778  4.6961\n",
       "3     Bream   363.0     26.3     29.0     33.5  12.7300  4.4555\n",
       "4     Bream   430.0     26.5     29.0     34.0  12.4440  5.1340\n",
       "..      ...     ...      ...      ...      ...      ...     ...\n",
       "154   Smelt    12.2     11.5     12.2     13.4   2.0904  1.3936\n",
       "155   Smelt    13.4     11.7     12.4     13.5   2.4300  1.2690\n",
       "156   Smelt    12.2     12.1     13.0     13.8   2.2770  1.2558\n",
       "157   Smelt    19.7     13.2     14.3     15.2   2.8728  2.0672\n",
       "158   Smelt    19.9     13.8     15.0     16.2   2.9322  1.8792\n",
       "\n",
       "[159 rows x 7 columns]"
      ]
     },
     "execution_count": 95,
     "metadata": {},
     "output_type": "execute_result"
    }
   ],
   "source": [
    "fish_market_data = pd.read_csv(\"Fish.csv\") # csv is comma seperated values, it is a way we can store data\n",
    "fish_market_data # this will let us see our data"
   ]
  },
  {
   "cell_type": "markdown",
   "id": "d1becd5e-3ff0-4b0a-8847-239651917dcb",
   "metadata": {},
   "source": [
    "``.head(n)`` is a quick way to see the first ``n`` rows of a data frame"
   ]
  },
  {
   "cell_type": "code",
   "execution_count": 100,
   "id": "16ebb599-5a53-4cca-9e09-8f628e027306",
   "metadata": {},
   "outputs": [
    {
     "data": {
      "text/html": [
       "<div>\n",
       "<style scoped>\n",
       "    .dataframe tbody tr th:only-of-type {\n",
       "        vertical-align: middle;\n",
       "    }\n",
       "\n",
       "    .dataframe tbody tr th {\n",
       "        vertical-align: top;\n",
       "    }\n",
       "\n",
       "    .dataframe thead th {\n",
       "        text-align: right;\n",
       "    }\n",
       "</style>\n",
       "<table border=\"1\" class=\"dataframe\">\n",
       "  <thead>\n",
       "    <tr style=\"text-align: right;\">\n",
       "      <th></th>\n",
       "      <th>Species</th>\n",
       "      <th>Weight</th>\n",
       "      <th>Length1</th>\n",
       "      <th>Length2</th>\n",
       "      <th>Length3</th>\n",
       "      <th>Height</th>\n",
       "      <th>Width</th>\n",
       "    </tr>\n",
       "  </thead>\n",
       "  <tbody>\n",
       "    <tr>\n",
       "      <th>0</th>\n",
       "      <td>Bream</td>\n",
       "      <td>242.0</td>\n",
       "      <td>23.2</td>\n",
       "      <td>25.4</td>\n",
       "      <td>30.0</td>\n",
       "      <td>11.5200</td>\n",
       "      <td>4.0200</td>\n",
       "    </tr>\n",
       "    <tr>\n",
       "      <th>1</th>\n",
       "      <td>Bream</td>\n",
       "      <td>290.0</td>\n",
       "      <td>24.0</td>\n",
       "      <td>26.3</td>\n",
       "      <td>31.2</td>\n",
       "      <td>12.4800</td>\n",
       "      <td>4.3056</td>\n",
       "    </tr>\n",
       "    <tr>\n",
       "      <th>2</th>\n",
       "      <td>Bream</td>\n",
       "      <td>340.0</td>\n",
       "      <td>23.9</td>\n",
       "      <td>26.5</td>\n",
       "      <td>31.1</td>\n",
       "      <td>12.3778</td>\n",
       "      <td>4.6961</td>\n",
       "    </tr>\n",
       "    <tr>\n",
       "      <th>3</th>\n",
       "      <td>Bream</td>\n",
       "      <td>363.0</td>\n",
       "      <td>26.3</td>\n",
       "      <td>29.0</td>\n",
       "      <td>33.5</td>\n",
       "      <td>12.7300</td>\n",
       "      <td>4.4555</td>\n",
       "    </tr>\n",
       "    <tr>\n",
       "      <th>4</th>\n",
       "      <td>Bream</td>\n",
       "      <td>430.0</td>\n",
       "      <td>26.5</td>\n",
       "      <td>29.0</td>\n",
       "      <td>34.0</td>\n",
       "      <td>12.4440</td>\n",
       "      <td>5.1340</td>\n",
       "    </tr>\n",
       "  </tbody>\n",
       "</table>\n",
       "</div>"
      ],
      "text/plain": [
       "  Species  Weight  Length1  Length2  Length3   Height   Width\n",
       "0   Bream   242.0     23.2     25.4     30.0  11.5200  4.0200\n",
       "1   Bream   290.0     24.0     26.3     31.2  12.4800  4.3056\n",
       "2   Bream   340.0     23.9     26.5     31.1  12.3778  4.6961\n",
       "3   Bream   363.0     26.3     29.0     33.5  12.7300  4.4555\n",
       "4   Bream   430.0     26.5     29.0     34.0  12.4440  5.1340"
      ]
     },
     "execution_count": 100,
     "metadata": {},
     "output_type": "execute_result"
    }
   ],
   "source": [
    "fish_market_data.head(5)"
   ]
  },
  {
   "cell_type": "markdown",
   "id": "c791a33c-7784-47ac-883c-6b3a4b7d0fc8",
   "metadata": {},
   "source": [
    "## About this dataset:\n",
    "1) Species: This column represents the species of the fish. It is a categorical variable that categorizes each fish into one of seven species. The species may include names like \"Perch,\" \"Bream,\" \"Roach,\" \"Pike,\" \"Smelt,\" \"Parkki,\" and \"Whitefish.\" *What type of data is this?*\n",
    "\n",
    "2) Weight: This column represents the weight of the fish. It is a numerical variable that is typically measured in grams. *The weight is the dependent variable we want to predict using polynomial regression.*\n",
    "\n",
    "3) Length1: This column represents the first measurement of the fish's length. It is a numerical variable, measured in centimetres.\n",
    "\n",
    "4) Length2: This column represents the second measurement of the fish's length. It is another numerical variable, measured in centimetres.\n",
    "\n",
    "5) Length3: This column represents the third measurement of the fish's length. Similar to the previous two columns, it is a numerical variable, measured in centimetres.\n",
    "\n",
    "*Note, sometimes we want to reduce errors in our measurements so we might want to measure a fish's length 3 times to make sure our measurements are reliable!*\n",
    "\n",
    "6) Height: This column represents the height of the fish. It is a numerical variable, measured in centimetres.\n",
    "\n",
    "7) Width: This column represents the width of the fish. Like the other numerical variables, it is also measured in centimetres."
   ]
  },
  {
   "cell_type": "markdown",
   "id": "7e9c82ae-12e3-416e-9055-b3ab2fb56e5a",
   "metadata": {},
   "source": [
    "## Summarizing Data\n",
    "When we wish to build models and train artificial intelligence we need to first understand the data we give it. This is often done through a process called Exploratory Data Analysis (EDA)."
   ]
  },
  {
   "cell_type": "code",
   "execution_count": 96,
   "id": "ab81efa9-fcdd-42f6-bd66-ef712190a0bb",
   "metadata": {},
   "outputs": [
    {
     "data": {
      "text/html": [
       "<div>\n",
       "<style scoped>\n",
       "    .dataframe tbody tr th:only-of-type {\n",
       "        vertical-align: middle;\n",
       "    }\n",
       "\n",
       "    .dataframe tbody tr th {\n",
       "        vertical-align: top;\n",
       "    }\n",
       "\n",
       "    .dataframe thead th {\n",
       "        text-align: right;\n",
       "    }\n",
       "</style>\n",
       "<table border=\"1\" class=\"dataframe\">\n",
       "  <thead>\n",
       "    <tr style=\"text-align: right;\">\n",
       "      <th></th>\n",
       "      <th>Weight</th>\n",
       "      <th>Length1</th>\n",
       "      <th>Length2</th>\n",
       "      <th>Length3</th>\n",
       "      <th>Height</th>\n",
       "      <th>Width</th>\n",
       "    </tr>\n",
       "  </thead>\n",
       "  <tbody>\n",
       "    <tr>\n",
       "      <th>count</th>\n",
       "      <td>159.000000</td>\n",
       "      <td>159.000000</td>\n",
       "      <td>159.000000</td>\n",
       "      <td>159.000000</td>\n",
       "      <td>159.000000</td>\n",
       "      <td>159.000000</td>\n",
       "    </tr>\n",
       "    <tr>\n",
       "      <th>mean</th>\n",
       "      <td>398.326415</td>\n",
       "      <td>26.247170</td>\n",
       "      <td>28.415723</td>\n",
       "      <td>31.227044</td>\n",
       "      <td>8.970994</td>\n",
       "      <td>4.417486</td>\n",
       "    </tr>\n",
       "    <tr>\n",
       "      <th>std</th>\n",
       "      <td>357.978317</td>\n",
       "      <td>9.996441</td>\n",
       "      <td>10.716328</td>\n",
       "      <td>11.610246</td>\n",
       "      <td>4.286208</td>\n",
       "      <td>1.685804</td>\n",
       "    </tr>\n",
       "    <tr>\n",
       "      <th>min</th>\n",
       "      <td>0.000000</td>\n",
       "      <td>7.500000</td>\n",
       "      <td>8.400000</td>\n",
       "      <td>8.800000</td>\n",
       "      <td>1.728400</td>\n",
       "      <td>1.047600</td>\n",
       "    </tr>\n",
       "    <tr>\n",
       "      <th>25%</th>\n",
       "      <td>120.000000</td>\n",
       "      <td>19.050000</td>\n",
       "      <td>21.000000</td>\n",
       "      <td>23.150000</td>\n",
       "      <td>5.944800</td>\n",
       "      <td>3.385650</td>\n",
       "    </tr>\n",
       "    <tr>\n",
       "      <th>50%</th>\n",
       "      <td>273.000000</td>\n",
       "      <td>25.200000</td>\n",
       "      <td>27.300000</td>\n",
       "      <td>29.400000</td>\n",
       "      <td>7.786000</td>\n",
       "      <td>4.248500</td>\n",
       "    </tr>\n",
       "    <tr>\n",
       "      <th>75%</th>\n",
       "      <td>650.000000</td>\n",
       "      <td>32.700000</td>\n",
       "      <td>35.500000</td>\n",
       "      <td>39.650000</td>\n",
       "      <td>12.365900</td>\n",
       "      <td>5.584500</td>\n",
       "    </tr>\n",
       "    <tr>\n",
       "      <th>max</th>\n",
       "      <td>1650.000000</td>\n",
       "      <td>59.000000</td>\n",
       "      <td>63.400000</td>\n",
       "      <td>68.000000</td>\n",
       "      <td>18.957000</td>\n",
       "      <td>8.142000</td>\n",
       "    </tr>\n",
       "  </tbody>\n",
       "</table>\n",
       "</div>"
      ],
      "text/plain": [
       "            Weight     Length1     Length2     Length3      Height       Width\n",
       "count   159.000000  159.000000  159.000000  159.000000  159.000000  159.000000\n",
       "mean    398.326415   26.247170   28.415723   31.227044    8.970994    4.417486\n",
       "std     357.978317    9.996441   10.716328   11.610246    4.286208    1.685804\n",
       "min       0.000000    7.500000    8.400000    8.800000    1.728400    1.047600\n",
       "25%     120.000000   19.050000   21.000000   23.150000    5.944800    3.385650\n",
       "50%     273.000000   25.200000   27.300000   29.400000    7.786000    4.248500\n",
       "75%     650.000000   32.700000   35.500000   39.650000   12.365900    5.584500\n",
       "max    1650.000000   59.000000   63.400000   68.000000   18.957000    8.142000"
      ]
     },
     "execution_count": 96,
     "metadata": {},
     "output_type": "execute_result"
    }
   ],
   "source": [
    "fish_market_data.describe() # Pandas has a useful function we can use to quickly see some descriptive statistics about our data frame,"
   ]
  },
  {
   "cell_type": "markdown",
   "id": "cb1eb707-97e0-4dbd-bc9d-05d6b4ff51de",
   "metadata": {},
   "source": [
    "This gives us summary statistics for each column. \n",
    "\n",
    "1) ``count`` tells us how many rows of data we have.\n",
    "2) ``mean`` tells us the \"average\" value of each column\n",
    "3) ``std`` is short for **standard deviation** or on average how far data lies away from the mean average (you can think about this as spread)\n",
    "4) ``25%, 50%, 75%`` tells us the values at the 25th, 50th and 75th percentiles respectively (eg. if something is at the 75th percentile it means 75% of data points are smaller than it, and 25% of data points are larger than it. The 50th percentile is called the median which is the center of the data)\n",
    "5) ``min`` and ``max`` tell us the smallest and largest values in the column"
   ]
  },
  {
   "cell_type": "markdown",
   "id": "b11df80e-2fe7-439f-b59b-ce4f4189205d",
   "metadata": {},
   "source": [
    "## Retrieving Specific Data"
   ]
  },
  {
   "cell_type": "markdown",
   "id": "4cdf112a-b9aa-4473-afe1-e14f951c174c",
   "metadata": {},
   "source": [
    "If we want to select the \"Species\" column we can access it like how we access a value in a dictionary."
   ]
  },
  {
   "cell_type": "code",
   "execution_count": 98,
   "id": "de286d07-4d75-43dd-9a5a-f0f13f70f7e1",
   "metadata": {},
   "outputs": [
    {
     "data": {
      "text/plain": [
       "0      Bream\n",
       "1      Bream\n",
       "2      Bream\n",
       "3      Bream\n",
       "4      Bream\n",
       "       ...  \n",
       "154    Smelt\n",
       "155    Smelt\n",
       "156    Smelt\n",
       "157    Smelt\n",
       "158    Smelt\n",
       "Name: Species, Length: 159, dtype: object"
      ]
     },
     "execution_count": 98,
     "metadata": {},
     "output_type": "execute_result"
    }
   ],
   "source": [
    "species_column = fish_market_data[\"Species\"] # selects the Species column, remember it's cAsE sEnsiTive! \n",
    "species_column"
   ]
  },
  {
   "cell_type": "markdown",
   "id": "4acc74e4-1805-4d99-a74a-dccbd57a9f37",
   "metadata": {},
   "source": [
    "We can take the average weight of the fish by selecting the \"weight\" column then taking its mean using the ``.mean()`` function from pandas"
   ]
  },
  {
   "cell_type": "code",
   "execution_count": 101,
   "id": "f4d952d2-cebe-4ec1-8c6c-5283e1604468",
   "metadata": {},
   "outputs": [
    {
     "name": "stdout",
     "output_type": "stream",
     "text": [
      "398.3264150943396\n"
     ]
    }
   ],
   "source": [
    "avg_weight = fish_market_data['Weight'].mean()\n",
    "print(avg_weight)"
   ]
  },
  {
   "cell_type": "markdown",
   "id": "98be4fb4-fa5b-4eb1-826b-fe9ea3eaf184",
   "metadata": {},
   "source": [
    "To access a single row we can use ``.loc[n]`` where ``n`` is the index (see leftmost column of above data frame) of the row you wish to access:"
   ]
  },
  {
   "cell_type": "code",
   "execution_count": 102,
   "id": "49e6f384-5999-4438-9783-c9d5bffad87b",
   "metadata": {},
   "outputs": [
    {
     "data": {
      "text/html": [
       "<div>\n",
       "<style scoped>\n",
       "    .dataframe tbody tr th:only-of-type {\n",
       "        vertical-align: middle;\n",
       "    }\n",
       "\n",
       "    .dataframe tbody tr th {\n",
       "        vertical-align: top;\n",
       "    }\n",
       "\n",
       "    .dataframe thead th {\n",
       "        text-align: right;\n",
       "    }\n",
       "</style>\n",
       "<table border=\"1\" class=\"dataframe\">\n",
       "  <thead>\n",
       "    <tr style=\"text-align: right;\">\n",
       "      <th></th>\n",
       "      <th>Species</th>\n",
       "      <th>Weight</th>\n",
       "      <th>Length1</th>\n",
       "      <th>Length2</th>\n",
       "      <th>Length3</th>\n",
       "      <th>Height</th>\n",
       "      <th>Width</th>\n",
       "    </tr>\n",
       "  </thead>\n",
       "  <tbody>\n",
       "    <tr>\n",
       "      <th>0</th>\n",
       "      <td>Bream</td>\n",
       "      <td>242.0</td>\n",
       "      <td>23.2</td>\n",
       "      <td>25.4</td>\n",
       "      <td>30.0</td>\n",
       "      <td>11.5200</td>\n",
       "      <td>4.0200</td>\n",
       "    </tr>\n",
       "    <tr>\n",
       "      <th>1</th>\n",
       "      <td>Bream</td>\n",
       "      <td>290.0</td>\n",
       "      <td>24.0</td>\n",
       "      <td>26.3</td>\n",
       "      <td>31.2</td>\n",
       "      <td>12.4800</td>\n",
       "      <td>4.3056</td>\n",
       "    </tr>\n",
       "    <tr>\n",
       "      <th>2</th>\n",
       "      <td>Bream</td>\n",
       "      <td>340.0</td>\n",
       "      <td>23.9</td>\n",
       "      <td>26.5</td>\n",
       "      <td>31.1</td>\n",
       "      <td>12.3778</td>\n",
       "      <td>4.6961</td>\n",
       "    </tr>\n",
       "    <tr>\n",
       "      <th>3</th>\n",
       "      <td>Bream</td>\n",
       "      <td>363.0</td>\n",
       "      <td>26.3</td>\n",
       "      <td>29.0</td>\n",
       "      <td>33.5</td>\n",
       "      <td>12.7300</td>\n",
       "      <td>4.4555</td>\n",
       "    </tr>\n",
       "    <tr>\n",
       "      <th>4</th>\n",
       "      <td>Bream</td>\n",
       "      <td>430.0</td>\n",
       "      <td>26.5</td>\n",
       "      <td>29.0</td>\n",
       "      <td>34.0</td>\n",
       "      <td>12.4440</td>\n",
       "      <td>5.1340</td>\n",
       "    </tr>\n",
       "    <tr>\n",
       "      <th>...</th>\n",
       "      <td>...</td>\n",
       "      <td>...</td>\n",
       "      <td>...</td>\n",
       "      <td>...</td>\n",
       "      <td>...</td>\n",
       "      <td>...</td>\n",
       "      <td>...</td>\n",
       "    </tr>\n",
       "    <tr>\n",
       "      <th>154</th>\n",
       "      <td>Smelt</td>\n",
       "      <td>12.2</td>\n",
       "      <td>11.5</td>\n",
       "      <td>12.2</td>\n",
       "      <td>13.4</td>\n",
       "      <td>2.0904</td>\n",
       "      <td>1.3936</td>\n",
       "    </tr>\n",
       "    <tr>\n",
       "      <th>155</th>\n",
       "      <td>Smelt</td>\n",
       "      <td>13.4</td>\n",
       "      <td>11.7</td>\n",
       "      <td>12.4</td>\n",
       "      <td>13.5</td>\n",
       "      <td>2.4300</td>\n",
       "      <td>1.2690</td>\n",
       "    </tr>\n",
       "    <tr>\n",
       "      <th>156</th>\n",
       "      <td>Smelt</td>\n",
       "      <td>12.2</td>\n",
       "      <td>12.1</td>\n",
       "      <td>13.0</td>\n",
       "      <td>13.8</td>\n",
       "      <td>2.2770</td>\n",
       "      <td>1.2558</td>\n",
       "    </tr>\n",
       "    <tr>\n",
       "      <th>157</th>\n",
       "      <td>Smelt</td>\n",
       "      <td>19.7</td>\n",
       "      <td>13.2</td>\n",
       "      <td>14.3</td>\n",
       "      <td>15.2</td>\n",
       "      <td>2.8728</td>\n",
       "      <td>2.0672</td>\n",
       "    </tr>\n",
       "    <tr>\n",
       "      <th>158</th>\n",
       "      <td>Smelt</td>\n",
       "      <td>19.9</td>\n",
       "      <td>13.8</td>\n",
       "      <td>15.0</td>\n",
       "      <td>16.2</td>\n",
       "      <td>2.9322</td>\n",
       "      <td>1.8792</td>\n",
       "    </tr>\n",
       "  </tbody>\n",
       "</table>\n",
       "<p>159 rows × 7 columns</p>\n",
       "</div>"
      ],
      "text/plain": [
       "    Species  Weight  Length1  Length2  Length3   Height   Width\n",
       "0     Bream   242.0     23.2     25.4     30.0  11.5200  4.0200\n",
       "1     Bream   290.0     24.0     26.3     31.2  12.4800  4.3056\n",
       "2     Bream   340.0     23.9     26.5     31.1  12.3778  4.6961\n",
       "3     Bream   363.0     26.3     29.0     33.5  12.7300  4.4555\n",
       "4     Bream   430.0     26.5     29.0     34.0  12.4440  5.1340\n",
       "..      ...     ...      ...      ...      ...      ...     ...\n",
       "154   Smelt    12.2     11.5     12.2     13.4   2.0904  1.3936\n",
       "155   Smelt    13.4     11.7     12.4     13.5   2.4300  1.2690\n",
       "156   Smelt    12.2     12.1     13.0     13.8   2.2770  1.2558\n",
       "157   Smelt    19.7     13.2     14.3     15.2   2.8728  2.0672\n",
       "158   Smelt    19.9     13.8     15.0     16.2   2.9322  1.8792\n",
       "\n",
       "[159 rows x 7 columns]"
      ]
     },
     "execution_count": 102,
     "metadata": {},
     "output_type": "execute_result"
    }
   ],
   "source": [
    "fish_market_data"
   ]
  },
  {
   "cell_type": "code",
   "execution_count": 85,
   "id": "5057bcb8-618f-490b-a04e-00498b6b0340",
   "metadata": {},
   "outputs": [
    {
     "data": {
      "text/plain": [
       "Species     Bream\n",
       "Weight      363.0\n",
       "Length1      26.3\n",
       "Length2      29.0\n",
       "Length3      33.5\n",
       "Height      12.73\n",
       "Width      4.4555\n",
       "Name: 3, dtype: object"
      ]
     },
     "execution_count": 85,
     "metadata": {},
     "output_type": "execute_result"
    }
   ],
   "source": [
    "fish_market_data.loc[3] # where location refers to the index of the row"
   ]
  },
  {
   "cell_type": "markdown",
   "id": "1626649e-477c-476b-beb0-70753d8a335b",
   "metadata": {},
   "source": [
    "If we wish to select multiple rows we can use ``.iloc[start:end]``, note that this range like the range function will include the start but not include the end value."
   ]
  },
  {
   "cell_type": "code",
   "execution_count": 54,
   "id": "cb1dc0bc-b256-44dc-93d8-a30c9965fbbc",
   "metadata": {},
   "outputs": [
    {
     "data": {
      "text/html": [
       "<div>\n",
       "<style scoped>\n",
       "    .dataframe tbody tr th:only-of-type {\n",
       "        vertical-align: middle;\n",
       "    }\n",
       "\n",
       "    .dataframe tbody tr th {\n",
       "        vertical-align: top;\n",
       "    }\n",
       "\n",
       "    .dataframe thead th {\n",
       "        text-align: right;\n",
       "    }\n",
       "</style>\n",
       "<table border=\"1\" class=\"dataframe\">\n",
       "  <thead>\n",
       "    <tr style=\"text-align: right;\">\n",
       "      <th></th>\n",
       "      <th>Species</th>\n",
       "      <th>Weight</th>\n",
       "      <th>Length1</th>\n",
       "      <th>Length2</th>\n",
       "      <th>Length3</th>\n",
       "      <th>Height</th>\n",
       "      <th>Width</th>\n",
       "    </tr>\n",
       "  </thead>\n",
       "  <tbody>\n",
       "    <tr>\n",
       "      <th>2</th>\n",
       "      <td>Bream</td>\n",
       "      <td>340.0</td>\n",
       "      <td>23.9</td>\n",
       "      <td>26.5</td>\n",
       "      <td>31.1</td>\n",
       "      <td>12.3778</td>\n",
       "      <td>4.6961</td>\n",
       "    </tr>\n",
       "    <tr>\n",
       "      <th>3</th>\n",
       "      <td>Bream</td>\n",
       "      <td>363.0</td>\n",
       "      <td>26.3</td>\n",
       "      <td>29.0</td>\n",
       "      <td>33.5</td>\n",
       "      <td>12.7300</td>\n",
       "      <td>4.4555</td>\n",
       "    </tr>\n",
       "    <tr>\n",
       "      <th>4</th>\n",
       "      <td>Bream</td>\n",
       "      <td>430.0</td>\n",
       "      <td>26.5</td>\n",
       "      <td>29.0</td>\n",
       "      <td>34.0</td>\n",
       "      <td>12.4440</td>\n",
       "      <td>5.1340</td>\n",
       "    </tr>\n",
       "  </tbody>\n",
       "</table>\n",
       "</div>"
      ],
      "text/plain": [
       "  Species  Weight  Length1  Length2  Length3   Height   Width\n",
       "2   Bream   340.0     23.9     26.5     31.1  12.3778  4.6961\n",
       "3   Bream   363.0     26.3     29.0     33.5  12.7300  4.4555\n",
       "4   Bream   430.0     26.5     29.0     34.0  12.4440  5.1340"
      ]
     },
     "execution_count": 54,
     "metadata": {},
     "output_type": "execute_result"
    }
   ],
   "source": [
    "fish_market_data.iloc[2:5] \n",
    "# iloc refers to integer location, or in this case it refers to leftmost indices, we select rows 2 (inclusive) to 5 (non inclusive)"
   ]
  },
  {
   "cell_type": "markdown",
   "id": "f431e5b1-516e-40a3-9b80-50cdedfe3453",
   "metadata": {},
   "source": [
    "We can also isolate specific data based on certain requirements. For example if I want to create a new data frame that only has Bream fish data we can do the following conditional filter:"
   ]
  },
  {
   "cell_type": "code",
   "execution_count": 55,
   "id": "191aecbb-da6f-4413-a521-291c1505c012",
   "metadata": {},
   "outputs": [
    {
     "data": {
      "text/html": [
       "<div>\n",
       "<style scoped>\n",
       "    .dataframe tbody tr th:only-of-type {\n",
       "        vertical-align: middle;\n",
       "    }\n",
       "\n",
       "    .dataframe tbody tr th {\n",
       "        vertical-align: top;\n",
       "    }\n",
       "\n",
       "    .dataframe thead th {\n",
       "        text-align: right;\n",
       "    }\n",
       "</style>\n",
       "<table border=\"1\" class=\"dataframe\">\n",
       "  <thead>\n",
       "    <tr style=\"text-align: right;\">\n",
       "      <th></th>\n",
       "      <th>Species</th>\n",
       "      <th>Weight</th>\n",
       "      <th>Length1</th>\n",
       "      <th>Length2</th>\n",
       "      <th>Length3</th>\n",
       "      <th>Height</th>\n",
       "      <th>Width</th>\n",
       "    </tr>\n",
       "  </thead>\n",
       "  <tbody>\n",
       "    <tr>\n",
       "      <th>0</th>\n",
       "      <td>Bream</td>\n",
       "      <td>242.0</td>\n",
       "      <td>23.2</td>\n",
       "      <td>25.4</td>\n",
       "      <td>30.0</td>\n",
       "      <td>11.5200</td>\n",
       "      <td>4.0200</td>\n",
       "    </tr>\n",
       "    <tr>\n",
       "      <th>1</th>\n",
       "      <td>Bream</td>\n",
       "      <td>290.0</td>\n",
       "      <td>24.0</td>\n",
       "      <td>26.3</td>\n",
       "      <td>31.2</td>\n",
       "      <td>12.4800</td>\n",
       "      <td>4.3056</td>\n",
       "    </tr>\n",
       "    <tr>\n",
       "      <th>2</th>\n",
       "      <td>Bream</td>\n",
       "      <td>340.0</td>\n",
       "      <td>23.9</td>\n",
       "      <td>26.5</td>\n",
       "      <td>31.1</td>\n",
       "      <td>12.3778</td>\n",
       "      <td>4.6961</td>\n",
       "    </tr>\n",
       "    <tr>\n",
       "      <th>3</th>\n",
       "      <td>Bream</td>\n",
       "      <td>363.0</td>\n",
       "      <td>26.3</td>\n",
       "      <td>29.0</td>\n",
       "      <td>33.5</td>\n",
       "      <td>12.7300</td>\n",
       "      <td>4.4555</td>\n",
       "    </tr>\n",
       "    <tr>\n",
       "      <th>4</th>\n",
       "      <td>Bream</td>\n",
       "      <td>430.0</td>\n",
       "      <td>26.5</td>\n",
       "      <td>29.0</td>\n",
       "      <td>34.0</td>\n",
       "      <td>12.4440</td>\n",
       "      <td>5.1340</td>\n",
       "    </tr>\n",
       "  </tbody>\n",
       "</table>\n",
       "</div>"
      ],
      "text/plain": [
       "  Species  Weight  Length1  Length2  Length3   Height   Width\n",
       "0   Bream   242.0     23.2     25.4     30.0  11.5200  4.0200\n",
       "1   Bream   290.0     24.0     26.3     31.2  12.4800  4.3056\n",
       "2   Bream   340.0     23.9     26.5     31.1  12.3778  4.6961\n",
       "3   Bream   363.0     26.3     29.0     33.5  12.7300  4.4555\n",
       "4   Bream   430.0     26.5     29.0     34.0  12.4440  5.1340"
      ]
     },
     "execution_count": 55,
     "metadata": {},
     "output_type": "execute_result"
    }
   ],
   "source": [
    "bream_fish = fish_market_data[fish_market_data['Species'] == 'Bream']\n",
    "bream_fish.head(5) # shows the first 5 rows of the data"
   ]
  },
  {
   "cell_type": "markdown",
   "id": "d3011fe2-d5ff-433b-8e14-ef03fd66eaa5",
   "metadata": {},
   "source": [
    "If we want to look at the average weight by species we can use \"groupby\" which groups all the rows with the same values (here we group by those with the same Species value) and take their mean of the \"Weight\" column."
   ]
  },
  {
   "cell_type": "code",
   "execution_count": 56,
   "id": "f49603be-dfdd-476c-9fd2-ac2fc1166a97",
   "metadata": {},
   "outputs": [
    {
     "data": {
      "text/plain": [
       "Species\n",
       "Bream        617.828571\n",
       "Parkki       154.818182\n",
       "Perch        382.239286\n",
       "Pike         718.705882\n",
       "Roach        152.050000\n",
       "Smelt         11.178571\n",
       "Whitefish    531.000000\n",
       "Name: Weight, dtype: float64"
      ]
     },
     "execution_count": 56,
     "metadata": {},
     "output_type": "execute_result"
    }
   ],
   "source": [
    "fish_market_data.groupby('Species')['Weight'].mean()"
   ]
  },
  {
   "cell_type": "markdown",
   "id": "932baa3c-08a8-4b69-bfab-1bfcbce8dcdb",
   "metadata": {},
   "source": [
    "### Check your understanding\n",
    "Let's find the average of Perch fish. Make sure you use the hints in the comments!"
   ]
  },
  {
   "cell_type": "code",
   "execution_count": 134,
   "id": "4928a929-557a-4f2e-88e3-da8bb12c2e61",
   "metadata": {},
   "outputs": [
    {
     "name": "stdout",
     "output_type": "stream",
     "text": [
      "your code here\n"
     ]
    }
   ],
   "source": [
    "perch_fish = \"your code here\" #first isolate the dataframe to be only the rows where 'Species' has the value 'Perch'\n",
    "perch_avg_weight = \"your code here\" # using the new perch_fish only data frame isolate the 'Weight' column and take its mean\n",
    "print(perch_avg_weight)"
   ]
  },
  {
   "cell_type": "code",
   "execution_count": null,
   "id": "e5218fa6-463a-4b49-8d32-6d378f5ebddf",
   "metadata": {
    "jupyter": {
     "source_hidden": true
    }
   },
   "outputs": [],
   "source": [
    "# Click and run this cell to check your code!\n",
    "def check_answer_1():\n",
    "    expected = 382.23928571428576\n",
    "    tolerance = 0.01\n",
    "    \n",
    "    try:\n",
    "        if 'perch_avg_weight' in globals():\n",
    "            result = perch_avg_weight\n",
    "            \n",
    "            if abs(result - expected) <= tolerance:\n",
    "                print(\"✅ CORRECT! Well done!\")\n",
    "                return True\n",
    "            else:\n",
    "                print(\"❌ INCORRECT\")\n",
    "                print(f\"Expected: {expected}\")\n",
    "                print(f\"Your answer: {result}\")\n",
    "                return False\n",
    "        else:\n",
    "            print(\"❌ Variable 'perch_avg_weight' not found\")\n",
    "            print(\"Make sure you assign your result to 'perch_avg_weight'\")\n",
    "            return False\n",
    "            \n",
    "    except Exception as e:\n",
    "        print(\"❌ ERROR:\", str(e))\n",
    "        return False\n",
    "\n",
    "check_answer_1()"
   ]
  },
  {
   "cell_type": "markdown",
   "id": "23592ae3-2fac-41ef-ba78-099335f81c65",
   "metadata": {},
   "source": [
    "## Plotting and Lines of Best Fit"
   ]
  },
  {
   "cell_type": "markdown",
   "id": "af3be920-dfe6-4080-97d1-4dcf3721dc0e",
   "metadata": {},
   "source": [
    "We can use Matplotlib to plot a simple scatter plot, which gives us information about the relationship between length and weight.\n",
    "\n",
    "We call on the ``plt`` library using the ``scatter`` function where the first input is our ``X`` axis and second input is our ``Y`` axis. We can label these with ``plt.xlabel`` and ``plt.ylabel`` and title the overall plot with ``plt.title``.\n",
    "\n",
    "You need ``plt.show()`` in the cell to make sure the plot displays! (You should always start a new cell for each new plot you wish to make)"
   ]
  },
  {
   "cell_type": "code",
   "execution_count": 87,
   "id": "06029436-a454-4d75-9ea0-773f8621ae4e",
   "metadata": {},
   "outputs": [
    {
     "data": {
      "image/png": "[encoded data removed]",
      "text/plain": [
       "<Figure size 640x480 with 1 Axes>"
      ]
     },
     "metadata": {},
     "output_type": "display_data"
    }
   ],
   "source": [
    "plt.scatter(fish_market_data['Width'], fish_market_data['Weight'])\n",
    "plt.xlabel('Width')\n",
    "plt.ylabel('Weight')\n",
    "plt.title('Fish Width vs Weight')\n",
    "plt.show()"
   ]
  },
  {
   "cell_type": "markdown",
   "id": "9370131c-d266-4d43-ac0c-e3bfb5f8f186",
   "metadata": {},
   "source": [
    "We can also use a histogram (``plt.hist``) to examine the **distribution** of values in a column. In this case we wish to look at the Weights column. The ``bins`` value tells the plot how wide each \"bin\" should be. "
   ]
  },
  {
   "cell_type": "code",
   "execution_count": 58,
   "id": "239e0828-d944-4725-9919-a04a268b8352",
   "metadata": {},
   "outputs": [
    {
     "data": {
      "image/png": "[encoded data removed]",
      "text/plain": [
       "<Figure size 640x480 with 1 Axes>"
      ]
     },
     "metadata": {},
     "output_type": "display_data"
    }
   ],
   "source": [
    "plt.hist(fish_market_data['Weight'], bins=20)\n",
    "plt.xlabel('Weight')\n",
    "plt.ylabel('Frequency')\n",
    "plt.title('Distribution of Fish Weights')\n",
    "plt.show()"
   ]
  },
  {
   "cell_type": "markdown",
   "id": "e1a8d390-db6e-4941-933b-ebee4dd18512",
   "metadata": {},
   "source": [
    "We can draw a line of best fit to show the relation of our two variables and make predictions about how width impacts weight. We see that a one degree line of best fit is able to model this trend ok-ish.\n",
    "\n",
    "- Width, our x-axis is our independent variable, which is the variable who's value we wish to use to predict or model the dependent variable's value.\n",
    "- Weight, our y-axis is our dependent variable, which is the variable who's value is being predicted by independent variable.\n",
    "\n",
    "So, we are saying, we can predict how much the **Weight** (dependent) of the fish is based on the **Width** (independent) of the fish -- or in otherwords we are arguing that the weight of the fish **depends** on the width of the fish."
   ]
  },
  {
   "cell_type": "code",
   "execution_count": 88,
   "id": "51308ef6-fef5-4216-9b96-9eaedca555f2",
   "metadata": {},
   "outputs": [
    {
     "data": {
      "image/png": "[encoded data removed]",
      "text/plain": [
       "<Figure size 640x480 with 1 Axes>"
      ]
     },
     "metadata": {},
     "output_type": "display_data"
    }
   ],
   "source": [
    "x = fish_market_data['Width']  # independent variable\n",
    "y = fish_market_data['Weight']   # dependent variable\n",
    "\n",
    "slope, intercept = np.polyfit(x, y, 1) # y = mx + b (one degree)\n",
    "poly_line = np.polyval(poly_coeffs, x)\n",
    "\n",
    "plt.scatter(x, y, alpha=0.6, label='Data points')\n",
    "plt.plot(x, regression_line, 'r-', label=f'y = {slope:.2f}x + {intercept:.2f}')\n",
    "plt.xlabel('Width')\n",
    "plt.ylabel('Weight')\n",
    "plt.title('Linear Regression: Width vs Weight')\n",
    "plt.legend()\n",
    "plt.show()"
   ]
  },
  {
   "cell_type": "markdown",
   "id": "ccf38211-177d-47d7-9e8a-7cf24295eb11",
   "metadata": {},
   "source": [
    "``np.polyfit(x,y,n)`` is a function from numpy that fits the best polynomial using our ``x`` and ``y`` data for ``n`` degrees (the largest exponent in the equation for the red line)"
   ]
  },
  {
   "cell_type": "markdown",
   "id": "c6f3d840-89ab-4f16-936b-e152721ffc67",
   "metadata": {},
   "source": [
    "But if we change this into a two degree polynomial (for example y = ax^2 + bx + c) we can model this specific relation even better!"
   ]
  },
  {
   "cell_type": "code",
   "execution_count": 91,
   "id": "8989742f-a79e-4222-ab79-f54fb1cd29cc",
   "metadata": {},
   "outputs": [
    {
     "data": {
      "image/png": "[encoded data removed]",
      "text/plain": [
       "<Figure size 640x480 with 1 Axes>"
      ]
     },
     "metadata": {},
     "output_type": "display_data"
    }
   ],
   "source": [
    "x = fish_market_data['Width']  # independent variable\n",
    "y = fish_market_data['Weight']   # dependent variable\n",
    "\n",
    "# calculate polynomial coefficients (degree 2)\n",
    "poly_coeffs = np.polyfit(x, y, 2)\n",
    "poly_line = np.polyval(poly_coeffs, x)\n",
    "\n",
    "plt.scatter(x, y, alpha=0.6, label='Data points')\n",
    "plt.plot(np.sort(x), np.polyval(poly_coeffs, np.sort(x)), 'r-', label='Polynomial fit (degree 2)')\n",
    "plt.xlabel('Width')\n",
    "plt.ylabel('Weight')\n",
    "plt.title('Polynomial Regression: Width vs Weight')\n",
    "plt.legend()\n",
    "plt.show()"
   ]
  }
 ],
 "metadata": {
  "kernelspec": {
   "display_name": "Python 3 (ipykernel)",
   "language": "python",
   "name": "python3"
  },
  "language_info": {
   "codemirror_mode": {
    "name": "ipython",
    "version": 3
   },
   "file_extension": ".py",
   "mimetype": "text/x-python",
   "name": "python",
   "nbconvert_exporter": "python",
   "pygments_lexer": "ipython3",
   "version": "3.13.2"
  }
 },
 "nbformat": 4,
 "nbformat_minor": 5
}
