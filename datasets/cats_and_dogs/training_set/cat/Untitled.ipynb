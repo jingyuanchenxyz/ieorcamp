{
 "cells": [
  {
   "cell_type": "code",
   "execution_count": null,
   "id": "8b79babc",
   "metadata": {},
   "outputs": [],
   "source": [
    "import numpy as np\n",
    "import os, shutil, pathlib\n",
    "from keras.preprocessing.image import load_img\n",
    "#from keras.preprocessing.image import img_to_array\n",
    "#from keras.preprocessing.image import array_to_img\n",
    "import matplotlib.pyplot as plt\n",
    "#import tensorflow as tf\n",
    "from PIL import Image\n",
    "plt.figure(figsize=(10, 10))\n",
    "size_picture = 24"
   ]
  },
  {
   "cell_type": "code",
   "execution_count": 1,
   "id": "8b1e08e4",
   "metadata": {},
   "outputs": [
    {
     "ename": "NameError",
     "evalue": "name 'load_img' is not defined",
     "output_type": "error",
     "traceback": [
      "\u001b[0;31m---------------------------------------------------------------------------\u001b[0m",
      "\u001b[0;31mNameError\u001b[0m                                 Traceback (most recent call last)",
      "\u001b[0;32m<ipython-input-1-8f7074b1f3a5>\u001b[0m in \u001b[0;36m<module>\u001b[0;34m\u001b[0m\n\u001b[0;32m----> 1\u001b[0;31m \u001b[0mimg\u001b[0m \u001b[0;34m=\u001b[0m \u001b[0mload_img\u001b[0m\u001b[0;34m(\u001b[0m\u001b[0;34m\"cat.1447.jpg\"\u001b[0m\u001b[0;34m,\u001b[0m\u001b[0mcolor_mode\u001b[0m \u001b[0;34m=\u001b[0m \u001b[0;34m\"grayscale\"\u001b[0m\u001b[0;34m)\u001b[0m\u001b[0;34m\u001b[0m\u001b[0;34m\u001b[0m\u001b[0m\n\u001b[0m",
      "\u001b[0;31mNameError\u001b[0m: name 'load_img' is not defined"
     ]
    }
   ],
   "source": [
    "img = load_img(\"cat.1447.jpg\",color_mode = \"grayscale\")"
   ]
  },
  {
   "cell_type": "code",
   "execution_count": null,
   "id": "e2ce3df5",
   "metadata": {},
   "outputs": [],
   "source": []
  }
 ],
 "metadata": {
  "kernelspec": {
   "display_name": "Python 3",
   "language": "python",
   "name": "python3"
  },
  "language_info": {
   "codemirror_mode": {
    "name": "ipython",
    "version": 3
   },
   "file_extension": ".py",
   "mimetype": "text/x-python",
   "name": "python",
   "nbconvert_exporter": "python",
   "pygments_lexer": "ipython3",
   "version": "3.8.8"
  }
 },
 "nbformat": 4,
 "nbformat_minor": 5
}
